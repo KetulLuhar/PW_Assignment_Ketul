{
  "nbformat": 4,
  "nbformat_minor": 0,
  "metadata": {
    "colab": {
      "provenance": []
    },
    "kernelspec": {
      "name": "python3",
      "display_name": "Python 3"
    },
    "language_info": {
      "name": "python"
    }
  },
  "cells": [
    {
      "cell_type": "markdown",
      "source": [
        "# Constructor"
      ],
      "metadata": {
        "id": "eF7QmV_HeLQA"
      }
    },
    {
      "cell_type": "markdown",
      "source": [
        "1. Constructor: A constructor in Python is a special method that gets called when an object of a class is created. It has the same name as the class and is defined using the __init__ method.\n",
        "Purpose: The primary purpose of a constructor is to initialize the attributes of an object or perform any\n",
        "necessary setup when an object is created.\n",
        "Usage: You define a constructor in a class to set initial values for attributes and ensure that specific actions are taken when objects are instantiated."
      ],
      "metadata": {
        "id": "Cbqce-oweLQL"
      }
    },
    {
      "cell_type": "markdown",
      "source": [
        "2. Parameterless Constructor: It takes no arguments and initializes the object with default values. It's often created when you don't define a constructor explicitly.\n",
        "Parameterized Constructor: It accepts one or more parameters and allows you to initialize the object with specific values when it's created. You define the constructor with the __init__ method and specify parameters as needed."
      ],
      "metadata": {
        "id": "F6MA-SkdeLQL"
      }
    },
    {
      "cell_type": "code",
      "source": [
        "#3\n",
        "class MyClass:\n",
        "    def __init__(self, param1, param2):\n",
        "        self.attribute1 = param1\n",
        "        self.attribute2 = param2\n"
      ],
      "metadata": {
        "id": "LJPh8-YReLQL"
      },
      "execution_count": null,
      "outputs": []
    },
    {
      "cell_type": "markdown",
      "source": [
        "4. The __init__ method is a special method in Python classes.\n",
        "Its primary role is to serve as the constructor for a class.\n",
        "It gets automatically called when an object is created from the class, and it's responsible for initializing object attributes."
      ],
      "metadata": {
        "id": "BwVe_jfueLQL"
      }
    },
    {
      "cell_type": "code",
      "source": [
        "#5\n",
        "class Person:\n",
        "    def __init__(self, name, age):\n",
        "        self.name = name\n",
        "        self.age = age\n",
        "\n",
        "# Creating an object of the Person class\n",
        "person1 = Person(\"Alice\", 30)\n"
      ],
      "metadata": {
        "id": "PHK8oQ-heLQL"
      },
      "execution_count": null,
      "outputs": []
    },
    {
      "cell_type": "code",
      "source": [
        "#6\n",
        "person2 = Person.__new__(Person)\n",
        "person2.__init__(\"Bob\", 25)\n"
      ],
      "metadata": {
        "id": "yj-C6bfWeLQM"
      },
      "execution_count": null,
      "outputs": []
    },
    {
      "cell_type": "markdown",
      "source": [
        "7. The self parameter refers to the instance of the class and allows you to access and modify instance-specific attributes.\n",
        "It is a convention in Python to use self as the first parameter in methods, including constructors."
      ],
      "metadata": {
        "id": "rw5NzGo7eLQM"
      }
    },
    {
      "cell_type": "code",
      "source": [
        "class Person:\n",
        "    def __init__(self, name, age):\n",
        "        self.name = name\n",
        "        self.age = age\n",
        "\n",
        "    def introduce(self):\n",
        "        return f\"My name is {self.name}, and I am {self.age} years old.\"\n",
        "\n",
        "person1 = Person(\"Alice\", 30)\n",
        "print(person1.introduce())\n"
      ],
      "metadata": {
        "colab": {
          "base_uri": "https://localhost:8080/"
        },
        "outputId": "fc4e8ea1-0388-4b74-c2e1-b09dab9b05b6",
        "id": "lhv1vRhKeLQM"
      },
      "execution_count": null,
      "outputs": [
        {
          "output_type": "stream",
          "name": "stdout",
          "text": [
            "My name is Alice, and I am 30 years old.\n"
          ]
        }
      ]
    },
    {
      "cell_type": "markdown",
      "source": [
        "8. Python does not have explicit default constructors. If you don't define a constructor in your class, Python provides a default constructor that initializes the object with no attributes"
      ],
      "metadata": {
        "id": "vmPR4TP2eLQM"
      }
    },
    {
      "cell_type": "code",
      "source": [
        "#9\n",
        "class Rectangle:\n",
        "    def __init__(self, width, height):\n",
        "        self.width = width\n",
        "        self.height = height\n",
        "\n",
        "    def calculate_area(self):\n",
        "        return self.width * self.height\n",
        "\n",
        "rect = Rectangle(5, 3)\n",
        "print(\"Area:\", rect.calculate_area())\n"
      ],
      "metadata": {
        "colab": {
          "base_uri": "https://localhost:8080/"
        },
        "outputId": "e8f6c661-88a2-4400-da6a-6dd78f47830c",
        "id": "s5OHXC72eLQM"
      },
      "execution_count": null,
      "outputs": [
        {
          "output_type": "stream",
          "name": "stdout",
          "text": [
            "Area: 15\n"
          ]
        }
      ]
    },
    {
      "cell_type": "code",
      "source": [
        "#10\n",
        "class MyClass:\n",
        "    def __init__(self, param1=None, param2=None):\n",
        "        if param1 is None:\n",
        "            self.attribute1 = \"default_value1\"\n",
        "        else:\n",
        "            self.attribute1 = param1\n",
        "\n",
        "        if param2 is None:\n",
        "            self.attribute2 = \"default_value2\"\n",
        "        else:\n",
        "            self.attribute2 = param2\n"
      ],
      "metadata": {
        "id": "nxpoGKxxeLQN"
      },
      "execution_count": null,
      "outputs": []
    },
    {
      "cell_type": "markdown",
      "source": [
        "11. Method overloading refers to the ability to define multiple methods in a class with the same name but different parameter lists.\n",
        "In Python, method overloading is not supported in the traditional sense as it is in some other languages. Instead, Python allows you to define a single method with default parameter values or use variable-length argument lists (e.g., *args and **kwargs) to achieve similar functionality.\n",
        "Method overloading is related to constructors in the sense that you might want to have multiple constructors with different sets of parameters to create objects in different ways. In Python, this can be achieved using default parameter values in the constructor."
      ],
      "metadata": {
        "id": "C3W5sbt6eLQN"
      }
    },
    {
      "cell_type": "code",
      "source": [
        "#12\n",
        "class Parent:\n",
        "    def __init__(self, value):\n",
        "        self.value = value\n",
        "\n",
        "class Child(Parent):\n",
        "    def __init__(self, value, child_value):\n",
        "        super().__init__(value)  # Call the constructor of the parent class\n",
        "        self.child_value = child_value\n",
        "\n",
        "child_instance = Child(\"Parent value\", \"Child value\")\n",
        "print(child_instance.value)  # Output: Parent value\n",
        "print(child_instance.child_value)  # Output: Child value\n"
      ],
      "metadata": {
        "colab": {
          "base_uri": "https://localhost:8080/"
        },
        "outputId": "74e27b07-0cc1-4d58-db04-fd27f59e9cd4",
        "id": "zNNvqIgveLQN"
      },
      "execution_count": null,
      "outputs": [
        {
          "output_type": "stream",
          "name": "stdout",
          "text": [
            "Parent value\n",
            "Child value\n"
          ]
        }
      ]
    },
    {
      "cell_type": "code",
      "source": [
        "#13\n",
        "class Book:\n",
        "    def __init__(self, title, author, published_year):\n",
        "        self.title = title\n",
        "        self.author = author\n",
        "        self.published_year = published_year\n",
        "\n",
        "    def display_details(self):\n",
        "        return f\"Title: {self.title}, Author: {self.author}, Published Year: {self.published_year}\"\n",
        "\n",
        "book_instance = Book(\"Python Programming\", \"John Doe\", 2023)\n",
        "print(book_instance.display_details())\n"
      ],
      "metadata": {
        "colab": {
          "base_uri": "https://localhost:8080/"
        },
        "outputId": "656f71e8-843b-4f88-dda6-12c9ad380ff8",
        "id": "Q5nTu-LFeLQN"
      },
      "execution_count": null,
      "outputs": [
        {
          "output_type": "stream",
          "name": "stdout",
          "text": [
            "Title: Python Programming, Author: John Doe, Published Year: 2023\n"
          ]
        }
      ]
    },
    {
      "cell_type": "markdown",
      "source": [
        "14. Constructors are special methods used for initializing objects when they are created. Regular methods perform specific tasks or actions on objects.\n",
        "Constructors have the same name as the class and are automatically called when an object is created. Regular methods are called explicitly.\n",
        "Constructors are typically responsible for initializing object attributes, while regular methods may manipulate object state or provide functionality"
      ],
      "metadata": {
        "id": "ZXRDKoQNeLQN"
      }
    },
    {
      "cell_type": "markdown",
      "source": [
        "15. The self parameter refers to the instance of the class that is being created or operated upon.\n",
        "In constructors, self is used to access and modify instance-specific attributes. It allows you to initialize object attributes based on the values passed as parameters to the constructor."
      ],
      "metadata": {
        "id": "tbIaQPX-eLQO"
      }
    },
    {
      "cell_type": "code",
      "source": [
        "#16\n",
        "class Singleton:\n",
        "    _instance = None\n",
        "\n",
        "    def __new__(cls):\n",
        "        if cls._instance is None:\n",
        "            cls._instance = super(Singleton, cls).__new__(cls)\n",
        "        return cls._instance\n",
        "\n",
        "first_instance = Singleton()\n",
        "second_instance = Singleton()\n",
        "\n",
        "print(first_instance is second_instance)  # Output: True\n"
      ],
      "metadata": {
        "colab": {
          "base_uri": "https://localhost:8080/"
        },
        "outputId": "75013b6d-f1a9-4274-83a5-dcb267377942",
        "id": "JYcorX9seLQO"
      },
      "execution_count": null,
      "outputs": [
        {
          "output_type": "stream",
          "name": "stdout",
          "text": [
            "True\n"
          ]
        }
      ]
    },
    {
      "cell_type": "code",
      "source": [
        "#17\n",
        "class Student:\n",
        "    def __init__(self, subjects):\n",
        "        self.subjects = subjects\n",
        "\n",
        "# Creating a Student object\n",
        "student1 = Student([\"Math\", \"Science\", \"History\"])\n",
        "print(\"Subjects:\", student1.subjects)\n"
      ],
      "metadata": {
        "colab": {
          "base_uri": "https://localhost:8080/"
        },
        "outputId": "751d617d-d4e0-4d73-d538-182c79bc546a",
        "id": "D9_nU3raeLQO"
      },
      "execution_count": null,
      "outputs": [
        {
          "output_type": "stream",
          "name": "stdout",
          "text": [
            "Subjects: ['Math', 'Science', 'History']\n"
          ]
        }
      ]
    },
    {
      "cell_type": "markdown",
      "source": [
        "18. The __del__ method is used to define the finalization of an object, and it gets called when an object is about to be destroyed.\n",
        "While constructors (e.g., __init__) are used for object initialization, the __del__ method is used for cleanup or finalization before the object is deleted. It can be used to release resources or perform any necessary cleanup tasks"
      ],
      "metadata": {
        "id": "DOLTISw6eLQO"
      }
    },
    {
      "cell_type": "code",
      "source": [
        "#19\n",
        "class Vehicle:\n",
        "    def __init__(self, make, model):\n",
        "        self.make = make\n",
        "        self.model = model\n",
        "\n",
        "class Car(Vehicle):\n",
        "    def __init__(self, make, model, color):\n",
        "        super().__init__(make, model)  # Call the constructor of the parent class\n",
        "        self.color = color\n",
        "\n",
        "car1 = Car(\"Toyota\", \"Camry\", \"Blue\")\n",
        "print(f\"Make: {car1.make}, Model: {car1.model}, Color: {car1.color}\")\n"
      ],
      "metadata": {
        "colab": {
          "base_uri": "https://localhost:8080/"
        },
        "outputId": "88b7b355-5826-4697-fa34-a8723ad7c649",
        "id": "_ASBpA6_eLQO"
      },
      "execution_count": null,
      "outputs": [
        {
          "output_type": "stream",
          "name": "stdout",
          "text": [
            "Make: Toyota, Model: Camry, Color: Blue\n"
          ]
        }
      ]
    },
    {
      "cell_type": "code",
      "source": [
        "#20\n",
        "class Car:\n",
        "    def __init__(self, make, model):\n",
        "        self.make = make\n",
        "        self.model = model\n",
        "\n",
        "    def display_info(self):\n",
        "        return f\"Make: {self.make}, Model: {self.model}\"\n",
        "\n",
        "car1 = Car(\"Toyota\", \"Camry\")\n",
        "print(car1.display_info())\n"
      ],
      "metadata": {
        "colab": {
          "base_uri": "https://localhost:8080/"
        },
        "outputId": "6918466b-b69b-415a-f91e-c2ca499d0608",
        "id": "GQal1k-4eLQP"
      },
      "execution_count": null,
      "outputs": [
        {
          "output_type": "stream",
          "name": "stdout",
          "text": [
            "Make: Toyota, Model: Camry\n"
          ]
        }
      ]
    },
    {
      "cell_type": "code",
      "execution_count": null,
      "metadata": {
        "id": "5CgQ_bzadjul"
      },
      "outputs": [],
      "source": []
    },
    {
      "cell_type": "markdown",
      "source": [
        "# Inheritance"
      ],
      "metadata": {
        "id": "A6mFCe30d4-m"
      }
    },
    {
      "cell_type": "markdown",
      "source": [
        "1. Inheritance is a fundamental concept in object-oriented programming (OOP) that allows a new class (subclass or child class) to inherit properties and behaviors (attributes and methods) from an existing class (superclass or parent class).\n",
        "Significance: Inheritance promotes code reusability, structuring of classes in a hierarchy, and the ability to create specialized classes by extending the functionality of existing classes"
      ],
      "metadata": {
        "id": "c3ASo_xNd4-u"
      }
    },
    {
      "cell_type": "code",
      "source": [
        "#2\n",
        "class Animal:\n",
        "    def speak(self):\n",
        "        print(\"Animal speaks\")\n",
        "\n",
        "class Dog(Animal):\n",
        "    def bark(self):\n",
        "        print(\"Dog barks\")\n",
        "\n",
        "dog = Dog()\n",
        "dog.speak()  # Accesses the speak method from the Animal class\n"
      ],
      "metadata": {
        "colab": {
          "base_uri": "https://localhost:8080/"
        },
        "outputId": "716afd5c-cdf6-4c15-c72c-dd63fe19d904",
        "id": "tOETtriRd4-u"
      },
      "execution_count": null,
      "outputs": [
        {
          "output_type": "stream",
          "name": "stdout",
          "text": [
            "Animal speaks\n"
          ]
        }
      ]
    },
    {
      "cell_type": "code",
      "source": [
        "#2.1\n",
        "class Parent1:\n",
        "    def method1(self):\n",
        "        print(\"Method from Parent1\")\n",
        "\n",
        "class Parent2:\n",
        "    def method2(self):\n",
        "        print(\"Method from Parent2\")\n",
        "\n",
        "class Child(Parent1, Parent2):\n",
        "    pass\n",
        "\n",
        "child = Child()\n",
        "child.method1()  # Accesses method from Parent1\n",
        "child.method2()  # Accesses method from Parent2\n"
      ],
      "metadata": {
        "colab": {
          "base_uri": "https://localhost:8080/"
        },
        "outputId": "3703b750-14d3-4d02-ec1d-de90484834aa",
        "id": "e66_xSEZd4-v"
      },
      "execution_count": null,
      "outputs": [
        {
          "output_type": "stream",
          "name": "stdout",
          "text": [
            "Method from Parent1\n",
            "Method from Parent2\n"
          ]
        }
      ]
    },
    {
      "cell_type": "code",
      "source": [
        "#3\n",
        "class Vehicle:\n",
        "    def __init__(self, color, speed):\n",
        "        self.color = color\n",
        "        self.speed = speed\n",
        "\n",
        "class Car(Vehicle):\n",
        "    def __init__(self, color, speed, brand):\n",
        "        super().__init__(color, speed)\n",
        "        self.brand = brand\n",
        "\n",
        "car1 = Car(\"Red\", 100, \"Toyota\")\n",
        "print(f\"Color: {car1.color}, Speed: {car1.speed}, Brand: {car1.brand}\")\n"
      ],
      "metadata": {
        "colab": {
          "base_uri": "https://localhost:8080/"
        },
        "outputId": "acdc7f4a-2f7d-4034-9b6b-a7cc8b94c4f7",
        "id": "QnUjmcHFd4-v"
      },
      "execution_count": null,
      "outputs": [
        {
          "output_type": "stream",
          "name": "stdout",
          "text": [
            "Color: Red, Speed: 100, Brand: Toyota\n"
          ]
        }
      ]
    },
    {
      "cell_type": "code",
      "source": [
        "#4\n",
        "class Animal:\n",
        "    def speak(self):\n",
        "        print(\"Animal speaks\")\n",
        "\n",
        "class Dog(Animal):\n",
        "    def speak(self):\n",
        "        print(\"Dog barks\")\n",
        "\n",
        "dog = Dog()\n",
        "dog.speak()  # Overrides the speak method from the Animal class\n"
      ],
      "metadata": {
        "colab": {
          "base_uri": "https://localhost:8080/"
        },
        "outputId": "c23d07cf-f0df-4722-9849-20b98dcd9a90",
        "id": "hoXaLx1Rd4-v"
      },
      "execution_count": null,
      "outputs": [
        {
          "output_type": "stream",
          "name": "stdout",
          "text": [
            "Dog barks\n"
          ]
        }
      ]
    },
    {
      "cell_type": "code",
      "source": [
        "#5\n",
        "class Parent:\n",
        "    def method(self):\n",
        "        print(\"Method in Parent class\")\n",
        "\n",
        "class Child(Parent):\n",
        "    def method(self):\n",
        "        super().method()\n",
        "        print(\"Method in Child class\")\n",
        "\n",
        "child = Child()\n",
        "child.method()\n"
      ],
      "metadata": {
        "colab": {
          "base_uri": "https://localhost:8080/"
        },
        "outputId": "dc7a7428-b302-4f62-bac2-046a46c64021",
        "id": "gcQdEkFFd4-v"
      },
      "execution_count": null,
      "outputs": [
        {
          "output_type": "stream",
          "name": "stdout",
          "text": [
            "Method in Parent class\n",
            "Method in Child class\n"
          ]
        }
      ]
    },
    {
      "cell_type": "markdown",
      "source": [
        "6. The super() function is used to call a method or constructor from a parent class.\n",
        "It is often used when you want to extend the functionality of a method or constructor in the parent class.\n",
        "Example is provided in the previous answer (question 5)."
      ],
      "metadata": {
        "id": "oEHKbi0td4-w"
      }
    },
    {
      "cell_type": "code",
      "source": [
        "#7\n",
        "class Animal:\n",
        "    def speak(self):\n",
        "        print(\"Animal speaks\")\n",
        "\n",
        "class Dog(Animal):\n",
        "    def speak(self):\n",
        "        print(\"Dog barks\")\n",
        "\n",
        "class Cat(Animal):\n",
        "    def speak(self):\n",
        "        print(\"Cat meows\")\n",
        "\n",
        "dog = Dog()\n",
        "cat = Cat()\n",
        "\n",
        "dog.speak()  # Output: Dog barks\n",
        "cat.speak()  # Output: Cat meows\n"
      ],
      "metadata": {
        "colab": {
          "base_uri": "https://localhost:8080/"
        },
        "outputId": "93083635-dc1e-4b80-f313-672f92693516",
        "id": "tfap_sN0d4-w"
      },
      "execution_count": null,
      "outputs": [
        {
          "output_type": "stream",
          "name": "stdout",
          "text": [
            "Dog barks\n",
            "Cat meows\n"
          ]
        }
      ]
    },
    {
      "cell_type": "markdown",
      "source": [
        "8. The isinstance() function is used to check if an object is an instance of a particular class or a subclass.\n",
        "It is often used to perform type checking and ensure that an object is of a certain class or a subclass before performing operations on it."
      ],
      "metadata": {
        "id": "ArIu3TR6d4-w"
      }
    },
    {
      "cell_type": "code",
      "source": [
        "#9\n",
        "class Parent:\n",
        "    pass\n",
        "\n",
        "class Child(Parent):\n",
        "    pass\n",
        "\n",
        "print(issubclass(Child, Parent))  # Output: True\n"
      ],
      "metadata": {
        "colab": {
          "base_uri": "https://localhost:8080/"
        },
        "outputId": "54f4045e-9a5f-4871-dd60-5956f12f5f6b",
        "id": "-aJ3nvq5d4-w"
      },
      "execution_count": null,
      "outputs": [
        {
          "output_type": "stream",
          "name": "stdout",
          "text": [
            "True\n"
          ]
        }
      ]
    },
    {
      "cell_type": "markdown",
      "source": [
        "10. Constructors are inherited in child classes by default. When a child class is created, it can call the constructor of its parent class using the super() function, and the parent class's constructor is executed, initializing attributes and performing other setup."
      ],
      "metadata": {
        "id": "ejGgY9Y6d4-w"
      }
    },
    {
      "cell_type": "code",
      "source": [
        "#11\n",
        "class Shape:\n",
        "    def area(self):\n",
        "        pass\n",
        "\n",
        "class Circle(Shape):\n",
        "    def __init__(self, radius):\n",
        "        self.radius = radius\n",
        "\n",
        "    def area(self):\n",
        "        return 3.1415 * self.radius ** 2\n",
        "\n",
        "class Rectangle(Shape):\n",
        "    def __init__(self, length, width):\n",
        "        self.length = length\n",
        "        self.width = width\n",
        "\n",
        "    def area(self):\n",
        "        return self.length * self.width\n",
        "\n",
        "circle = Circle(5)\n",
        "rectangle = Rectangle(4, 6)\n",
        "\n",
        "print(\"Circle Area:\", circle.area())  # Output: 78.5375\n",
        "print(\"Rectangle Area:\", rectangle.area())  # Output: 24"
      ],
      "metadata": {
        "colab": {
          "base_uri": "https://localhost:8080/"
        },
        "outputId": "6e176a03-1ef3-4818-f6b2-6f762ac485c9",
        "id": "1_o0JFuId4-x"
      },
      "execution_count": null,
      "outputs": [
        {
          "output_type": "stream",
          "name": "stdout",
          "text": [
            "Circle Area: 78.53750000000001\n",
            "Rectangle Area: 24\n"
          ]
        }
      ]
    },
    {
      "cell_type": "code",
      "source": [
        "#12\n",
        "from abc import ABC, abstractmethod\n",
        "\n",
        "class Shape(ABC):\n",
        "    @abstractmethod\n",
        "    def area(self):\n",
        "        pass\n",
        "\n",
        "class Circle(Shape):\n",
        "    def __init__(self, radius):\n",
        "        self.radius = radius\n",
        "\n",
        "    def area(self):\n",
        "        return 3.1415 * self.radius ** 2\n"
      ],
      "metadata": {
        "id": "QdnCz9D7d4-x"
      },
      "execution_count": null,
      "outputs": []
    },
    {
      "cell_type": "markdown",
      "source": [
        "13. You can prevent a child class from modifying attributes or methods by using encapsulation and making them private (prefix with an underscore). This way, child classes will be discouraged from modifying them, but it's not a strict enforcement"
      ],
      "metadata": {
        "id": "urZelPKfd4-x"
      }
    },
    {
      "cell_type": "code",
      "source": [
        "#14\n",
        "class Employee:\n",
        "    def __init__(self, name, salary):\n",
        "        self.name = name\n",
        "        self.salary = salary\n",
        "\n",
        "class Manager(Employee):\n",
        "    def __init__(self, name, salary, department):\n",
        "        super().__init__(name, salary)\n",
        "        self.department = department\n",
        "\n",
        "manager = Manager(\"Alice\", 60000, \"HR\")\n",
        "print(f\"Name: {manager.name}, Salary: {manager.salary}, Department: {manager.department}\")\n"
      ],
      "metadata": {
        "colab": {
          "base_uri": "https://localhost:8080/"
        },
        "outputId": "6e185644-2f01-4db9-cda0-cc7e44aaa922",
        "id": "XhMG6oZWd4-x"
      },
      "execution_count": null,
      "outputs": [
        {
          "output_type": "stream",
          "name": "stdout",
          "text": [
            "Name: Alice, Salary: 60000, Department: HR\n"
          ]
        }
      ]
    },
    {
      "cell_type": "markdown",
      "source": [
        "15. Method overloading is not supported in Python in the traditional sense (i.e., defining multiple methods with the same name but different parameter lists). Instead, you can use default parameters or variable-length argument lists.\n",
        "Method overriding occurs when a subclass provides a specific implementation for a method already defined in its superclass."
      ],
      "metadata": {
        "id": "oFH0ErEid4-x"
      }
    },
    {
      "cell_type": "markdown",
      "source": [
        "16. The __init__() method in Python is used for object initialization. It is called when an object is created from a class.\n",
        "In child classes, it can be used to initialize attributes inherited from the parent class by calling the parent class's __init__() method using super()."
      ],
      "metadata": {
        "id": "X5dEecJWd4-y"
      }
    },
    {
      "cell_type": "code",
      "source": [
        "#17\n",
        "class Bird:\n",
        "    def fly(self):\n",
        "        pass\n",
        "\n",
        "class Eagle(Bird):\n",
        "    def fly(self):\n",
        "        print(\"Eagle soars high\")\n",
        "\n",
        "class Sparrow(Bird):\n",
        "    def fly(self):\n",
        "        print(\"Sparrow flies gracefully\")\n",
        "\n",
        "eagle = Eagle()\n",
        "sparrow = Sparrow()\n",
        "\n",
        "eagle.fly()  # Output: Eagle soars high\n",
        "sparrow.fly()  # Output: Sparrow flies gracefully"
      ],
      "metadata": {
        "colab": {
          "base_uri": "https://localhost:8080/"
        },
        "outputId": "df6ba1fb-d253-4a52-d2df-e93309c02eea",
        "id": "4c4kdNpld4-y"
      },
      "execution_count": null,
      "outputs": [
        {
          "output_type": "stream",
          "name": "stdout",
          "text": [
            "Eagle soars high\n",
            "Sparrow flies gracefully\n"
          ]
        }
      ]
    },
    {
      "cell_type": "markdown",
      "source": [
        "18. The \"diamond problem\" is a complication that arises in multiple inheritance when a subclass inherits from two classes that have a common ancestor.\n",
        "- In Python, this problem is addressed using a method resolution order (MRO) mechanism. Python follows a specific order to resolve method calls when there's ambiguity."
      ],
      "metadata": {
        "id": "MVl9UyXYd4-y"
      }
    },
    {
      "cell_type": "markdown",
      "source": [
        "19. \"is-a\" relationship: Inheritance represents an \"is-a\" relationship, meaning that a subclass is a specialized version of its superclass.\n",
        "Example: A Car is a type of Vehicle, so Car inherits from Vehicle.\n",
        "\n",
        "\"has-a\" relationship: Composition represents a \"has-a\" relationship, where a class contains another class as an attribute.\n",
        "Example: A Car has an Engine, so Car contains an instance of the Engine class as an attribute."
      ],
      "metadata": {
        "id": "72empksDd4-y"
      }
    },
    {
      "cell_type": "code",
      "source": [
        "#20\n",
        "class Person:\n",
        "    def __init__(self, name, age):\n",
        "        self.name = name\n",
        "        self.age = age\n",
        "\n",
        "    def display_info(self):\n",
        "        return f\"Name: {self.name}, Age: {self.age}\"\n",
        "\n",
        "class Student(Person):\n",
        "    def __init__(self, name, age, student_id):\n",
        "        super().__init__(name, age)\n",
        "        self.student_id = student_id\n",
        "\n",
        "    def display_info(self):\n",
        "        return f\"Student ID: {self.student_id}, {super().display_info()}\"\n",
        "\n",
        "class Professor(Person):\n",
        "    def __init__(self, name, age, employee_id):\n",
        "        super().__init__(name, age)\n",
        "        self.employee_id = employee_id\n",
        "\n",
        "    def display_info(self):\n",
        "        return f\"Employee ID: {self.employee_id}, {super().display_info()}\"\n",
        "\n",
        "student1 = Student(\"Alice\", 20, \"S12345\")\n",
        "professor1 = Professor(\"Dr. Smith\", 40, \"P9876\")\n",
        "\n",
        "print(student1.display_info())\n",
        "print(professor1.display_info())\n"
      ],
      "metadata": {
        "colab": {
          "base_uri": "https://localhost:8080/"
        },
        "outputId": "ac50bf26-de09-4274-bf86-0afc747f9b48",
        "id": "pDV3hUZWd4-y"
      },
      "execution_count": null,
      "outputs": [
        {
          "output_type": "stream",
          "name": "stdout",
          "text": [
            "Student ID: S12345, Name: Alice, Age: 20\n",
            "Employee ID: P9876, Name: Dr. Smith, Age: 40\n"
          ]
        }
      ]
    },
    {
      "cell_type": "code",
      "source": [],
      "metadata": {
        "id": "nhb-tMb5d4-y"
      },
      "execution_count": null,
      "outputs": []
    },
    {
      "cell_type": "markdown",
      "source": [
        "# Encapsulation"
      ],
      "metadata": {
        "id": "9tQW4lSjaMQ7"
      }
    },
    {
      "cell_type": "markdown",
      "source": [
        "1. Constructor: A constructor in Python is a special method that gets called when an object of a class is created. It has the same name as the class and is defined using the __init__ method.\n",
        "Purpose: The primary purpose of a constructor is to initialize the attributes of an object or perform any\n",
        "necessary setup when an object is created.\n",
        "Usage: You define a constructor in a class to set initial values for attributes and ensure that specific actions are taken when objects are instantiated."
      ],
      "metadata": {
        "id": "LJJpcWG_aS-9"
      }
    },
    {
      "cell_type": "markdown",
      "source": [
        "2. Parameterless Constructor: It takes no arguments and initializes the object with default values. It's often created when you don't define a constructor explicitly.\n",
        "Parameterized Constructor: It accepts one or more parameters and allows you to initialize the object with specific values when it's created. You define the constructor with the __init__ method and specify parameters as needed."
      ],
      "metadata": {
        "id": "duN11bqMahhL"
      }
    },
    {
      "cell_type": "code",
      "source": [
        "#3\n",
        "class MyClass:\n",
        "    def __init__(self, param1, param2):\n",
        "        self.attribute1 = param1\n",
        "        self.attribute2 = param2\n"
      ],
      "metadata": {
        "id": "01pE3CdyaNb4"
      },
      "execution_count": 1,
      "outputs": []
    },
    {
      "cell_type": "markdown",
      "source": [
        "4. The __init__ method is a special method in Python classes.\n",
        "Its primary role is to serve as the constructor for a class.\n",
        "It gets automatically called when an object is created from the class, and it's responsible for initializing object attributes."
      ],
      "metadata": {
        "id": "rTwMQKXLarVm"
      }
    },
    {
      "cell_type": "code",
      "source": [
        "#5\n",
        "class Person:\n",
        "    def __init__(self, name, age):\n",
        "        self.name = name\n",
        "        self.age = age\n",
        "\n",
        "# Creating an object of the Person class\n",
        "person1 = Person(\"Alice\", 30)\n"
      ],
      "metadata": {
        "id": "uixESoe0aokm"
      },
      "execution_count": 2,
      "outputs": []
    },
    {
      "cell_type": "code",
      "source": [
        "#6\n",
        "person2 = Person.__new__(Person)\n",
        "person2.__init__(\"Bob\", 25)\n"
      ],
      "metadata": {
        "id": "mqARMN8lauK1"
      },
      "execution_count": 3,
      "outputs": []
    },
    {
      "cell_type": "markdown",
      "source": [
        "7. The self parameter refers to the instance of the class and allows you to access and modify instance-specific attributes.\n",
        "It is a convention in Python to use self as the first parameter in methods, including constructors."
      ],
      "metadata": {
        "id": "lAYmQMfZaz26"
      }
    },
    {
      "cell_type": "code",
      "source": [
        "class Person:\n",
        "    def __init__(self, name, age):\n",
        "        self.name = name\n",
        "        self.age = age\n",
        "\n",
        "    def introduce(self):\n",
        "        return f\"My name is {self.name}, and I am {self.age} years old.\"\n",
        "\n",
        "person1 = Person(\"Alice\", 30)\n",
        "print(person1.introduce())\n"
      ],
      "metadata": {
        "colab": {
          "base_uri": "https://localhost:8080/"
        },
        "id": "BrViiceWayES",
        "outputId": "fc4e8ea1-0388-4b74-c2e1-b09dab9b05b6"
      },
      "execution_count": 4,
      "outputs": [
        {
          "output_type": "stream",
          "name": "stdout",
          "text": [
            "My name is Alice, and I am 30 years old.\n"
          ]
        }
      ]
    },
    {
      "cell_type": "markdown",
      "source": [
        "8. Python does not have explicit default constructors. If you don't define a constructor in your class, Python provides a default constructor that initializes the object with no attributes"
      ],
      "metadata": {
        "id": "9ADxk28ba5UG"
      }
    },
    {
      "cell_type": "code",
      "source": [
        "#9\n",
        "class Rectangle:\n",
        "    def __init__(self, width, height):\n",
        "        self.width = width\n",
        "        self.height = height\n",
        "\n",
        "    def calculate_area(self):\n",
        "        return self.width * self.height\n",
        "\n",
        "rect = Rectangle(5, 3)\n",
        "print(\"Area:\", rect.calculate_area())\n"
      ],
      "metadata": {
        "colab": {
          "base_uri": "https://localhost:8080/"
        },
        "id": "YZp2BVola1bp",
        "outputId": "e8f6c661-88a2-4400-da6a-6dd78f47830c"
      },
      "execution_count": 5,
      "outputs": [
        {
          "output_type": "stream",
          "name": "stdout",
          "text": [
            "Area: 15\n"
          ]
        }
      ]
    },
    {
      "cell_type": "code",
      "source": [
        "#10\n",
        "class MyClass:\n",
        "    def __init__(self, param1=None, param2=None):\n",
        "        if param1 is None:\n",
        "            self.attribute1 = \"default_value1\"\n",
        "        else:\n",
        "            self.attribute1 = param1\n",
        "\n",
        "        if param2 is None:\n",
        "            self.attribute2 = \"default_value2\"\n",
        "        else:\n",
        "            self.attribute2 = param2\n"
      ],
      "metadata": {
        "id": "Clq-ncdxa7vz"
      },
      "execution_count": 6,
      "outputs": []
    },
    {
      "cell_type": "markdown",
      "source": [
        "11. Method overloading refers to the ability to define multiple methods in a class with the same name but different parameter lists.\n",
        "In Python, method overloading is not supported in the traditional sense as it is in some other languages. Instead, Python allows you to define a single method with default parameter values or use variable-length argument lists (e.g., *args and **kwargs) to achieve similar functionality.\n",
        "Method overloading is related to constructors in the sense that you might want to have multiple constructors with different sets of parameters to create objects in different ways. In Python, this can be achieved using default parameter values in the constructor."
      ],
      "metadata": {
        "id": "8d8qBD3ObMaI"
      }
    },
    {
      "cell_type": "code",
      "source": [
        "#12\n",
        "class Parent:\n",
        "    def __init__(self, value):\n",
        "        self.value = value\n",
        "\n",
        "class Child(Parent):\n",
        "    def __init__(self, value, child_value):\n",
        "        super().__init__(value)  # Call the constructor of the parent class\n",
        "        self.child_value = child_value\n",
        "\n",
        "child_instance = Child(\"Parent value\", \"Child value\")\n",
        "print(child_instance.value)  # Output: Parent value\n",
        "print(child_instance.child_value)  # Output: Child value\n"
      ],
      "metadata": {
        "colab": {
          "base_uri": "https://localhost:8080/"
        },
        "id": "NS0kVWh9bB6D",
        "outputId": "74e27b07-0cc1-4d58-db04-fd27f59e9cd4"
      },
      "execution_count": 7,
      "outputs": [
        {
          "output_type": "stream",
          "name": "stdout",
          "text": [
            "Parent value\n",
            "Child value\n"
          ]
        }
      ]
    },
    {
      "cell_type": "code",
      "source": [
        "#13\n",
        "class Book:\n",
        "    def __init__(self, title, author, published_year):\n",
        "        self.title = title\n",
        "        self.author = author\n",
        "        self.published_year = published_year\n",
        "\n",
        "    def display_details(self):\n",
        "        return f\"Title: {self.title}, Author: {self.author}, Published Year: {self.published_year}\"\n",
        "\n",
        "book_instance = Book(\"Python Programming\", \"John Doe\", 2023)\n",
        "print(book_instance.display_details())\n"
      ],
      "metadata": {
        "colab": {
          "base_uri": "https://localhost:8080/"
        },
        "id": "-x29nChsbSz3",
        "outputId": "656f71e8-843b-4f88-dda6-12c9ad380ff8"
      },
      "execution_count": 8,
      "outputs": [
        {
          "output_type": "stream",
          "name": "stdout",
          "text": [
            "Title: Python Programming, Author: John Doe, Published Year: 2023\n"
          ]
        }
      ]
    },
    {
      "cell_type": "markdown",
      "source": [
        "14. Constructors are special methods used for initializing objects when they are created. Regular methods perform specific tasks or actions on objects.\n",
        "Constructors have the same name as the class and are automatically called when an object is created. Regular methods are called explicitly.\n",
        "Constructors are typically responsible for initializing object attributes, while regular methods may manipulate object state or provide functionality"
      ],
      "metadata": {
        "id": "lhT_dfcfbZ1z"
      }
    },
    {
      "cell_type": "markdown",
      "source": [
        "15. The self parameter refers to the instance of the class that is being created or operated upon.\n",
        "In constructors, self is used to access and modify instance-specific attributes. It allows you to initialize object attributes based on the values passed as parameters to the constructor."
      ],
      "metadata": {
        "id": "uicfOm9Ybb4q"
      }
    },
    {
      "cell_type": "code",
      "source": [
        "#16\n",
        "class Singleton:\n",
        "    _instance = None\n",
        "\n",
        "    def __new__(cls):\n",
        "        if cls._instance is None:\n",
        "            cls._instance = super(Singleton, cls).__new__(cls)\n",
        "        return cls._instance\n",
        "\n",
        "first_instance = Singleton()\n",
        "second_instance = Singleton()\n",
        "\n",
        "print(first_instance is second_instance)  # Output: True\n"
      ],
      "metadata": {
        "colab": {
          "base_uri": "https://localhost:8080/"
        },
        "id": "Uf6hIiRRbWmX",
        "outputId": "75013b6d-f1a9-4274-83a5-dcb267377942"
      },
      "execution_count": 9,
      "outputs": [
        {
          "output_type": "stream",
          "name": "stdout",
          "text": [
            "True\n"
          ]
        }
      ]
    },
    {
      "cell_type": "code",
      "source": [
        "#17\n",
        "class Student:\n",
        "    def __init__(self, subjects):\n",
        "        self.subjects = subjects\n",
        "\n",
        "# Creating a Student object\n",
        "student1 = Student([\"Math\", \"Science\", \"History\"])\n",
        "print(\"Subjects:\", student1.subjects)\n"
      ],
      "metadata": {
        "colab": {
          "base_uri": "https://localhost:8080/"
        },
        "id": "tKso9BmQbiXM",
        "outputId": "751d617d-d4e0-4d73-d538-182c79bc546a"
      },
      "execution_count": 10,
      "outputs": [
        {
          "output_type": "stream",
          "name": "stdout",
          "text": [
            "Subjects: ['Math', 'Science', 'History']\n"
          ]
        }
      ]
    },
    {
      "cell_type": "markdown",
      "source": [
        "18. The __del__ method is used to define the finalization of an object, and it gets called when an object is about to be destroyed.\n",
        "While constructors (e.g., __init__) are used for object initialization, the __del__ method is used for cleanup or finalization before the object is deleted. It can be used to release resources or perform any necessary cleanup tasks"
      ],
      "metadata": {
        "id": "Zts4sNPEbqWb"
      }
    },
    {
      "cell_type": "code",
      "source": [
        "#19\n",
        "class Vehicle:\n",
        "    def __init__(self, make, model):\n",
        "        self.make = make\n",
        "        self.model = model\n",
        "\n",
        "class Car(Vehicle):\n",
        "    def __init__(self, make, model, color):\n",
        "        super().__init__(make, model)  # Call the constructor of the parent class\n",
        "        self.color = color\n",
        "\n",
        "car1 = Car(\"Toyota\", \"Camry\", \"Blue\")\n",
        "print(f\"Make: {car1.make}, Model: {car1.model}, Color: {car1.color}\")\n"
      ],
      "metadata": {
        "colab": {
          "base_uri": "https://localhost:8080/"
        },
        "id": "Ht9pAo3ebofz",
        "outputId": "88b7b355-5826-4697-fa34-a8723ad7c649"
      },
      "execution_count": 11,
      "outputs": [
        {
          "output_type": "stream",
          "name": "stdout",
          "text": [
            "Make: Toyota, Model: Camry, Color: Blue\n"
          ]
        }
      ]
    },
    {
      "cell_type": "code",
      "source": [
        "#20\n",
        "class Car:\n",
        "    def __init__(self, make, model):\n",
        "        self.make = make\n",
        "        self.model = model\n",
        "\n",
        "    def display_info(self):\n",
        "        return f\"Make: {self.make}, Model: {self.model}\"\n",
        "\n",
        "car1 = Car(\"Toyota\", \"Camry\")\n",
        "print(car1.display_info())\n"
      ],
      "metadata": {
        "colab": {
          "base_uri": "https://localhost:8080/"
        },
        "id": "sNzZiiMDbtIt",
        "outputId": "6918466b-b69b-415a-f91e-c2ca499d0608"
      },
      "execution_count": 12,
      "outputs": [
        {
          "output_type": "stream",
          "name": "stdout",
          "text": [
            "Make: Toyota, Model: Camry\n"
          ]
        }
      ]
    },
    {
      "cell_type": "markdown",
      "source": [
        "# Polymorphism"
      ],
      "metadata": {
        "id": "7JE3VPLnbxhG"
      }
    },
    {
      "cell_type": "markdown",
      "source": [
        "1. Inheritance is a fundamental concept in object-oriented programming (OOP) that allows a new class (subclass or child class) to inherit properties and behaviors (attributes and methods) from an existing class (superclass or parent class).\n",
        "Significance: Inheritance promotes code reusability, structuring of classes in a hierarchy, and the ability to create specialized classes by extending the functionality of existing classes"
      ],
      "metadata": {
        "id": "ANOMamPCb7Vc"
      }
    },
    {
      "cell_type": "code",
      "source": [
        "#2\n",
        "class Animal:\n",
        "    def speak(self):\n",
        "        print(\"Animal speaks\")\n",
        "\n",
        "class Dog(Animal):\n",
        "    def bark(self):\n",
        "        print(\"Dog barks\")\n",
        "\n",
        "dog = Dog()\n",
        "dog.speak()  # Accesses the speak method from the Animal class\n"
      ],
      "metadata": {
        "colab": {
          "base_uri": "https://localhost:8080/"
        },
        "id": "7FI-lQLsbu5y",
        "outputId": "716afd5c-cdf6-4c15-c72c-dd63fe19d904"
      },
      "execution_count": 13,
      "outputs": [
        {
          "output_type": "stream",
          "name": "stdout",
          "text": [
            "Animal speaks\n"
          ]
        }
      ]
    },
    {
      "cell_type": "code",
      "source": [
        "#2.1\n",
        "class Parent1:\n",
        "    def method1(self):\n",
        "        print(\"Method from Parent1\")\n",
        "\n",
        "class Parent2:\n",
        "    def method2(self):\n",
        "        print(\"Method from Parent2\")\n",
        "\n",
        "class Child(Parent1, Parent2):\n",
        "    pass\n",
        "\n",
        "child = Child()\n",
        "child.method1()  # Accesses method from Parent1\n",
        "child.method2()  # Accesses method from Parent2\n"
      ],
      "metadata": {
        "colab": {
          "base_uri": "https://localhost:8080/"
        },
        "id": "hsLTsO8Eb-Cp",
        "outputId": "3703b750-14d3-4d02-ec1d-de90484834aa"
      },
      "execution_count": 15,
      "outputs": [
        {
          "output_type": "stream",
          "name": "stdout",
          "text": [
            "Method from Parent1\n",
            "Method from Parent2\n"
          ]
        }
      ]
    },
    {
      "cell_type": "code",
      "source": [
        "#3\n",
        "class Vehicle:\n",
        "    def __init__(self, color, speed):\n",
        "        self.color = color\n",
        "        self.speed = speed\n",
        "\n",
        "class Car(Vehicle):\n",
        "    def __init__(self, color, speed, brand):\n",
        "        super().__init__(color, speed)\n",
        "        self.brand = brand\n",
        "\n",
        "car1 = Car(\"Red\", 100, \"Toyota\")\n",
        "print(f\"Color: {car1.color}, Speed: {car1.speed}, Brand: {car1.brand}\")\n"
      ],
      "metadata": {
        "colab": {
          "base_uri": "https://localhost:8080/"
        },
        "id": "njDaL4Q6cAry",
        "outputId": "acdc7f4a-2f7d-4034-9b6b-a7cc8b94c4f7"
      },
      "execution_count": 16,
      "outputs": [
        {
          "output_type": "stream",
          "name": "stdout",
          "text": [
            "Color: Red, Speed: 100, Brand: Toyota\n"
          ]
        }
      ]
    },
    {
      "cell_type": "code",
      "source": [
        "#4\n",
        "class Animal:\n",
        "    def speak(self):\n",
        "        print(\"Animal speaks\")\n",
        "\n",
        "class Dog(Animal):\n",
        "    def speak(self):\n",
        "        print(\"Dog barks\")\n",
        "\n",
        "dog = Dog()\n",
        "dog.speak()  # Overrides the speak method from the Animal class\n"
      ],
      "metadata": {
        "colab": {
          "base_uri": "https://localhost:8080/"
        },
        "id": "HpJntd7fcELi",
        "outputId": "c23d07cf-f0df-4722-9849-20b98dcd9a90"
      },
      "execution_count": 17,
      "outputs": [
        {
          "output_type": "stream",
          "name": "stdout",
          "text": [
            "Dog barks\n"
          ]
        }
      ]
    },
    {
      "cell_type": "code",
      "source": [
        "#5\n",
        "class Parent:\n",
        "    def method(self):\n",
        "        print(\"Method in Parent class\")\n",
        "\n",
        "class Child(Parent):\n",
        "    def method(self):\n",
        "        super().method()\n",
        "        print(\"Method in Child class\")\n",
        "\n",
        "child = Child()\n",
        "child.method()\n"
      ],
      "metadata": {
        "colab": {
          "base_uri": "https://localhost:8080/"
        },
        "id": "gETOgyqMcFaS",
        "outputId": "dc7a7428-b302-4f62-bac2-046a46c64021"
      },
      "execution_count": 18,
      "outputs": [
        {
          "output_type": "stream",
          "name": "stdout",
          "text": [
            "Method in Parent class\n",
            "Method in Child class\n"
          ]
        }
      ]
    },
    {
      "cell_type": "markdown",
      "source": [
        "6. The super() function is used to call a method or constructor from a parent class.\n",
        "It is often used when you want to extend the functionality of a method or constructor in the parent class.\n",
        "Example is provided in the previous answer (question 5)."
      ],
      "metadata": {
        "id": "UTGCpTD2cJ25"
      }
    },
    {
      "cell_type": "code",
      "source": [
        "#7\n",
        "class Animal:\n",
        "    def speak(self):\n",
        "        print(\"Animal speaks\")\n",
        "\n",
        "class Dog(Animal):\n",
        "    def speak(self):\n",
        "        print(\"Dog barks\")\n",
        "\n",
        "class Cat(Animal):\n",
        "    def speak(self):\n",
        "        print(\"Cat meows\")\n",
        "\n",
        "dog = Dog()\n",
        "cat = Cat()\n",
        "\n",
        "dog.speak()  # Output: Dog barks\n",
        "cat.speak()  # Output: Cat meows\n"
      ],
      "metadata": {
        "colab": {
          "base_uri": "https://localhost:8080/"
        },
        "id": "mOB6wiSYcG1p",
        "outputId": "93083635-dc1e-4b80-f313-672f92693516"
      },
      "execution_count": 19,
      "outputs": [
        {
          "output_type": "stream",
          "name": "stdout",
          "text": [
            "Dog barks\n",
            "Cat meows\n"
          ]
        }
      ]
    },
    {
      "cell_type": "markdown",
      "source": [
        "8. The isinstance() function is used to check if an object is an instance of a particular class or a subclass.\n",
        "It is often used to perform type checking and ensure that an object is of a certain class or a subclass before performing operations on it."
      ],
      "metadata": {
        "id": "op2l_yT6cOb1"
      }
    },
    {
      "cell_type": "code",
      "source": [
        "#9\n",
        "class Parent:\n",
        "    pass\n",
        "\n",
        "class Child(Parent):\n",
        "    pass\n",
        "\n",
        "print(issubclass(Child, Parent))  # Output: True\n"
      ],
      "metadata": {
        "colab": {
          "base_uri": "https://localhost:8080/"
        },
        "id": "lrItchPkcMhk",
        "outputId": "54f4045e-9a5f-4871-dd60-5956f12f5f6b"
      },
      "execution_count": 20,
      "outputs": [
        {
          "output_type": "stream",
          "name": "stdout",
          "text": [
            "True\n"
          ]
        }
      ]
    },
    {
      "cell_type": "markdown",
      "source": [
        "10. Constructors are inherited in child classes by default. When a child class is created, it can call the constructor of its parent class using the super() function, and the parent class's constructor is executed, initializing attributes and performing other setup."
      ],
      "metadata": {
        "id": "lyyjpS9ocSnP"
      }
    },
    {
      "cell_type": "code",
      "source": [
        "#11\n",
        "class Shape:\n",
        "    def area(self):\n",
        "        pass\n",
        "\n",
        "class Circle(Shape):\n",
        "    def __init__(self, radius):\n",
        "        self.radius = radius\n",
        "\n",
        "    def area(self):\n",
        "        return 3.1415 * self.radius ** 2\n",
        "\n",
        "class Rectangle(Shape):\n",
        "    def __init__(self, length, width):\n",
        "        self.length = length\n",
        "        self.width = width\n",
        "\n",
        "    def area(self):\n",
        "        return self.length * self.width\n",
        "\n",
        "circle = Circle(5)\n",
        "rectangle = Rectangle(4, 6)\n",
        "\n",
        "print(\"Circle Area:\", circle.area())  # Output: 78.5375\n",
        "print(\"Rectangle Area:\", rectangle.area())  # Output: 24"
      ],
      "metadata": {
        "colab": {
          "base_uri": "https://localhost:8080/"
        },
        "id": "fFqUoorNcRP8",
        "outputId": "6e176a03-1ef3-4818-f6b2-6f762ac485c9"
      },
      "execution_count": 22,
      "outputs": [
        {
          "output_type": "stream",
          "name": "stdout",
          "text": [
            "Circle Area: 78.53750000000001\n",
            "Rectangle Area: 24\n"
          ]
        }
      ]
    },
    {
      "cell_type": "code",
      "source": [
        "#12\n",
        "from abc import ABC, abstractmethod\n",
        "\n",
        "class Shape(ABC):\n",
        "    @abstractmethod\n",
        "    def area(self):\n",
        "        pass\n",
        "\n",
        "class Circle(Shape):\n",
        "    def __init__(self, radius):\n",
        "        self.radius = radius\n",
        "\n",
        "    def area(self):\n",
        "        return 3.1415 * self.radius ** 2\n"
      ],
      "metadata": {
        "id": "_r85nCj_cpQu"
      },
      "execution_count": 24,
      "outputs": []
    },
    {
      "cell_type": "markdown",
      "source": [
        "13. You can prevent a child class from modifying attributes or methods by using encapsulation and making them private (prefix with an underscore). This way, child classes will be discouraged from modifying them, but it's not a strict enforcement"
      ],
      "metadata": {
        "id": "qGVgQwvpc1NU"
      }
    },
    {
      "cell_type": "code",
      "source": [
        "#14\n",
        "class Employee:\n",
        "    def __init__(self, name, salary):\n",
        "        self.name = name\n",
        "        self.salary = salary\n",
        "\n",
        "class Manager(Employee):\n",
        "    def __init__(self, name, salary, department):\n",
        "        super().__init__(name, salary)\n",
        "        self.department = department\n",
        "\n",
        "manager = Manager(\"Alice\", 60000, \"HR\")\n",
        "print(f\"Name: {manager.name}, Salary: {manager.salary}, Department: {manager.department}\")\n"
      ],
      "metadata": {
        "colab": {
          "base_uri": "https://localhost:8080/"
        },
        "id": "ExpjEs8YctV-",
        "outputId": "6e185644-2f01-4db9-cda0-cc7e44aaa922"
      },
      "execution_count": 25,
      "outputs": [
        {
          "output_type": "stream",
          "name": "stdout",
          "text": [
            "Name: Alice, Salary: 60000, Department: HR\n"
          ]
        }
      ]
    },
    {
      "cell_type": "markdown",
      "source": [
        "15. Method overloading is not supported in Python in the traditional sense (i.e., defining multiple methods with the same name but different parameter lists). Instead, you can use default parameters or variable-length argument lists.\n",
        "Method overriding occurs when a subclass provides a specific implementation for a method already defined in its superclass."
      ],
      "metadata": {
        "id": "gGx2tsuCc8cM"
      }
    },
    {
      "cell_type": "markdown",
      "source": [
        "16. The __init__() method in Python is used for object initialization. It is called when an object is created from a class.\n",
        "In child classes, it can be used to initialize attributes inherited from the parent class by calling the parent class's __init__() method using super()."
      ],
      "metadata": {
        "id": "FzDrDszNc-3a"
      }
    },
    {
      "cell_type": "code",
      "source": [
        "#17\n",
        "class Bird:\n",
        "    def fly(self):\n",
        "        pass\n",
        "\n",
        "class Eagle(Bird):\n",
        "    def fly(self):\n",
        "        print(\"Eagle soars high\")\n",
        "\n",
        "class Sparrow(Bird):\n",
        "    def fly(self):\n",
        "        print(\"Sparrow flies gracefully\")\n",
        "\n",
        "eagle = Eagle()\n",
        "sparrow = Sparrow()\n",
        "\n",
        "eagle.fly()  # Output: Eagle soars high\n",
        "sparrow.fly()  # Output: Sparrow flies gracefully"
      ],
      "metadata": {
        "colab": {
          "base_uri": "https://localhost:8080/"
        },
        "id": "NRVbtMAAc3qp",
        "outputId": "df6ba1fb-d253-4a52-d2df-e93309c02eea"
      },
      "execution_count": 26,
      "outputs": [
        {
          "output_type": "stream",
          "name": "stdout",
          "text": [
            "Eagle soars high\n",
            "Sparrow flies gracefully\n"
          ]
        }
      ]
    },
    {
      "cell_type": "markdown",
      "source": [
        "18. The \"diamond problem\" is a complication that arises in multiple inheritance when a subclass inherits from two classes that have a common ancestor.\n",
        "- In Python, this problem is addressed using a method resolution order (MRO) mechanism. Python follows a specific order to resolve method calls when there's ambiguity."
      ],
      "metadata": {
        "id": "cJ7iXqQtdHz3"
      }
    },
    {
      "cell_type": "markdown",
      "source": [
        "19. \"is-a\" relationship: Inheritance represents an \"is-a\" relationship, meaning that a subclass is a specialized version of its superclass.\n",
        "Example: A Car is a type of Vehicle, so Car inherits from Vehicle.\n",
        "\n",
        "\"has-a\" relationship: Composition represents a \"has-a\" relationship, where a class contains another class as an attribute.\n",
        "Example: A Car has an Engine, so Car contains an instance of the Engine class as an attribute."
      ],
      "metadata": {
        "id": "LmPURzXKdXtJ"
      }
    },
    {
      "cell_type": "code",
      "source": [
        "#20\n",
        "class Person:\n",
        "    def __init__(self, name, age):\n",
        "        self.name = name\n",
        "        self.age = age\n",
        "\n",
        "    def display_info(self):\n",
        "        return f\"Name: {self.name}, Age: {self.age}\"\n",
        "\n",
        "class Student(Person):\n",
        "    def __init__(self, name, age, student_id):\n",
        "        super().__init__(name, age)\n",
        "        self.student_id = student_id\n",
        "\n",
        "    def display_info(self):\n",
        "        return f\"Student ID: {self.student_id}, {super().display_info()}\"\n",
        "\n",
        "class Professor(Person):\n",
        "    def __init__(self, name, age, employee_id):\n",
        "        super().__init__(name, age)\n",
        "        self.employee_id = employee_id\n",
        "\n",
        "    def display_info(self):\n",
        "        return f\"Employee ID: {self.employee_id}, {super().display_info()}\"\n",
        "\n",
        "student1 = Student(\"Alice\", 20, \"S12345\")\n",
        "professor1 = Professor(\"Dr. Smith\", 40, \"P9876\")\n",
        "\n",
        "print(student1.display_info())\n",
        "print(professor1.display_info())\n"
      ],
      "metadata": {
        "colab": {
          "base_uri": "https://localhost:8080/"
        },
        "id": "naKboz4_dUjt",
        "outputId": "ac50bf26-de09-4274-bf86-0afc747f9b48"
      },
      "execution_count": 28,
      "outputs": [
        {
          "output_type": "stream",
          "name": "stdout",
          "text": [
            "Student ID: S12345, Name: Alice, Age: 20\n",
            "Employee ID: P9876, Name: Dr. Smith, Age: 40\n"
          ]
        }
      ]
    },
    {
      "cell_type": "code",
      "source": [],
      "metadata": {
        "id": "3nZ8F6BadWjs"
      },
      "execution_count": null,
      "outputs": []
    },
    {
      "cell_type": "markdown",
      "source": [
        "# Abstraction"
      ],
      "metadata": {
        "id": "nEI9LuSLeYL6"
      }
    },
    {
      "cell_type": "markdown",
      "source": [
        "1. Inheritance is a fundamental concept in object-oriented programming (OOP) that allows a new class (subclass or child class) to inherit properties and behaviors (attributes and methods) from an existing class (superclass or parent class).\n",
        "Significance: Inheritance promotes code reusability, structuring of classes in a hierarchy, and the ability to create specialized classes by extending the functionality of existing classes"
      ],
      "metadata": {
        "id": "8ksWrZ6seYMC"
      }
    },
    {
      "cell_type": "code",
      "source": [
        "#2\n",
        "class Animal:\n",
        "    def speak(self):\n",
        "        print(\"Animal speaks\")\n",
        "\n",
        "class Dog(Animal):\n",
        "    def bark(self):\n",
        "        print(\"Dog barks\")\n",
        "\n",
        "dog = Dog()\n",
        "dog.speak()  # Accesses the speak method from the Animal class\n"
      ],
      "metadata": {
        "colab": {
          "base_uri": "https://localhost:8080/"
        },
        "outputId": "716afd5c-cdf6-4c15-c72c-dd63fe19d904",
        "id": "w0lYgToveYMC"
      },
      "execution_count": null,
      "outputs": [
        {
          "output_type": "stream",
          "name": "stdout",
          "text": [
            "Animal speaks\n"
          ]
        }
      ]
    },
    {
      "cell_type": "code",
      "source": [
        "#2.1\n",
        "class Parent1:\n",
        "    def method1(self):\n",
        "        print(\"Method from Parent1\")\n",
        "\n",
        "class Parent2:\n",
        "    def method2(self):\n",
        "        print(\"Method from Parent2\")\n",
        "\n",
        "class Child(Parent1, Parent2):\n",
        "    pass\n",
        "\n",
        "child = Child()\n",
        "child.method1()  # Accesses method from Parent1\n",
        "child.method2()  # Accesses method from Parent2\n"
      ],
      "metadata": {
        "colab": {
          "base_uri": "https://localhost:8080/"
        },
        "outputId": "3703b750-14d3-4d02-ec1d-de90484834aa",
        "id": "c28eXMSFeYMD"
      },
      "execution_count": null,
      "outputs": [
        {
          "output_type": "stream",
          "name": "stdout",
          "text": [
            "Method from Parent1\n",
            "Method from Parent2\n"
          ]
        }
      ]
    },
    {
      "cell_type": "code",
      "source": [
        "#3\n",
        "class Vehicle:\n",
        "    def __init__(self, color, speed):\n",
        "        self.color = color\n",
        "        self.speed = speed\n",
        "\n",
        "class Car(Vehicle):\n",
        "    def __init__(self, color, speed, brand):\n",
        "        super().__init__(color, speed)\n",
        "        self.brand = brand\n",
        "\n",
        "car1 = Car(\"Red\", 100, \"Toyota\")\n",
        "print(f\"Color: {car1.color}, Speed: {car1.speed}, Brand: {car1.brand}\")\n"
      ],
      "metadata": {
        "colab": {
          "base_uri": "https://localhost:8080/"
        },
        "outputId": "acdc7f4a-2f7d-4034-9b6b-a7cc8b94c4f7",
        "id": "NqmU44P6eYMD"
      },
      "execution_count": null,
      "outputs": [
        {
          "output_type": "stream",
          "name": "stdout",
          "text": [
            "Color: Red, Speed: 100, Brand: Toyota\n"
          ]
        }
      ]
    },
    {
      "cell_type": "code",
      "source": [
        "#4\n",
        "class Animal:\n",
        "    def speak(self):\n",
        "        print(\"Animal speaks\")\n",
        "\n",
        "class Dog(Animal):\n",
        "    def speak(self):\n",
        "        print(\"Dog barks\")\n",
        "\n",
        "dog = Dog()\n",
        "dog.speak()  # Overrides the speak method from the Animal class\n"
      ],
      "metadata": {
        "colab": {
          "base_uri": "https://localhost:8080/"
        },
        "outputId": "c23d07cf-f0df-4722-9849-20b98dcd9a90",
        "id": "V5iESn6yeYMD"
      },
      "execution_count": null,
      "outputs": [
        {
          "output_type": "stream",
          "name": "stdout",
          "text": [
            "Dog barks\n"
          ]
        }
      ]
    },
    {
      "cell_type": "code",
      "source": [
        "#5\n",
        "class Parent:\n",
        "    def method(self):\n",
        "        print(\"Method in Parent class\")\n",
        "\n",
        "class Child(Parent):\n",
        "    def method(self):\n",
        "        super().method()\n",
        "        print(\"Method in Child class\")\n",
        "\n",
        "child = Child()\n",
        "child.method()\n"
      ],
      "metadata": {
        "colab": {
          "base_uri": "https://localhost:8080/"
        },
        "outputId": "dc7a7428-b302-4f62-bac2-046a46c64021",
        "id": "3XFFErQMeYMD"
      },
      "execution_count": null,
      "outputs": [
        {
          "output_type": "stream",
          "name": "stdout",
          "text": [
            "Method in Parent class\n",
            "Method in Child class\n"
          ]
        }
      ]
    },
    {
      "cell_type": "markdown",
      "source": [
        "6. The super() function is used to call a method or constructor from a parent class.\n",
        "It is often used when you want to extend the functionality of a method or constructor in the parent class.\n",
        "Example is provided in the previous answer (question 5)."
      ],
      "metadata": {
        "id": "Ayy3OjPTeYMD"
      }
    },
    {
      "cell_type": "code",
      "source": [
        "#7\n",
        "class Animal:\n",
        "    def speak(self):\n",
        "        print(\"Animal speaks\")\n",
        "\n",
        "class Dog(Animal):\n",
        "    def speak(self):\n",
        "        print(\"Dog barks\")\n",
        "\n",
        "class Cat(Animal):\n",
        "    def speak(self):\n",
        "        print(\"Cat meows\")\n",
        "\n",
        "dog = Dog()\n",
        "cat = Cat()\n",
        "\n",
        "dog.speak()  # Output: Dog barks\n",
        "cat.speak()  # Output: Cat meows\n"
      ],
      "metadata": {
        "colab": {
          "base_uri": "https://localhost:8080/"
        },
        "outputId": "93083635-dc1e-4b80-f313-672f92693516",
        "id": "ZULDlNX6eYMD"
      },
      "execution_count": null,
      "outputs": [
        {
          "output_type": "stream",
          "name": "stdout",
          "text": [
            "Dog barks\n",
            "Cat meows\n"
          ]
        }
      ]
    },
    {
      "cell_type": "markdown",
      "source": [
        "8. The isinstance() function is used to check if an object is an instance of a particular class or a subclass.\n",
        "It is often used to perform type checking and ensure that an object is of a certain class or a subclass before performing operations on it."
      ],
      "metadata": {
        "id": "3vXtARkWeYME"
      }
    },
    {
      "cell_type": "code",
      "source": [
        "#9\n",
        "class Parent:\n",
        "    pass\n",
        "\n",
        "class Child(Parent):\n",
        "    pass\n",
        "\n",
        "print(issubclass(Child, Parent))  # Output: True\n"
      ],
      "metadata": {
        "colab": {
          "base_uri": "https://localhost:8080/"
        },
        "outputId": "54f4045e-9a5f-4871-dd60-5956f12f5f6b",
        "id": "tPY747j7eYME"
      },
      "execution_count": null,
      "outputs": [
        {
          "output_type": "stream",
          "name": "stdout",
          "text": [
            "True\n"
          ]
        }
      ]
    },
    {
      "cell_type": "markdown",
      "source": [
        "10. Constructors are inherited in child classes by default. When a child class is created, it can call the constructor of its parent class using the super() function, and the parent class's constructor is executed, initializing attributes and performing other setup."
      ],
      "metadata": {
        "id": "2Pxm5S8UeYME"
      }
    },
    {
      "cell_type": "code",
      "source": [
        "#11\n",
        "class Shape:\n",
        "    def area(self):\n",
        "        pass\n",
        "\n",
        "class Circle(Shape):\n",
        "    def __init__(self, radius):\n",
        "        self.radius = radius\n",
        "\n",
        "    def area(self):\n",
        "        return 3.1415 * self.radius ** 2\n",
        "\n",
        "class Rectangle(Shape):\n",
        "    def __init__(self, length, width):\n",
        "        self.length = length\n",
        "        self.width = width\n",
        "\n",
        "    def area(self):\n",
        "        return self.length * self.width\n",
        "\n",
        "circle = Circle(5)\n",
        "rectangle = Rectangle(4, 6)\n",
        "\n",
        "print(\"Circle Area:\", circle.area())  # Output: 78.5375\n",
        "print(\"Rectangle Area:\", rectangle.area())  # Output: 24"
      ],
      "metadata": {
        "colab": {
          "base_uri": "https://localhost:8080/"
        },
        "outputId": "6e176a03-1ef3-4818-f6b2-6f762ac485c9",
        "id": "vw9qyy3_eYME"
      },
      "execution_count": null,
      "outputs": [
        {
          "output_type": "stream",
          "name": "stdout",
          "text": [
            "Circle Area: 78.53750000000001\n",
            "Rectangle Area: 24\n"
          ]
        }
      ]
    },
    {
      "cell_type": "code",
      "source": [
        "#12\n",
        "from abc import ABC, abstractmethod\n",
        "\n",
        "class Shape(ABC):\n",
        "    @abstractmethod\n",
        "    def area(self):\n",
        "        pass\n",
        "\n",
        "class Circle(Shape):\n",
        "    def __init__(self, radius):\n",
        "        self.radius = radius\n",
        "\n",
        "    def area(self):\n",
        "        return 3.1415 * self.radius ** 2\n"
      ],
      "metadata": {
        "id": "Qsuow1DZeYME"
      },
      "execution_count": null,
      "outputs": []
    },
    {
      "cell_type": "markdown",
      "source": [
        "13. You can prevent a child class from modifying attributes or methods by using encapsulation and making them private (prefix with an underscore). This way, child classes will be discouraged from modifying them, but it's not a strict enforcement"
      ],
      "metadata": {
        "id": "GXtbqAuweYMF"
      }
    },
    {
      "cell_type": "code",
      "source": [
        "#14\n",
        "class Employee:\n",
        "    def __init__(self, name, salary):\n",
        "        self.name = name\n",
        "        self.salary = salary\n",
        "\n",
        "class Manager(Employee):\n",
        "    def __init__(self, name, salary, department):\n",
        "        super().__init__(name, salary)\n",
        "        self.department = department\n",
        "\n",
        "manager = Manager(\"Alice\", 60000, \"HR\")\n",
        "print(f\"Name: {manager.name}, Salary: {manager.salary}, Department: {manager.department}\")\n"
      ],
      "metadata": {
        "colab": {
          "base_uri": "https://localhost:8080/"
        },
        "outputId": "6e185644-2f01-4db9-cda0-cc7e44aaa922",
        "id": "QhcDKLb6eYMF"
      },
      "execution_count": null,
      "outputs": [
        {
          "output_type": "stream",
          "name": "stdout",
          "text": [
            "Name: Alice, Salary: 60000, Department: HR\n"
          ]
        }
      ]
    },
    {
      "cell_type": "markdown",
      "source": [
        "15. Method overloading is not supported in Python in the traditional sense (i.e., defining multiple methods with the same name but different parameter lists). Instead, you can use default parameters or variable-length argument lists.\n",
        "Method overriding occurs when a subclass provides a specific implementation for a method already defined in its superclass."
      ],
      "metadata": {
        "id": "Lakz8162eYMF"
      }
    },
    {
      "cell_type": "markdown",
      "source": [
        "16. The __init__() method in Python is used for object initialization. It is called when an object is created from a class.\n",
        "In child classes, it can be used to initialize attributes inherited from the parent class by calling the parent class's __init__() method using super()."
      ],
      "metadata": {
        "id": "WQlWI5fPeYMF"
      }
    },
    {
      "cell_type": "code",
      "source": [
        "#17\n",
        "class Bird:\n",
        "    def fly(self):\n",
        "        pass\n",
        "\n",
        "class Eagle(Bird):\n",
        "    def fly(self):\n",
        "        print(\"Eagle soars high\")\n",
        "\n",
        "class Sparrow(Bird):\n",
        "    def fly(self):\n",
        "        print(\"Sparrow flies gracefully\")\n",
        "\n",
        "eagle = Eagle()\n",
        "sparrow = Sparrow()\n",
        "\n",
        "eagle.fly()  # Output: Eagle soars high\n",
        "sparrow.fly()  # Output: Sparrow flies gracefully"
      ],
      "metadata": {
        "colab": {
          "base_uri": "https://localhost:8080/"
        },
        "outputId": "df6ba1fb-d253-4a52-d2df-e93309c02eea",
        "id": "azla1I-OeYMF"
      },
      "execution_count": null,
      "outputs": [
        {
          "output_type": "stream",
          "name": "stdout",
          "text": [
            "Eagle soars high\n",
            "Sparrow flies gracefully\n"
          ]
        }
      ]
    },
    {
      "cell_type": "markdown",
      "source": [
        "18. The \"diamond problem\" is a complication that arises in multiple inheritance when a subclass inherits from two classes that have a common ancestor.\n",
        "- In Python, this problem is addressed using a method resolution order (MRO) mechanism. Python follows a specific order to resolve method calls when there's ambiguity."
      ],
      "metadata": {
        "id": "tHqLVCy1eYMG"
      }
    },
    {
      "cell_type": "markdown",
      "source": [
        "19. \"is-a\" relationship: Inheritance represents an \"is-a\" relationship, meaning that a subclass is a specialized version of its superclass.\n",
        "Example: A Car is a type of Vehicle, so Car inherits from Vehicle.\n",
        "\n",
        "\"has-a\" relationship: Composition represents a \"has-a\" relationship, where a class contains another class as an attribute.\n",
        "Example: A Car has an Engine, so Car contains an instance of the Engine class as an attribute."
      ],
      "metadata": {
        "id": "yy1JmWB0eYMG"
      }
    },
    {
      "cell_type": "code",
      "source": [
        "#20\n",
        "class Person:\n",
        "    def __init__(self, name, age):\n",
        "        self.name = name\n",
        "        self.age = age\n",
        "\n",
        "    def display_info(self):\n",
        "        return f\"Name: {self.name}, Age: {self.age}\"\n",
        "\n",
        "class Student(Person):\n",
        "    def __init__(self, name, age, student_id):\n",
        "        super().__init__(name, age)\n",
        "        self.student_id = student_id\n",
        "\n",
        "    def display_info(self):\n",
        "        return f\"Student ID: {self.student_id}, {super().display_info()}\"\n",
        "\n",
        "class Professor(Person):\n",
        "    def __init__(self, name, age, employee_id):\n",
        "        super().__init__(name, age)\n",
        "        self.employee_id = employee_id\n",
        "\n",
        "    def display_info(self):\n",
        "        return f\"Employee ID: {self.employee_id}, {super().display_info()}\"\n",
        "\n",
        "student1 = Student(\"Alice\", 20, \"S12345\")\n",
        "professor1 = Professor(\"Dr. Smith\", 40, \"P9876\")\n",
        "\n",
        "print(student1.display_info())\n",
        "print(professor1.display_info())\n"
      ],
      "metadata": {
        "colab": {
          "base_uri": "https://localhost:8080/"
        },
        "outputId": "ac50bf26-de09-4274-bf86-0afc747f9b48",
        "id": "uaPznvVXeYMG"
      },
      "execution_count": null,
      "outputs": [
        {
          "output_type": "stream",
          "name": "stdout",
          "text": [
            "Student ID: S12345, Name: Alice, Age: 20\n",
            "Employee ID: P9876, Name: Dr. Smith, Age: 40\n"
          ]
        }
      ]
    },
    {
      "cell_type": "code",
      "source": [],
      "metadata": {
        "id": "rt2gNVj-eYMG"
      },
      "execution_count": null,
      "outputs": []
    },
    {
      "cell_type": "markdown",
      "source": [
        "# Composition"
      ],
      "metadata": {
        "id": "vQfZlh3Rei4b"
      }
    },
    {
      "cell_type": "markdown",
      "source": [
        "1. Constructor: A constructor in Python is a special method that gets called when an object of a class is created. It has the same name as the class and is defined using the __init__ method.\n",
        "Purpose: The primary purpose of a constructor is to initialize the attributes of an object or perform any\n",
        "necessary setup when an object is created.\n",
        "Usage: You define a constructor in a class to set initial values for attributes and ensure that specific actions are taken when objects are instantiated."
      ],
      "metadata": {
        "id": "zyU2eop-ei4i"
      }
    },
    {
      "cell_type": "markdown",
      "source": [
        "2. Parameterless Constructor: It takes no arguments and initializes the object with default values. It's often created when you don't define a constructor explicitly.\n",
        "Parameterized Constructor: It accepts one or more parameters and allows you to initialize the object with specific values when it's created. You define the constructor with the __init__ method and specify parameters as needed."
      ],
      "metadata": {
        "id": "FEK_mvgTei4i"
      }
    },
    {
      "cell_type": "code",
      "source": [
        "#3\n",
        "class MyClass:\n",
        "    def __init__(self, param1, param2):\n",
        "        self.attribute1 = param1\n",
        "        self.attribute2 = param2\n"
      ],
      "metadata": {
        "id": "D4TCgyQcei4j"
      },
      "execution_count": null,
      "outputs": []
    },
    {
      "cell_type": "markdown",
      "source": [
        "4. The __init__ method is a special method in Python classes.\n",
        "Its primary role is to serve as the constructor for a class.\n",
        "It gets automatically called when an object is created from the class, and it's responsible for initializing object attributes."
      ],
      "metadata": {
        "id": "h382IANDei4j"
      }
    },
    {
      "cell_type": "code",
      "source": [
        "#5\n",
        "class Person:\n",
        "    def __init__(self, name, age):\n",
        "        self.name = name\n",
        "        self.age = age\n",
        "\n",
        "# Creating an object of the Person class\n",
        "person1 = Person(\"Alice\", 30)\n"
      ],
      "metadata": {
        "id": "gEd5DpMHei4j"
      },
      "execution_count": null,
      "outputs": []
    },
    {
      "cell_type": "code",
      "source": [
        "#6\n",
        "person2 = Person.__new__(Person)\n",
        "person2.__init__(\"Bob\", 25)\n"
      ],
      "metadata": {
        "id": "N0XOdatPei4j"
      },
      "execution_count": null,
      "outputs": []
    },
    {
      "cell_type": "markdown",
      "source": [
        "7. The self parameter refers to the instance of the class and allows you to access and modify instance-specific attributes.\n",
        "It is a convention in Python to use self as the first parameter in methods, including constructors."
      ],
      "metadata": {
        "id": "Q-Vv8shHei4j"
      }
    },
    {
      "cell_type": "code",
      "source": [
        "class Person:\n",
        "    def __init__(self, name, age):\n",
        "        self.name = name\n",
        "        self.age = age\n",
        "\n",
        "    def introduce(self):\n",
        "        return f\"My name is {self.name}, and I am {self.age} years old.\"\n",
        "\n",
        "person1 = Person(\"Alice\", 30)\n",
        "print(person1.introduce())\n"
      ],
      "metadata": {
        "colab": {
          "base_uri": "https://localhost:8080/"
        },
        "outputId": "fc4e8ea1-0388-4b74-c2e1-b09dab9b05b6",
        "id": "rfeUptqeei4j"
      },
      "execution_count": null,
      "outputs": [
        {
          "output_type": "stream",
          "name": "stdout",
          "text": [
            "My name is Alice, and I am 30 years old.\n"
          ]
        }
      ]
    },
    {
      "cell_type": "markdown",
      "source": [
        "8. Python does not have explicit default constructors. If you don't define a constructor in your class, Python provides a default constructor that initializes the object with no attributes"
      ],
      "metadata": {
        "id": "NdtTIk_Fei4k"
      }
    },
    {
      "cell_type": "code",
      "source": [
        "#9\n",
        "class Rectangle:\n",
        "    def __init__(self, width, height):\n",
        "        self.width = width\n",
        "        self.height = height\n",
        "\n",
        "    def calculate_area(self):\n",
        "        return self.width * self.height\n",
        "\n",
        "rect = Rectangle(5, 3)\n",
        "print(\"Area:\", rect.calculate_area())\n"
      ],
      "metadata": {
        "colab": {
          "base_uri": "https://localhost:8080/"
        },
        "outputId": "e8f6c661-88a2-4400-da6a-6dd78f47830c",
        "id": "7m-z5UoRei4k"
      },
      "execution_count": null,
      "outputs": [
        {
          "output_type": "stream",
          "name": "stdout",
          "text": [
            "Area: 15\n"
          ]
        }
      ]
    },
    {
      "cell_type": "code",
      "source": [
        "#10\n",
        "class MyClass:\n",
        "    def __init__(self, param1=None, param2=None):\n",
        "        if param1 is None:\n",
        "            self.attribute1 = \"default_value1\"\n",
        "        else:\n",
        "            self.attribute1 = param1\n",
        "\n",
        "        if param2 is None:\n",
        "            self.attribute2 = \"default_value2\"\n",
        "        else:\n",
        "            self.attribute2 = param2\n"
      ],
      "metadata": {
        "id": "BtkvOtn0ei4k"
      },
      "execution_count": null,
      "outputs": []
    },
    {
      "cell_type": "markdown",
      "source": [
        "11. Method overloading refers to the ability to define multiple methods in a class with the same name but different parameter lists.\n",
        "In Python, method overloading is not supported in the traditional sense as it is in some other languages. Instead, Python allows you to define a single method with default parameter values or use variable-length argument lists (e.g., *args and **kwargs) to achieve similar functionality.\n",
        "Method overloading is related to constructors in the sense that you might want to have multiple constructors with different sets of parameters to create objects in different ways. In Python, this can be achieved using default parameter values in the constructor."
      ],
      "metadata": {
        "id": "da1fjjy8ei4k"
      }
    },
    {
      "cell_type": "code",
      "source": [
        "#12\n",
        "class Parent:\n",
        "    def __init__(self, value):\n",
        "        self.value = value\n",
        "\n",
        "class Child(Parent):\n",
        "    def __init__(self, value, child_value):\n",
        "        super().__init__(value)  # Call the constructor of the parent class\n",
        "        self.child_value = child_value\n",
        "\n",
        "child_instance = Child(\"Parent value\", \"Child value\")\n",
        "print(child_instance.value)  # Output: Parent value\n",
        "print(child_instance.child_value)  # Output: Child value\n"
      ],
      "metadata": {
        "colab": {
          "base_uri": "https://localhost:8080/"
        },
        "outputId": "74e27b07-0cc1-4d58-db04-fd27f59e9cd4",
        "id": "TNqIdj5Kei4k"
      },
      "execution_count": null,
      "outputs": [
        {
          "output_type": "stream",
          "name": "stdout",
          "text": [
            "Parent value\n",
            "Child value\n"
          ]
        }
      ]
    },
    {
      "cell_type": "code",
      "source": [
        "#13\n",
        "class Book:\n",
        "    def __init__(self, title, author, published_year):\n",
        "        self.title = title\n",
        "        self.author = author\n",
        "        self.published_year = published_year\n",
        "\n",
        "    def display_details(self):\n",
        "        return f\"Title: {self.title}, Author: {self.author}, Published Year: {self.published_year}\"\n",
        "\n",
        "book_instance = Book(\"Python Programming\", \"John Doe\", 2023)\n",
        "print(book_instance.display_details())\n"
      ],
      "metadata": {
        "colab": {
          "base_uri": "https://localhost:8080/"
        },
        "outputId": "656f71e8-843b-4f88-dda6-12c9ad380ff8",
        "id": "yo4WkFX7ei4k"
      },
      "execution_count": null,
      "outputs": [
        {
          "output_type": "stream",
          "name": "stdout",
          "text": [
            "Title: Python Programming, Author: John Doe, Published Year: 2023\n"
          ]
        }
      ]
    },
    {
      "cell_type": "markdown",
      "source": [
        "14. Constructors are special methods used for initializing objects when they are created. Regular methods perform specific tasks or actions on objects.\n",
        "Constructors have the same name as the class and are automatically called when an object is created. Regular methods are called explicitly.\n",
        "Constructors are typically responsible for initializing object attributes, while regular methods may manipulate object state or provide functionality"
      ],
      "metadata": {
        "id": "KrBAXOC-ei4l"
      }
    },
    {
      "cell_type": "markdown",
      "source": [
        "15. The self parameter refers to the instance of the class that is being created or operated upon.\n",
        "In constructors, self is used to access and modify instance-specific attributes. It allows you to initialize object attributes based on the values passed as parameters to the constructor."
      ],
      "metadata": {
        "id": "DrsDKpXQei4l"
      }
    },
    {
      "cell_type": "code",
      "source": [
        "#16\n",
        "class Singleton:\n",
        "    _instance = None\n",
        "\n",
        "    def __new__(cls):\n",
        "        if cls._instance is None:\n",
        "            cls._instance = super(Singleton, cls).__new__(cls)\n",
        "        return cls._instance\n",
        "\n",
        "first_instance = Singleton()\n",
        "second_instance = Singleton()\n",
        "\n",
        "print(first_instance is second_instance)  # Output: True\n"
      ],
      "metadata": {
        "colab": {
          "base_uri": "https://localhost:8080/"
        },
        "outputId": "75013b6d-f1a9-4274-83a5-dcb267377942",
        "id": "4isCg33Iei4l"
      },
      "execution_count": null,
      "outputs": [
        {
          "output_type": "stream",
          "name": "stdout",
          "text": [
            "True\n"
          ]
        }
      ]
    },
    {
      "cell_type": "code",
      "source": [
        "#17\n",
        "class Student:\n",
        "    def __init__(self, subjects):\n",
        "        self.subjects = subjects\n",
        "\n",
        "# Creating a Student object\n",
        "student1 = Student([\"Math\", \"Science\", \"History\"])\n",
        "print(\"Subjects:\", student1.subjects)\n"
      ],
      "metadata": {
        "colab": {
          "base_uri": "https://localhost:8080/"
        },
        "outputId": "751d617d-d4e0-4d73-d538-182c79bc546a",
        "id": "rz2N-fGBei4l"
      },
      "execution_count": null,
      "outputs": [
        {
          "output_type": "stream",
          "name": "stdout",
          "text": [
            "Subjects: ['Math', 'Science', 'History']\n"
          ]
        }
      ]
    },
    {
      "cell_type": "markdown",
      "source": [
        "18. The __del__ method is used to define the finalization of an object, and it gets called when an object is about to be destroyed.\n",
        "While constructors (e.g., __init__) are used for object initialization, the __del__ method is used for cleanup or finalization before the object is deleted. It can be used to release resources or perform any necessary cleanup tasks"
      ],
      "metadata": {
        "id": "4syc0fZKei4l"
      }
    },
    {
      "cell_type": "code",
      "source": [
        "#19\n",
        "class Vehicle:\n",
        "    def __init__(self, make, model):\n",
        "        self.make = make\n",
        "        self.model = model\n",
        "\n",
        "class Car(Vehicle):\n",
        "    def __init__(self, make, model, color):\n",
        "        super().__init__(make, model)  # Call the constructor of the parent class\n",
        "        self.color = color\n",
        "\n",
        "car1 = Car(\"Toyota\", \"Camry\", \"Blue\")\n",
        "print(f\"Make: {car1.make}, Model: {car1.model}, Color: {car1.color}\")\n"
      ],
      "metadata": {
        "colab": {
          "base_uri": "https://localhost:8080/"
        },
        "outputId": "88b7b355-5826-4697-fa34-a8723ad7c649",
        "id": "7-rGc6NVei4m"
      },
      "execution_count": null,
      "outputs": [
        {
          "output_type": "stream",
          "name": "stdout",
          "text": [
            "Make: Toyota, Model: Camry, Color: Blue\n"
          ]
        }
      ]
    },
    {
      "cell_type": "code",
      "source": [
        "#20\n",
        "class Car:\n",
        "    def __init__(self, make, model):\n",
        "        self.make = make\n",
        "        self.model = model\n",
        "\n",
        "    def display_info(self):\n",
        "        return f\"Make: {self.make}, Model: {self.model}\"\n",
        "\n",
        "car1 = Car(\"Toyota\", \"Camry\")\n",
        "print(car1.display_info())\n"
      ],
      "metadata": {
        "colab": {
          "base_uri": "https://localhost:8080/"
        },
        "outputId": "6918466b-b69b-415a-f91e-c2ca499d0608",
        "id": "3BVc2_8yei4m"
      },
      "execution_count": null,
      "outputs": [
        {
          "output_type": "stream",
          "name": "stdout",
          "text": [
            "Make: Toyota, Model: Camry\n"
          ]
        }
      ]
    },
    {
      "cell_type": "code",
      "execution_count": null,
      "metadata": {
        "id": "Q0EG15k7ei4m"
      },
      "outputs": [],
      "source": []
    }
  ]
}