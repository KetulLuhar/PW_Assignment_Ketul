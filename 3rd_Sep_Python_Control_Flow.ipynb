{
  "nbformat": 4,
  "nbformat_minor": 0,
  "metadata": {
    "colab": {
      "provenance": []
    },
    "kernelspec": {
      "name": "python3",
      "display_name": "Python 3"
    },
    "language_info": {
      "name": "python"
    }
  },
  "cells": [
    {
      "cell_type": "markdown",
      "source": [
        "#Basic If-Else Statements:"
      ],
      "metadata": {
        "id": "r_CgdvAk6EXQ"
      }
    },
    {
      "cell_type": "code",
      "source": [
        "# Solution 1: Check if a Given Number is Positive or Negative\n",
        "number = float(input(\"Enter a number:\"))\n",
        "\n",
        "if number > 0:\n",
        "    print(\"The number is positive.\")\n",
        "elif number < 0:\n",
        "    print(\"The number is negative.\")\n",
        "else:\n",
        "    print(\"The number is zero.\")\n"
      ],
      "metadata": {
        "colab": {
          "base_uri": "https://localhost:8080/"
        },
        "id": "Zvm6x_i56FP3",
        "outputId": "65fb5d6e-4f23-4820-c46d-ea25186cbf9a"
      },
      "execution_count": 1,
      "outputs": [
        {
          "output_type": "stream",
          "name": "stdout",
          "text": [
            "Enter a number:16112000\n",
            "The number is positive.\n"
          ]
        }
      ]
    },
    {
      "cell_type": "code",
      "source": [
        "# Solution 2: Determine Eligibility to Vote Based on Age\n",
        "age = int(input(\"Enter your age:\"))\n",
        "\n",
        "if age >= 18:\n",
        "    print(\"You are eligible to vote.\")\n",
        "else:\n",
        "    print(\"You are not eligible to vote.\")\n"
      ],
      "metadata": {
        "colab": {
          "base_uri": "https://localhost:8080/"
        },
        "id": "FNsCA2s36V37",
        "outputId": "03b8fc01-f9fc-41d2-fd7f-cb6dbcb5dabd"
      },
      "execution_count": 2,
      "outputs": [
        {
          "output_type": "stream",
          "name": "stdout",
          "text": [
            "Enter your age:22\n",
            "You are eligible to vote.\n"
          ]
        }
      ]
    },
    {
      "cell_type": "code",
      "source": [
        "# Solution 3: Find the Maximum of Two Numbers\n",
        "num1 = float(input(\"Enter the first number:\"))\n",
        "num2 = float(input(\"Enter the second number:\"))\n",
        "\n",
        "if num1 > num2:\n",
        "    print(\"The maximum number is\", num1)\n",
        "else:\n",
        "    print(\"The maximum number is\", num2)\n"
      ],
      "metadata": {
        "colab": {
          "base_uri": "https://localhost:8080/"
        },
        "id": "cctdHiT76asw",
        "outputId": "8e0cfb6b-bc20-49ef-8823-c2263871b3d1"
      },
      "execution_count": 3,
      "outputs": [
        {
          "output_type": "stream",
          "name": "stdout",
          "text": [
            "Enter the first number:23\n",
            "Enter the second number:43\n",
            "The maximum number is 43.0\n"
          ]
        }
      ]
    },
    {
      "cell_type": "code",
      "source": [
        "# Solution 4: Classify a Year as Leap Year or Not\n",
        "year = int(input(\"Enter a year:\"))\n",
        "\n",
        "if (year % 4 == 0 and year % 100 != 0) or (year % 400 == 0):\n",
        "    print(year, \"is a leap year.\")\n",
        "else:\n",
        "    print(year, \"is not a leap year.\")\n"
      ],
      "metadata": {
        "colab": {
          "base_uri": "https://localhost:8080/"
        },
        "id": "hcPlappT6dQN",
        "outputId": "c43a84db-056c-4ce7-89f4-ff2d348b5821"
      },
      "execution_count": 4,
      "outputs": [
        {
          "output_type": "stream",
          "name": "stdout",
          "text": [
            "Enter a year:2000\n",
            "2000 is a leap year.\n"
          ]
        }
      ]
    },
    {
      "cell_type": "code",
      "source": [
        "# Solution 5: Check if a Character is a Vowel or Consonant\n",
        "char = input(\"Enter a character:\").lower()\n",
        "\n",
        "if char in 'aeiou':\n",
        "    print(char, \"is a vowel.\")\n",
        "else:\n",
        "    print(char, \"is a consonant.\")\n"
      ],
      "metadata": {
        "colab": {
          "base_uri": "https://localhost:8080/"
        },
        "id": "yGTDslVD6g-k",
        "outputId": "2ccda017-a4e6-48dd-b1dd-a6c79682a1b8"
      },
      "execution_count": 5,
      "outputs": [
        {
          "output_type": "stream",
          "name": "stdout",
          "text": [
            "Enter a character:Ketul\n",
            "ketul is a consonant.\n"
          ]
        }
      ]
    },
    {
      "cell_type": "code",
      "source": [
        "# Solution 6: Determine if a Number is Even or Odd\n",
        "number = int(input(\"Enter a number:\"))\n",
        "\n",
        "if number % 2 == 0:\n",
        "    print(number, \"is even.\")\n",
        "else:\n",
        "    print(number, \"is odd.\")\n"
      ],
      "metadata": {
        "colab": {
          "base_uri": "https://localhost:8080/"
        },
        "id": "r4icxl-_6kKI",
        "outputId": "08bae0f1-abac-459c-b535-bae6867dc95a"
      },
      "execution_count": 6,
      "outputs": [
        {
          "output_type": "stream",
          "name": "stdout",
          "text": [
            "Enter a number:16\n",
            "16 is even.\n"
          ]
        }
      ]
    },
    {
      "cell_type": "code",
      "source": [
        "# Solution 7: Calculate the Absolute Value of a Number\n",
        "number = float(input(\"Enter a number:\"))\n",
        "\n",
        "if number < 0:\n",
        "    absolute_value = -number\n",
        "else:\n",
        "    absolute_value = number\n",
        "\n",
        "print(\"The absolute value is\", absolute_value)\n"
      ],
      "metadata": {
        "colab": {
          "base_uri": "https://localhost:8080/"
        },
        "id": "B3V9hCV96q0B",
        "outputId": "c199558f-6f1e-4b30-b39a-27c754624f01"
      },
      "execution_count": 7,
      "outputs": [
        {
          "output_type": "stream",
          "name": "stdout",
          "text": [
            "Enter a number:16\n",
            "The absolute value is 16.0\n"
          ]
        }
      ]
    },
    {
      "cell_type": "code",
      "source": [
        "# Solution 8: Determine the Largest of Three Numbers\n",
        "num1 = float(input(\"Enter the first number:\"))\n",
        "num2 = float(input(\"Enter the second number:\"))\n",
        "num3 = float(input(\"Enter the third number:\"))\n",
        "\n",
        "if num1 >= num2 and num1 >= num3:\n",
        "    print(\"The largest number is\", num1)\n",
        "elif num2 >= num1 and num2 >= num3:\n",
        "    print(\"The largest number is\", num2)\n",
        "else:\n",
        "    print(\"The largest number is\", num3)\n"
      ],
      "metadata": {
        "colab": {
          "base_uri": "https://localhost:8080/"
        },
        "id": "Sl-xGJz86t5G",
        "outputId": "62e943cc-5ab8-46e1-cdbe-15c630f6a046"
      },
      "execution_count": 8,
      "outputs": [
        {
          "output_type": "stream",
          "name": "stdout",
          "text": [
            "Enter the first number:16\n",
            "Enter the second number:11\n",
            "Enter the third number:2000\n",
            "The largest number is 2000.0\n"
          ]
        }
      ]
    },
    {
      "cell_type": "code",
      "source": [
        "# Solution 9: Check if a String is a Palindrome\n",
        "string = input(\"Enter a string:\")\n",
        "string = string.lower()  # Convert to lowercase for case-insensitive comparison\n",
        "\n",
        "if string == string[::-1]:\n",
        "    print(\"The string is a palindrome.\")\n",
        "else:\n",
        "    print(\"The string is not a palindrome.\")\n"
      ],
      "metadata": {
        "colab": {
          "base_uri": "https://localhost:8080/"
        },
        "id": "rXjkCtJZ6w1W",
        "outputId": "96ef1748-d66b-4722-97a1-6d45b0fda179"
      },
      "execution_count": 9,
      "outputs": [
        {
          "output_type": "stream",
          "name": "stdout",
          "text": [
            "Enter a string:My anem Is Ketul\n",
            "The string is not a palindrome.\n"
          ]
        }
      ]
    },
    {
      "cell_type": "code",
      "source": [
        "# Solution 10: Calculate the Grade Based on a Student's Score\n",
        "score = float(input(\"Enter the student's score:\"))\n",
        "\n",
        "if score >= 90:\n",
        "    grade = 'A'\n",
        "elif score >= 80:\n",
        "    grade = 'B'\n",
        "elif score >= 70:\n",
        "    grade = 'C'\n",
        "elif score >= 60:\n",
        "    grade = 'D'\n",
        "else:\n",
        "    grade = 'F'\n",
        "\n",
        "print(\"The student's grade is\", grade)\n"
      ],
      "metadata": {
        "colab": {
          "base_uri": "https://localhost:8080/"
        },
        "id": "MrwXJxJa60cV",
        "outputId": "d51a9e02-a1e0-40c1-c28e-e179d1337ba0"
      },
      "execution_count": 10,
      "outputs": [
        {
          "output_type": "stream",
          "name": "stdout",
          "text": [
            "Enter the student's score:95\n",
            "The student's grade is A\n"
          ]
        }
      ]
    },
    {
      "cell_type": "markdown",
      "source": [
        "#Nested If-Else Statements:"
      ],
      "metadata": {
        "id": "bof6gTLi693K"
      }
    },
    {
      "cell_type": "code",
      "source": [
        "# Solution 11: Find the Largest Among Three Numbers using Nested if-else Statements\n",
        "num1 = float(input(\"Enter the first number:\"))\n",
        "num2 = float(input(\"Enter the second number:\"))\n",
        "num3 = float(input(\"Enter the third number:\"))\n",
        "\n",
        "if num1 >= num2:\n",
        "    if num1 >= num3:\n",
        "        largest = num1\n",
        "    else:\n",
        "        largest = num3\n",
        "else:\n",
        "    if num2 >= num3:\n",
        "        largest = num2\n",
        "    else:\n",
        "        largest = num3\n",
        "\n",
        "print(\"The largest number is\", largest)\n"
      ],
      "metadata": {
        "colab": {
          "base_uri": "https://localhost:8080/"
        },
        "id": "xgioaWqc6_mA",
        "outputId": "5417f726-7e5a-4082-9d5d-892e5d2c5361"
      },
      "execution_count": 11,
      "outputs": [
        {
          "output_type": "stream",
          "name": "stdout",
          "text": [
            "Enter the first number:16\n",
            "Enter the second number:11\n",
            "Enter the third number:2000\n",
            "The largest number is 2000.0\n"
          ]
        }
      ]
    },
    {
      "cell_type": "code",
      "source": [
        "# Solution 12: Determine the Type of Triangle (Equilateral, Isosceles, or Scalene)\n",
        "side1 = float(input(\"Enter the length of side 1:\"))\n",
        "side2 = float(input(\"Enter the length of side 2:\"))\n",
        "side3 = float(input(\"Enter the length of side 3:\"))\n",
        "\n",
        "if side1 == side2 == side3:\n",
        "    triangle_type = \"Equilateral\"\n",
        "elif side1 == side2 or side1 == side3 or side2 == side3:\n",
        "    triangle_type = \"Isosceles\"\n",
        "else:\n",
        "    triangle_type = \"Scalene\"\n",
        "\n",
        "print(\"The triangle is\", triangle_type)\n"
      ],
      "metadata": {
        "colab": {
          "base_uri": "https://localhost:8080/"
        },
        "id": "x6wMiABf7BS3",
        "outputId": "78bb509d-8391-4276-86a9-6a0cc4a45d41"
      },
      "execution_count": 12,
      "outputs": [
        {
          "output_type": "stream",
          "name": "stdout",
          "text": [
            "Enter the length of side 1:16\n",
            "Enter the length of side 2:11\n",
            "Enter the length of side 3:16\n",
            "The triangle is Isosceles\n"
          ]
        }
      ]
    },
    {
      "cell_type": "code",
      "source": [
        "# Solution 13: Check if a Year is a Leap Year and a Century Year\n",
        "year = int(input(\"Enter a year:\"))\n",
        "\n",
        "if (year % 4 == 0 and year % 100 != 0) or (year % 400 == 0):\n",
        "    leap_year = True\n",
        "else:\n",
        "    leap_year = False\n",
        "\n",
        "if year % 100 == 0:\n",
        "    century_year = True\n",
        "else:\n",
        "    century_year = False\n",
        "\n",
        "print(year, \"is a leap year:\", leap_year)\n",
        "print(year, \"is a century year:\", century_year)\n"
      ],
      "metadata": {
        "colab": {
          "base_uri": "https://localhost:8080/"
        },
        "id": "n3Q0XyC97FmK",
        "outputId": "067f3e5a-a717-465d-b8a2-d04bfe149303"
      },
      "execution_count": 13,
      "outputs": [
        {
          "output_type": "stream",
          "name": "stdout",
          "text": [
            "Enter a year:2000\n",
            "2000 is a leap year: True\n",
            "2000 is a century year: True\n"
          ]
        }
      ]
    },
    {
      "cell_type": "code",
      "source": [
        "# Solution 14: Determine if a Number is Positive, Negative, or Zero\n",
        "number = float(input(\"Enter a number:\"))\n",
        "\n",
        "if number > 0:\n",
        "    result = \"positive\"\n",
        "elif number < 0:\n",
        "    result = \"negative\"\n",
        "else:\n",
        "    result = \"zero\"\n",
        "\n",
        "print(\"The number is\", result)\n"
      ],
      "metadata": {
        "colab": {
          "base_uri": "https://localhost:8080/"
        },
        "id": "8YAy7IXQ7M2Z",
        "outputId": "259fc0d5-0b19-4c76-b4df-f88062f3e173"
      },
      "execution_count": 14,
      "outputs": [
        {
          "output_type": "stream",
          "name": "stdout",
          "text": [
            "Enter a number:16\n",
            "The number is positive\n"
          ]
        }
      ]
    },
    {
      "cell_type": "code",
      "source": [
        "# Solution 15: Check if a Person is a Teenager (Between 13 and 19 Years Old)\n",
        "age = int(input(\"Enter your age:\"))\n",
        "\n",
        "if age >= 13 and age <= 19:\n",
        "    is_teenager = True\n",
        "else:\n",
        "    is_teenager = False\n",
        "\n",
        "print(\"You are a teenager:\", is_teenager)\n"
      ],
      "metadata": {
        "colab": {
          "base_uri": "https://localhost:8080/"
        },
        "id": "nn8hTlQf7QOV",
        "outputId": "86d27ccd-383f-4aa2-92bd-0614977d924e"
      },
      "execution_count": 20,
      "outputs": [
        {
          "output_type": "stream",
          "name": "stdout",
          "text": [
            "Enter your age:22\n",
            "You are a teenager: False\n"
          ]
        }
      ]
    },
    {
      "cell_type": "code",
      "source": [
        "# Solution 16: Determine the Type of Angle (Acute, Obtuse, or Right)\n",
        "angle = float(input(\"Enter the angle measure in degrees:\"))\n",
        "\n",
        "if angle < 90:\n",
        "    angle_type = \"Acute\"\n",
        "elif angle == 90:\n",
        "    angle_type = \"Right\"\n",
        "else:\n",
        "    angle_type = \"Obtuse\"\n",
        "\n",
        "print(\"The angle is\", angle_type)\n"
      ],
      "metadata": {
        "colab": {
          "base_uri": "https://localhost:8080/"
        },
        "id": "liTx8BKe7S0T",
        "outputId": "b0ff5614-7687-4b18-8d6d-fc36921e8840"
      },
      "execution_count": 21,
      "outputs": [
        {
          "output_type": "stream",
          "name": "stdout",
          "text": [
            "Enter the angle measure in degrees:65\n",
            "The angle is Acute\n"
          ]
        }
      ]
    },
    {
      "cell_type": "code",
      "source": [
        "# Solution 17: Calculate the Roots of a Quadratic Equation\n",
        "import math\n",
        "\n",
        "a = float(input(\"Enter the coefficient a:\"))\n",
        "b = float(input(\"Enter the coefficient b:\"))\n",
        "c = float(input(\"Enter the coefficient c:\"))\n",
        "\n",
        "discriminant = b**2 - 4*a*c\n",
        "\n",
        "if discriminant > 0:\n",
        "    root1 = (-b + math.sqrt(discriminant)) / (2*a)\n",
        "    root2 = (-b - math.sqrt(discriminant)) / (2*a)\n",
        "    root_type = \"Real and Distinct\"\n",
        "elif discriminant == 0:\n",
        "    root1 = root2 = -b / (2*a)\n",
        "    root_type = \"Real and Equal\"\n",
        "else:\n",
        "    real_part = -b / (2*a)\n",
        "    imaginary_part = math.sqrt(-discriminant) / (2*a)\n",
        "    root1 = complex(real_part, imaginary_part)\n",
        "    root2 = complex(real_part, -imaginary_part)\n",
        "    root_type = \"Complex\"\n",
        "\n",
        "print(\"Root 1:\", root1)\n",
        "print(\"Root 2:\", root2)\n",
        "print(\"Root Type:\", root_type)\n"
      ],
      "metadata": {
        "colab": {
          "base_uri": "https://localhost:8080/"
        },
        "id": "R_6Yy8K57lZ_",
        "outputId": "48d66838-eaee-429f-e936-a0a214e2fda4"
      },
      "execution_count": 22,
      "outputs": [
        {
          "output_type": "stream",
          "name": "stdout",
          "text": [
            "Enter the coefficient a:16\n",
            "Enter the coefficient b:11\n",
            "Enter the coefficient c:16\n",
            "Root 1: (-0.34375+0.939061200082295j)\n",
            "Root 2: (-0.34375-0.939061200082295j)\n",
            "Root Type: Complex\n"
          ]
        }
      ]
    },
    {
      "cell_type": "code",
      "source": [
        "# Solution 18: Determine the Day of the Week based on a User-provided Number\n",
        "day_number = int(input(\"Enter a number (1 for Monday, 2 for Tuesday, etc.):\"))\n",
        "\n",
        "if day_number == 1:\n",
        "    day_name = \"Monday\"\n",
        "elif day_number == 2:\n",
        "    day_name = \"Tuesday\"\n",
        "elif day_number == 3:\n",
        "    day_name = \"Wednesday\"\n",
        "elif day_number == 4:\n",
        "    day_name = \"Thursday\"\n",
        "elif day_number == 5:\n",
        "    day_name = \"Friday\"\n",
        "elif day_number == 6:\n",
        "    day_name = \"Saturday\"\n",
        "elif day_number == 7:\n",
        "    day_name = \"Sunday\"\n",
        "else:\n",
        "    day_name = \"Invalid\"\n",
        "\n",
        "print(\"The day is\", day_name)\n"
      ],
      "metadata": {
        "colab": {
          "base_uri": "https://localhost:8080/"
        },
        "id": "7OkUrdv_7qBe",
        "outputId": "0a3b9fa0-1f04-4749-8692-d4da27108439"
      },
      "execution_count": 23,
      "outputs": [
        {
          "output_type": "stream",
          "name": "stdout",
          "text": [
            "Enter a number (1 for Monday, 2 for Tuesday, etc.):5\n",
            "The day is Friday\n"
          ]
        }
      ]
    },
    {
      "cell_type": "code",
      "source": [
        "# Solution 19: Check if a Year is a Leap Year and Divisible by 400\n",
        "year = int(input(\"Enter a year:\"))\n",
        "\n",
        "if (year % 4 == 0 and year % 100 != 0) or (year % 400 == 0):\n",
        "    leap_year = True\n",
        "else:\n",
        "    leap_year = False\n",
        "\n",
        "print(year, \"is a leap year:\", leap_year)\n"
      ],
      "metadata": {
        "colab": {
          "base_uri": "https://localhost:8080/"
        },
        "id": "xUZ1UjWQ7wCy",
        "outputId": "90d6b772-ea5f-4d3d-f18f-76e9a35338c2"
      },
      "execution_count": 24,
      "outputs": [
        {
          "output_type": "stream",
          "name": "stdout",
          "text": [
            "Enter a year:2000\n",
            "2000 is a leap year: True\n"
          ]
        }
      ]
    },
    {
      "cell_type": "code",
      "source": [
        "# Solution 20: Check if a Number is Prime\n",
        "number = int(input(\"Enter a number:\"))\n",
        "\n",
        "if number > 1:\n",
        "    for i in range(2, int(number**0.5) + 1):\n",
        "        if (number % i) == 0:\n",
        "            is_prime = False\n",
        "            break\n",
        "    else:\n",
        "        is_prime = True\n",
        "else:\n",
        "    is_prime = False\n",
        "\n",
        "if is_prime:\n",
        "    print(number, \"is a prime number.\")\n",
        "else:\n",
        "    print(number, \"is not a prime number.\")\n"
      ],
      "metadata": {
        "colab": {
          "base_uri": "https://localhost:8080/"
        },
        "id": "hWr4h1Td71V4",
        "outputId": "ff1567b1-ce49-45a6-afc0-2a190c5b365d"
      },
      "execution_count": 25,
      "outputs": [
        {
          "output_type": "stream",
          "name": "stdout",
          "text": [
            "Enter a number:16\n",
            "16 is not a prime number.\n"
          ]
        }
      ]
    },
    {
      "cell_type": "markdown",
      "source": [
        "#Elif Statements:"
      ],
      "metadata": {
        "id": "FEKLurFu76M3"
      }
    },
    {
      "cell_type": "code",
      "source": [
        "# Solution 21: Assign Grades Based on Score Ranges\n",
        "score = float(input(\"Enter the student's score:\"))\n",
        "\n",
        "if score >= 90:\n",
        "    grade = 'A'\n",
        "elif score >= 80:\n",
        "    grade = 'B'\n",
        "elif score >= 70:\n",
        "    grade = 'C'\n",
        "elif score >= 60:\n",
        "    grade = 'D'\n",
        "else:\n",
        "    grade = 'F'\n",
        "\n",
        "print(\"The student's grade is\", grade)\n"
      ],
      "metadata": {
        "colab": {
          "base_uri": "https://localhost:8080/"
        },
        "id": "X4NkBosu777l",
        "outputId": "fdd75045-6a1a-44de-eca0-9999ac5e5ab1"
      },
      "execution_count": 26,
      "outputs": [
        {
          "output_type": "stream",
          "name": "stdout",
          "text": [
            "Enter the student's score:75\n",
            "The student's grade is C\n"
          ]
        }
      ]
    },
    {
      "cell_type": "code",
      "source": [
        "# Solution 22: Determine the Type of Triangle based on Angles\n",
        "angle1 = float(input(\"Enter the measure of angle 1:\"))\n",
        "angle2 = float(input(\"Enter the measure of angle 2:\"))\n",
        "angle3 = float(input(\"Enter the measure of angle 3:\"))\n",
        "\n",
        "if angle1 == 90 or angle2 == 90 or angle3 == 90:\n",
        "    triangle_type = \"Right Triangle\"\n",
        "elif angle1 > 90 or angle2 > 90 or angle3 > 90:\n",
        "    triangle_type = \"Obtuse Triangle\"\n",
        "else:\n",
        "    triangle_type = \"Acute Triangle\"\n",
        "\n",
        "print(\"The triangle is a\", triangle_type)\n"
      ],
      "metadata": {
        "colab": {
          "base_uri": "https://localhost:8080/"
        },
        "id": "CHuuceDZ8erB",
        "outputId": "c8acf89d-1c12-4d15-81c6-2d0f09a22cd8"
      },
      "execution_count": 27,
      "outputs": [
        {
          "output_type": "stream",
          "name": "stdout",
          "text": [
            "Enter the measure of angle 1:12\n",
            "Enter the measure of angle 2:14\n",
            "Enter the measure of angle 3:14\n",
            "The triangle is a Acute Triangle\n"
          ]
        }
      ]
    },
    {
      "cell_type": "code",
      "source": [
        "# Solution 23: Categorize BMI\n",
        "weight_kg = float(input(\"Enter weight in kilograms:\"))\n",
        "height_m = float(input(\"Enter height in meters:\"))\n",
        "\n",
        "bmi = weight_kg / (height_m ** 2)\n",
        "\n",
        "if bmi < 18.5:\n",
        "    category = \"Underweight\"\n",
        "elif 18.5 <= bmi < 24.9:\n",
        "    category = \"Normal\"\n",
        "elif 24.9 <= bmi < 29.9:\n",
        "    category = \"Overweight\"\n",
        "else:\n",
        "    category = \"Obese\"\n",
        "\n",
        "print(\"BMI:\", bmi)\n",
        "print(\"Category:\", category)\n"
      ],
      "metadata": {
        "colab": {
          "base_uri": "https://localhost:8080/"
        },
        "id": "es2rtrTX8hqc",
        "outputId": "6bcb7edf-e27b-4fd0-bcdf-93642a4afb1b"
      },
      "execution_count": 30,
      "outputs": [
        {
          "output_type": "stream",
          "name": "stdout",
          "text": [
            "Enter weight in kilograms:54\n",
            "Enter height in meters:1.63\n",
            "BMI: 20.32443825510934\n",
            "Category: Normal\n"
          ]
        }
      ]
    },
    {
      "cell_type": "code",
      "source": [
        "# Solution 24: Determine if a Number is Positive, Negative, or Zero\n",
        "number = float(input(\"Enter a number:\"))\n",
        "\n",
        "if number > 0:\n",
        "    result = \"positive\"\n",
        "elif number < 0:\n",
        "    result = \"negative\"\n",
        "else:\n",
        "    result = \"zero\"\n",
        "\n",
        "print(\"The number is\", result)\n"
      ],
      "metadata": {
        "colab": {
          "base_uri": "https://localhost:8080/"
        },
        "id": "BtdbBMuW8lAL",
        "outputId": "b1b52a3e-ecef-4e4b-c6fc-20fd135fa0fd"
      },
      "execution_count": 31,
      "outputs": [
        {
          "output_type": "stream",
          "name": "stdout",
          "text": [
            "Enter a number:32\n",
            "The number is positive\n"
          ]
        }
      ]
    },
    {
      "cell_type": "code",
      "source": [
        "# Solution 25: Determine the Type of Character (Uppercase, Lowercase, or Special)\n",
        "char = input(\"Enter a character:\")\n",
        "\n",
        "if char.isalpha():\n",
        "    if char.islower():\n",
        "        char_type = \"Lowercase\"\n",
        "    else:\n",
        "        char_type = \"Uppercase\"\n",
        "else:\n",
        "    char_type = \"Special Character\"\n",
        "\n",
        "print(\"The character is\", char_type)\n"
      ],
      "metadata": {
        "colab": {
          "base_uri": "https://localhost:8080/"
        },
        "id": "ojjlE5vQ8-SR",
        "outputId": "2421a988-d2da-4c40-8e88-268a0927d2f6"
      },
      "execution_count": 32,
      "outputs": [
        {
          "output_type": "stream",
          "name": "stdout",
          "text": [
            "Enter a character:K\n",
            "The character is Uppercase\n"
          ]
        }
      ]
    },
    {
      "cell_type": "code",
      "source": [
        "# Solution 26: Calculate Discounted Price based on Purchase Amount\n",
        "purchase_amount = float(input(\"Enter the purchase amount:\"))\n",
        "\n",
        "if purchase_amount < 50:\n",
        "    discount = 0\n",
        "elif 50 <= purchase_amount < 100:\n",
        "    discount = 5\n",
        "elif 100 <= purchase_amount < 200:\n",
        "    discount = 10\n",
        "else:\n",
        "    discount = 15\n",
        "\n",
        "discounted_price = purchase_amount - (purchase_amount * discount / 100)\n",
        "\n",
        "print(\"Discounted Price:\", discounted_price)\n"
      ],
      "metadata": {
        "colab": {
          "base_uri": "https://localhost:8080/"
        },
        "id": "mAJ6Jaft9A2n",
        "outputId": "8a57e528-ec06-4c51-dbb0-4259650328b3"
      },
      "execution_count": 33,
      "outputs": [
        {
          "output_type": "stream",
          "name": "stdout",
          "text": [
            "Enter the purchase amount:2500\n",
            "Discounted Price: 2125.0\n"
          ]
        }
      ]
    },
    {
      "cell_type": "code",
      "source": [
        "# Solution 27: Calculate Electricity Bill based on Consumption Slabs\n",
        "units_consumed = float(input(\"Enter the units consumed:\"))\n",
        "\n",
        "if units_consumed <= 50:\n",
        "    bill = units_consumed * 0.50\n",
        "elif 50 < units_consumed <= 150:\n",
        "    bill = 25 + (units_consumed - 50) * 0.75\n",
        "elif 150 < units_consumed <= 250:\n",
        "    bill = 100 + (units_consumed - 150) * 1.20\n",
        "else:\n",
        "    bill = 220 + (units_consumed - 250) * 1.50\n",
        "\n",
        "print(\"Electricity Bill:\", bill)\n"
      ],
      "metadata": {
        "colab": {
          "base_uri": "https://localhost:8080/"
        },
        "id": "M-QRJaxI9DfL",
        "outputId": "1e8f284e-fca4-403e-c160-7c7f05fa1c24"
      },
      "execution_count": 34,
      "outputs": [
        {
          "output_type": "stream",
          "name": "stdout",
          "text": [
            "Enter the units consumed:165\n",
            "Electricity Bill: 118.0\n"
          ]
        }
      ]
    },
    {
      "cell_type": "code",
      "source": [
        "# Solution 28: Determine the Type of Quadrilateral based on Angles and Sides\n",
        "num_sides = int(input(\"Enter the number of sides (4 for quadrilateral):\"))\n",
        "angle_sum = sum(float(input(f\"Enter the measure of angle {i + 1}:\")) for i in range(num_sides))\n",
        "\n",
        "if num_sides == 4:\n",
        "    if angle_sum == 360:\n",
        "        side_lengths = [float(input(f\"Enter the length of side {i + 1}:\")) for i in range(num_sides)]\n",
        "        if all(side_lengths[i] == side_lengths[i - 1] for i in range(num_sides)):\n",
        "            quadrilateral_type = \"Square\"\n",
        "        elif side_lengths[0] == side_lengths[2] and side_lengths[1] == side_lengths[3]:\n",
        "            quadrilateral_type = \"Rectangle\"\n",
        "        else:\n",
        "            quadrilateral_type = \"Quadrilateral\"\n",
        "    else:\n",
        "        quadrilateral_type = \"Not a Quadrilateral\"\n",
        "else:\n",
        "    quadrilateral_type = \"Not a Quadrilateral\"\n",
        "\n",
        "print(\"The shape is a\", quadrilateral_type)"
      ],
      "metadata": {
        "colab": {
          "base_uri": "https://localhost:8080/"
        },
        "id": "_nBYFucU9I_p",
        "outputId": "32fcfa2d-eae7-4fd0-b1e9-fa4226e2538f"
      },
      "execution_count": 40,
      "outputs": [
        {
          "output_type": "stream",
          "name": "stdout",
          "text": [
            "Enter the number of sides (4 for quadrilateral):4\n",
            "Enter the measure of angle 1:90\n",
            "Enter the measure of angle 2:90\n",
            "Enter the measure of angle 3:90\n",
            "Enter the measure of angle 4:90\n",
            "Enter the length of side 1:5\n",
            "Enter the length of side 2:5\n",
            "Enter the length of side 3:5\n",
            "Enter the length of side 4:5\n",
            "The shape is a Square\n"
          ]
        }
      ]
    },
    {
      "cell_type": "code",
      "source": [
        "# Solution 29: Determine the Season based on a User-provided Month\n",
        "month = int(input(\"Enter the month (1 for January, 2 for February, etc.):\"))\n",
        "\n",
        "if 3 <= month <= 5:\n",
        "    season = \"Spring\"\n",
        "elif 6 <= month <= 8:\n",
        "    season = \"Summer\"\n",
        "elif 9 <= month <= 11:\n",
        "    season = \"Autumn\"\n",
        "elif month == 12 or month == 1 or month == 2:\n",
        "    season = \"Winter\"\n",
        "else:\n",
        "    season = \"Invalid Month\"\n",
        "\n",
        "print(\"The season is\", season)\n"
      ],
      "metadata": {
        "colab": {
          "base_uri": "https://localhost:8080/"
        },
        "id": "5OaQbtZ19NLh",
        "outputId": "93be918d-6b09-4703-e07c-a7c6337d9b0b"
      },
      "execution_count": 38,
      "outputs": [
        {
          "output_type": "stream",
          "name": "stdout",
          "text": [
            "Enter the month (1 for January, 2 for February, etc.):11\n",
            "The season is Autumn\n"
          ]
        }
      ]
    },
    {
      "cell_type": "code",
      "source": [
        "# Solution 30: Determine the Type of Year (Leap or Common) and Month (30 or 31 Days)\n",
        "year = int(input(\"Enter a year:\"))\n",
        "month = int(input(\"Enter a month (1 for January, 2 for February, etc.):\"))\n",
        "\n",
        "if (year % 4 == 0 and year % 100 != 0) or (year % 400 == 0):\n",
        "    is_leap_year = True\n",
        "else:\n",
        "    is_leap_year = False\n",
        "\n",
        "if month in [1, 3, 5, 7, 8, 10, 12]:\n",
        "    days_in_month = 31\n",
        "elif month in [4, 6, 9, 11]:\n",
        "    days_in_month = 30\n",
        "else:\n",
        "    if is_leap_year:\n",
        "        days_in_month = 29\n",
        "    else:\n",
        "        days_in_month = 28\n",
        "\n",
        "print(\"Year Type:\", \"Leap\" if is_leap_year else \"Common\")\n",
        "print(\"Days in Month:\", days_in_month)\n"
      ],
      "metadata": {
        "colab": {
          "base_uri": "https://localhost:8080/"
        },
        "id": "GHANa7YK91uv",
        "outputId": "19b4e2d8-6f35-44c6-df66-355fe655841d"
      },
      "execution_count": 39,
      "outputs": [
        {
          "output_type": "stream",
          "name": "stdout",
          "text": [
            "Enter a year:2000\n",
            "Enter a month (1 for January, 2 for February, etc.):11\n",
            "Year Type: Leap\n",
            "Days in Month: 30\n"
          ]
        }
      ]
    },
    {
      "cell_type": "code",
      "source": [
        "# Solution 31: Validate Password Complexity\n",
        "import re\n",
        "\n",
        "password = input(\"Enter a password: \")\n",
        "\n",
        "# Define complexity rules: at least 8 characters, at least one uppercase letter, one lowercase letter, and one digit\n",
        "if (len(password) >= 8) and re.search(r'[A-Z]', password) and re.search(r'[a-z]', password) and re.search(r'[0-9]', password):\n",
        "    print(\"Valid password\")\n",
        "else:\n",
        "    print(\"Invalid password\")\n"
      ],
      "metadata": {
        "colab": {
          "base_uri": "https://localhost:8080/"
        },
        "id": "kibeQeVf96AG",
        "outputId": "81524ad8-91ed-42d7-d356-46b0dab7fa66"
      },
      "execution_count": 41,
      "outputs": [
        {
          "output_type": "stream",
          "name": "stdout",
          "text": [
            "Enter a password: ketul123\n",
            "Invalid password\n"
          ]
        }
      ]
    },
    {
      "cell_type": "code",
      "source": [
        "# Solution 32: Matrix Addition and Subtraction\n",
        "import numpy as np\n",
        "\n",
        "# Input matrices from the user\n",
        "matrix1 = np.array(eval(input(\"Enter the first matrix as a list of lists: \")))\n",
        "matrix2 = np.array(eval(input(\"Enter the second matrix as a list of lists: \")))\n",
        "\n",
        "# Perform matrix addition and subtraction\n",
        "matrix_sum = matrix1 + matrix2\n",
        "matrix_difference = matrix1 - matrix2\n",
        "\n",
        "print(\"Matrix Addition:\")\n",
        "print(matrix_sum)\n",
        "\n",
        "print(\"Matrix Subtraction:\")\n",
        "print(matrix_difference)\n"
      ],
      "metadata": {
        "colab": {
          "base_uri": "https://localhost:8080/"
        },
        "id": "aHyDmTva_J8B",
        "outputId": "a622f51b-cb7b-4457-f878-8eb0f41e8b5b"
      },
      "execution_count": 42,
      "outputs": [
        {
          "output_type": "stream",
          "name": "stdout",
          "text": [
            "Enter the first matrix as a list of lists: 123\n",
            "Enter the second matrix as a list of lists: 234\n",
            "Matrix Addition:\n",
            "357\n",
            "Matrix Subtraction:\n",
            "-111\n"
          ]
        }
      ]
    },
    {
      "cell_type": "code",
      "source": [
        "# Solution 33: Calculate Greatest Common Divisor (GCD) using the Euclidean algorithm\n",
        "def gcd(a, b):\n",
        "    while b:\n",
        "        a, b = b, a % b\n",
        "    return a\n",
        "\n",
        "num1 = int(input(\"Enter the first number: \"))\n",
        "num2 = int(input(\"Enter the second number: \"))\n",
        "\n",
        "result = gcd(num1, num2)\n",
        "print(\"The GCD of\", num1, \"and\", num2, \"is\", result)\n"
      ],
      "metadata": {
        "colab": {
          "base_uri": "https://localhost:8080/"
        },
        "id": "2Cgov2sF_N6-",
        "outputId": "af5ed25a-b60a-4d96-9883-2fbf5460a6e5"
      },
      "execution_count": 43,
      "outputs": [
        {
          "output_type": "stream",
          "name": "stdout",
          "text": [
            "Enter the first number: 1\n",
            "Enter the second number: 2\n",
            "The GCD of 1 and 2 is 1\n"
          ]
        }
      ]
    },
    {
      "cell_type": "code",
      "source": [
        "# Solution 34: Matrix Multiplication\n",
        "import numpy as np\n",
        "\n",
        "# Input matrices from the user\n",
        "matrix1 = np.array(eval(input(\"Enter the first matrix as a list of lists: \")))\n",
        "matrix2 = np.array(eval(input(\"Enter the second matrix as a list of lists: \")))\n",
        "\n",
        "# Perform matrix multiplication\n",
        "matrix_product = np.dot(matrix1, matrix2)\n",
        "\n",
        "print(\"Matrix Multiplication:\")\n",
        "print(matrix_product)\n"
      ],
      "metadata": {
        "colab": {
          "base_uri": "https://localhost:8080/"
        },
        "id": "RbP121I0_Snl",
        "outputId": "59929758-873c-4451-b0b7-513b595ea34d"
      },
      "execution_count": 44,
      "outputs": [
        {
          "output_type": "stream",
          "name": "stdout",
          "text": [
            "Enter the first matrix as a list of lists: 123\n",
            "Enter the second matrix as a list of lists: 1456\n",
            "Matrix Multiplication:\n",
            "179088\n"
          ]
        }
      ]
    },
    {
      "cell_type": "code",
      "source": [
        "# Solution 35: Text-Based Tic-Tac-Toe Game (simplified version)\n",
        "def print_board(board):\n",
        "    for row in board:\n",
        "        print(\" \".join(row))\n",
        "\n",
        "def check_winner(board, player):\n",
        "    for row in board:\n",
        "        if all(cell == player for cell in row):\n",
        "            return True\n",
        "    for col in range(3):\n",
        "        if all(row[col] == player for row in board):\n",
        "            return True\n",
        "    if all(board[i][i] == player for i in range(3)) or all(board[i][2 - i] == player for i in range(3)):\n",
        "        return True\n",
        "    return False\n",
        "\n",
        "def main():\n",
        "    board = [[\" \" for _ in range(3)] for _ in range(3)]\n",
        "    current_player = \"X\"\n",
        "    moves = 0\n",
        "\n",
        "    while moves < 9:\n",
        "        print_board(board)\n",
        "        row, col = map(int, input(f\"Player {current_player}, enter row and column (e.g., 1 2): \").split())\n",
        "\n",
        "        if board[row - 1][col - 1] == \" \":\n",
        "            board[row - 1][col - 1] = current_player\n",
        "            moves += 1\n",
        "            if check_winner(board, current_player):\n",
        "                print_board(board)\n",
        "                print(f\"Player {current_player} wins!\")\n",
        "                break\n",
        "            current_player = \"O\" if current_player == \"X\" else \"X\"\n",
        "        else:\n",
        "            print(\"That cell is already occupied. Try again.\")\n",
        "\n",
        "    if moves == 9:\n",
        "        print_board(board)\n",
        "        print(\"It's a draw!\")\n",
        "\n",
        "if __name__ == \"__main__\":\n",
        "    main()\n"
      ],
      "metadata": {
        "colab": {
          "base_uri": "https://localhost:8080/"
        },
        "id": "f94a6s9V_Vpd",
        "outputId": "a763a912-4dbc-4c28-b1b3-cc0bf176bd51"
      },
      "execution_count": 55,
      "outputs": [
        {
          "output_type": "stream",
          "name": "stdout",
          "text": [
            "     \n",
            "     \n",
            "     \n",
            "Player X, enter row and column (e.g., 1 2): 2 2\n",
            "     \n",
            "  X  \n",
            "     \n",
            "Player O, enter row and column (e.g., 1 2): 1 3\n",
            "    O\n",
            "  X  \n",
            "     \n",
            "Player X, enter row and column (e.g., 1 2): 1 3\n",
            "That cell is already occupied. Try again.\n",
            "    O\n",
            "  X  \n",
            "     \n",
            "Player X, enter row and column (e.g., 1 2): 3 1\n",
            "    O\n",
            "  X  \n",
            "X    \n",
            "Player O, enter row and column (e.g., 1 2): 1 1\n",
            "O   O\n",
            "  X  \n",
            "X    \n",
            "Player X, enter row and column (e.g., 1 2): 1 2\n",
            "O X O\n",
            "  X  \n",
            "X    \n",
            "Player O, enter row and column (e.g., 1 2): 2 1\n",
            "O X O\n",
            "O X  \n",
            "X    \n",
            "Player X, enter row and column (e.g., 1 2): 3 2\n",
            "O X O\n",
            "O X  \n",
            "X X  \n",
            "Player X wins!\n"
          ]
        }
      ]
    },
    {
      "cell_type": "code",
      "source": [
        "# Solution 36: Generate Fibonacci Numbers Iteratively\n",
        "def generate_fibonacci(n):\n",
        "    fibonacci = [0, 1]\n",
        "    while len(fibonacci) < n:\n",
        "        next_term = fibonacci[-1] + fibonacci[-2]\n",
        "        fibonacci.append(next_term)\n",
        "    return fibonacci\n",
        "\n",
        "n = int(input(\"Enter the number of Fibonacci terms to generate: \"))\n",
        "fibonacci_sequence = generate_fibonacci(n)\n",
        "print(\"Fibonacci Sequence:\", fibonacci_sequence)\n"
      ],
      "metadata": {
        "colab": {
          "base_uri": "https://localhost:8080/"
        },
        "id": "9OiZF3U__aHN",
        "outputId": "c5edfc41-1629-48c9-ee0c-17bc71612739"
      },
      "execution_count": 49,
      "outputs": [
        {
          "output_type": "stream",
          "name": "stdout",
          "text": [
            "Enter the number of Fibonacci terms to generate: 12345\n",
            "Fibonacci Sequence: "
          ]
        },
        {
          "output_type": "stream",
          "name": "stderr",
          "text": [
            "IOPub data rate exceeded.\n",
            "The notebook server will temporarily stop sending output\n",
            "to the client in order to avoid crashing it.\n",
            "To change this limit, set the config variable\n",
            "`--NotebookApp.iopub_data_rate_limit`.\n",
            "\n",
            "Current values:\n",
            "NotebookApp.iopub_data_rate_limit=1000000.0 (bytes/sec)\n",
            "NotebookApp.rate_limit_window=3.0 (secs)\n",
            "\n"
          ]
        }
      ]
    },
    {
      "cell_type": "code",
      "source": [
        "# Solution 37: Calculate Fibonacci Term using Memoization\n",
        "def fibonacci(n, memo={}):\n",
        "    if n in memo:\n",
        "        return memo[n]\n",
        "    if n <= 2:\n",
        "        return 1\n",
        "    memo[n] = fibonacci(n - 1, memo) + fibonacci(n - 2, memo)\n",
        "    return memo[n]\n",
        "\n",
        "n = int(input(\"Enter the term of the Fibonacci sequence to calculate: \"))\n",
        "result = fibonacci(n)\n",
        "print(f\"The {n}th Fibonacci term is {result}\")\n"
      ],
      "metadata": {
        "colab": {
          "base_uri": "https://localhost:8080/"
        },
        "id": "5ch1g8_o_zDr",
        "outputId": "eff655bf-9044-4dd4-b43d-ad9973f007de"
      },
      "execution_count": 50,
      "outputs": [
        {
          "output_type": "stream",
          "name": "stdout",
          "text": [
            "Enter the term of the Fibonacci sequence to calculate: 12\n",
            "The 12th Fibonacci term is 144\n"
          ]
        }
      ]
    },
    {
      "cell_type": "code",
      "source": [
        "# Solution 38: Generate Calendar for a Month and Year\n",
        "import calendar\n",
        "\n",
        "year = int(input(\"Enter a year: \"))\n",
        "month = int(input(\"Enter a month (1-12): \"))\n",
        "\n",
        "cal = calendar.month(year, month)\n",
        "print(\"Calendar:\")\n",
        "print(cal)\n"
      ],
      "metadata": {
        "colab": {
          "base_uri": "https://localhost:8080/"
        },
        "id": "yTHwn7Oa_4yU",
        "outputId": "296a4f00-c5df-4f90-94ca-c1f7595dd6e9"
      },
      "execution_count": 51,
      "outputs": [
        {
          "output_type": "stream",
          "name": "stdout",
          "text": [
            "Enter a year: 2000\n",
            "Enter a month (1-12): 11\n",
            "Calendar:\n",
            "   November 2000\n",
            "Mo Tu We Th Fr Sa Su\n",
            "       1  2  3  4  5\n",
            " 6  7  8  9 10 11 12\n",
            "13 14 15 16 17 18 19\n",
            "20 21 22 23 24 25 26\n",
            "27 28 29 30\n",
            "\n"
          ]
        }
      ]
    },
    {
      "cell_type": "code",
      "source": [
        "# Solution 39: Text-Based Blackjack Game (Simplified)\n",
        "import random\n",
        "\n",
        "def deal_card():\n",
        "    cards = [2, 3, 4, 5, 6, 7, 8, 9, 10, 10, 10, 10, 11]\n",
        "    return random.choice(cards)\n",
        "\n",
        "def calculate_score(hand):\n",
        "    if sum(hand) == 21 and len(hand) == 2:\n",
        "        return 0\n",
        "    if 11 in hand and sum(hand) > 21:\n",
        "        hand.remove(11)\n",
        "        hand.append(1)\n",
        "    return sum(hand)\n",
        "\n",
        "def blackjack_game():\n",
        "    player_hand = [deal_card(), deal_card()]\n",
        "    computer_hand = [deal_card(), deal_card()]\n",
        "\n",
        "    game_over = False\n",
        "\n",
        "    while not game_over:\n",
        "        player_score = calculate_score(player_hand)\n",
        "        computer_score = calculate_score(computer_hand)\n",
        "\n",
        "        print(f\"Your cards: {player_hand}, current score: {player_score}\")\n",
        "        print(f\"Computer's first card: {computer_hand[0]}\")\n",
        "\n",
        "        if player_score == 0 or computer_score == 0 or player_score > 21:\n",
        "            game_over = True\n",
        "        else:\n",
        "            should_continue = input(\"Type 'y' to get another card, 'n' to pass: \")\n",
        "            if should_continue == 'y':\n",
        "                player_hand.append(deal_card())\n",
        "            else:\n",
        "                game_over = True\n",
        "\n",
        "    while computer_score != 0 and computer_score < 17:\n",
        "        computer_hand.append(deal_card())\n",
        "        computer_score = calculate_score(computer_hand)\n",
        "\n",
        "    print(f\"Your final hand: {player_hand}, final score: {player_score}\")\n",
        "    print(f\"Computer's final hand: {computer_hand}, final score: {computer_score}\")\n",
        "\n",
        "    if player_score > 21:\n",
        "        return \"You went over. You lose!\"\n",
        "    elif computer_score > 21:\n",
        "        return \"Computer went over. You win!\"\n",
        "    elif player_score == computer_score:\n",
        "        return \"It's a draw!\"\n",
        "    elif player_score == 0 or (player_score > computer_score):\n",
        "        return \"You win!\"\n",
        "    else:\n",
        "        return \"You lose!\"\n",
        "\n",
        "print(blackjack_game())\n"
      ],
      "metadata": {
        "colab": {
          "base_uri": "https://localhost:8080/"
        },
        "id": "rdNfNXQ5_737",
        "outputId": "60798019-9a2c-4a3f-8377-1261a4c25b8e"
      },
      "execution_count": 52,
      "outputs": [
        {
          "output_type": "stream",
          "name": "stdout",
          "text": [
            "Your cards: [8, 10], current score: 18\n",
            "Computer's first card: 2\n",
            "Type 'y' to get another card, 'n' to pass: n\n",
            "Your final hand: [8, 10], final score: 18\n",
            "Computer's final hand: [2, 6, 9], final score: 17\n",
            "You win!\n"
          ]
        }
      ]
    },
    {
      "cell_type": "code",
      "source": [
        "# Solution 40: Generate Prime Factors using Trial Division\n",
        "def prime_factors(n):\n",
        "    factors = []\n",
        "    divisor = 2\n",
        "    while divisor <= n:\n",
        "        if n % divisor == 0:\n",
        "            factors.append(divisor)\n",
        "            n //= divisor\n",
        "        else:\n",
        "            divisor += 1\n",
        "    return factors\n",
        "\n",
        "number = int(input(\"Enter a number to find its prime factors: \"))\n",
        "result = prime_factors(number)\n",
        "print(\"Prime Factors:\", result)\n"
      ],
      "metadata": {
        "colab": {
          "base_uri": "https://localhost:8080/"
        },
        "id": "FK4KASgfABEI",
        "outputId": "8ccfbe93-33d1-4ebd-843e-be028ebc3219"
      },
      "execution_count": 53,
      "outputs": [
        {
          "output_type": "stream",
          "name": "stdout",
          "text": [
            "Enter a number to find its prime factors: 3\n",
            "Prime Factors: [3]\n"
          ]
        }
      ]
    },
    {
      "cell_type": "code",
      "source": [],
      "metadata": {
        "id": "hqpt5fM_AHKL"
      },
      "execution_count": null,
      "outputs": []
    }
  ]
}