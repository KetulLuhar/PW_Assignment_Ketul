{
  "nbformat": 4,
  "nbformat_minor": 0,
  "metadata": {
    "colab": {
      "provenance": []
    },
    "kernelspec": {
      "name": "python3",
      "display_name": "Python 3"
    },
    "language_info": {
      "name": "python"
    }
  },
  "cells": [
    {
      "cell_type": "markdown",
      "source": [
        "1.\n",
        "\n",
        "arr = [1, 2, 4, 2, 5, 9]\n",
        "\n",
        "  Output = True"
      ],
      "metadata": {
        "id": "r9YxMiz_r9et"
      }
    },
    {
      "cell_type": "code",
      "execution_count": 3,
      "metadata": {
        "colab": {
          "base_uri": "https://localhost:8080/"
        },
        "id": "jsWnSTq1q7WO",
        "outputId": "124beef8-a116-4aff-d1e4-9487bea32ccf"
      },
      "outputs": [
        {
          "output_type": "stream",
          "name": "stdout",
          "text": [
            "True\n"
          ]
        }
      ],
      "source": [
        "def contains_duplicates(arr):\n",
        "  seen = set()\n",
        "  for num in arr:\n",
        "    if num in seen:\n",
        "      return True\n",
        "    seen.add(num)\n",
        "  return False\n",
        "\n",
        "\n",
        "arr = [1, 2, 4, 2, 5, 9]\n",
        "result = contains_duplicates(arr)\n",
        "print(result)"
      ]
    },
    {
      "cell_type": "markdown",
      "source": [
        "2.\n",
        "\n",
        "Given an array and an integer k, rotate the array to the right by k steps.\n",
        "\n",
        "  arr = [1, 2, 3, 4, 5, 6, 7] k = 3\n",
        "\n",
        "  Output = [5, 6, 7, 1, 2, 3, 4]"
      ],
      "metadata": {
        "id": "X1Q-BDuGtmzQ"
      }
    },
    {
      "cell_type": "code",
      "source": [
        "def rotate_array(arr, k):\n",
        "    n = len(arr)\n",
        "    k = k % n\n",
        "\n",
        "    rotated_arr = arr[-k:] + arr[:-k]\n",
        "    arr[:] = rotated_arr\n",
        "\n",
        "arr = [1, 2, 3, 4, 5, 6, 7]\n",
        "k = 3\n",
        "rotate_array(arr, k)\n",
        "print(arr)"
      ],
      "metadata": {
        "colab": {
          "base_uri": "https://localhost:8080/"
        },
        "id": "Z1rptKSosnkr",
        "outputId": "d7e68b5d-e770-4000-cb13-e16a68e98a24"
      },
      "execution_count": 25,
      "outputs": [
        {
          "output_type": "stream",
          "name": "stdout",
          "text": [
            "[5, 6, 7, 1, 2, 3, 4]\n"
          ]
        }
      ]
    },
    {
      "cell_type": "markdown",
      "source": [
        "3.\n",
        "Reverse the given array in-place, means without using any extra data structure.\n",
        "\n",
        "  arr = [2, 4, 5, 7, 9, 12]\n",
        "\n",
        "  Output = [12, 9, 7, 5, 4, 2]"
      ],
      "metadata": {
        "id": "GQ5FLRMHvzVv"
      }
    },
    {
      "cell_type": "code",
      "source": [
        "def reverse_array(arr):\n",
        "    left = 0\n",
        "    right = len(arr) - 1\n",
        "\n",
        "    while left < right:\n",
        "        # Swap elements at the left and right positions\n",
        "        arr[left], arr[right] = arr[right], arr[left]\n",
        "        left += 1\n",
        "        right -= 1\n",
        "\n",
        "arr = [2, 4, 5, 7, 9, 12]\n",
        "reverse_array(arr)\n",
        "print(arr)"
      ],
      "metadata": {
        "colab": {
          "base_uri": "https://localhost:8080/"
        },
        "id": "UUxJu3T1ui5d",
        "outputId": "c0cb7a87-66a9-4e8c-c0e6-c0647deae4d8"
      },
      "execution_count": 29,
      "outputs": [
        {
          "output_type": "stream",
          "name": "stdout",
          "text": [
            "[12, 9, 7, 5, 4, 2]\n"
          ]
        }
      ]
    },
    {
      "cell_type": "markdown",
      "source": [
        "4. Given an array of integers, find the maximum element in an array\n",
        "\n",
        "  arr = [10, 5, 20, 8, 15]\n",
        "\n",
        "  Output = 20"
      ],
      "metadata": {
        "id": "tiDMQ8_DxFkd"
      }
    },
    {
      "cell_type": "code",
      "source": [
        "def maximum(arr):\n",
        "  if not arr:\n",
        "    return None\n",
        "\n",
        "  max_element =arr[0]\n",
        "\n",
        "  for num in arr:\n",
        "    if num > max_element:\n",
        "      max_element = num\n",
        "\n",
        "  return max_element\n",
        "\n",
        "arr = [10, 5, 20, 8, 15]\n",
        "result = maximum(arr)\n",
        "print(result)"
      ],
      "metadata": {
        "colab": {
          "base_uri": "https://localhost:8080/"
        },
        "id": "lwkeoi89wW__",
        "outputId": "fce0011d-c18a-4be1-c372-b58e21cb92f1"
      },
      "execution_count": 33,
      "outputs": [
        {
          "output_type": "stream",
          "name": "stdout",
          "text": [
            "20\n"
          ]
        }
      ]
    },
    {
      "cell_type": "markdown",
      "source": [
        "5. Given a sorted array, remove the duplicate element without using any extra data structure.\n",
        "\n",
        "  arr = [1, 1, 2, 2, 2, 3, 3, 4, 4, 4, 5, 5]\n",
        "\n",
        "  Output = [1, 2, 3, 4, 5]"
      ],
      "metadata": {
        "id": "rEMBH5o9y41X"
      }
    },
    {
      "cell_type": "code",
      "source": [
        "def remove_duplicates(arr):\n",
        "    if not arr:\n",
        "        return []\n",
        "\n",
        "    current = 0\n",
        "\n",
        "    for i in range(1, len(arr)):\n",
        "       if arr[i] != arr[current]:\n",
        "            current += 1\n",
        "            arr[current] = arr[i]\n",
        "\n",
        "    return arr[:current + 1]\n",
        "\n",
        "arr = [1, 1, 2, 2, 2, 3, 3, 4, 4, 4, 5, 5]\n",
        "result = remove_duplicates(arr)\n",
        "print(result)"
      ],
      "metadata": {
        "colab": {
          "base_uri": "https://localhost:8080/"
        },
        "id": "7VEGRuvEyqso",
        "outputId": "fa117feb-59f4-422b-d275-677556811e2a"
      },
      "execution_count": 36,
      "outputs": [
        {
          "output_type": "stream",
          "name": "stdout",
          "text": [
            "[1, 2, 3, 4, 5]\n"
          ]
        }
      ]
    },
    {
      "cell_type": "code",
      "source": [],
      "metadata": {
        "id": "oO1ulmBnzR22"
      },
      "execution_count": null,
      "outputs": []
    }
  ]
}