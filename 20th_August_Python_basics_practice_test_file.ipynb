{
  "nbformat": 4,
  "nbformat_minor": 0,
  "metadata": {
    "colab": {
      "provenance": []
    },
    "kernelspec": {
      "name": "python3",
      "display_name": "Python 3"
    },
    "language_info": {
      "name": "python"
    }
  },
  "cells": [
    {
      "cell_type": "markdown",
      "source": [
        "# TOPIC: String Based Assignment Problem"
      ],
      "metadata": {
        "id": "64EgQSTuvCu4"
      }
    },
    {
      "cell_type": "code",
      "execution_count": null,
      "metadata": {
        "colab": {
          "base_uri": "https://localhost:8080/"
        },
        "id": "9vaxbgjyuvBY",
        "outputId": "5b963513-b159-4e05-8cc6-c2e9b80db082"
      },
      "outputs": [
        {
          "output_type": "stream",
          "name": "stdout",
          "text": [
            "gnirts a esrever si sihT\n"
          ]
        }
      ],
      "source": [
        "#Solutions 1\n",
        "\n",
        "user_string = (\"This is reverse a string\")\n",
        "\n",
        "reverse_string = user_string[::-1]\n",
        "\n",
        "print(reverse_string)"
      ]
    },
    {
      "cell_type": "code",
      "source": [
        "#Solutions 2\n",
        "\n",
        "user_palindrome = input(\"Write a String: \")\n",
        "\n",
        "cassensetiv = user_palindrome.replace(\" \", \"\").lower()\n",
        "\n",
        "reverse_string = cassensetiv[::-1]\n",
        "\n",
        "if cassensetiv == reverse_string:\n",
        "  print(\"It's Palindrome Word\")\n",
        "else:\n",
        "  print(\"It's Not Palindrome Word\")"
      ],
      "metadata": {
        "colab": {
          "base_uri": "https://localhost:8080/"
        },
        "id": "w3Nk543fvlSV",
        "outputId": "0ab1bb8f-d4d0-4a7e-8c4f-3b9a6ba853db"
      },
      "execution_count": null,
      "outputs": [
        {
          "output_type": "stream",
          "name": "stdout",
          "text": [
            "Write a String: ooo\n",
            "It's Palindrome Word\n"
          ]
        }
      ]
    },
    {
      "cell_type": "code",
      "source": [
        "#Solutions 3\n",
        "\n",
        "user_string = input(\"Write Your String: \")\n",
        "\n",
        "uppercase_string = user_string.upper()\n",
        "\n",
        "print(\"Your converter string is:\",uppercase_string)\n"
      ],
      "metadata": {
        "colab": {
          "base_uri": "https://localhost:8080/"
        },
        "id": "lwTVkev2wtVJ",
        "outputId": "f17c23eb-ff4e-4032-b2a0-b129892ebee6"
      },
      "execution_count": null,
      "outputs": [
        {
          "output_type": "stream",
          "name": "stdout",
          "text": [
            "Write Your String: pw skills\n",
            "Your converter string is: PW SKILLS\n"
          ]
        }
      ]
    },
    {
      "cell_type": "code",
      "source": [
        "#Solutions 4\n",
        "\n",
        "user_string = input(\"Write Your String: \")\n",
        "\n",
        "lower_string = user_string.lower()\n",
        "\n",
        "print(\"Your converter string is:\",lower_string)"
      ],
      "metadata": {
        "colab": {
          "base_uri": "https://localhost:8080/"
        },
        "id": "SuGQ11TvxW4C",
        "outputId": "30edb087-adf9-4785-8e7a-6c57bef72d84"
      },
      "execution_count": null,
      "outputs": [
        {
          "output_type": "stream",
          "name": "stdout",
          "text": [
            "Write Your String: PW SKILLS\n",
            "Your converter string is: pw skills\n"
          ]
        }
      ]
    },
    {
      "cell_type": "code",
      "source": [
        "#Solutions 5\n",
        "\n",
        "user_string = input(\"Write Your String: \")\n",
        "\n",
        "lower_string = user_string.lower()\n",
        "\n",
        "vowel_count = 0\n",
        "\n",
        "for char in lower_string:\n",
        "  if char in (\"aeiou\"):\n",
        "    vowel_count += 1\n",
        "\n",
        "print(vowel_count)"
      ],
      "metadata": {
        "colab": {
          "base_uri": "https://localhost:8080/"
        },
        "id": "wzkamgRByHyN",
        "outputId": "228f7ed8-5028-4083-ed8d-e1cff8e03bb4"
      },
      "execution_count": null,
      "outputs": [
        {
          "output_type": "stream",
          "name": "stdout",
          "text": [
            "Write Your String: my name is ketul\n",
            "5\n"
          ]
        }
      ]
    },
    {
      "cell_type": "code",
      "source": [
        "#Solutions 6\n",
        "\n",
        "user_string = input(\"Write Your String: \")\n",
        "\n",
        "lower_string = user_string.lower()\n",
        "\n",
        "consonants_count = 0\n",
        "\n",
        "vowels = \"aeiou\"\n",
        "\n",
        "for char in lower_string:\n",
        "  if char.isalpha() and char not in vowels:\n",
        "    consonants_count += 1\n",
        "\n",
        "print(consonants_count)\n",
        "\n"
      ],
      "metadata": {
        "colab": {
          "base_uri": "https://localhost:8080/"
        },
        "id": "ILST99oUy8Pl",
        "outputId": "1b714ef7-ec77-4372-bf0b-78482d878c6d"
      },
      "execution_count": null,
      "outputs": [
        {
          "output_type": "stream",
          "name": "stdout",
          "text": [
            "Write Your String: my name is ketul\n",
            "8\n"
          ]
        }
      ]
    },
    {
      "cell_type": "code",
      "source": [
        "#Solutions 7\n",
        "\n",
        "user_string = input(\"Enter Your String: \")\n",
        "\n",
        "space_remove = user_string.replace(\" \", \"\")\n",
        "\n",
        "print(\"Your space remove sentence is:\",space_remove)"
      ],
      "metadata": {
        "colab": {
          "base_uri": "https://localhost:8080/"
        },
        "id": "ucMgLOr40j0c",
        "outputId": "160f0915-8b48-4561-8540-390447348753"
      },
      "execution_count": null,
      "outputs": [
        {
          "output_type": "stream",
          "name": "stdout",
          "text": [
            "Enter Your String: My Name is ketul\n",
            "Your space remove sentence is: MyNameisketul\n"
          ]
        }
      ]
    },
    {
      "cell_type": "code",
      "source": [
        "#Solutions 8\n",
        "\n",
        "user_string = input(\"Write Your String: \")\n",
        "\n",
        "length_count = 0\n",
        "\n",
        "for char in user_string:\n",
        "    length_count += 1\n",
        "\n",
        "print(length_count)"
      ],
      "metadata": {
        "colab": {
          "base_uri": "https://localhost:8080/"
        },
        "id": "dP2Ahrz81D9n",
        "outputId": "e3c7c1b7-9da1-4876-afdb-0e7af6b5f6e0"
      },
      "execution_count": null,
      "outputs": [
        {
          "output_type": "stream",
          "name": "stdout",
          "text": [
            "Write Your String: my name is ketul\n",
            "16\n"
          ]
        }
      ]
    },
    {
      "cell_type": "code",
      "source": [
        "#Solutions 9\n",
        "\n",
        "user_string = input(\"Enter a string: \")\n",
        "\n",
        "specific_word = input(\"Enter a word that you want to find: \")\n",
        "\n",
        "if specific_word in user_string:\n",
        "  print(\"Your word is in this string\")\n",
        "else:\n",
        "  print(\"Your word is not in this string\")"
      ],
      "metadata": {
        "colab": {
          "base_uri": "https://localhost:8080/"
        },
        "id": "24cCsyAN4C7a",
        "outputId": "b92af4b1-129e-4a1c-cc0c-20e72b1d9208"
      },
      "execution_count": null,
      "outputs": [
        {
          "output_type": "stream",
          "name": "stdout",
          "text": [
            "Enter a string: pw skills\n",
            "Enter a word that you want to find: pw\n",
            "Your word is in this string\n"
          ]
        }
      ]
    },
    {
      "cell_type": "code",
      "source": [
        "#Solutions 10\n",
        "\n",
        "user_string = \"My Name Is Khan\"\n",
        "\n",
        "new_word = user_string.replace(\"Khan\",\"Ketul\")\n",
        "\n",
        "print(new_word)"
      ],
      "metadata": {
        "colab": {
          "base_uri": "https://localhost:8080/"
        },
        "id": "33kAvkPD4vr_",
        "outputId": "327a9e8b-261f-4532-b21f-72306f036570"
      },
      "execution_count": null,
      "outputs": [
        {
          "output_type": "stream",
          "name": "stdout",
          "text": [
            "My Name Is Ketul\n"
          ]
        }
      ]
    },
    {
      "cell_type": "code",
      "source": [
        "#Solutions 11\n",
        "\n",
        "user_string = \"my name is Ketul, and my hobbie is typing my name\"\n",
        "\n",
        "word_count = \"my\"\n",
        "\n",
        "count = user_string.count(word_count)\n",
        "\n",
        "print(count)"
      ],
      "metadata": {
        "colab": {
          "base_uri": "https://localhost:8080/"
        },
        "id": "CPeyZMnG6bNu",
        "outputId": "8a3ba078-04ce-4ba9-b177-2af5e1a0da31"
      },
      "execution_count": null,
      "outputs": [
        {
          "output_type": "stream",
          "name": "stdout",
          "text": [
            "3\n"
          ]
        }
      ]
    },
    {
      "cell_type": "code",
      "source": [
        "#Solutions 12\n",
        "\n",
        "user_string = \"My name is Ketul, and my hobbie is typing my name\"\n",
        "\n",
        "word_find = \"name\"\n",
        "\n",
        "find = user_string.find(word_find)\n",
        "\n",
        "print(find)"
      ],
      "metadata": {
        "id": "Yh6iMV6y7zxa",
        "colab": {
          "base_uri": "https://localhost:8080/"
        },
        "outputId": "8c3ae804-29d5-4e72-b2bf-8aa8adfe6e15"
      },
      "execution_count": null,
      "outputs": [
        {
          "output_type": "stream",
          "name": "stdout",
          "text": [
            "3\n"
          ]
        }
      ]
    },
    {
      "cell_type": "code",
      "source": [
        "#Solutions 13\n",
        "\n",
        "user_string = \"My name is Ketul, and my hobbie is typing my name\"\n",
        "\n",
        "word_find = \"my\"\n",
        "\n",
        "find = user_string.rfind(word_find)\n",
        "\n",
        "print(find)"
      ],
      "metadata": {
        "colab": {
          "base_uri": "https://localhost:8080/"
        },
        "id": "DO0ISyy0OcBZ",
        "outputId": "db5478e5-cddf-4ac3-ccc5-39266638c947"
      },
      "execution_count": null,
      "outputs": [
        {
          "output_type": "stream",
          "name": "stdout",
          "text": [
            "42\n"
          ]
        }
      ]
    },
    {
      "cell_type": "code",
      "source": [
        "#Solutions 14\n",
        "\n",
        "user_string = \"This is string, split me please\"\n",
        "\n",
        "split_string = user_string.split()\n",
        "\n",
        "print(\"Your split string in list is:\",split_string)"
      ],
      "metadata": {
        "colab": {
          "base_uri": "https://localhost:8080/"
        },
        "id": "nodXzg-tPDXg",
        "outputId": "f304f412-72b2-4aee-aba7-a10fdb9ef5b5"
      },
      "execution_count": null,
      "outputs": [
        {
          "output_type": "stream",
          "name": "stdout",
          "text": [
            "Your split string in list is: ['This', 'is', 'string,', 'split', 'me', 'please']\n"
          ]
        }
      ]
    },
    {
      "cell_type": "code",
      "source": [
        "#Solutions 15\n",
        "\n",
        "user_string = ['This', 'is', 'string,', 'join', 'me', 'please']\n",
        "\n",
        "join_string = ' '.join(user_string)\n",
        "\n",
        "print(\"Your join string is:\",join_string)"
      ],
      "metadata": {
        "colab": {
          "base_uri": "https://localhost:8080/"
        },
        "id": "lbYeuIZ2PxDO",
        "outputId": "8b46c199-6f59-483d-d948-bbf397be854e"
      },
      "execution_count": null,
      "outputs": [
        {
          "output_type": "stream",
          "name": "stdout",
          "text": [
            "Your join string is: This is string, join me please\n"
          ]
        }
      ]
    },
    {
      "cell_type": "code",
      "source": [
        "#Solutions 16\n",
        "\n",
        "user_string = \"This is string separated by the space to under score\"\n",
        "\n",
        "sep_string = user_string.replace(\" \", \"_\")\n",
        "\n",
        "print(sep_string)"
      ],
      "metadata": {
        "colab": {
          "base_uri": "https://localhost:8080/"
        },
        "id": "ldmhMxGVQUAY",
        "outputId": "6774c034-ec71-41ca-e3cd-a6749410bf6e"
      },
      "execution_count": null,
      "outputs": [
        {
          "output_type": "stream",
          "name": "stdout",
          "text": [
            "This_is_string_separated_by_the_space_to_under_score\n"
          ]
        }
      ]
    },
    {
      "cell_type": "code",
      "source": [
        "#Solutions 17\n",
        "\n",
        "user_string = \"Hello, this is a sample string\"\n",
        "\n",
        "specific_word = \"Hello\"\n",
        "\n",
        "if user_string.startswith(specific_word):\n",
        "  print(\"The string starts with specific word\")\n",
        "else:\n",
        "  print(\"The string dose not starts with specific word\")"
      ],
      "metadata": {
        "colab": {
          "base_uri": "https://localhost:8080/"
        },
        "id": "NFirfuB5Q6CR",
        "outputId": "cb5bc3c0-b3f3-4c56-b1ba-01b95d74af0c"
      },
      "execution_count": null,
      "outputs": [
        {
          "output_type": "stream",
          "name": "stdout",
          "text": [
            "The string starts with specific word\n"
          ]
        }
      ]
    },
    {
      "cell_type": "code",
      "source": [
        "#Solutions 18\n",
        "\n",
        "user_string = \"Hello, this is a sample string\"\n",
        "\n",
        "specific_word = \"Hello\"\n",
        "\n",
        "if user_string.endswith(specific_word):\n",
        "  print(\"The string Ends with specific word\")\n",
        "else:\n",
        "  print(\"The string dose not Ends with specific word\")"
      ],
      "metadata": {
        "colab": {
          "base_uri": "https://localhost:8080/"
        },
        "id": "P0qlfWefRxSD",
        "outputId": "1c777118-201f-4732-a98c-622e049a14cc"
      },
      "execution_count": null,
      "outputs": [
        {
          "output_type": "stream",
          "name": "stdout",
          "text": [
            "The string dose not Ends with specific word\n"
          ]
        }
      ]
    },
    {
      "cell_type": "code",
      "source": [
        "#Solutions 19\n",
        "\n",
        "user_string = \"This is a string with 'hello world'\"\n",
        "\n",
        "title_string = user_string.title()\n",
        "\n",
        "print(\"Your title string is:\",title_string)"
      ],
      "metadata": {
        "colab": {
          "base_uri": "https://localhost:8080/"
        },
        "id": "lEBkVLKxSOR-",
        "outputId": "b8bddb0e-8821-4f29-be42-5777c94c84cf"
      },
      "execution_count": null,
      "outputs": [
        {
          "output_type": "stream",
          "name": "stdout",
          "text": [
            "Your title string is: This Is A String With 'Hello World'\n"
          ]
        }
      ]
    },
    {
      "cell_type": "code",
      "source": [
        "#Solutions 20\n",
        "user_string = \"This is a sample sentence with some long words like 'antidisestablishmentarianism'.\"\n",
        "\n",
        "longest_word = max(user_string.split(), key=len)\n",
        "\n",
        "print(longest_word)"
      ],
      "metadata": {
        "id": "dCgdEhXcSrGT",
        "colab": {
          "base_uri": "https://localhost:8080/"
        },
        "outputId": "76219f3d-011e-4458-8c94-103ffe25e089"
      },
      "execution_count": null,
      "outputs": [
        {
          "output_type": "stream",
          "name": "stdout",
          "text": [
            "'antidisestablishmentarianism'.\n"
          ]
        }
      ]
    },
    {
      "cell_type": "code",
      "source": [
        "#Solutions 21\n",
        "\n",
        "user_string = \"This is a sample sentence with some shortest words\"\n",
        "\n",
        "shortest_word = min(user_string.split(), key=len)\n",
        "\n",
        "print(shortest_word)"
      ],
      "metadata": {
        "id": "WJvbjD44Bj2x",
        "colab": {
          "base_uri": "https://localhost:8080/"
        },
        "outputId": "952b62d9-3ca1-4dc9-fb7a-f4fd5ce95f69"
      },
      "execution_count": null,
      "outputs": [
        {
          "output_type": "stream",
          "name": "stdout",
          "text": [
            "is\n"
          ]
        }
      ]
    },
    {
      "cell_type": "code",
      "source": [
        "#Solutions 22\n",
        "\n",
        "user_string = \"This is my reversed string\"\n",
        "\n",
        "split_string = user_string.split()\n",
        "\n",
        "reversed_string = \" \".join(reversed(split_string))\n",
        "\n",
        "print(reversed_string)"
      ],
      "metadata": {
        "colab": {
          "base_uri": "https://localhost:8080/"
        },
        "id": "3nRqUpLJredC",
        "outputId": "9e47c23c-bb5f-4898-cecd-7c05e24cd416"
      },
      "execution_count": null,
      "outputs": [
        {
          "output_type": "stream",
          "name": "stdout",
          "text": [
            "string reversed my is This\n"
          ]
        }
      ]
    },
    {
      "cell_type": "code",
      "source": [
        "#Solutions 23\n",
        "\n",
        "user_string = \"Hello123\"\n",
        "\n",
        "is_alphanumeric = user_string.isalnum()\n",
        "\n",
        "if is_alphanumeric:\n",
        "  print(\"The string is alphanumeric\")\n",
        "else:\n",
        "  print(\"The string is not alphanumeric\")"
      ],
      "metadata": {
        "colab": {
          "base_uri": "https://localhost:8080/"
        },
        "id": "pT7M51M1sHO-",
        "outputId": "bd73d670-479c-4ec9-b467-471a48e6905e"
      },
      "execution_count": null,
      "outputs": [
        {
          "output_type": "stream",
          "name": "stdout",
          "text": [
            "The string is alphanumeric\n"
          ]
        }
      ]
    },
    {
      "cell_type": "code",
      "source": [
        "#Solutions 24\n",
        "\n",
        "user_string = \"My age is 22 and i have an 5 ruppis in my bank account\"\n",
        "\n",
        "extracted_digit = \"\"\n",
        "\n",
        "for char in user_string:\n",
        "  if char.isdigit():\n",
        "    extracted_digit += char\n",
        "\n",
        "print(\"Extracted digits:\",extracted_digit)"
      ],
      "metadata": {
        "colab": {
          "base_uri": "https://localhost:8080/"
        },
        "id": "cwyjccOVtLGp",
        "outputId": "98f0bfac-568f-45b0-9dc0-09014d3a2728"
      },
      "execution_count": null,
      "outputs": [
        {
          "output_type": "stream",
          "name": "stdout",
          "text": [
            "Extracted digits: 225\n"
          ]
        }
      ]
    },
    {
      "cell_type": "code",
      "source": [
        "#Solutions 25\n",
        "\n",
        "user_string = \"My age is 22 and i have an 5 ruppis in my bank account\"\n",
        "\n",
        "extracted_alphabets = \"\"\n",
        "\n",
        "for char in user_string:\n",
        "  if char.isalpha():\n",
        "    extracted_alphabets += char\n",
        "\n",
        "print(\"Extracted Alphabets:\",extracted_alphabets)"
      ],
      "metadata": {
        "colab": {
          "base_uri": "https://localhost:8080/"
        },
        "id": "um6GmG-4udVH",
        "outputId": "0029899a-277c-4c68-e14f-e5af50c70a2e"
      },
      "execution_count": null,
      "outputs": [
        {
          "output_type": "stream",
          "name": "stdout",
          "text": [
            "Extracted digits: Myageisandihaveanruppisinmybankaccount\n"
          ]
        }
      ]
    },
    {
      "cell_type": "code",
      "source": [
        "#Solutions 26\n",
        "\n",
        "user_string = \"This string is for Count The Upper case Letters\"\n",
        "\n",
        "upper_case = 0\n",
        "\n",
        "for char in user_string:\n",
        "  if char.isupper():\n",
        "    upper_case += 1\n",
        "\n",
        "print(\"In this string upper latter count is:\",upper_case)"
      ],
      "metadata": {
        "colab": {
          "base_uri": "https://localhost:8080/"
        },
        "id": "IqxirAwfu_cH",
        "outputId": "a658c945-b3a0-4118-a1a3-a270afda03e5"
      },
      "execution_count": null,
      "outputs": [
        {
          "output_type": "stream",
          "name": "stdout",
          "text": [
            "In this string upper latter count is: 5\n"
          ]
        }
      ]
    },
    {
      "cell_type": "code",
      "source": [
        "#Solutions 27\n",
        "\n",
        "\n",
        "user_string = \"This string is for Count The lower case Letters\"\n",
        "\n",
        "lower_case = 0\n",
        "\n",
        "for char in user_string:\n",
        "  if char.islower():\n",
        "    lower_case += 1\n",
        "\n",
        "print(\"In this string lower case latter count is:\",lower_case)"
      ],
      "metadata": {
        "colab": {
          "base_uri": "https://localhost:8080/"
        },
        "id": "cFlveP1LvrDM",
        "outputId": "d7ab4349-68d8-480e-de5b-bdd3a9bb6a6c"
      },
      "execution_count": null,
      "outputs": [
        {
          "output_type": "stream",
          "name": "stdout",
          "text": [
            "In this string lower case latter count is: 35\n"
          ]
        }
      ]
    },
    {
      "cell_type": "code",
      "source": [
        "#Solutions 28\n",
        "\n",
        "user_string = \"tHIS IS sTRING THAT SWAP cHARACTERS\"\n",
        "\n",
        "swap_char = user_string.swapcase()\n",
        "\n",
        "print(swap_char)"
      ],
      "metadata": {
        "colab": {
          "base_uri": "https://localhost:8080/"
        },
        "id": "Bh1NmhGJwFE6",
        "outputId": "aa6d66bb-7490-43cc-df9d-5b7264ee8bf7"
      },
      "execution_count": null,
      "outputs": [
        {
          "output_type": "stream",
          "name": "stdout",
          "text": [
            "This is String that swap Characters\n"
          ]
        }
      ]
    },
    {
      "cell_type": "code",
      "source": [
        "#Solutions 29\n",
        "\n",
        "user_string = \"hello this word remove\"\n",
        "\n",
        "delet_word = \"this\"\n",
        "\n",
        "new_string = user_string.replace(delet_word,\"\")\n",
        "\n",
        "print(new_string)"
      ],
      "metadata": {
        "colab": {
          "base_uri": "https://localhost:8080/"
        },
        "id": "kvhb584ry0-b",
        "outputId": "b7fc562c-0737-4907-fa78-e1be2f50b6df"
      },
      "execution_count": null,
      "outputs": [
        {
          "output_type": "stream",
          "name": "stdout",
          "text": [
            "hello  word remove\n"
          ]
        }
      ]
    },
    {
      "cell_type": "code",
      "source": [
        "#Solutions 30\n",
        "\n",
        "import re\n",
        "\n",
        "def is_valid_email(email):\n",
        "    pattern = r'^[\\w\\.-]+@[\\w\\.-]+\\.\\w+$'\n",
        "    if re.match(pattern, email):\n",
        "        return True\n",
        "    else:\n",
        "        return False\n",
        "\n",
        "email1 = \"example@email.com\"\n",
        "email2 = \"invalid-email\"\n",
        "result1 = is_valid_email(email1)\n",
        "result2 = is_valid_email(email2)\n",
        "print(result1)\n",
        "print(result2)"
      ],
      "metadata": {
        "id": "lmRysC7PzHjy",
        "colab": {
          "base_uri": "https://localhost:8080/"
        },
        "outputId": "b419a51b-8d3b-4530-aff6-587ed07fe6e0"
      },
      "execution_count": 1,
      "outputs": [
        {
          "output_type": "stream",
          "name": "stdout",
          "text": [
            "True\n",
            "False\n"
          ]
        }
      ]
    },
    {
      "cell_type": "code",
      "source": [
        "#Solutions 31\n",
        "\n",
        "def extract_username(email):\n",
        "    username = email.split('@')[0]\n",
        "    return username\n",
        "\n",
        "\n",
        "email = \"ketulluhar@gmail.com\"\n",
        "your_mail = extract_username(email)\n",
        "print(your_mail)"
      ],
      "metadata": {
        "colab": {
          "base_uri": "https://localhost:8080/"
        },
        "id": "AF5aqAXmdSSq",
        "outputId": "21e53a75-5664-4f1d-b699-bd5f295f8ab5"
      },
      "execution_count": 3,
      "outputs": [
        {
          "output_type": "stream",
          "name": "stdout",
          "text": [
            "ketulluhar\n"
          ]
        }
      ]
    },
    {
      "cell_type": "code",
      "source": [
        "#Solutions 32\n",
        "\n",
        "def extract_domain(email):\n",
        "    domain = email.split('@')[1]\n",
        "    return domain\n",
        "\n",
        "email = \"ketulluhar@gmail.com\"\n",
        "your_domain = extract_domain(email)\n",
        "print(your_domain)"
      ],
      "metadata": {
        "colab": {
          "base_uri": "https://localhost:8080/"
        },
        "id": "-VMCce3udi_B",
        "outputId": "94c2e79e-4b03-4b4f-e871-014d4f3f1b09"
      },
      "execution_count": 4,
      "outputs": [
        {
          "output_type": "stream",
          "name": "stdout",
          "text": [
            "gmail.com\n"
          ]
        }
      ]
    },
    {
      "cell_type": "code",
      "source": [
        "#Solutions 33\n",
        "\n",
        "def replace_multiple_spaces(user_string):\n",
        "    cleaned_string = ' '.join(user_string.split())\n",
        "    return cleaned_string\n",
        "\n",
        "\n",
        "user_string = \"My   name   is  Ketul .\"\n",
        "result = replace_multiple_spaces(user_string)\n",
        "print(result)"
      ],
      "metadata": {
        "colab": {
          "base_uri": "https://localhost:8080/"
        },
        "id": "bJA_a4HHd2Oi",
        "outputId": "869e8146-1420-496a-9ed9-c74f438fd1c6"
      },
      "execution_count": 7,
      "outputs": [
        {
          "output_type": "stream",
          "name": "stdout",
          "text": [
            "My name is Ketul .\n"
          ]
        }
      ]
    },
    {
      "cell_type": "code",
      "source": [
        "#Solutions 34\n",
        "\n",
        "from urllib.parse import urlparse\n",
        "\n",
        "def is_valid_url(url):\n",
        "    try:\n",
        "        result = urlparse(url)\n",
        "        return all([result.scheme, result.netloc])  # Check if both scheme and netloc are present\n",
        "    except ValueError:\n",
        "        return False\n",
        "\n",
        "# Example URLs\n",
        "url1 = \"https://www.example.com\"\n",
        "url2 = \"invalid-url\"\n",
        "result1 = is_valid_url(url1)\n",
        "result2 = is_valid_url(url2)\n",
        "print(result1)  # Should print True\n",
        "print(result2)  # Should print False"
      ],
      "metadata": {
        "colab": {
          "base_uri": "https://localhost:8080/"
        },
        "id": "ELyH1RwLeC1k",
        "outputId": "d4252f8e-0a66-4f96-9b4e-b4d1cfeda0c3"
      },
      "execution_count": 8,
      "outputs": [
        {
          "output_type": "stream",
          "name": "stdout",
          "text": [
            "True\n",
            "False\n"
          ]
        }
      ]
    },
    {
      "cell_type": "code",
      "source": [
        "#Solutions 35\n",
        "\n",
        "def extract_protocol(url):\n",
        "    # Find the index of the first occurrence of \"://\"\n",
        "    protocol_end = url.find(\"://\")\n",
        "\n",
        "    if protocol_end != -1:\n",
        "        # Extract the protocol from the URL\n",
        "        protocol = url[:protocol_end]\n",
        "        return protocol\n",
        "    else:\n",
        "        return None\n",
        "\n",
        "# Example URL strings\n",
        "url1 = \"https://www.example.com\"\n",
        "url2 = \"http://google.com\"\n",
        "url3 = \"ftp://ftp.example.com\"\n",
        "\n",
        "# Extract protocols\n",
        "protocol1 = extract_protocol(url1)\n",
        "protocol2 = extract_protocol(url2)\n",
        "protocol3 = extract_protocol(url3)\n",
        "\n",
        "# Print extracted protocols\n",
        "print(\"Protocol 1:\", protocol1)\n",
        "print(\"Protocol 2:\", protocol2)\n",
        "print(\"Protocol 3:\", protocol3)"
      ],
      "metadata": {
        "colab": {
          "base_uri": "https://localhost:8080/"
        },
        "id": "7_3BSPDpeid3",
        "outputId": "da2e756a-3d82-459b-bf0c-a8b7df9d1677"
      },
      "execution_count": 9,
      "outputs": [
        {
          "output_type": "stream",
          "name": "stdout",
          "text": [
            "Protocol 1: https\n",
            "Protocol 2: http\n",
            "Protocol 3: ftp\n"
          ]
        }
      ]
    },
    {
      "cell_type": "code",
      "source": [
        "#Solutions 36\n",
        "\n",
        "def character_frequency(input_string):\n",
        "    frequency = {}  # Create an empty dictionary to store character frequencies\n",
        "\n",
        "    for char in input_string:\n",
        "        if char in frequency:\n",
        "            frequency[char] += 1  # Increment the frequency count if the character is already in the dictionary\n",
        "        else:\n",
        "            frequency[char] = 1   # Initialize the frequency count to 1 if the character is not in the dictionary\n",
        "\n",
        "    return frequency\n",
        "\n",
        "# Example string\n",
        "input_str = \"hello world\"\n",
        "\n",
        "# Calculate character frequencies\n",
        "char_freq = character_frequency(input_str)\n",
        "\n",
        "# Print character frequencies\n",
        "for char, freq in char_freq.items():\n",
        "    print(f\"Character: '{char}', Frequency: {freq}\")"
      ],
      "metadata": {
        "colab": {
          "base_uri": "https://localhost:8080/"
        },
        "id": "YdUi6Bh0elDG",
        "outputId": "30a4d8a5-9a5b-4efe-edc0-16d0004c6013"
      },
      "execution_count": 10,
      "outputs": [
        {
          "output_type": "stream",
          "name": "stdout",
          "text": [
            "Character: 'h', Frequency: 1\n",
            "Character: 'e', Frequency: 1\n",
            "Character: 'l', Frequency: 3\n",
            "Character: 'o', Frequency: 2\n",
            "Character: ' ', Frequency: 1\n",
            "Character: 'w', Frequency: 1\n",
            "Character: 'r', Frequency: 1\n",
            "Character: 'd', Frequency: 1\n"
          ]
        }
      ]
    },
    {
      "cell_type": "code",
      "source": [
        "#Solutions 37\n",
        "\n",
        "import string\n",
        "\n",
        "def remove_punctuation(input_string):\n",
        "    # Create a translation table to remove punctuation\n",
        "    translator = str.maketrans(\"\", \"\", string.punctuation)\n",
        "\n",
        "    # Use the translation table to remove punctuation from the input string\n",
        "    clean_string = input_string.translate(translator)\n",
        "\n",
        "    return clean_string\n",
        "\n",
        "# Example string with punctuation\n",
        "input_str = \"Hello, world! How's it going?\"\n",
        "\n",
        "# Remove punctuation\n",
        "cleaned_str = remove_punctuation(input_str)\n",
        "\n",
        "# Print the cleaned string\n",
        "print(\"Original string:\", input_str)\n",
        "print(\"Cleaned string:\", cleaned_str)"
      ],
      "metadata": {
        "colab": {
          "base_uri": "https://localhost:8080/"
        },
        "id": "M7b3gqHHeqJJ",
        "outputId": "cb4257ee-2f41-4cf2-9be3-41525041f0ff"
      },
      "execution_count": 11,
      "outputs": [
        {
          "output_type": "stream",
          "name": "stdout",
          "text": [
            "Original string: Hello, world! How's it going?\n",
            "Cleaned string: Hello world Hows it going\n"
          ]
        }
      ]
    },
    {
      "cell_type": "code",
      "source": [
        "#Solutions 38\n",
        "\n",
        "def contains_only_digits(input_string):\n",
        "    # Check if all characters in the string are digits\n",
        "    return input_string.isdigit()\n",
        "\n",
        "# Example strings\n",
        "string1 = \"12345\"\n",
        "string2 = \"Hello123\"\n",
        "string3 = \"456.789\"\n",
        "\n",
        "# Check if strings contain only digits\n",
        "result1 = contains_only_digits(string1)\n",
        "result2 = contains_only_digits(string2)\n",
        "result3 = contains_only_digits(string3)\n",
        "\n",
        "# Print the results\n",
        "print(f\"'{string1}' contains only digits:\", result1)\n",
        "print(f\"'{string2}' contains only digits:\", result2)\n",
        "print(f\"'{string3}' contains only digits:\", result3)"
      ],
      "metadata": {
        "colab": {
          "base_uri": "https://localhost:8080/"
        },
        "id": "PHuVsCzMewes",
        "outputId": "88178e03-5637-44c2-f7c4-5416f9cfac61"
      },
      "execution_count": 12,
      "outputs": [
        {
          "output_type": "stream",
          "name": "stdout",
          "text": [
            "'12345' contains only digits: True\n",
            "'Hello123' contains only digits: False\n",
            "'456.789' contains only digits: False\n"
          ]
        }
      ]
    },
    {
      "cell_type": "code",
      "source": [
        "#Solutions 39\n",
        "\n",
        "def contains_only_alphabets(input_string):\n",
        "    # Check if all characters in the string are alphabetic\n",
        "    return input_string.isalpha()\n",
        "\n",
        "# Example strings\n",
        "string1 = \"Hello\"\n",
        "string2 = \"Hello123\"\n",
        "string3 = \"12345\"\n",
        "\n",
        "# Check if strings contain only alphabets\n",
        "result1 = contains_only_alphabets(string1)\n",
        "result2 = contains_only_alphabets(string2)\n",
        "result3 = contains_only_alphabets(string3)\n",
        "\n",
        "# Print the results\n",
        "print(f\"'{string1}' contains only alphabets:\", result1)\n",
        "print(f\"'{string2}' contains only alphabets:\", result2)\n",
        "print(f\"'{string3}' contains only alphabets:\", result3)"
      ],
      "metadata": {
        "colab": {
          "base_uri": "https://localhost:8080/"
        },
        "id": "mQHop_6Xe0GB",
        "outputId": "2a27eb81-855e-4c81-c994-b9526a4da81d"
      },
      "execution_count": 13,
      "outputs": [
        {
          "output_type": "stream",
          "name": "stdout",
          "text": [
            "'Hello' contains only alphabets: True\n",
            "'Hello123' contains only alphabets: False\n",
            "'12345' contains only alphabets: False\n"
          ]
        }
      ]
    },
    {
      "cell_type": "code",
      "source": [
        "#Solutions 40\n",
        "\n",
        "def string_to_list(input_string):\n",
        "    # Use list() constructor to convert the string to a list of characters\n",
        "    char_list = list(input_string)\n",
        "    return char_list\n",
        "\n",
        "# Example string\n",
        "input_str = \"Hello, world!\"\n",
        "\n",
        "# Convert the string to a list of characters\n",
        "char_list = string_to_list(input_str)\n",
        "\n",
        "# Print the list of characters\n",
        "print(\"Original string:\", input_str)\n",
        "print(\"List of characters:\", char_list)"
      ],
      "metadata": {
        "colab": {
          "base_uri": "https://localhost:8080/"
        },
        "id": "Xo6q00sye4BU",
        "outputId": "882ee0ff-d32f-4695-a6da-a88d60d9da35"
      },
      "execution_count": 25,
      "outputs": [
        {
          "output_type": "stream",
          "name": "stdout",
          "text": [
            "Original string: Hello, world!\n",
            "List of characters: ['H', 'e', 'l', 'l', 'o', ',', ' ', 'w', 'o', 'r', 'l', 'd', '!']\n"
          ]
        }
      ]
    },
    {
      "cell_type": "code",
      "source": [
        "#Solutions 41\n",
        "\n",
        "def are_anagrams(str1, str2):\n",
        "    # Remove spaces and convert strings to lowercase for accurate comparison\n",
        "    str1 = str1.replace(\" \", \"\").lower()\n",
        "    str2 = str2.replace(\" \", \"\").lower()\n",
        "\n",
        "    # Sort the characters in both strings and compare\n",
        "    return sorted(str1) == sorted(str2)\n",
        "\n",
        "# Example strings\n",
        "string1 = \"listen\"\n",
        "string2 = \"silent\"\n",
        "string3 = \"hello\"\n",
        "string4 = \"world\"\n",
        "\n",
        "# Check if strings are anagrams\n",
        "result1 = are_anagrams(string1, string2)\n",
        "result2 = are_anagrams(string3, string4)\n",
        "\n",
        "# Print the results\n",
        "print(f\"'{string1}' and '{string2}' are anagrams:\", result1)\n",
        "print(f\"'{string3}' and '{string4}' are anagrams:\", result2)"
      ],
      "metadata": {
        "colab": {
          "base_uri": "https://localhost:8080/"
        },
        "id": "qBT4Himpe8_T",
        "outputId": "56fd346f-9082-486f-a08f-5803718111f2"
      },
      "execution_count": 26,
      "outputs": [
        {
          "output_type": "stream",
          "name": "stdout",
          "text": [
            "'listen' and 'silent' are anagrams: True\n",
            "'hello' and 'world' are anagrams: False\n"
          ]
        }
      ]
    },
    {
      "cell_type": "code",
      "source": [
        "#Solutions 42\n",
        "\n",
        "# Define a function named caesar_cipher that encodes a string using a Caesar cipher.\n",
        "def caesar_cipher(text, shift):\n",
        "  \"\"\"\n",
        "  Encodes a string using a Caesar cipher.\n",
        "\n",
        "  Args:\n",
        "    text: The string to encode.\n",
        "    shift: The number of positions to shift each letter.\n",
        "\n",
        "  Returns:\n",
        "    The encoded string.\n",
        "  \"\"\"\n",
        "\n",
        "  # Initialize an empty string to store the encoded text.\n",
        "  encoded_text = \"\"\n",
        "\n",
        "  # Iterate through each character in the input text.\n",
        "  for char in text:\n",
        "    # Check if the character is alphabetic.\n",
        "    if char.isalpha():\n",
        "      # Calculate the encoded character's Unicode code point value by shifting it by the specified amount.\n",
        "      # Ensure the value wraps around within the lowercase alphabet range (a-z).\n",
        "      encoded_char = chr((ord(char) + shift - ord('a')) % 26 + ord('a'))\n",
        "    else:\n",
        "      # Keep non-alphabetic characters unchanged.\n",
        "      encoded_char = char\n",
        "\n",
        "    # Add the encoded character to the encoded text.\n",
        "    encoded_text += encoded_char\n",
        "\n",
        "  # Return the resulting encoded text.\n",
        "  return encoded_text\n",
        "\n",
        "# Define the input text and the shift value for encoding.\n",
        "text = \"Hello, world!\"\n",
        "shift = 3\n",
        "\n",
        "# Call the caesar_cipher function to encode the text using the specified shift.\n",
        "encoded_text = caesar_cipher(text, shift)\n",
        "\n",
        "# Print the encoded text.\n",
        "print(\"Encoded text:\", encoded_text)"
      ],
      "metadata": {
        "colab": {
          "base_uri": "https://localhost:8080/"
        },
        "id": "WieK-IGae-qi",
        "outputId": "d9196750-6afc-4b45-82ac-a6c17917dd55"
      },
      "execution_count": 27,
      "outputs": [
        {
          "output_type": "stream",
          "name": "stdout",
          "text": [
            "Encoded text: ehoor, zruog!\n"
          ]
        }
      ]
    },
    {
      "cell_type": "code",
      "source": [
        "#Solutions 43\n",
        "\n",
        "# Define a function to decode a string using a Caesar cipher\n",
        "def caesar_cipher_decoder(text, shift):\n",
        "    \"\"\"\n",
        "    Decodes a string using a Caesar cipher.\n",
        "\n",
        "    Args:\n",
        "        text: The string to decode.\n",
        "        shift: The number of positions to shift each letter.\n",
        "\n",
        "    Returns:\n",
        "        The decoded string.\n",
        "    \"\"\"\n",
        "\n",
        "    # Initialize an empty string to store the decoded text\n",
        "    decoded_text = \"\"\n",
        "\n",
        "    # Loop through each character in the input text\n",
        "    for char in text:\n",
        "        # Check if the character is an alphabetic character\n",
        "        if char.isalpha():\n",
        "            # Calculate the decoded character using the shift value\n",
        "            decoded_char = chr((ord(char) - shift - ord('a')) % 26 + ord('a'))\n",
        "        else:\n",
        "            # If the character is not alphabetic, keep it unchanged\n",
        "            decoded_char = char\n",
        "\n",
        "        # Add the decoded character to the decoded text\n",
        "        decoded_text += decoded_char\n",
        "\n",
        "    # Return the fully decoded text\n",
        "    return decoded_text\n",
        "\n",
        "# Example input\n",
        "text = \"lopp, zruog!\"\n",
        "shift = 3\n",
        "\n",
        "# Call the caesar_cipher_decoder function to decode the input text\n",
        "decoded_text = caesar_cipher_decoder(text, shift)\n",
        "\n",
        "# Print the decoded text\n",
        "print(\"Decoded text:\", decoded_text)"
      ],
      "metadata": {
        "colab": {
          "base_uri": "https://localhost:8080/"
        },
        "id": "0mOZ2zqWe_Rv",
        "outputId": "3a2dbaa8-19f1-455e-c911-35979d8563b6"
      },
      "execution_count": 28,
      "outputs": [
        {
          "output_type": "stream",
          "name": "stdout",
          "text": [
            "Decoded text: ilmm, world!\n"
          ]
        }
      ]
    },
    {
      "cell_type": "code",
      "source": [
        "import re\n",
        "from collections import Counter\n",
        "\n",
        "def most_frequent_word(input_string):\n",
        "    # Remove punctuation and convert to lowercase\n",
        "    clean_string = re.sub(r'[^\\w\\s]', '', input_string).lower()\n",
        "\n",
        "    # Split the string into words\n",
        "    words = clean_string.split()\n",
        "\n",
        "    # Use Counter to count word frequencies\n",
        "    word_counter = Counter(words)\n",
        "\n",
        "    # Find the most common word\n",
        "    most_common_word = word_counter.most_common(1)[0][0]\n",
        "    return most_common_word\n",
        "\n",
        "# Example string\n",
        "input_str = \"Hello world, hello there! How's the world?\"\n",
        "\n",
        "# Find the most frequent word\n",
        "most_common = most_frequent_word(input_str)\n",
        "\n",
        "# Print the result\n",
        "print(\"Most frequent word:\", most_common)"
      ],
      "metadata": {
        "colab": {
          "base_uri": "https://localhost:8080/"
        },
        "id": "KtFlqhQifAHA",
        "outputId": "f2db15d6-35fe-4e58-8835-85c540ec8dee"
      },
      "execution_count": 31,
      "outputs": [
        {
          "output_type": "stream",
          "name": "stdout",
          "text": [
            "Most frequent word: hello\n"
          ]
        }
      ]
    },
    {
      "cell_type": "code",
      "source": [
        "#Solutions 45\n",
        "\n",
        "import re\n",
        "\n",
        "def unique_words(input_string):\n",
        "    # Remove punctuation and convert to lowercase\n",
        "    clean_string = re.sub(r'[^\\w\\s]', '', input_string).lower()\n",
        "\n",
        "    # Split the string into words and convert to a set for uniqueness\n",
        "    words = set(clean_string.split())\n",
        "\n",
        "    return words\n",
        "\n",
        "# Example string\n",
        "input_str = \"Hello world, hello there! How's the world?\"\n",
        "\n",
        "# Find unique words\n",
        "unique_word_set = unique_words(input_str)\n",
        "\n",
        "# Print the result\n",
        "print(\"Unique words:\", unique_word_set)"
      ],
      "metadata": {
        "colab": {
          "base_uri": "https://localhost:8080/"
        },
        "id": "3kpUMadTfAqs",
        "outputId": "fcec7cfa-31cd-4e78-f090-ef4471322517"
      },
      "execution_count": 30,
      "outputs": [
        {
          "output_type": "stream",
          "name": "stdout",
          "text": [
            "Unique words: {'hello', 'the', 'there', 'hows', 'world'}\n"
          ]
        }
      ]
    },
    {
      "cell_type": "code",
      "source": [
        "#Solutions 46\n",
        "\n",
        "import re\n",
        "\n",
        "def count_syllables(word):\n",
        "    # Count vowel groups using regular expression\n",
        "    vowel_groups = re.findall(r'[aeiouy]+', word, re.IGNORECASE)\n",
        "\n",
        "    return len(vowel_groups)\n",
        "\n",
        "# Example words\n",
        "word1 = \"hello\"\n",
        "word2 = \"banana\"\n",
        "word3 = \"syllable\"\n",
        "\n",
        "# Count syllables\n",
        "syllables1 = count_syllables(word1)\n",
        "syllables2 = count_syllables(word2)\n",
        "syllables3 = count_syllables(word3)\n",
        "\n",
        "# Print the results\n",
        "print(f\"'{word1}' has {syllables1} syllables.\")\n",
        "print(f\"'{word2}' has {syllables2} syllables.\")\n",
        "print(f\"'{word3}' has {syllables3} syllables.\")"
      ],
      "metadata": {
        "colab": {
          "base_uri": "https://localhost:8080/"
        },
        "id": "RZkVY2tDfBOu",
        "outputId": "dc2e6842-e9ed-48c6-826c-6c852c561f34"
      },
      "execution_count": 32,
      "outputs": [
        {
          "output_type": "stream",
          "name": "stdout",
          "text": [
            "'hello' has 2 syllables.\n",
            "'banana' has 3 syllables.\n",
            "'syllable' has 3 syllables.\n"
          ]
        }
      ]
    },
    {
      "cell_type": "code",
      "source": [
        "#Solutions 47\n",
        "\n",
        "import re\n",
        "\n",
        "def contains_special_characters(input_string):\n",
        "    # Define a regular expression pattern to match special characters\n",
        "    pattern = re.compile(r'[!@#$%^&*()_+{}\\[\\]:;<>,.?~\\\\/]')\n",
        "\n",
        "    # Use the search() method to find a match\n",
        "    match = pattern.search(input_string)\n",
        "\n",
        "    # Return True if a match is found, False otherwise\n",
        "    return bool(match)\n",
        "\n",
        "# Example strings\n",
        "string1 = \"Hello, world!\"\n",
        "string2 = \"This is a test.\"\n",
        "string3 = \"Special@Characters\"\n",
        "\n",
        "# Check if strings contain special characters\n",
        "result1 = contains_special_characters(string1)\n",
        "result2 = contains_special_characters(string2)\n",
        "result3 = contains_special_characters(string3)\n",
        "\n",
        "# Print the results\n",
        "print(f\"'{string1}' contains special characters:\", result1)\n",
        "print(f\"'{string2}' contains special characters:\", result2)\n",
        "print(f\"'{string3}' contains special characters:\", result3)"
      ],
      "metadata": {
        "colab": {
          "base_uri": "https://localhost:8080/"
        },
        "id": "tfuf5tWNfBvO",
        "outputId": "8a614fc2-0429-4e02-e055-44c0328f7436"
      },
      "execution_count": 33,
      "outputs": [
        {
          "output_type": "stream",
          "name": "stdout",
          "text": [
            "'Hello, world!' contains special characters: True\n",
            "'This is a test.' contains special characters: True\n",
            "'Special@Characters' contains special characters: True\n"
          ]
        }
      ]
    },
    {
      "cell_type": "code",
      "source": [
        "#Solutions 48\n",
        "\n",
        "def remove_nth_word(input_string, n):\n",
        "    # Split the input string into words\n",
        "    words = input_string.split()\n",
        "\n",
        "    # Check if n is within a valid range\n",
        "    if n >= 1 and n <= len(words):\n",
        "        # Remove the nth word by excluding it from the words list\n",
        "        removed_word = words.pop(n - 1)\n",
        "\n",
        "        # Join the remaining words to form the modified string\n",
        "        modified_string = ' '.join(words)\n",
        "\n",
        "        return modified_string, removed_word\n",
        "    else:\n",
        "        return None, None\n",
        "\n",
        "# Example string and n value\n",
        "input_str = \"This is an example sentence to test the function.\"\n",
        "n_value = 4\n",
        "\n",
        "# Remove the nth word\n",
        "modified_str, removed_word = remove_nth_word(input_str, n_value)\n",
        "\n",
        "# Print the results\n",
        "print(\"Original string:\", input_str)\n",
        "if modified_str is not None:\n",
        "    print(\"Modified string:\", modified_str)\n",
        "    print(\"Removed word:\", removed_word)\n",
        "else:\n",
        "    print(\"Invalid n value.\")"
      ],
      "metadata": {
        "colab": {
          "base_uri": "https://localhost:8080/"
        },
        "id": "x5Pd-MPRfCX2",
        "outputId": "9cf5f02f-da7d-4c26-fa84-62dd3ee6a7fc"
      },
      "execution_count": 34,
      "outputs": [
        {
          "output_type": "stream",
          "name": "stdout",
          "text": [
            "Original string: This is an example sentence to test the function.\n",
            "Modified string: This is an sentence to test the function.\n",
            "Removed word: example\n"
          ]
        }
      ]
    },
    {
      "cell_type": "code",
      "source": [
        "#Solutions 49\n",
        "\n"
      ],
      "metadata": {
        "id": "A0lsIQCTfDRf"
      },
      "execution_count": 23,
      "outputs": []
    },
    {
      "cell_type": "code",
      "source": [
        "#Solutions 50\n",
        "\n",
        "def csv_string_to_list(csv_string):\n",
        "    # Split the CSV string into lines\n",
        "    lines = csv_string.split('\\n')\n",
        "\n",
        "    # Initialize an empty list to store the result\n",
        "    result = []\n",
        "\n",
        "    for line in lines:\n",
        "        # Split each line into fields using comma as the delimiter\n",
        "        fields = line.split(',')\n",
        "\n",
        "        # Append the fields to the result list as a row\n",
        "        result.append(fields)\n",
        "\n",
        "    return result\n",
        "\n",
        "# Example CSV string\n",
        "csv_data = \"Name, Age, Country\\nJohn, 25, USA\\nAlice, 30, Canada\\nBob, 22, UK\"\n",
        "\n",
        "# Convert CSV string to a list of lists\n",
        "list_of_lists = csv_string_to_list(csv_data)\n",
        "\n",
        "# Print the result\n",
        "for row in list_of_lists:\n",
        "    print(row)"
      ],
      "metadata": {
        "colab": {
          "base_uri": "https://localhost:8080/"
        },
        "id": "IF-o2__vfD-q",
        "outputId": "8ad7c572-fa90-4b1d-b828-9b358a0310df"
      },
      "execution_count": 35,
      "outputs": [
        {
          "output_type": "stream",
          "name": "stdout",
          "text": [
            "['Name', ' Age', ' Country']\n",
            "['John', ' 25', ' USA']\n",
            "['Alice', ' 30', ' Canada']\n",
            "['Bob', ' 22', ' UK']\n"
          ]
        }
      ]
    },
    {
      "cell_type": "markdown",
      "source": [
        "# TOPIC:List based practice problem"
      ],
      "metadata": {
        "id": "QwWSpy4Ign14"
      }
    },
    {
      "cell_type": "markdown",
      "metadata": {
        "id": "lz1_qrt9xz6z"
      },
      "source": [
        "### 1. Create a list with integers from 1 to 10."
      ]
    },
    {
      "cell_type": "code",
      "execution_count": null,
      "metadata": {
        "colab": {
          "base_uri": "https://localhost:8080/"
        },
        "id": "HBv9Jr-mgscv",
        "outputId": "d88cf98a-94db-448c-cbbf-eea4f15e3a7a"
      },
      "outputs": [
        {
          "name": "stdout",
          "output_type": "stream",
          "text": [
            "[1, 2, 3, 4, 5, 6, 7, 8, 9, 10]\n"
          ]
        }
      ],
      "source": [
        "# Use a list comprehension to create a list of integers from 1 to 10\n",
        "integer_list = [i for i in range(1, 11)]\n",
        "\n",
        "# Print the list\n",
        "print(integer_list)"
      ]
    },
    {
      "cell_type": "markdown",
      "metadata": {
        "id": "jAKf5vAlrGBU"
      },
      "source": [
        "### 2. Find the length of a list without using the `len()` function."
      ]
    },
    {
      "cell_type": "code",
      "execution_count": null,
      "metadata": {
        "colab": {
          "base_uri": "https://localhost:8080/"
        },
        "id": "hfJ998DQgsbO",
        "outputId": "fa73b8d9-bd23-45bb-8e45-352e3d3f9a0b"
      },
      "outputs": [
        {
          "name": "stdout",
          "output_type": "stream",
          "text": [
            "Length of the list: 5\n"
          ]
        }
      ],
      "source": [
        "def custom_len(input_list):\n",
        "    count = 0\n",
        "    for _ in input_list:\n",
        "        count += 1\n",
        "    return count\n",
        "\n",
        "# Example list\n",
        "my_list = [10, 20, 30, 40, 50]\n",
        "\n",
        "# Find the length of the list using the custom_len function\n",
        "length = custom_len(my_list)\n",
        "\n",
        "# Print the length of the list\n",
        "print(\"Length of the list:\", length)"
      ]
    },
    {
      "cell_type": "code",
      "source": [
        "s = \"Name, Age, Country\\nJohn, 25, USA\\nAlice, 30, Canada\\nBob, 22, UK\"\n",
        "lines = s.split(\"\\n\")\n",
        "\n",
        "lst = []\n",
        "for line in lines:\n",
        "  field = line.split(\",\")\n",
        "  lst.append(field)\n",
        "\n",
        "for row in lst:\n",
        "  print(row)\n"
      ],
      "metadata": {
        "colab": {
          "base_uri": "https://localhost:8080/"
        },
        "id": "bpzX5ne5mHml",
        "outputId": "59c8f375-84ea-4367-9dbf-70ff06b1f127"
      },
      "execution_count": null,
      "outputs": [
        {
          "output_type": "stream",
          "name": "stdout",
          "text": [
            "['Name', ' Age', ' Country']\n",
            "['John', ' 25', ' USA']\n",
            "['Alice', ' 30', ' Canada']\n",
            "['Bob', ' 22', ' UK']\n"
          ]
        }
      ]
    },
    {
      "cell_type": "markdown",
      "metadata": {
        "id": "wbAR0rp2rGav"
      },
      "source": [
        "### 3. Append an element to the end of a list."
      ]
    },
    {
      "cell_type": "code",
      "execution_count": null,
      "metadata": {
        "colab": {
          "base_uri": "https://localhost:8080/"
        },
        "id": "2SzNlOKYgsac",
        "outputId": "94ffaf4c-dff9-4ad6-b803-100e16f0ce3d"
      },
      "outputs": [
        {
          "name": "stdout",
          "output_type": "stream",
          "text": [
            "Updated list: [10, 20, 30, 40]\n"
          ]
        }
      ],
      "source": [
        "# Example list\n",
        "my_list = [10, 20, 30]\n",
        "\n",
        "# Element to append\n",
        "new_element = 40\n",
        "\n",
        "# Append the new element to the end of the list\n",
        "my_list.append(new_element)\n",
        "\n",
        "# Print the updated list\n",
        "print(\"Updated list:\", my_list)"
      ]
    },
    {
      "cell_type": "markdown",
      "metadata": {
        "id": "Sl7xCQvDrG0u"
      },
      "source": [
        "### 4. Insert an element at a specific index in a list."
      ]
    },
    {
      "cell_type": "code",
      "execution_count": null,
      "metadata": {
        "colab": {
          "base_uri": "https://localhost:8080/"
        },
        "id": "oGAwnbFwgsZr",
        "outputId": "a1f3bd7c-1f8c-4671-def6-b9e812f0c51e"
      },
      "outputs": [
        {
          "name": "stdout",
          "output_type": "stream",
          "text": [
            "Updated list: [10, 20, 25, 30, 40, 50]\n"
          ]
        }
      ],
      "source": [
        "# Example list\n",
        "my_list = [10, 20, 30, 40, 50]\n",
        "\n",
        "# Element to insert\n",
        "new_element = 25\n",
        "\n",
        "# Index at which to insert the element\n",
        "index_to_insert = 2\n",
        "\n",
        "# Insert the new element at the specified index\n",
        "my_list.insert(index_to_insert, new_element)\n",
        "\n",
        "# Print the updated list\n",
        "print(\"Updated list:\", my_list)"
      ]
    },
    {
      "cell_type": "markdown",
      "metadata": {
        "id": "-Xx4g6WgrHYR"
      },
      "source": [
        "### 5. Remove an element from a list by its value."
      ]
    },
    {
      "cell_type": "code",
      "execution_count": null,
      "metadata": {
        "colab": {
          "base_uri": "https://localhost:8080/"
        },
        "id": "hJ_0KgcJgsYz",
        "outputId": "5c03c6bf-ca22-48f9-aa89-1cf5558a0415"
      },
      "outputs": [
        {
          "name": "stdout",
          "output_type": "stream",
          "text": [
            "Updated list: [10, 20, 40, 50]\n"
          ]
        }
      ],
      "source": [
        "# Example list\n",
        "my_list = [10, 20, 30, 40, 50]\n",
        "\n",
        "# Element to remove\n",
        "element_to_remove = 30\n",
        "\n",
        "# Remove the element by its value\n",
        "my_list.remove(element_to_remove)\n",
        "\n",
        "# Print the updated list\n",
        "print(\"Updated list:\", my_list)"
      ]
    },
    {
      "cell_type": "markdown",
      "metadata": {
        "id": "yAz6XlYZrHv-"
      },
      "source": [
        "### 6. Remove an element from a list by its index."
      ]
    },
    {
      "cell_type": "code",
      "execution_count": null,
      "metadata": {
        "colab": {
          "base_uri": "https://localhost:8080/"
        },
        "id": "GYqHgr5QgsMv",
        "outputId": "42171240-254d-4b35-a5c3-8146090820fe"
      },
      "outputs": [
        {
          "name": "stdout",
          "output_type": "stream",
          "text": [
            "Updated list: [10, 20, 40, 50]\n",
            "Removed element: 30\n"
          ]
        }
      ],
      "source": [
        "# Example list\n",
        "my_list = [10, 20, 30, 40, 50]\n",
        "\n",
        "# Index of the element to remove\n",
        "index_to_remove = 2\n",
        "\n",
        "# Remove the element at the specified index\n",
        "removed_element = my_list.pop(index_to_remove)\n",
        "\n",
        "# Print the updated list and the removed element\n",
        "print(\"Updated list:\", my_list)\n",
        "print(\"Removed element:\", removed_element)"
      ]
    },
    {
      "cell_type": "markdown",
      "metadata": {
        "id": "1dnj8Du_rIkf"
      },
      "source": [
        "### 7. Check if an element exists in a list."
      ]
    },
    {
      "cell_type": "code",
      "execution_count": null,
      "metadata": {
        "colab": {
          "base_uri": "https://localhost:8080/"
        },
        "id": "J7-olb7DgsKt",
        "outputId": "50f07a34-d7ff-4657-c460-d1d65e5d7352"
      },
      "outputs": [
        {
          "name": "stdout",
          "output_type": "stream",
          "text": [
            "30 exists in the list.\n"
          ]
        }
      ],
      "source": [
        "# Example list\n",
        "my_list = [10, 20, 30, 40, 50]\n",
        "\n",
        "# Element to check\n",
        "element_to_check = 30\n",
        "\n",
        "# Check if the element exists in the list\n",
        "if element_to_check in my_list:\n",
        "    print(f\"{element_to_check} exists in the list.\")\n",
        "else:\n",
        "    print(f\"{element_to_check} does not exist in the list.\")"
      ]
    },
    {
      "cell_type": "markdown",
      "metadata": {
        "id": "FImkVOADrI8Y"
      },
      "source": [
        "### 8. Find the index of the first occurrence of an element in a list."
      ]
    },
    {
      "cell_type": "code",
      "execution_count": null,
      "metadata": {
        "colab": {
          "base_uri": "https://localhost:8080/"
        },
        "id": "wJRKT2wNgsJo",
        "outputId": "fcd9e8de-e7cc-46f4-af24-47afd7c37860"
      },
      "outputs": [
        {
          "name": "stdout",
          "output_type": "stream",
          "text": [
            "The index of 30 is 2\n"
          ]
        }
      ],
      "source": [
        "# Example list\n",
        "my_list = [10, 20, 30, 40, 50, 30]\n",
        "\n",
        "# Element to find the index of\n",
        "element_to_find = 30\n",
        "\n",
        "# Find the index of the first occurrence of the element\n",
        "index = my_list.index(element_to_find)\n",
        "\n",
        "# Print the index\n",
        "print(f\"The index of {element_to_find} is {index}\")"
      ]
    },
    {
      "cell_type": "markdown",
      "metadata": {
        "id": "jbTlBdlKrJaI"
      },
      "source": [
        "### 9. Count the occurrences of an element in a list."
      ]
    },
    {
      "cell_type": "code",
      "execution_count": null,
      "metadata": {
        "colab": {
          "base_uri": "https://localhost:8080/"
        },
        "id": "IiB-CoCHgsEA",
        "outputId": "c37b2b36-b63b-461a-b7ce-90bb43703a85"
      },
      "outputs": [
        {
          "name": "stdout",
          "output_type": "stream",
          "text": [
            "The element 30 occurs 3 times in the list.\n"
          ]
        }
      ],
      "source": [
        "# Example list\n",
        "my_list = [10, 20, 30, 40, 50, 30, 30]\n",
        "\n",
        "# Element to count occurrences of\n",
        "element_to_count = 30\n",
        "\n",
        "# Count the occurrences of the element\n",
        "count = my_list.count(element_to_count)\n",
        "\n",
        "# Print the count\n",
        "print(f\"The element {element_to_count} occurs {count} times in the list.\")"
      ]
    },
    {
      "cell_type": "markdown",
      "metadata": {
        "id": "QamShnd6rJ1q"
      },
      "source": [
        "### 10. Reverse the order of elements in a list."
      ]
    },
    {
      "cell_type": "code",
      "execution_count": null,
      "metadata": {
        "colab": {
          "base_uri": "https://localhost:8080/"
        },
        "id": "xOLx-OD6gsBQ",
        "outputId": "2529d021-3ea2-47a7-c9f8-fbcf2286e1cf"
      },
      "outputs": [
        {
          "name": "stdout",
          "output_type": "stream",
          "text": [
            "Reversed list: [50, 40, 30, 20, 10]\n"
          ]
        }
      ],
      "source": [
        "# Example list\n",
        "my_list = [10, 20, 30, 40, 50]\n",
        "\n",
        "# Reverse the order of elements in the list\n",
        "my_list.reverse()\n",
        "\n",
        "# Print the reversed list\n",
        "print(\"Reversed list:\", my_list)"
      ]
    },
    {
      "cell_type": "markdown",
      "metadata": {
        "id": "EDi2f4uDrKNj"
      },
      "source": [
        "### 11. Sort a list in ascending order."
      ]
    },
    {
      "cell_type": "code",
      "execution_count": null,
      "metadata": {
        "colab": {
          "base_uri": "https://localhost:8080/"
        },
        "id": "QBueF5bZgr_B",
        "outputId": "0f84d9fa-8a9e-406b-e6c7-742c9672a8e9"
      },
      "outputs": [
        {
          "name": "stdout",
          "output_type": "stream",
          "text": [
            "Sorted list in ascending order: [10, 20, 30, 40, 50]\n"
          ]
        }
      ],
      "source": [
        "# Example list\n",
        "my_list = [50, 10, 30, 40, 20]\n",
        "\n",
        "# Sort the list in ascending order\n",
        "my_list.sort()\n",
        "\n",
        "# Print the sorted list\n",
        "print(\"Sorted list in ascending order:\", my_list)"
      ]
    },
    {
      "cell_type": "markdown",
      "metadata": {
        "id": "i3fV_9K9rKuv"
      },
      "source": [
        "### 12. Sort a list in descending order."
      ]
    },
    {
      "cell_type": "code",
      "execution_count": null,
      "metadata": {
        "colab": {
          "base_uri": "https://localhost:8080/"
        },
        "id": "Lbyz_1aGgr-I",
        "outputId": "4be1969c-d0bf-46cf-d7bf-1176a6c5f886"
      },
      "outputs": [
        {
          "name": "stdout",
          "output_type": "stream",
          "text": [
            "Sorted list in descending order: [50, 40, 30, 20, 10]\n"
          ]
        }
      ],
      "source": [
        "# Example list\n",
        "my_list = [50, 10, 30, 40, 20]\n",
        "\n",
        "# Sort the list in descending order\n",
        "my_list.sort(reverse=True)\n",
        "\n",
        "# Print the sorted list\n",
        "print(\"Sorted list in descending order:\", my_list)"
      ]
    },
    {
      "cell_type": "markdown",
      "metadata": {
        "id": "hWwRTjbmrLJ2"
      },
      "source": [
        "### 13. Create a list of even numbers from 1 to 20."
      ]
    },
    {
      "cell_type": "code",
      "execution_count": null,
      "metadata": {
        "colab": {
          "base_uri": "https://localhost:8080/"
        },
        "id": "QKoCcI-dgr7s",
        "outputId": "43d1434e-2bdb-4541-b384-7b515f31927c"
      },
      "outputs": [
        {
          "name": "stdout",
          "output_type": "stream",
          "text": [
            "List of even numbers: [2, 4, 6, 8, 10, 12, 14, 16, 18, 20]\n"
          ]
        }
      ],
      "source": [
        "# Use a list comprehension to create a list of even numbers from 1 to 20\n",
        "even_numbers = [x for x in range(2, 21, 2)]\n",
        "\n",
        "# Print the list of even numbers\n",
        "print(\"List of even numbers:\", even_numbers)"
      ]
    },
    {
      "cell_type": "markdown",
      "metadata": {
        "id": "KP7eNEH-yVz-"
      },
      "source": [
        "### 14. Create a list of odd numbers from 1 to 20."
      ]
    },
    {
      "cell_type": "code",
      "execution_count": null,
      "metadata": {
        "colab": {
          "base_uri": "https://localhost:8080/"
        },
        "id": "X4zdu8hZgr66",
        "outputId": "5e7fd5dd-7082-40c2-a7fe-2e4dd5731d9e"
      },
      "outputs": [
        {
          "name": "stdout",
          "output_type": "stream",
          "text": [
            "List of odd numbers: [1, 3, 5, 7, 9, 11, 13, 15, 17, 19]\n"
          ]
        }
      ],
      "source": [
        "# Use a list comprehension to create a list of odd numbers from 1 to 20\n",
        "odd_numbers = [x for x in range(1, 21, 2)]\n",
        "\n",
        "# Print the list of odd numbers\n",
        "print(\"List of odd numbers:\", odd_numbers)"
      ]
    },
    {
      "cell_type": "markdown",
      "metadata": {
        "id": "EUVagH8XyWVJ"
      },
      "source": [
        "### 15. Find the sum of all elements in a list."
      ]
    },
    {
      "cell_type": "code",
      "execution_count": null,
      "metadata": {
        "colab": {
          "base_uri": "https://localhost:8080/"
        },
        "id": "uQ_N2M2DgrzK",
        "outputId": "be995df1-2f20-43ce-a923-c1d7a499cb2e"
      },
      "outputs": [
        {
          "name": "stdout",
          "output_type": "stream",
          "text": [
            "Sum of elements: 150\n"
          ]
        }
      ],
      "source": [
        "# Example list\n",
        "my_list = [10, 20, 30, 40, 50]\n",
        "\n",
        "# Calculate the sum of all elements in the list\n",
        "total_sum = sum(my_list)\n",
        "\n",
        "# Print the sum\n",
        "print(\"Sum of elements:\", total_sum)"
      ]
    },
    {
      "cell_type": "markdown",
      "metadata": {
        "id": "gk0LFY23yW3C"
      },
      "source": [
        "### 16. Find the maximum value in a list."
      ]
    },
    {
      "cell_type": "code",
      "execution_count": null,
      "metadata": {
        "colab": {
          "base_uri": "https://localhost:8080/"
        },
        "id": "vew0f_HggrwP",
        "outputId": "90b9db0c-857f-4fb7-ffb4-058d9fd75ed6"
      },
      "outputs": [
        {
          "name": "stdout",
          "output_type": "stream",
          "text": [
            "Maximum value: 50\n"
          ]
        }
      ],
      "source": [
        "# Example list\n",
        "my_list = [10, 20, 30, 40, 50]\n",
        "\n",
        "# Find the maximum value in the list\n",
        "max_value = max(my_list)\n",
        "\n",
        "# Print the maximum value\n",
        "print(\"Maximum value:\", max_value)"
      ]
    },
    {
      "cell_type": "markdown",
      "metadata": {
        "id": "BcraRjtzyXYX"
      },
      "source": [
        "### 17. Find the minimum value in a list."
      ]
    },
    {
      "cell_type": "code",
      "execution_count": null,
      "metadata": {
        "colab": {
          "base_uri": "https://localhost:8080/"
        },
        "id": "M9RVQZeBgrtb",
        "outputId": "eab214a8-aa38-45b5-fb5d-371078bb4537"
      },
      "outputs": [
        {
          "name": "stdout",
          "output_type": "stream",
          "text": [
            "Minimum value: 10\n"
          ]
        }
      ],
      "source": [
        "# Example list\n",
        "my_list = [10, 20, 30, 40, 50]\n",
        "\n",
        "# Find the minimum value in the list\n",
        "min_value = min(my_list)\n",
        "\n",
        "# Print the minimum value\n",
        "print(\"Minimum value:\", min_value)"
      ]
    },
    {
      "cell_type": "markdown",
      "metadata": {
        "id": "ujcm7alzyX5Y"
      },
      "source": [
        "### 18. Create a list of squares of numbers from 1 to 10."
      ]
    },
    {
      "cell_type": "code",
      "execution_count": null,
      "metadata": {
        "colab": {
          "base_uri": "https://localhost:8080/"
        },
        "id": "_0IoT32Kgrq1",
        "outputId": "6805aeba-7cd9-4e76-897d-01a1637cb1cc"
      },
      "outputs": [
        {
          "name": "stdout",
          "output_type": "stream",
          "text": [
            "List of squares: [1, 4, 9, 16, 25, 36, 49, 64, 81, 100]\n"
          ]
        }
      ],
      "source": [
        "# Use a list comprehension to create a list of squares of numbers from 1 to 10\n",
        "squares = [x ** 2 for x in range(1, 11)]\n",
        "\n",
        "# Print the list of squares\n",
        "print(\"List of squares:\", squares)"
      ]
    },
    {
      "cell_type": "markdown",
      "metadata": {
        "id": "yJVngKybyYc-"
      },
      "source": [
        "### 19. Create a list of random numbers."
      ]
    },
    {
      "cell_type": "code",
      "execution_count": null,
      "metadata": {
        "colab": {
          "base_uri": "https://localhost:8080/"
        },
        "id": "uKrRQ4psgrpC",
        "outputId": "f51faf37-4c4c-47d2-f27f-fb18905b4e31"
      },
      "outputs": [
        {
          "name": "stdout",
          "output_type": "stream",
          "text": [
            "List of random integers: [18, 70, 27, 94, 47, 97, 7, 11, 42, 41]\n"
          ]
        }
      ],
      "source": [
        "import random\n",
        "\n",
        "# Create a list of random integers between 1 and 100\n",
        "random_integers = [random.randint(1, 100) for _ in range(10)]\n",
        "\n",
        "# Print the list of random integers\n",
        "print(\"List of random integers:\", random_integers)"
      ]
    },
    {
      "cell_type": "markdown",
      "metadata": {
        "id": "pWJClsASyZYs"
      },
      "source": [
        "### 20. Remove duplicates from a list."
      ]
    },
    {
      "cell_type": "code",
      "execution_count": null,
      "metadata": {
        "colab": {
          "base_uri": "https://localhost:8080/"
        },
        "id": "GCtPMDhngrnD",
        "outputId": "0a82aa55-dc06-4e44-832e-e56aa0956904"
      },
      "outputs": [
        {
          "name": "stdout",
          "output_type": "stream",
          "text": [
            "List without duplicates: [40, 10, 50, 20, 30]\n"
          ]
        }
      ],
      "source": [
        "# Example list with duplicates\n",
        "my_list = [10, 20, 30, 20, 40, 10, 50, 30]\n",
        "\n",
        "# Remove duplicates by converting to a set and back to a list\n",
        "unique_list = list(set(my_list))\n",
        "\n",
        "# Print the list without duplicates\n",
        "print(\"List without duplicates:\", unique_list)"
      ]
    },
    {
      "cell_type": "markdown",
      "metadata": {
        "id": "kt9V5-TCyaEA"
      },
      "source": [
        "### 21. Find the common elements between two lists."
      ]
    },
    {
      "cell_type": "markdown",
      "metadata": {
        "id": "uPK_WBxayall"
      },
      "source": [
        "### 22. Find the difference between two lists."
      ]
    },
    {
      "cell_type": "code",
      "execution_count": null,
      "metadata": {
        "colab": {
          "base_uri": "https://localhost:8080/"
        },
        "id": "tKw_7cGggrlg",
        "outputId": "0c359200-411f-4fd0-ca9c-4b5af691454b"
      },
      "outputs": [
        {
          "name": "stdout",
          "output_type": "stream",
          "text": [
            "Difference between lists: [20, 10]\n"
          ]
        }
      ],
      "source": [
        "# Example lists\n",
        "list1 = [10, 20, 30, 40, 50]\n",
        "list2 = [30, 40, 50, 60, 70]\n",
        "\n",
        "# Find the difference between lists using the difference() method\n",
        "difference = list(set(list1).difference(list2))\n",
        "\n",
        "# Print the difference\n",
        "print(\"Difference between lists:\", difference)"
      ]
    },
    {
      "cell_type": "markdown",
      "metadata": {
        "id": "WLfspKUZybIj"
      },
      "source": [
        "### 23. Merge two lists."
      ]
    },
    {
      "cell_type": "code",
      "execution_count": null,
      "metadata": {
        "colab": {
          "base_uri": "https://localhost:8080/"
        },
        "id": "AWskZS1lgrca",
        "outputId": "92e442bc-dbdd-4dcc-db7f-cabe4d90f4a0"
      },
      "outputs": [
        {
          "name": "stdout",
          "output_type": "stream",
          "text": [
            "Merged list: [10, 20, 30, 40, 50, 60]\n"
          ]
        }
      ],
      "source": [
        "# Example lists\n",
        "list1 = [10, 20, 30]\n",
        "list2 = [40, 50, 60]\n",
        "\n",
        "# Merge lists using the + operator\n",
        "merged_list = list1 + list2\n",
        "\n",
        "# Print the merged list\n",
        "print(\"Merged list:\", merged_list)"
      ]
    },
    {
      "cell_type": "markdown",
      "metadata": {
        "id": "l-jBC_m-ybsl"
      },
      "source": [
        "### 24. Multiply all elements in a list by 2."
      ]
    },
    {
      "cell_type": "code",
      "execution_count": null,
      "metadata": {
        "colab": {
          "base_uri": "https://localhost:8080/"
        },
        "id": "YTW-BpSAgrZa",
        "outputId": "b3cea98d-5ae4-48f2-c4ff-d96d648c9382"
      },
      "outputs": [
        {
          "output_type": "stream",
          "name": "stdout",
          "text": [
            "Multiplied list: [20, 40, 60, 80, 100]\n"
          ]
        }
      ],
      "source": [
        "# Example list\n",
        "my_list = [10, 20, 30, 40, 50]\n",
        "\n",
        "# Multiply all elements by 2 using a list comprehension\n",
        "multiplied_list = [x * 2 for x in my_list]\n",
        "\n",
        "# Print the multiplied list\n",
        "print(\"Multiplied list:\", multiplied_list)"
      ]
    },
    {
      "cell_type": "markdown",
      "metadata": {
        "id": "pKwR1FtnydOf"
      },
      "source": [
        "### 25. Filter out all even numbers from a list."
      ]
    },
    {
      "cell_type": "code",
      "execution_count": null,
      "metadata": {
        "colab": {
          "base_uri": "https://localhost:8080/"
        },
        "id": "hd1w3qMRgrXg",
        "outputId": "50cb06a8-b613-43f5-b746-f25faa5b49db"
      },
      "outputs": [
        {
          "name": "stdout",
          "output_type": "stream",
          "text": [
            "Filtered list (odd numbers): [15, 25, 35, 45]\n"
          ]
        }
      ],
      "source": []
    },
    {
      "cell_type": "markdown",
      "metadata": {
        "id": "sd3pGwkWydxT"
      },
      "source": [
        "### 26. Convert a list of strings to a list of integers."
      ]
    },
    {
      "cell_type": "code",
      "execution_count": null,
      "metadata": {
        "colab": {
          "base_uri": "https://localhost:8080/"
        },
        "id": "gTMnFQ7agrWj",
        "outputId": "ee90c82f-b8e7-4ecd-eb82-56ef8d272a8f"
      },
      "outputs": [
        {
          "name": "stdout",
          "output_type": "stream",
          "text": [
            "List of integers: [10, 20, 30, 40, 50]\n"
          ]
        }
      ],
      "source": [
        "# Example list of strings\n",
        "string_list = [\"10\", \"20\", \"30\", \"40\", \"50\"]\n",
        "\n",
        "# Convert list of strings to list of integers using a list comprehension\n",
        "integer_list = [int(x) for x in string_list]\n",
        "\n",
        "# Print the list of integers\n",
        "print(\"List of integers:\", integer_list)"
      ]
    },
    {
      "cell_type": "markdown",
      "metadata": {
        "id": "8LTYpEUxyeT1"
      },
      "source": [
        "### 27. Convert a list of integers to a list of strings."
      ]
    },
    {
      "cell_type": "code",
      "execution_count": null,
      "metadata": {
        "colab": {
          "base_uri": "https://localhost:8080/"
        },
        "id": "Ha1tu5VAgrRm",
        "outputId": "388bd9b6-79ab-403a-8027-744669599a74"
      },
      "outputs": [
        {
          "name": "stdout",
          "output_type": "stream",
          "text": [
            "List of strings: ['10', '20', '30', '40', '50']\n"
          ]
        }
      ],
      "source": [
        "# Example list of integers\n",
        "integer_list = [10, 20, 30, 40, 50]\n",
        "\n",
        "# Convert list of integers to list of strings using a list comprehension\n",
        "string_list = [str(x) for x in integer_list]\n",
        "\n",
        "# Print the list of strings\n",
        "print(\"List of strings:\", string_list)"
      ]
    },
    {
      "cell_type": "markdown",
      "metadata": {
        "id": "yjFHarGqye0x"
      },
      "source": [
        "### 28. Flatten a nested list."
      ]
    },
    {
      "cell_type": "code",
      "execution_count": null,
      "metadata": {
        "colab": {
          "base_uri": "https://localhost:8080/"
        },
        "id": "5iekdXfxgrPo",
        "outputId": "efd4232e-c3e8-4449-ae55-57459491aa15"
      },
      "outputs": [
        {
          "output_type": "stream",
          "name": "stdout",
          "text": [
            "Flattened list: [1, 2, 3, 4, 5, 6, 7, 8, 9]\n"
          ]
        }
      ],
      "source": [
        "# Example nested list\n",
        "nested_list = [[1, 2, 3], [4, 5], [6, 7, 8, 9]]\n",
        "\n",
        "# Function to flatten a nested list\n",
        "def flatten_list(nested):\n",
        "    flattened = []\n",
        "    for sublist in nested:\n",
        "        if isinstance(sublist, list):\n",
        "            flattened.extend(flatten_list(sublist))\n",
        "        else:\n",
        "            flattened.append(sublist)\n",
        "    return flattened\n",
        "\n",
        "# Flatten the nested list\n",
        "flattened_list = flatten_list(nested_list)\n",
        "\n",
        "# Print the flattened list\n",
        "print(\"Flattened list:\", flattened_list)"
      ]
    },
    {
      "cell_type": "markdown",
      "metadata": {
        "id": "5oiXi4tfyfWs"
      },
      "source": [
        "### 29. Create a list of the first 10 Fibonacci numbers."
      ]
    },
    {
      "cell_type": "code",
      "execution_count": null,
      "metadata": {
        "colab": {
          "base_uri": "https://localhost:8080/"
        },
        "id": "7aAqEChcgrLi",
        "outputId": "dc93bb35-5bfb-435a-cf0c-761f9d394245"
      },
      "outputs": [
        {
          "output_type": "stream",
          "name": "stdout",
          "text": [
            "First 10 Fibonacci numbers: [0, 1]\n"
          ]
        }
      ],
      "source": [
        "# Function to generate the first n Fibonacci numbers\n",
        "def generate_fibonacci(n):\n",
        "    fibonacci_list = [0, 1]  # Initialize the list with the first two Fibonacci numbers\n",
        "\n",
        "    for i in range(2, n):\n",
        "        next_fibonacci = fibonacci_list[i - 1] + fibonacci_list[i - 2]\n",
        "        fibonacci_list.append(next_fibonacci)\n",
        "\n",
        "    return fibonacci_list\n",
        "\n",
        "# Generate the first 10 Fibonacci numbers\n",
        "fibonacci_numbers = generate_fibonacci(2)\n",
        "\n",
        "# Print the list of Fibonacci numbers\n",
        "print(\"First 10 Fibonacci numbers:\", fibonacci_numbers)"
      ]
    },
    {
      "cell_type": "markdown",
      "metadata": {
        "id": "yzPpXDnoyf4p"
      },
      "source": [
        "### 30. Check if a list is sorted.\n",
        "  \n",
        "  - Checking for ascending order:"
      ]
    },
    {
      "cell_type": "code",
      "execution_count": null,
      "metadata": {
        "colab": {
          "base_uri": "https://localhost:8080/"
        },
        "id": "NNFBtpO-14Zx",
        "outputId": "a3d1a5a6-edc6-4a4b-ec10-ecad5394480b"
      },
      "outputs": [
        {
          "name": "stdout",
          "output_type": "stream",
          "text": [
            "The list is sorted in ascending order.\n"
          ]
        }
      ],
      "source": [
        "# Function to check if a list is sorted in ascending order\n",
        "def is_sorted_ascending(lst):\n",
        "    for i in range(1, len(lst)):\n",
        "        if lst[i] < lst[i - 1]:\n",
        "            return False\n",
        "    return True\n",
        "\n",
        "# Example list\n",
        "ascending_list = [10, 20, 30, 40, 50]\n",
        "\n",
        "# Check if the list is sorted in ascending order\n",
        "if is_sorted_ascending(ascending_list):\n",
        "    print(\"The list is sorted in ascending order.\")\n",
        "else:\n",
        "    print(\"The list is not sorted in ascending order.\")"
      ]
    },
    {
      "cell_type": "markdown",
      "metadata": {
        "id": "897y4fgR2Hop"
      },
      "source": [
        "### 31. Rotate a list to the left by `n` positions."
      ]
    },
    {
      "cell_type": "code",
      "execution_count": null,
      "metadata": {
        "colab": {
          "base_uri": "https://localhost:8080/"
        },
        "id": "HBM2P3fhgrHp",
        "outputId": "9dbbbab2-3f8c-4b0c-dcda-94c9cd347930"
      },
      "outputs": [
        {
          "output_type": "stream",
          "name": "stdout",
          "text": [
            "Rotated list: [3, 4, 5, 6, 1, 2]\n"
          ]
        }
      ],
      "source": [
        "# Function to rotate a list to the left by n positions\n",
        "def rotate_left(lst, n):\n",
        "    n = n % len(lst)  # Normalize n to handle cases where n is larger than the list length\n",
        "    # print(n)\n",
        "    rotated = lst[n:] + lst[:n]\n",
        "    return rotated\n",
        "\n",
        "# Example list\n",
        "my_list = [1, 2, 3, 4, 5, 6]\n",
        "\n",
        "# Number of positions to rotate by\n",
        "n = 2\n",
        "\n",
        "# Rotate the list to the left by n positions\n",
        "rotated_list = rotate_left(my_list, n)\n",
        "\n",
        "# Print the rotated list\n",
        "print(\"Rotated list:\", rotated_list)"
      ]
    },
    {
      "cell_type": "markdown",
      "metadata": {
        "id": "K95fHXLB2IOX"
      },
      "source": [
        "### 32. Rotate a list to the right by `n` positions."
      ]
    },
    {
      "cell_type": "code",
      "execution_count": null,
      "metadata": {
        "colab": {
          "base_uri": "https://localhost:8080/"
        },
        "id": "VXMNpkFMgrGt",
        "outputId": "2e17a293-0c6a-4f66-aade-32b4519741a1"
      },
      "outputs": [
        {
          "output_type": "stream",
          "name": "stdout",
          "text": [
            "Rotated list: [5, 6, 1, 2, 3, 4]\n"
          ]
        }
      ],
      "source": [
        "# Function to rotate a list to the right by n positions\n",
        "def rotate_right(lst, n):\n",
        "    n = n % len(lst)  # Normalize n to handle cases where n is larger than the list length\n",
        "    # print(n)\n",
        "    rotated = lst[-n:] + lst[:-n]\n",
        "    return rotated\n",
        "\n",
        "# Example list\n",
        "my_list = [1, 2, 3, 4, 5, 6]\n",
        "\n",
        "# Number of positions to rotate by\n",
        "n = 2\n",
        "\n",
        "# Rotate the list to the right by n positions\n",
        "rotated_list = rotate_right(my_list, n)\n",
        "\n",
        "# Print the rotated list\n",
        "print(\"Rotated list:\", rotated_list)"
      ]
    },
    {
      "cell_type": "markdown",
      "metadata": {
        "id": "_q54f9dU2JX0"
      },
      "source": [
        "### 33. Create a list of prime numbers up to 50."
      ]
    },
    {
      "cell_type": "code",
      "execution_count": null,
      "metadata": {
        "colab": {
          "base_uri": "https://localhost:8080/"
        },
        "id": "-B36MdHWgrA7",
        "outputId": "060d8681-2e28-4b38-9c2d-c22b6673722d"
      },
      "outputs": [
        {
          "output_type": "stream",
          "name": "stdout",
          "text": [
            "5 25\n",
            "5 29\n",
            "List of prime numbers up to 50: [2, 3, 5, 7, 11, 13, 17, 19, 23, 29]\n"
          ]
        }
      ],
      "source": [
        "# Function to check if a number is prime\n",
        "def is_prime(num):\n",
        "    if num <= 1:\n",
        "        return False\n",
        "    if num <= 3:\n",
        "        return True\n",
        "    if num % 2 == 0 or num % 3 == 0:\n",
        "        return False\n",
        "    i = 5\n",
        "    while i * i <= num:\n",
        "      print(i,num)\n",
        "      if num % i == 0 or num % (i + 2) == 0:\n",
        "          return False\n",
        "      i += 6\n",
        "    return True\n",
        "\n",
        "# Create a list of prime numbers up to 50\n",
        "prime_numbers = [num for num in range(2,30) if is_prime(num)]\n",
        "\n",
        "# Print the list of prime numbers\n",
        "print(\"List of prime numbers up to 50:\", prime_numbers)"
      ]
    },
    {
      "cell_type": "markdown",
      "metadata": {
        "id": "ML9-5sJ-2zHB"
      },
      "source": [
        "### 34. Split a list into chunks of size `n`."
      ]
    },
    {
      "cell_type": "code",
      "execution_count": null,
      "metadata": {
        "colab": {
          "base_uri": "https://localhost:8080/"
        },
        "id": "Z809WT0Agq-O",
        "outputId": "b88e2068-3672-4ea7-ee3c-500862d1833e"
      },
      "outputs": [
        {
          "name": "stdout",
          "output_type": "stream",
          "text": [
            "List of prime numbers up to 50: [2, 3, 5, 7, 11, 13, 17, 19, 23, 29, 31, 37, 41, 43, 47]\n"
          ]
        }
      ],
      "source": [
        "# Create a list of prime numbers up to 50 using Sieve of Eratosthenes algorithm\n",
        "def sieve_of_eratosthenes(limit):\n",
        "    primes = []\n",
        "    is_prime = [True] * (limit + 1)\n",
        "    is_prime[0] = is_prime[1] = False\n",
        "\n",
        "    for num in range(2, int(limit ** 0.5) + 1):\n",
        "        if is_prime[num]:\n",
        "            primes.append(num)\n",
        "            for multiple in range(num * num, limit + 1, num):\n",
        "                is_prime[multiple] = False\n",
        "\n",
        "    for num in range(int(limit ** 0.5) + 1, limit + 1):\n",
        "        if is_prime[num]:\n",
        "            primes.append(num)\n",
        "\n",
        "    return primes\n",
        "\n",
        "# Create a list of prime numbers up to 50\n",
        "prime_numbers = sieve_of_eratosthenes(50)\n",
        "\n",
        "# Print the list of prime numbers\n",
        "print(\"List of prime numbers up to 50:\", prime_numbers)"
      ]
    },
    {
      "cell_type": "markdown",
      "metadata": {
        "id": "nLfwKnSp22GI"
      },
      "source": [
        "### 35. Find the second largest number in a list."
      ]
    },
    {
      "cell_type": "code",
      "execution_count": null,
      "metadata": {
        "colab": {
          "base_uri": "https://localhost:8080/"
        },
        "id": "GCt4O2YVgq8Q",
        "outputId": "f53bfb18-0afb-434c-b119-a45d509720e6"
      },
      "outputs": [
        {
          "name": "stdout",
          "output_type": "stream",
          "text": [
            "Second largest number: 25\n"
          ]
        }
      ],
      "source": [
        "# Example list\n",
        "my_list = [10, 5, 20, 15, 30, 25]\n",
        "\n",
        "# Remove duplicates and sort the list in ascending order\n",
        "sorted_list = sorted(set(my_list))\n",
        "\n",
        "# Find the second largest number\n",
        "if len(sorted_list) >= 2:\n",
        "    second_largest = sorted_list[-2]\n",
        "    print(\"Second largest number:\", second_largest)\n",
        "else:\n",
        "    print(\"The list does not contain enough elements.\")"
      ]
    },
    {
      "cell_type": "markdown",
      "metadata": {
        "id": "D6B0qY6i249n"
      },
      "source": [
        "### 36. Replace every element in a list with its square."
      ]
    },
    {
      "cell_type": "code",
      "execution_count": null,
      "metadata": {
        "colab": {
          "base_uri": "https://localhost:8080/"
        },
        "id": "zY-poGL6gq6y",
        "outputId": "87566301-0293-40c3-a8af-cb8d55227063"
      },
      "outputs": [
        {
          "name": "stdout",
          "output_type": "stream",
          "text": [
            "Squared list: [4, 16, 36, 64, 100]\n"
          ]
        }
      ],
      "source": [
        "# Example list\n",
        "my_list = [2, 4, 6, 8, 10]\n",
        "\n",
        "# Replace every element with its square using a list comprehension\n",
        "squared_list = [x ** 2 for x in my_list]\n",
        "\n",
        "# Print the squared list\n",
        "print(\"Squared list:\", squared_list)"
      ]
    },
    {
      "cell_type": "markdown",
      "metadata": {
        "id": "z2XP8BOM27Y8"
      },
      "source": [
        "### 37. Convert a list to a dictionary where list elements become keys and their indices become values."
      ]
    },
    {
      "cell_type": "code",
      "execution_count": null,
      "metadata": {
        "colab": {
          "base_uri": "https://localhost:8080/"
        },
        "id": "inObYp3Egq53",
        "outputId": "b2865239-499c-4ef7-dc95-dfbed02ad0f7"
      },
      "outputs": [
        {
          "name": "stdout",
          "output_type": "stream",
          "text": [
            "Converted dictionary: {'apple': 0, 'banana': 1, 'cherry': 2, 'date': 3, 'elderberry': 4}\n"
          ]
        }
      ],
      "source": [
        "# Example list\n",
        "my_list = ['apple', 'banana', 'cherry', 'date', 'elderberry']\n",
        "\n",
        "# Convert list to dictionary using dictionary comprehension\n",
        "my_dict = {element: index for index, element in enumerate(my_list)}\n",
        "\n",
        "# Print the resulting dictionary\n",
        "print(\"Converted dictionary:\", my_dict)"
      ]
    },
    {
      "cell_type": "markdown",
      "metadata": {
        "id": "1hHqOamu2M8R"
      },
      "source": [
        "### 38. Shuffle the elements of a list randomly."
      ]
    },
    {
      "cell_type": "code",
      "execution_count": null,
      "metadata": {
        "colab": {
          "base_uri": "https://localhost:8080/"
        },
        "id": "AaZ-FRgTgqzt",
        "outputId": "cc6e4b7a-609a-452e-9ecb-30176e395961"
      },
      "outputs": [
        {
          "name": "stdout",
          "output_type": "stream",
          "text": [
            "Shuffled list: [7, 10, 1, 6, 8, 9, 2, 3, 5, 4]\n"
          ]
        }
      ],
      "source": [
        "import random\n",
        "\n",
        "# Example list\n",
        "my_list = [1, 2, 3, 4, 5, 6, 7, 8, 9, 10]\n",
        "\n",
        "# Shuffle the list randomly\n",
        "random.shuffle(my_list)\n",
        "\n",
        "# Print the shuffled list\n",
        "print(\"Shuffled list:\", my_list)"
      ]
    },
    {
      "cell_type": "markdown",
      "metadata": {
        "id": "gYWFCreB3A-R"
      },
      "source": [
        "### 39. Create a list of the first 10 factorial numbers."
      ]
    },
    {
      "cell_type": "code",
      "execution_count": null,
      "metadata": {
        "colab": {
          "base_uri": "https://localhost:8080/"
        },
        "id": "MIJJ6FwAgqw7",
        "outputId": "21d81965-6b20-41a7-8f55-1356d5844aea"
      },
      "outputs": [
        {
          "name": "stdout",
          "output_type": "stream",
          "text": [
            "List of the first 10 factorial numbers: [1, 1, 2, 6, 24, 120, 720, 5040, 40320, 362880]\n"
          ]
        }
      ],
      "source": [
        "# Function to calculate factorial\n",
        "def factorial(n):\n",
        "    if n == 0 or n == 1:\n",
        "        return 1\n",
        "    else:\n",
        "        return n * factorial(n - 1)\n",
        "\n",
        "# Create a list of the first 10 factorial numbers\n",
        "factorial_numbers = [factorial(i) for i in range(10)]\n",
        "\n",
        "# Print the list of factorial numbers\n",
        "print(\"List of the first 10 factorial numbers:\", factorial_numbers)"
      ]
    },
    {
      "cell_type": "markdown",
      "metadata": {
        "id": "bE3R0nz-3D6T"
      },
      "source": [
        "### 40. Check if two lists have at least one element in common."
      ]
    },
    {
      "cell_type": "code",
      "execution_count": null,
      "metadata": {
        "colab": {
          "base_uri": "https://localhost:8080/"
        },
        "id": "p36w5Y73gqvd",
        "outputId": "44e30052-107a-451d-c293-5afe41fd06a2"
      },
      "outputs": [
        {
          "name": "stdout",
          "output_type": "stream",
          "text": [
            "The lists have at least one common element.\n"
          ]
        }
      ],
      "source": [
        "# Function to check if two lists have at least one element in common\n",
        "def has_common_element(list1, list2):\n",
        "    for item in list1:\n",
        "        if item in list2:\n",
        "            return True\n",
        "    return False\n",
        "\n",
        "# Example lists\n",
        "list1 = [1, 2, 3, 4, 5]\n",
        "list2 = [4, 5, 6, 7, 8]\n",
        "\n",
        "# Check if the two lists have at least one element in common\n",
        "if has_common_element(list1, list2):\n",
        "    print(\"The lists have at least one common element.\")\n",
        "else:\n",
        "    print(\"The lists do not have any common elements.\")"
      ]
    },
    {
      "cell_type": "markdown",
      "metadata": {
        "id": "FZVlK7RC3Eop"
      },
      "source": [
        "### 41. Remove all elements from a list."
      ]
    },
    {
      "cell_type": "code",
      "execution_count": null,
      "metadata": {
        "colab": {
          "base_uri": "https://localhost:8080/"
        },
        "id": "vUKj8VMegqr4",
        "outputId": "26e19249-a95e-4fcb-aae5-59f1ce41c112"
      },
      "outputs": [
        {
          "name": "stdout",
          "output_type": "stream",
          "text": [
            "Empty list: []\n"
          ]
        }
      ],
      "source": [
        "# Example list\n",
        "my_list = [1, 2, 3, 4, 5]\n",
        "\n",
        "# Clear all elements from the list\n",
        "my_list.clear()\n",
        "\n",
        "# Print the empty list\n",
        "print(\"Empty list:\", my_list)"
      ]
    },
    {
      "cell_type": "markdown",
      "metadata": {
        "id": "Uei9cEB02QuI"
      },
      "source": [
        "Using the clear() method, approach will result in an empty list."
      ]
    },
    {
      "cell_type": "markdown",
      "metadata": {
        "id": "opbNh8in3KNa"
      },
      "source": [
        "### 42. Replace negative numbers in a list with 0."
      ]
    },
    {
      "cell_type": "code",
      "execution_count": null,
      "metadata": {
        "colab": {
          "base_uri": "https://localhost:8080/"
        },
        "id": "K9f2CpQggqpt",
        "outputId": "232f43e4-f5ad-4cb4-e1f9-9f4230d71954"
      },
      "outputs": [
        {
          "name": "stdout",
          "output_type": "stream",
          "text": [
            "List after replacing negative numbers with 0: [10, 0, 20, 0, 30, 0]\n"
          ]
        }
      ],
      "source": [
        "# Example list\n",
        "my_list = [10, -5, 20, -15, 30, -25]\n",
        "\n",
        "# Step 1: Iterate through the list and replace negative numbers with 0\n",
        "for i in range(len(my_list)):\n",
        "    if my_list[i] < 0:\n",
        "        my_list[i] = 0\n",
        "\n",
        "# Print the list after replacing negative numbers with 0\n",
        "print(\"List after replacing negative numbers with 0:\", my_list)"
      ]
    },
    {
      "cell_type": "markdown",
      "metadata": {
        "id": "5XS8pFgL3MgZ"
      },
      "source": [
        "### 43. Convert a string into a list of words."
      ]
    },
    {
      "cell_type": "code",
      "execution_count": null,
      "metadata": {
        "colab": {
          "base_uri": "https://localhost:8080/"
        },
        "id": "DCBzHs8hgqnu",
        "outputId": "0d65eff1-689a-4c11-8e6e-590b45439622"
      },
      "outputs": [
        {
          "name": "stdout",
          "output_type": "stream",
          "text": [
            "List of words: ['Hello,', 'this', 'is', 'a', 'sample', 'sentence.']\n"
          ]
        }
      ],
      "source": [
        "# Example string\n",
        "my_string = \"Hello, this is a sample sentence.\"\n",
        "\n",
        "# Convert the string into a list of words\n",
        "word_list = my_string.split()\n",
        "\n",
        "# Print the list of words\n",
        "print(\"List of words:\", word_list)"
      ]
    },
    {
      "cell_type": "markdown",
      "metadata": {
        "id": "PQmYFKZy3QzR"
      },
      "source": [
        "### 44. Convert a list of words into a string."
      ]
    },
    {
      "cell_type": "code",
      "execution_count": null,
      "metadata": {
        "colab": {
          "base_uri": "https://localhost:8080/"
        },
        "id": "gVvJDgA9gqjY",
        "outputId": "aeed187f-da07-4d7f-babf-6be038ae2490"
      },
      "outputs": [
        {
          "name": "stdout",
          "output_type": "stream",
          "text": [
            "Converted string: Hello, this is a sample sentence.\n"
          ]
        }
      ],
      "source": [
        "# Example list of words\n",
        "word_list = [\"Hello,\", \"this\", \"is\", \"a\", \"sample\", \"sentence.\"]\n",
        "\n",
        "# Convert the list of words into a string\n",
        "my_string = \" \".join(word_list)\n",
        "\n",
        "# Print the resulting string\n",
        "print(\"Converted string:\", my_string)"
      ]
    },
    {
      "cell_type": "markdown",
      "metadata": {
        "id": "x09jyTnb3Rop"
      },
      "source": [
        "### 45. Create a list of the first `n` powers of 2."
      ]
    },
    {
      "cell_type": "code",
      "execution_count": null,
      "metadata": {
        "colab": {
          "base_uri": "https://localhost:8080/"
        },
        "id": "PR06D_qlgqg1",
        "outputId": "0ac15743-a13e-4df0-a1c0-71d5faa7e293"
      },
      "outputs": [
        {
          "name": "stdout",
          "output_type": "stream",
          "text": [
            "List of the first 5 powers of 2: [1, 2, 4, 8, 16]\n"
          ]
        }
      ],
      "source": [
        "# Specify the value of n\n",
        "n = 5\n",
        "\n",
        "# Create a list of the first n powers of 2 using a loop\n",
        "power_list = [2 ** i for i in range(n)]\n",
        "\n",
        "# Print the list of powers of 2\n",
        "print(\"List of the first\", n, \"powers of 2:\", power_list)"
      ]
    },
    {
      "cell_type": "markdown",
      "metadata": {
        "id": "PPTsVYhF3Xku"
      },
      "source": [
        "### 46. Find the longest string in a list of strings."
      ]
    },
    {
      "cell_type": "code",
      "execution_count": null,
      "metadata": {
        "colab": {
          "base_uri": "https://localhost:8080/"
        },
        "id": "ktoukRUQgpMZ",
        "outputId": "58da0349-19b1-48e2-9263-033fd450f597"
      },
      "outputs": [
        {
          "name": "stdout",
          "output_type": "stream",
          "text": [
            "Longest string: elderberry\n"
          ]
        }
      ],
      "source": [
        "# Example list of strings\n",
        "string_list = [\"apple\", \"banana\", \"cherry\", \"date\", \"elderberry\"]\n",
        "\n",
        "# Find the longest string in the list\n",
        "longest_string = \"\"\n",
        "for s in string_list:\n",
        "    if len(s) > len(longest_string):\n",
        "        longest_string = s\n",
        "\n",
        "# Print the longest string\n",
        "print(\"Longest string:\", longest_string)"
      ]
    },
    {
      "cell_type": "markdown",
      "metadata": {
        "id": "PuiYk4ZA3ahe"
      },
      "source": [
        "### 47. Find the shortest string in a list of strings."
      ]
    },
    {
      "cell_type": "code",
      "execution_count": null,
      "metadata": {
        "colab": {
          "base_uri": "https://localhost:8080/"
        },
        "id": "VwxeF-Ch2b52",
        "outputId": "bd61dc18-7b70-4b26-d781-6bca4dea80a2"
      },
      "outputs": [
        {
          "name": "stdout",
          "output_type": "stream",
          "text": [
            "Shortest string: date\n"
          ]
        }
      ],
      "source": [
        "# Example list of strings\n",
        "string_list = [\"apple\", \"banana\", \"cherry\", \"date\", \"elderberry\"]\n",
        "\n",
        "# Find the shortest string in the list\n",
        "shortest_string = string_list[0]  # Initialize with the first string\n",
        "for s in string_list:\n",
        "    if len(s) < len(shortest_string):\n",
        "        shortest_string = s\n",
        "\n",
        "# Print the shortest string\n",
        "print(\"Shortest string:\", shortest_string)"
      ]
    },
    {
      "cell_type": "markdown",
      "metadata": {
        "id": "E2x6cPYL3bLF"
      },
      "source": [
        "### 48. Create a list of the first `n` triangular numbers."
      ]
    },
    {
      "cell_type": "code",
      "execution_count": null,
      "metadata": {
        "colab": {
          "base_uri": "https://localhost:8080/"
        },
        "id": "Z0UxtOl62eQL",
        "outputId": "bccc4172-317d-4798-edc1-4acc7992e299"
      },
      "outputs": [
        {
          "name": "stdout",
          "output_type": "stream",
          "text": [
            "List of the first 5 triangular numbers: [1, 3, 6, 10, 15]\n"
          ]
        }
      ],
      "source": [
        "# Function to calculate triangular numbers\n",
        "def triangular_numbers(n):\n",
        "    return [i * (i + 1) // 2 for i in range(1, n + 1)]\n",
        "\n",
        "# Specify the value of n\n",
        "n = 5\n",
        "\n",
        "# Create a list of the first n triangular numbers\n",
        "triangular_list = triangular_numbers(n)\n",
        "\n",
        "# Print the list of triangular numbers\n",
        "print(\"List of the first\", n, \"triangular numbers:\", triangular_list)"
      ]
    },
    {
      "cell_type": "markdown",
      "metadata": {
        "id": "bykjK8ox2flK"
      },
      "source": [
        "### 49. Check if a list contains another list as a subsequence."
      ]
    },
    {
      "cell_type": "code",
      "execution_count": null,
      "metadata": {
        "colab": {
          "base_uri": "https://localhost:8080/"
        },
        "id": "wR0rTeG32eNu",
        "outputId": "69d92a6f-6efd-4b4d-b06f-0cb96437410b"
      },
      "outputs": [
        {
          "name": "stdout",
          "output_type": "stream",
          "text": [
            "Main list contains the subsequence.\n"
          ]
        }
      ],
      "source": [
        "# Function to check if a list contains another list as a subsequence\n",
        "def is_subsequence(subsequence, main_list):\n",
        "    subseq_index = 0  # Index for the subsequence elements\n",
        "    for element in main_list:\n",
        "        if element == subsequence[subseq_index]:\n",
        "            subseq_index += 1\n",
        "            if subseq_index == len(subsequence):\n",
        "                return True\n",
        "    return False\n",
        "\n",
        "# Example main list and subsequence\n",
        "main_list = [1, 2, 3, 4, 5, 6, 7, 8, 9, 10]\n",
        "subsequence = [3, 5, 8]\n",
        "\n",
        "# Check if the main list contains the subsequence\n",
        "if is_subsequence(subsequence, main_list):\n",
        "    print(\"Main list contains the subsequence.\")\n",
        "else:\n",
        "    print(\"Main list does not contain the subsequence.\")"
      ]
    },
    {
      "cell_type": "markdown",
      "metadata": {
        "id": "-mIaB6pt3b7q"
      },
      "source": [
        "### 50. Swap two elements in a list by their indices."
      ]
    },
    {
      "cell_type": "code",
      "execution_count": null,
      "metadata": {
        "colab": {
          "base_uri": "https://localhost:8080/"
        },
        "id": "A0JHpP9c2eLL",
        "outputId": "3fc99824-215f-4d59-f85b-1ac19eae8af0"
      },
      "outputs": [
        {
          "name": "stdout",
          "output_type": "stream",
          "text": [
            "List after swapping elements: [1, 4, 3, 2, 5]\n"
          ]
        }
      ],
      "source": [
        "# Example list\n",
        "my_list = [1, 2, 3, 4, 5]\n",
        "\n",
        "# Indices of elements to swap\n",
        "index1 = 1\n",
        "index2 = 3\n",
        "\n",
        "# Swap the elements at the specified indices\n",
        "temp = my_list[index1]\n",
        "my_list[index1] = my_list[index2]\n",
        "my_list[index2] = temp\n",
        "\n",
        "# Print the list after swapping\n",
        "print(\"List after swapping elements:\", my_list)"
      ]
    },
    {
      "cell_type": "markdown",
      "source": [
        "# TOPIC:Tuple based practice problem"
      ],
      "metadata": {
        "id": "njiFi3fYiSZX"
      }
    },
    {
      "cell_type": "markdown",
      "metadata": {
        "id": "l9HbdfwR-nht"
      },
      "source": [
        "### 1. Create a tuple with integers from 1 to 5."
      ]
    },
    {
      "cell_type": "code",
      "execution_count": null,
      "metadata": {
        "colab": {
          "base_uri": "https://localhost:8080/"
        },
        "id": "5DWl7CED-m2N",
        "outputId": "6c2f02a8-d695-4c5d-8aa4-ea64367d1f70"
      },
      "outputs": [
        {
          "name": "stdout",
          "output_type": "stream",
          "text": [
            "The third element of the tuple is: 30\n"
          ]
        }
      ],
      "source": [
        "# Step 1: Create a tuple\n",
        "my_tuple = (10, 20, 30, 40, 50)\n",
        "\n",
        "# Step 2: Access the third element of the tuple\n",
        "third_element = my_tuple[2]\n",
        "\n",
        "# Explanation: In this line, we use indexing to access the third element of the tuple.\n",
        "# Since indexing is 0-based, the third element is at index 2.\n",
        "\n",
        "# Step 3: Print the third element\n",
        "print(\"The third element of the tuple is:\", third_element)"
      ]
    },
    {
      "cell_type": "markdown",
      "metadata": {
        "id": "BfyN7AJq-ua6"
      },
      "source": [
        "### 2. Access the third element of a tuple."
      ]
    },
    {
      "cell_type": "code",
      "execution_count": null,
      "metadata": {
        "colab": {
          "base_uri": "https://localhost:8080/"
        },
        "id": "6IP-ngBp--JL",
        "outputId": "5a9ebff8-30f9-4573-ec60-6ea91d10d9ea"
      },
      "outputs": [
        {
          "name": "stdout",
          "output_type": "stream",
          "text": [
            "The third element of the tuple is: 30\n"
          ]
        }
      ],
      "source": [
        "# Step 1: Create a tuple with some elements\n",
        "my_tuple = (10, 20, 30, 40, 50)\n",
        "\n",
        "# Step 2: Access the third element (index 2) of the tuple\n",
        "third_element = my_tuple[2]\n",
        "\n",
        "# Step 3: Print the third element\n",
        "print(\"The third element of the tuple is:\", third_element)"
      ]
    },
    {
      "cell_type": "markdown",
      "metadata": {
        "id": "Gh1WDxJx-uSW"
      },
      "source": [
        "### 3. Find the length of a tuple without using the `len()` function."
      ]
    },
    {
      "cell_type": "code",
      "execution_count": null,
      "metadata": {
        "colab": {
          "base_uri": "https://localhost:8080/"
        },
        "id": "s4Y1j7mCADvx",
        "outputId": "5df17c8d-7179-46d0-8aae-141724d89fbe"
      },
      "outputs": [
        {
          "name": "stdout",
          "output_type": "stream",
          "text": [
            "The length of the tuple is: 5\n"
          ]
        }
      ],
      "source": [
        "# Step 1: Create a tuple\n",
        "my_tuple = (10, 20, 30, 40, 50)\n",
        "\n",
        "# Step 2: Initialize a variable to count the elements\n",
        "count = 0\n",
        "\n",
        "# Step 3: Iterate through the tuple and increment the count for each element\n",
        "for _ in my_tuple:\n",
        "    count += 1\n",
        "\n",
        "# Step 4: Print the length of the tuple\n",
        "print(\"The length of the tuple is:\", count)"
      ]
    },
    {
      "cell_type": "markdown",
      "metadata": {
        "id": "ys0ZQjPt-uJ7"
      },
      "source": [
        "### 4. Count the occurrences of an element in a tuple."
      ]
    },
    {
      "cell_type": "code",
      "execution_count": null,
      "metadata": {
        "colab": {
          "base_uri": "https://localhost:8080/"
        },
        "id": "OEyR0lroAZ7Z",
        "outputId": "6d95b2d9-cd3d-40ec-8b82-883e72775dc5"
      },
      "outputs": [
        {
          "name": "stdout",
          "output_type": "stream",
          "text": [
            "The element 20 appears 3 times in the tuple.\n"
          ]
        }
      ],
      "source": [
        "# Step 1: Create a tuple\n",
        "my_tuple = (10, 20, 30, 20, 40, 50, 20)\n",
        "\n",
        "# Step 2: Choose the element to count occurrences of\n",
        "element_to_count = 20\n",
        "\n",
        "# Step 3: Initialize a variable to keep track of the count\n",
        "count = 0\n",
        "\n",
        "# Step 4: Iterate through the tuple and count occurrences of the chosen element\n",
        "for item in my_tuple:\n",
        "    if item == element_to_count:\n",
        "        count += 1\n",
        "\n",
        "# Step 5: Print the count of occurrences\n",
        "print(f\"The element {element_to_count} appears {count} times in the tuple.\")"
      ]
    },
    {
      "cell_type": "markdown",
      "metadata": {
        "id": "fi9wF_n5-uBr"
      },
      "source": [
        "### 5. Find the index of the first occurrence of an element in a tuple."
      ]
    },
    {
      "cell_type": "code",
      "execution_count": null,
      "metadata": {
        "colab": {
          "base_uri": "https://localhost:8080/"
        },
        "id": "Rlf7WPkIAvmP",
        "outputId": "70a01623-9d70-4f0c-a093-ac724f2ad707"
      },
      "outputs": [
        {
          "name": "stdout",
          "output_type": "stream",
          "text": [
            "The first occurrence of 20 is at index 1.\n"
          ]
        }
      ],
      "source": [
        "# Step 1: Create a tuple\n",
        "my_tuple = (10, 20, 30, 20, 40, 50)\n",
        "\n",
        "# Step 2: Choose the element to find the index of\n",
        "element_to_find = 20\n",
        "\n",
        "# Step 3: Initialize a variable to keep track of the index\n",
        "index = -1  # Initialize with -1 to indicate that the element was not found\n",
        "\n",
        "# Step 4: Iterate through the tuple and find the index of the chosen element\n",
        "for i, item in enumerate(my_tuple):\n",
        "    if item == element_to_find:\n",
        "        index = i\n",
        "        break  # Exit the loop once the first occurrence is found\n",
        "\n",
        "# Step 5: Print the index of the first occurrence\n",
        "if index != -1:\n",
        "    print(f\"The first occurrence of {element_to_find} is at index {index}.\")\n",
        "else:\n",
        "    print(f\"{element_to_find} is not found in the tuple.\")"
      ]
    },
    {
      "cell_type": "markdown",
      "metadata": {
        "id": "0SwUvz_u-t5Y"
      },
      "source": [
        "### 6. Check if an element exists in a tuple."
      ]
    },
    {
      "cell_type": "code",
      "execution_count": null,
      "metadata": {
        "colab": {
          "base_uri": "https://localhost:8080/"
        },
        "id": "hgbPvWp4A5tX",
        "outputId": "4b26aee9-05f3-4aca-a492-5991bc5c976a"
      },
      "outputs": [
        {
          "name": "stdout",
          "output_type": "stream",
          "text": [
            "30 exists in the tuple.\n"
          ]
        }
      ],
      "source": [
        "# Step 1: Create a tuple\n",
        "my_tuple = (10, 20, 30, 40, 50)\n",
        "\n",
        "# Step 2: Choose the element to check for existence\n",
        "element_to_check = 30\n",
        "\n",
        "# Step 3: Check if the element exists in the tuple using the 'in' operator\n",
        "if element_to_check in my_tuple:\n",
        "    print(f\"{element_to_check} exists in the tuple.\")\n",
        "else:\n",
        "    print(f\"{element_to_check} does not exist in the tuple.\")"
      ]
    },
    {
      "cell_type": "markdown",
      "metadata": {
        "id": "sHbgkYAMBKrY"
      },
      "source": [
        "### 7. Convert a tuple to a list."
      ]
    },
    {
      "cell_type": "code",
      "execution_count": null,
      "metadata": {
        "colab": {
          "base_uri": "https://localhost:8080/"
        },
        "id": "OsUET7CiBQ85",
        "outputId": "a1305d48-5e3d-476e-f54b-0ab5e50c56b8"
      },
      "outputs": [
        {
          "name": "stdout",
          "output_type": "stream",
          "text": [
            "Tuple: (10, 20, 30, 40, 50)\n",
            "List: [10, 20, 30, 40, 50]\n"
          ]
        }
      ],
      "source": [
        "# Step 1: Create a tuple\n",
        "my_tuple = (10, 20, 30, 40, 50)\n",
        "\n",
        "# Step 2: Convert the tuple to a list\n",
        "my_list = list(my_tuple)\n",
        "\n",
        "# Step 3: Print the resulting list\n",
        "print(\"Tuple:\", my_tuple)\n",
        "print(\"List:\", my_list)"
      ]
    },
    {
      "cell_type": "markdown",
      "metadata": {
        "id": "vtuBA-QJBKIW"
      },
      "source": [
        "### 8. Convert a list to a tuple."
      ]
    },
    {
      "cell_type": "code",
      "execution_count": null,
      "metadata": {
        "colab": {
          "base_uri": "https://localhost:8080/"
        },
        "id": "b5163MDHBH6x",
        "outputId": "8eff03e8-a863-48ac-f07e-dad7c2c816f8"
      },
      "outputs": [
        {
          "name": "stdout",
          "output_type": "stream",
          "text": [
            "List: [10, 20, 30, 40, 50]\n",
            "Tuple: (10, 20, 30, 40, 50)\n"
          ]
        }
      ],
      "source": [
        "# Step 1: Create a list\n",
        "my_list = [10, 20, 30, 40, 50]\n",
        "\n",
        "# Step 2: Convert the list to a tuple\n",
        "my_tuple = tuple(my_list)\n",
        "\n",
        "# Step 3: Print the resulting tuple\n",
        "print(\"List:\", my_list)\n",
        "print(\"Tuple:\", my_tuple)\n"
      ]
    },
    {
      "cell_type": "markdown",
      "metadata": {
        "id": "jI541JJP-txK"
      },
      "source": [
        "### 9. Unpack the elements of a tuple into variables."
      ]
    },
    {
      "cell_type": "code",
      "execution_count": null,
      "metadata": {
        "colab": {
          "base_uri": "https://localhost:8080/"
        },
        "id": "JjDFgPdWBxZC",
        "outputId": "8fc70bf2-9144-4464-bd9a-9f7248246ab4"
      },
      "outputs": [
        {
          "name": "stdout",
          "output_type": "stream",
          "text": [
            "var1: 10\n",
            "var2: 20\n",
            "var3: 30\n"
          ]
        }
      ],
      "source": [
        "# Step 1: Create a tuple\n",
        "my_tuple = (10, 20, 30)\n",
        "\n",
        "# Step 2: Unpack the elements of the tuple into variables\n",
        "var1, var2, var3 = my_tuple\n",
        "\n",
        "# Step 3: Print the variables\n",
        "print(\"var1:\", var1)\n",
        "print(\"var2:\", var2)\n",
        "print(\"var3:\", var3)"
      ]
    },
    {
      "cell_type": "markdown",
      "metadata": {
        "id": "o_MZRgph-toj"
      },
      "source": [
        "### 10. Create a tuple of even numbers from 1 to 10."
      ]
    },
    {
      "cell_type": "code",
      "execution_count": null,
      "metadata": {
        "colab": {
          "base_uri": "https://localhost:8080/"
        },
        "id": "ZsN1yEDYCCmz",
        "outputId": "e92584e1-3c60-4b58-d56d-eb8a171b7ee0"
      },
      "outputs": [
        {
          "name": "stdout",
          "output_type": "stream",
          "text": [
            "Tuple of even numbers: (2, 4, 6, 8, 10)\n"
          ]
        }
      ],
      "source": [
        "# Step 1: Create a list of even numbers using a list comprehension\n",
        "even_numbers_list = [num for num in range(2, 11, 2)]  # Start from 2, step by 2, end at 10\n",
        "\n",
        "# Step 2: Convert the list to a tuple\n",
        "even_numbers_tuple = tuple(even_numbers_list)\n",
        "\n",
        "# Step 3: Print the resulting tuple\n",
        "print(\"Tuple of even numbers:\", even_numbers_tuple)"
      ]
    },
    {
      "cell_type": "markdown",
      "metadata": {
        "id": "RX-92AVo-teh"
      },
      "source": [
        "### 11. Create a tuple of odd numbers from 1 to 10."
      ]
    },
    {
      "cell_type": "code",
      "execution_count": null,
      "metadata": {
        "colab": {
          "base_uri": "https://localhost:8080/"
        },
        "id": "9R-W6vXWCQCI",
        "outputId": "e69ecd86-75ba-4027-99b5-76e5df1798c7"
      },
      "outputs": [
        {
          "name": "stdout",
          "output_type": "stream",
          "text": [
            "Tuple of even numbers: (2, 4, 6, 8, 10)\n"
          ]
        }
      ],
      "source": [
        "# Step 1: Create a list of even numbers using a list comprehension\n",
        "even_numbers_list = [num for num in range(2, 11, 2)]  # Start from 2, step by 2, end at 10\n",
        "\n",
        "# Step 2: Convert the list to a tuple\n",
        "even_numbers_tuple = tuple(even_numbers_list)\n",
        "\n",
        "# Step 3: Print the resulting tuple\n",
        "print(\"Tuple of even numbers:\", even_numbers_tuple)"
      ]
    },
    {
      "cell_type": "markdown",
      "metadata": {
        "id": "9xZaYcTG-tWA"
      },
      "source": [
        "### 12. Concatenate two tuples."
      ]
    },
    {
      "cell_type": "code",
      "execution_count": null,
      "metadata": {
        "colab": {
          "base_uri": "https://localhost:8080/"
        },
        "id": "DNIedkkmChZ4",
        "outputId": "71fc88fe-7088-4ec7-e2d7-c18f49b0d506"
      },
      "outputs": [
        {
          "name": "stdout",
          "output_type": "stream",
          "text": [
            "Concatenated tuple: (1, 2, 3, 4, 5, 6)\n"
          ]
        }
      ],
      "source": [
        "# Step 1: Create two tuples\n",
        "tuple1 = (1, 2, 3)\n",
        "tuple2 = (4, 5, 6)\n",
        "\n",
        "# Step 2: Concatenate the two tuples\n",
        "concatenated_tuple = tuple1 + tuple2\n",
        "\n",
        "# Step 3: Print the concatenated tuple\n",
        "print(\"Concatenated tuple:\", concatenated_tuple)"
      ]
    },
    {
      "cell_type": "markdown",
      "metadata": {
        "id": "h86BPARh-tOM"
      },
      "source": [
        "### 13. Repeat a tuple three times."
      ]
    },
    {
      "cell_type": "code",
      "execution_count": null,
      "metadata": {
        "colab": {
          "base_uri": "https://localhost:8080/"
        },
        "id": "CUKJxuffCudl",
        "outputId": "59c599c9-400f-4c22-a8b2-5d4802134e33"
      },
      "outputs": [
        {
          "name": "stdout",
          "output_type": "stream",
          "text": [
            "Repeated tuple: (1, 2, 3, 1, 2, 3, 1, 2, 3)\n"
          ]
        }
      ],
      "source": [
        "# Step 1: Create a tuple\n",
        "original_tuple = (1, 2, 3)\n",
        "\n",
        "# Step 2: Repeat the tuple three times\n",
        "repeated_tuple = original_tuple * 3\n",
        "\n",
        "# Step 3: Print the repeated tuple\n",
        "print(\"Repeated tuple:\", repeated_tuple)"
      ]
    },
    {
      "cell_type": "markdown",
      "metadata": {
        "id": "a4OY9KiV-tDi"
      },
      "source": [
        "### 14. Check if a tuple is empty."
      ]
    },
    {
      "cell_type": "code",
      "execution_count": null,
      "metadata": {
        "colab": {
          "base_uri": "https://localhost:8080/"
        },
        "id": "KnupOMgfC4RQ",
        "outputId": "3d0f2c81-c2fd-4dd8-b184-5ff503642759"
      },
      "outputs": [
        {
          "name": "stdout",
          "output_type": "stream",
          "text": [
            "The empty_tuple is empty.\n",
            "The non_empty_tuple is not empty.\n"
          ]
        }
      ],
      "source": [
        "# Step 1: Create an empty tuple and a non-empty tuple\n",
        "empty_tuple = ()\n",
        "non_empty_tuple = (1, 2, 3)\n",
        "\n",
        "# Step 2: Check if the tuples are empty\n",
        "if not empty_tuple:\n",
        "    print(\"The empty_tuple is empty.\")\n",
        "else:\n",
        "    print(\"The empty_tuple is not empty.\")\n",
        "\n",
        "if not non_empty_tuple:\n",
        "    print(\"The non_empty_tuple is empty.\")\n",
        "else:\n",
        "    print(\"The non_empty_tuple is not empty.\")"
      ]
    },
    {
      "cell_type": "markdown",
      "metadata": {
        "id": "EcLudSiX-s7j"
      },
      "source": [
        "### 15. Create a nested tuple."
      ]
    },
    {
      "cell_type": "code",
      "execution_count": null,
      "metadata": {
        "colab": {
          "base_uri": "https://localhost:8080/"
        },
        "id": "Gm3PwRehDOos",
        "outputId": "872958d3-c6e1-4057-da89-065a3a996786"
      },
      "outputs": [
        {
          "name": "stdout",
          "output_type": "stream",
          "text": [
            "Nested tuple: ((1, 2, 3), ('a', 'b', 'c'), (True, False))\n"
          ]
        }
      ],
      "source": [
        "# Step 1: Create a nested tuple\n",
        "nested_tuple = ((1, 2, 3), ('a', 'b', 'c'), (True, False))\n",
        "\n",
        "# Step 2: Print the nested tuple\n",
        "print(\"Nested tuple:\", nested_tuple)"
      ]
    },
    {
      "cell_type": "markdown",
      "metadata": {
        "id": "lgDsJ9Zu-szh"
      },
      "source": [
        "### 16. Access the first element of a nested tuple."
      ]
    },
    {
      "cell_type": "code",
      "execution_count": null,
      "metadata": {
        "colab": {
          "base_uri": "https://localhost:8080/"
        },
        "id": "xuAflJKCDlrL",
        "outputId": "eaceecc5-e923-4fdd-d3fa-a761720ac9c5"
      },
      "outputs": [
        {
          "name": "stdout",
          "output_type": "stream",
          "text": [
            "First element of the nested tuple: (1, 2, 3)\n"
          ]
        }
      ],
      "source": [
        "# Step 1: Create a nested tuple\n",
        "nested_tuple = ((1, 2, 3), ('a', 'b', 'c'), (True, False))\n",
        "\n",
        "# Step 2: Access the first element of the nested tuple\n",
        "first_element = nested_tuple[0]\n",
        "\n",
        "# Step 3: Print the first element\n",
        "print(\"First element of the nested tuple:\", first_element)"
      ]
    },
    {
      "cell_type": "markdown",
      "metadata": {
        "id": "ScZrH6Bp-srj"
      },
      "source": [
        "### 17. Create a tuple with a single element."
      ]
    },
    {
      "cell_type": "code",
      "execution_count": null,
      "metadata": {
        "colab": {
          "base_uri": "https://localhost:8080/"
        },
        "id": "FILtCutfD-Ne",
        "outputId": "f83dcb38-6b4a-43dd-8b0e-0ef81de45166"
      },
      "outputs": [
        {
          "name": "stdout",
          "output_type": "stream",
          "text": [
            "Single element tuple: (42,)\n"
          ]
        }
      ],
      "source": [
        "# Step 1: Create a tuple with a single element\n",
        "single_element_tuple = (42,)  # Note the trailing comma\n",
        "\n",
        "# Step 2: Print the single element tuple\n",
        "print(\"Single element tuple:\", single_element_tuple)"
      ]
    },
    {
      "cell_type": "markdown",
      "metadata": {
        "id": "q9FlgOzP-sjg"
      },
      "source": [
        "### 18. Compare two tuples."
      ]
    },
    {
      "cell_type": "code",
      "execution_count": null,
      "metadata": {
        "colab": {
          "base_uri": "https://localhost:8080/"
        },
        "id": "aumD-FQUXNJP",
        "outputId": "51b47aa8-9fe2-461a-951e-4110d87788be"
      },
      "outputs": [
        {
          "name": "stdout",
          "output_type": "stream",
          "text": [
            "tuple1 == tuple2: False\n",
            "tuple1 != tuple2: True\n",
            "tuple1 < tuple2: True\n",
            "tuple1 <= tuple2: True\n",
            "tuple1 > tuple2: False\n",
            "tuple1 >= tuple2: False\n"
          ]
        }
      ],
      "source": [
        "# Step 1: Create two tuples\n",
        "tuple1 = (1, 2, 3)\n",
        "tuple2 = (1, 2, 4)\n",
        "\n",
        "# Step 2: Compare the two tuples using comparison operators\n",
        "print(\"tuple1 == tuple2:\", tuple1 == tuple2)  # Equality check\n",
        "print(\"tuple1 != tuple2:\", tuple1 != tuple2)  # Inequality check\n",
        "print(\"tuple1 < tuple2:\", tuple1 < tuple2)    # Less than check\n",
        "print(\"tuple1 <= tuple2:\", tuple1 <= tuple2)  # Less than or equal to check\n",
        "print(\"tuple1 > tuple2:\", tuple1 > tuple2)    # Greater than check\n",
        "print(\"tuple1 >= tuple2:\", tuple1 >= tuple2)  # Greater than or equal to check"
      ]
    },
    {
      "cell_type": "markdown",
      "metadata": {
        "id": "VAK8OadC-sbx"
      },
      "source": [
        "### 19. Delete a tuple."
      ]
    },
    {
      "cell_type": "code",
      "execution_count": 36,
      "metadata": {
        "colab": {
          "base_uri": "https://localhost:8080/",
          "height": 217
        },
        "id": "kVeoDL9EX2QH",
        "outputId": "7d7535d7-c101-4f2d-aa5f-7be7beafceda"
      },
      "outputs": [
        {
          "output_type": "error",
          "ename": "NameError",
          "evalue": "ignored",
          "traceback": [
            "\u001b[0;31m---------------------------------------------------------------------------\u001b[0m",
            "\u001b[0;31mNameError\u001b[0m                                 Traceback (most recent call last)",
            "\u001b[0;32m<ipython-input-36-c1d45cd25891>\u001b[0m in \u001b[0;36m<cell line: 8>\u001b[0;34m()\u001b[0m\n\u001b[1;32m      6\u001b[0m \u001b[0;34m\u001b[0m\u001b[0m\n\u001b[1;32m      7\u001b[0m \u001b[0;31m# Step 3: Try to access the tuple (will raise a NameError)\u001b[0m\u001b[0;34m\u001b[0m\u001b[0;34m\u001b[0m\u001b[0m\n\u001b[0;32m----> 8\u001b[0;31m \u001b[0mprint\u001b[0m\u001b[0;34m(\u001b[0m\u001b[0mmy_tuple\u001b[0m\u001b[0;34m)\u001b[0m\u001b[0;34m\u001b[0m\u001b[0;34m\u001b[0m\u001b[0m\n\u001b[0m",
            "\u001b[0;31mNameError\u001b[0m: name 'my_tuple' is not defined"
          ]
        }
      ],
      "source": [
        "# Step 1: Create a tuple\n",
        "my_tuple = (1, 2, 3, 4, 5)\n",
        "\n",
        "# Step 2: Delete the tuple using the 'del' statement\n",
        "del my_tuple\n",
        "\n",
        "# Step 3: Try to access the tuple (will raise a NameError)\n",
        "print(my_tuple)"
      ]
    },
    {
      "cell_type": "markdown",
      "metadata": {
        "id": "WOzsGykG-sT5"
      },
      "source": [
        "### 20. Slice a tuple."
      ]
    },
    {
      "cell_type": "code",
      "execution_count": null,
      "metadata": {
        "colab": {
          "base_uri": "https://localhost:8080/"
        },
        "id": "gW2uEvWcYVF7",
        "outputId": "e156beb0-d92f-4ddf-ead1-4e6350e22eb9"
      },
      "outputs": [
        {
          "name": "stdout",
          "output_type": "stream",
          "text": [
            "Sliced tuple: (3, 4, 5, 6)\n"
          ]
        }
      ],
      "source": [
        "# Step 1: Create a tuple\n",
        "my_tuple = (1, 2, 3, 4, 5, 6, 7, 8, 9, 10)\n",
        "\n",
        "# Step 2: Slice the tuple to get a portion of it\n",
        "sliced_tuple = my_tuple[2:6]  # Elements from index 2 to 5 (end index is exclusive)\n",
        "\n",
        "# Step 3: Print the sliced tuple\n",
        "print(\"Sliced tuple:\", sliced_tuple)"
      ]
    },
    {
      "cell_type": "markdown",
      "metadata": {
        "id": "MUbNy86b-sMC"
      },
      "source": [
        "### 21. Find the maximum value in a tuple."
      ]
    },
    {
      "cell_type": "code",
      "execution_count": null,
      "metadata": {
        "colab": {
          "base_uri": "https://localhost:8080/"
        },
        "id": "5Yp7wrafYvQv",
        "outputId": "6421579f-edbf-4502-eb32-d0d15faa1892"
      },
      "outputs": [
        {
          "name": "stdout",
          "output_type": "stream",
          "text": [
            "Maximum value: 45\n"
          ]
        }
      ],
      "source": [
        "# Step 1: Create a tuple\n",
        "my_tuple = (10, 20, 5, 45, 30)\n",
        "\n",
        "# Step 2: Find the maximum value in the tuple using the 'max()' function\n",
        "max_value = max(my_tuple)\n",
        "\n",
        "# Step 3: Print the maximum value\n",
        "print(\"Maximum value:\", max_value)"
      ]
    },
    {
      "cell_type": "markdown",
      "metadata": {
        "id": "06nHlxC7-sBn"
      },
      "source": [
        "### 22. Find the minimum value in a tuple."
      ]
    },
    {
      "cell_type": "code",
      "execution_count": null,
      "metadata": {
        "colab": {
          "base_uri": "https://localhost:8080/"
        },
        "id": "uQuC7RZ2ZIXt",
        "outputId": "d409044f-7a5a-4854-a618-c0461e8b1660"
      },
      "outputs": [
        {
          "name": "stdout",
          "output_type": "stream",
          "text": [
            "Minimum value: 5\n"
          ]
        }
      ],
      "source": [
        "# Step 1: Create a tuple\n",
        "my_tuple = (10, 20, 5, 45, 30)\n",
        "\n",
        "# Step 2: Find the minimum value in the tuple using the 'min()' function\n",
        "min_value = min(my_tuple)\n",
        "\n",
        "# Step 3: Print the minimum value\n",
        "print(\"Minimum value:\", min_value)"
      ]
    },
    {
      "cell_type": "markdown",
      "metadata": {
        "id": "OPUZZUtw-r6K"
      },
      "source": [
        "### 23. Convert a string to a tuple of characters."
      ]
    },
    {
      "cell_type": "code",
      "execution_count": null,
      "metadata": {
        "colab": {
          "base_uri": "https://localhost:8080/"
        },
        "id": "ZkpGrHyEZW4c",
        "outputId": "77b50dd9-4ad0-4e24-cec0-f75da5625959"
      },
      "outputs": [
        {
          "name": "stdout",
          "output_type": "stream",
          "text": [
            "Tuple of characters: ('H', 'e', 'l', 'l', 'o', ',', ' ', 'W', 'o', 'r', 'l', 'd', '!')\n"
          ]
        }
      ],
      "source": [
        "# Step 1: Create a string\n",
        "my_string = \"Hello, World!\"\n",
        "\n",
        "# Step 2: Convert the string to a tuple of characters\n",
        "tuple_of_characters = tuple(my_string)\n",
        "\n",
        "# Step 3: Print the tuple of characters\n",
        "print(\"Tuple of characters:\", tuple_of_characters)"
      ]
    },
    {
      "cell_type": "markdown",
      "metadata": {
        "id": "BSCnejYO-ryq"
      },
      "source": [
        "### 24. Convert a tuple of characters to a string."
      ]
    },
    {
      "cell_type": "code",
      "execution_count": null,
      "metadata": {
        "colab": {
          "base_uri": "https://localhost:8080/"
        },
        "id": "_Dv_YWbBZkFi",
        "outputId": "2728628a-9ef3-4471-eb25-b90f5f164c2e"
      },
      "outputs": [
        {
          "name": "stdout",
          "output_type": "stream",
          "text": [
            "String from tuple: Hello World!\n"
          ]
        }
      ],
      "source": [
        "# Step 1: Create a tuple of characters\n",
        "tuple_of_characters = ('H', 'e', 'l', 'l', 'o', ' ', 'W', 'o', 'r', 'l', 'd', '!')\n",
        "\n",
        "# Step 2: Convert the tuple of characters to a string using the 'join()' method\n",
        "string_from_tuple = ''.join(tuple_of_characters)\n",
        "\n",
        "# Step 3: Print the resulting string\n",
        "print(\"String from tuple:\", string_from_tuple)"
      ]
    },
    {
      "cell_type": "markdown",
      "metadata": {
        "id": "14Pxy7uuc3xm"
      },
      "source": [
        "### 25. Create a tuple from multiple data types."
      ]
    },
    {
      "cell_type": "code",
      "execution_count": null,
      "metadata": {
        "id": "Yx9Re3mMc3xm",
        "outputId": "7806468d-884e-44f3-c95b-8e7f674a9922"
      },
      "outputs": [
        {
          "name": "stdout",
          "output_type": "stream",
          "text": [
            "(1, 'hello', 3.14, True)\n"
          ]
        }
      ],
      "source": [
        "# Creating a tuple with elements of different data types\n",
        "mixed_tuple = (1, \"hello\", 3.14, True)\n",
        "\n",
        "# Printing the tuple\n",
        "print(mixed_tuple)"
      ]
    },
    {
      "cell_type": "markdown",
      "metadata": {
        "id": "zSsocS7E-rrN"
      },
      "source": [
        "### 26. Check if two tuples are identical."
      ]
    },
    {
      "cell_type": "code",
      "execution_count": null,
      "metadata": {
        "colab": {
          "base_uri": "https://localhost:8080/"
        },
        "id": "8okUaLN8Z8BV",
        "outputId": "dbbaaf8e-98f5-4aa1-9d00-3af2b45ef042"
      },
      "outputs": [
        {
          "name": "stdout",
          "output_type": "stream",
          "text": [
            "tuple1 and tuple2 are identical: True\n",
            "tuple1 and tuple3 are identical: False\n"
          ]
        }
      ],
      "source": [
        "# Step 1: Create two tuples\n",
        "tuple1 = (1, 2, 3)\n",
        "tuple2 = (1, 2, 3)\n",
        "tuple3 = (4, 5, 6)\n",
        "\n",
        "# Step 2: Compare the tuples for identity using the equality operator\n",
        "are_identical1 = tuple1 == tuple2\n",
        "are_identical2 = tuple1 == tuple3\n",
        "\n",
        "# Step 3: Print the results\n",
        "print(\"tuple1 and tuple2 are identical:\", are_identical1)\n",
        "print(\"tuple1 and tuple3 are identical:\", are_identical2)"
      ]
    },
    {
      "cell_type": "markdown",
      "metadata": {
        "id": "EC3qeP6H-rjw"
      },
      "source": [
        "### 27. Sort the elements of a tuple."
      ]
    },
    {
      "cell_type": "code",
      "execution_count": null,
      "metadata": {
        "colab": {
          "base_uri": "https://localhost:8080/"
        },
        "id": "hejbfdoQaGn3",
        "outputId": "9c86326e-c8a2-4ac3-cb5e-426f7c25ce49"
      },
      "outputs": [
        {
          "name": "stdout",
          "output_type": "stream",
          "text": [
            "Sorted tuple: (1, 2, 3, 5, 8)\n"
          ]
        }
      ],
      "source": [
        "# Step 1: Create a tuple\n",
        "my_tuple = (5, 2, 8, 1, 3)\n",
        "\n",
        "# Step 2: Convert the tuple to a list, sort the list, and convert it back to a tuple\n",
        "sorted_tuple = tuple(sorted(my_tuple))\n",
        "\n",
        "# Step 3: Print the sorted tuple\n",
        "print(\"Sorted tuple:\", sorted_tuple)\n"
      ]
    },
    {
      "cell_type": "markdown",
      "metadata": {
        "id": "16vOltmj-rcY"
      },
      "source": [
        "### 28. Convert a tuple of integers to a tuple of strings."
      ]
    },
    {
      "cell_type": "code",
      "execution_count": null,
      "metadata": {
        "colab": {
          "base_uri": "https://localhost:8080/"
        },
        "id": "Tx1XuiBLaSmu",
        "outputId": "4342d125-d3d2-4ffa-cb38-e5c2e2dce5a5"
      },
      "outputs": [
        {
          "name": "stdout",
          "output_type": "stream",
          "text": [
            "Tuple of strings: ('1', '2', '3', '4', '5')\n"
          ]
        }
      ],
      "source": [
        "# Step 1: Create a tuple of integers\n",
        "tuple_of_integers = (1, 2, 3, 4, 5)\n",
        "\n",
        "# Step 2: Convert the tuple of integers to a tuple of strings using a list comprehension\n",
        "tuple_of_strings = tuple(str(item) for item in tuple_of_integers)\n",
        "\n",
        "# Step 3: Print the tuple of strings\n",
        "print(\"Tuple of strings:\", tuple_of_strings)"
      ]
    },
    {
      "cell_type": "markdown",
      "metadata": {
        "id": "y-5yD1wp-rVB"
      },
      "source": [
        "### 29. Convert a tuple of strings to a tuple of integers."
      ]
    },
    {
      "cell_type": "code",
      "execution_count": null,
      "metadata": {
        "colab": {
          "base_uri": "https://localhost:8080/"
        },
        "id": "ndOFBsVNanUC",
        "outputId": "7d5cd8e9-d946-45d7-fa7a-61eee12511c2"
      },
      "outputs": [
        {
          "name": "stdout",
          "output_type": "stream",
          "text": [
            "Tuple of integers: (10, 20, 30, 40, 50)\n"
          ]
        }
      ],
      "source": [
        "# Step 1: Create a tuple of strings\n",
        "tuple_of_strings = ('10', '20', '30', '40', '50')\n",
        "\n",
        "# Step 2: Convert the tuple of strings to a tuple of integers using a list comprehension\n",
        "tuple_of_integers = tuple(int(item) for item in tuple_of_strings)\n",
        "\n",
        "# Step 3: Print the tuple of integers\n",
        "print(\"Tuple of integers:\", tuple_of_integers)"
      ]
    },
    {
      "cell_type": "markdown",
      "metadata": {
        "id": "NJ72UfL1-rMB"
      },
      "source": [
        "### 30. Merge two tuples."
      ]
    },
    {
      "cell_type": "code",
      "execution_count": null,
      "metadata": {
        "colab": {
          "base_uri": "https://localhost:8080/"
        },
        "id": "z9b1IcEGaywZ",
        "outputId": "7c6e25c9-a22d-4a1a-944b-16710da54c9d"
      },
      "outputs": [
        {
          "name": "stdout",
          "output_type": "stream",
          "text": [
            "Merged tuple: (1, 2, 3, 4, 5, 6)\n"
          ]
        }
      ],
      "source": [
        "# Step 1: Create two tuples\n",
        "tuple1 = (1, 2, 3)\n",
        "tuple2 = (4, 5, 6)\n",
        "\n",
        "# Step 2: Merge the two tuples using the '+' operator\n",
        "merged_tuple = tuple1 + tuple2\n",
        "\n",
        "# Step 3: Print the merged tuple\n",
        "print(\"Merged tuple:\", merged_tuple)"
      ]
    },
    {
      "cell_type": "markdown",
      "metadata": {
        "id": "YYBTQtOX-rEk"
      },
      "source": [
        "### 31. Flatten a nested tuple."
      ]
    },
    {
      "cell_type": "code",
      "execution_count": null,
      "metadata": {
        "colab": {
          "base_uri": "https://localhost:8080/"
        },
        "id": "QLFlrwN7bDev",
        "outputId": "14a8999f-a8eb-41b5-91da-c97a0b9ef271"
      },
      "outputs": [
        {
          "name": "stdout",
          "output_type": "stream",
          "text": [
            "Flattened tuple: (1, 2, 3, 4, 5, 6, 7, 8)\n"
          ]
        }
      ],
      "source": [
        "# Recursive function to flatten a nested tuple\n",
        "def flatten_tuple(nested_tuple):\n",
        "    flattened = []\n",
        "    for item in nested_tuple:\n",
        "        if isinstance(item, tuple):\n",
        "            flattened.extend(flatten_tuple(item))\n",
        "        else:\n",
        "            flattened.append(item)\n",
        "    return flattened\n",
        "\n",
        "# Step 1: Create a nested tuple\n",
        "nested_tuple = ((1, 2), (3, 4, 5), (6, (7, 8)))\n",
        "\n",
        "# Step 2: Flatten the nested tuple\n",
        "flattened_tuple = tuple(flatten_tuple(nested_tuple))\n",
        "\n",
        "# Step 3: Print the flattened tuple\n",
        "print(\"Flattened tuple:\", flattened_tuple)"
      ]
    },
    {
      "cell_type": "markdown",
      "metadata": {
        "id": "kC7aI_t9-q9c"
      },
      "source": [
        "### 32. Create a tuple of the first 5 prime numbers."
      ]
    },
    {
      "cell_type": "code",
      "execution_count": null,
      "metadata": {
        "colab": {
          "base_uri": "https://localhost:8080/"
        },
        "id": "VRDkDQA2bSii",
        "outputId": "e270b6cf-e7cd-469e-97ac-3b5f0570bc2a"
      },
      "outputs": [
        {
          "name": "stdout",
          "output_type": "stream",
          "text": [
            "Tuple of the first 5 prime numbers: (2, 3, 5, 7, 11)\n"
          ]
        }
      ],
      "source": [
        "# Function to check if a number is prime\n",
        "def is_prime(num):\n",
        "    if num <= 1:\n",
        "        return False\n",
        "    for i in range(2, int(num ** 0.5) + 1):\n",
        "        if num % i == 0:\n",
        "            return False\n",
        "    return True\n",
        "\n",
        "# Generate the first 5 prime numbers\n",
        "prime_numbers_list = [num for num in range(2, 100) if is_prime(num)][:5]\n",
        "\n",
        "# Convert the list to a tuple\n",
        "prime_numbers_tuple = tuple(prime_numbers_list)\n",
        "\n",
        "# Print the tuple of prime numbers\n",
        "print(\"Tuple of the first 5 prime numbers:\", prime_numbers_tuple)"
      ]
    },
    {
      "cell_type": "markdown",
      "metadata": {
        "id": "IHNRNTMa-q2R"
      },
      "source": [
        "### 3. Check if a tuple is a palindrome."
      ]
    },
    {
      "cell_type": "code",
      "execution_count": null,
      "metadata": {
        "colab": {
          "base_uri": "https://localhost:8080/"
        },
        "id": "zCH8mgZLbjah",
        "outputId": "1a31baf5-d37a-443d-c152-2f2c9b315deb"
      },
      "outputs": [
        {
          "name": "stdout",
          "output_type": "stream",
          "text": [
            "palindrome_tuple is a palindrome: True\n",
            "non_palindrome_tuple is a palindrome: False\n"
          ]
        }
      ],
      "source": [
        "# Function to check if a tuple is a palindrome\n",
        "def is_palindrome(tup):\n",
        "    return tup == tup[::-1]\n",
        "\n",
        "# Create tuples for testing\n",
        "palindrome_tuple = (1, 2, 3, 2, 1)\n",
        "non_palindrome_tuple = (1, 2, 3, 4, 5)\n",
        "\n",
        "# Check if the tuples are palindromes\n",
        "is_palindrome1 = is_palindrome(palindrome_tuple)\n",
        "is_palindrome2 = is_palindrome(non_palindrome_tuple)\n",
        "\n",
        "# Print the results\n",
        "print(\"palindrome_tuple is a palindrome:\", is_palindrome1)\n",
        "print(\"non_palindrome_tuple is a palindrome:\", is_palindrome2)"
      ]
    },
    {
      "cell_type": "markdown",
      "metadata": {
        "id": "KSVhR4hY-qvE"
      },
      "source": [
        "### 34. Create a tuple of squares of numbers from 1 to 5."
      ]
    },
    {
      "cell_type": "code",
      "execution_count": null,
      "metadata": {
        "colab": {
          "base_uri": "https://localhost:8080/"
        },
        "id": "eJ3WKRFmbz-H",
        "outputId": "01324f9f-594d-4948-e5a8-6d466b0ca58f"
      },
      "outputs": [
        {
          "name": "stdout",
          "output_type": "stream",
          "text": [
            "Tuple of squares: (1, 4, 9, 16, 25)\n"
          ]
        }
      ],
      "source": [
        "# Create a tuple of squares using a list comprehension\n",
        "squares_tuple = tuple(x ** 2 for x in range(1, 6))\n",
        "\n",
        "# Print the tuple of squares\n",
        "print(\"Tuple of squares:\", squares_tuple)"
      ]
    },
    {
      "cell_type": "markdown",
      "metadata": {
        "id": "fw9phPf9-qn3"
      },
      "source": [
        "### 35. Filter out all even numbers from a tuple."
      ]
    },
    {
      "cell_type": "code",
      "execution_count": null,
      "metadata": {
        "colab": {
          "base_uri": "https://localhost:8080/"
        },
        "id": "YhQtBJV8b9kD",
        "outputId": "ddf7a9b3-a0b5-485e-9673-c9a510376b35"
      },
      "outputs": [
        {
          "name": "stdout",
          "output_type": "stream",
          "text": [
            "Filtered tuple: (1, 3, 5, 7, 9)\n"
          ]
        }
      ],
      "source": [
        "# Create a tuple\n",
        "original_tuple = (1, 2, 3, 4, 5, 6, 7, 8, 9, 10)\n",
        "\n",
        "# Filter out even numbers using a list comprehension\n",
        "filtered_tuple = tuple(num for num in original_tuple if num % 2 != 0)\n",
        "\n",
        "# Print the filtered tuple\n",
        "print(\"Filtered tuple:\", filtered_tuple)"
      ]
    },
    {
      "cell_type": "markdown",
      "metadata": {
        "id": "2sUz0cMY-qg1"
      },
      "source": [
        "### 36. Multiply all elements in a tuple by 2."
      ]
    },
    {
      "cell_type": "code",
      "execution_count": null,
      "metadata": {
        "colab": {
          "base_uri": "https://localhost:8080/"
        },
        "id": "VLCmBgLDcRuJ",
        "outputId": "9330bd2d-788e-467c-bd6f-bddac9005804"
      },
      "outputs": [
        {
          "name": "stdout",
          "output_type": "stream",
          "text": [
            "Doubled tuple: (2, 4, 6, 8, 10)\n"
          ]
        }
      ],
      "source": [
        "# Create a tuple\n",
        "original_tuple = (1, 2, 3, 4, 5)\n",
        "\n",
        "# Multiply all elements by 2 using a list comprehension and convert to a tuple\n",
        "doubled_tuple = tuple(num * 2 for num in original_tuple)\n",
        "\n",
        "# Print the doubled tuple\n",
        "print(\"Doubled tuple:\", doubled_tuple)"
      ]
    },
    {
      "cell_type": "markdown",
      "metadata": {
        "id": "qvmR9C4J-qZx"
      },
      "source": [
        "### 37. Create a tuple of random numbers."
      ]
    },
    {
      "cell_type": "code",
      "execution_count": null,
      "metadata": {
        "colab": {
          "base_uri": "https://localhost:8080/"
        },
        "id": "ZM_h9niFchcx",
        "outputId": "82634012-e2b5-4955-eb0f-69881f564054"
      },
      "outputs": [
        {
          "name": "stdout",
          "output_type": "stream",
          "text": [
            "Random tuple: (96, 86, 64, 54, 55, 96, 1, 88, 85, 43)\n"
          ]
        }
      ],
      "source": [
        "import random\n",
        "\n",
        "# Create a tuple of random numbers using a list comprehension\n",
        "random_tuple = tuple(random.randint(1, 100) for _ in range(10))  # Generating 10 random numbers between 1 and 100\n",
        "\n",
        "# Print the tuple of random numbers\n",
        "print(\"Random tuple:\", random_tuple)"
      ]
    },
    {
      "cell_type": "markdown",
      "metadata": {
        "id": "Q-r1EP2f-qSs"
      },
      "source": [
        "### 38. Check if a tuple is sorted."
      ]
    },
    {
      "cell_type": "code",
      "execution_count": null,
      "metadata": {
        "colab": {
          "base_uri": "https://localhost:8080/"
        },
        "id": "U1qeXetYcuXI",
        "outputId": "0dfe992e-abf8-4c36-ebe1-859e324674c3"
      },
      "outputs": [
        {
          "name": "stdout",
          "output_type": "stream",
          "text": [
            "sorted_tuple is sorted: True\n",
            "unsorted_tuple is sorted: False\n"
          ]
        }
      ],
      "source": [
        "# Function to check if a tuple is sorted\n",
        "def is_sorted(tup):\n",
        "    for i in range(len(tup) - 1):\n",
        "        if tup[i] > tup[i + 1]:\n",
        "            return False\n",
        "    return True\n",
        "\n",
        "# Create tuples for testing\n",
        "sorted_tuple = (1, 2, 3, 4, 5)\n",
        "unsorted_tuple = (5, 3, 1, 4, 2)\n",
        "\n",
        "# Check if the tuples are sorted\n",
        "is_sorted1 = is_sorted(sorted_tuple)\n",
        "is_sorted2 = is_sorted(unsorted_tuple)\n",
        "\n",
        "# Print the results\n",
        "print(\"sorted_tuple is sorted:\", is_sorted1)\n",
        "print(\"unsorted_tuple is sorted:\", is_sorted2)"
      ]
    },
    {
      "cell_type": "markdown",
      "metadata": {
        "id": "Gh8Hd_Fx-qKr"
      },
      "source": [
        "### 39. Rotate a tuple to the left by `n` positions."
      ]
    },
    {
      "cell_type": "code",
      "execution_count": null,
      "metadata": {
        "colab": {
          "base_uri": "https://localhost:8080/"
        },
        "id": "uejMlLpj7ShG",
        "outputId": "ce1b272c-b7bf-4116-c75d-6c5a7e8ed080"
      },
      "outputs": [
        {
          "name": "stdout",
          "output_type": "stream",
          "text": [
            "(3, 4, 5, 1, 2)\n"
          ]
        }
      ],
      "source": [
        "def rotate_tuple_left(tup, n):\n",
        "    n = n % len(tup)  # Ensure n is within the range of tuple length\n",
        "    rotated_tuple = tup[n:] + tup[:n]  # Rotate the tuple\n",
        "    return rotated_tuple\n",
        "\n",
        "# Example tuple\n",
        "my_tuple = (1, 2, 3, 4, 5)\n",
        "n_positions = 2\n",
        "result = rotate_tuple_left(my_tuple, n_positions)\n",
        "print(result)"
      ]
    },
    {
      "cell_type": "markdown",
      "metadata": {
        "id": "r-LUhANc-qHO"
      },
      "source": [
        "### 40. Rotate a tuple to the right by `n` positions."
      ]
    },
    {
      "cell_type": "code",
      "execution_count": null,
      "metadata": {
        "colab": {
          "base_uri": "https://localhost:8080/"
        },
        "id": "xJ3dNZMw7iVo",
        "outputId": "5d24c9fd-134d-4537-f48c-e65c0f6ee0ac"
      },
      "outputs": [
        {
          "name": "stdout",
          "output_type": "stream",
          "text": [
            "(4, 5, 1, 2, 3)\n"
          ]
        }
      ],
      "source": [
        "def rotate_tuple_right(tup, n):\n",
        "    n = n % len(tup)  # Ensure n is within the range of tuple length\n",
        "    rotated_tuple = tup[-n:] + tup[:-n]  # Rotate the tuple\n",
        "    return rotated_tuple\n",
        "\n",
        "# Example tuple\n",
        "my_tuple = (1, 2, 3, 4, 5)\n",
        "n_positions = 2\n",
        "result = rotate_tuple_right(my_tuple, n_positions)\n",
        "print(result)"
      ]
    },
    {
      "cell_type": "markdown",
      "metadata": {
        "id": "v1QLjAfU-qD0"
      },
      "source": [
        "### 41. Create a tuple of the first 5 Fibonacci numbers."
      ]
    },
    {
      "cell_type": "code",
      "execution_count": null,
      "metadata": {
        "colab": {
          "base_uri": "https://localhost:8080/"
        },
        "id": "X7dXQVvC8QTC",
        "outputId": "f07f5665-bbbc-481f-e2c4-b79fe78e2066"
      },
      "outputs": [
        {
          "name": "stdout",
          "output_type": "stream",
          "text": [
            "(0, 1, 1, 2, 3)\n"
          ]
        }
      ],
      "source": [
        "# Define a function to generate the first n Fibonacci numbers\n",
        "def generate_fibonacci(n):\n",
        "    fibonacci = [0, 1]  # Initialize the list with the first two Fibonacci numbers\n",
        "    while len(fibonacci) < n:  # Continue generating Fibonacci numbers until the list has n elements\n",
        "        next_number = fibonacci[-1] + fibonacci[-2]  # Calculate the next Fibonacci number\n",
        "        fibonacci.append(next_number)  # Add the next Fibonacci number to the list\n",
        "    return tuple(fibonacci)  # Convert the list to a tuple and return it\n",
        "\n",
        "# Call the generate_fibonacci function to create a tuple of the first 5 Fibonacci numbers\n",
        "fibonacci_tuple = generate_fibonacci(5)\n",
        "\n",
        "# Print the resulting tuple\n",
        "print(fibonacci_tuple)"
      ]
    },
    {
      "cell_type": "markdown",
      "metadata": {
        "id": "8zPtSB8B-qAY"
      },
      "source": [
        "### 42. Create a tuple from user input."
      ]
    },
    {
      "cell_type": "code",
      "execution_count": null,
      "metadata": {
        "colab": {
          "base_uri": "https://localhost:8080/"
        },
        "id": "-mF1Epj684Av",
        "outputId": "bb988aa9-5bfe-4551-92ad-e71050dea291"
      },
      "outputs": [
        {
          "name": "stdout",
          "output_type": "stream",
          "text": [
            "Enter elements separated by commas: s,e,r,,t,y,y,u,\n",
            "User input tuple: ('s', 'e', 'r', '', 't', 'y', 'y', 'u', '')\n"
          ]
        }
      ],
      "source": [
        "# Taking user input for creating a tuple\n",
        "input_str = input(\"Enter elements separated by commas: \")\n",
        "\n",
        "# Splitting the input string into a list of strings\n",
        "input_list = input_str.split(',')\n",
        "\n",
        "# Converting the list of strings to a tuple\n",
        "user_tuple = tuple(input_list)\n",
        "\n",
        "# Printing the created tuple\n",
        "print(\"User input tuple:\", user_tuple)"
      ]
    },
    {
      "cell_type": "markdown",
      "metadata": {
        "id": "8efVnYAd-p89"
      },
      "source": [
        "### 43. Swap two elements in a tuple."
      ]
    },
    {
      "cell_type": "code",
      "execution_count": null,
      "metadata": {
        "colab": {
          "base_uri": "https://localhost:8080/"
        },
        "id": "mjbBK80Q88Ea",
        "outputId": "c7c6d4e4-55ef-4264-b6a8-5dc8789ed9b5"
      },
      "outputs": [
        {
          "name": "stdout",
          "output_type": "stream",
          "text": [
            "Swapped tuple: (1, 4, 3, 2, 5)\n"
          ]
        }
      ],
      "source": [
        "# Create a tuple\n",
        "my_tuple = (1, 2, 3, 4, 5)\n",
        "\n",
        "# Swap elements at indices 1 and 3\n",
        "index1 = 1\n",
        "index2 = 3\n",
        "swapped_tuple = tuple(\n",
        "    my_tuple[i] if i not in (index1, index2) else\n",
        "    my_tuple[index2] if i == index1 else\n",
        "    my_tuple[index1]\n",
        "    for i in range(len(my_tuple))\n",
        ")\n",
        "\n",
        "# Print the swapped tuple\n",
        "print(\"Swapped tuple:\", swapped_tuple)"
      ]
    },
    {
      "cell_type": "markdown",
      "metadata": {
        "id": "rihKk1jR-p5e"
      },
      "source": [
        "### 44. Reverse the elements of a tuple."
      ]
    },
    {
      "cell_type": "code",
      "execution_count": null,
      "metadata": {
        "colab": {
          "base_uri": "https://localhost:8080/"
        },
        "id": "GLjlZw0T9tnx",
        "outputId": "00266414-0565-459d-8021-df3b7da2ad80"
      },
      "outputs": [
        {
          "name": "stdout",
          "output_type": "stream",
          "text": [
            "Reversed tuple: (5, 4, 3, 2, 1)\n"
          ]
        }
      ],
      "source": [
        "# Create a tuple\n",
        "my_tuple = (1, 2, 3, 4, 5)\n",
        "\n",
        "# Reverse the elements using slicing\n",
        "reversed_tuple = my_tuple[::-1]\n",
        "\n",
        "# Print the reversed tuple\n",
        "print(\"Reversed tuple:\", reversed_tuple)"
      ]
    },
    {
      "cell_type": "markdown",
      "metadata": {
        "id": "5CS0c5DB-p2E"
      },
      "source": [
        "### 45. Create a tuple of the first `n` powers of 2."
      ]
    },
    {
      "cell_type": "code",
      "execution_count": null,
      "metadata": {
        "colab": {
          "base_uri": "https://localhost:8080/"
        },
        "id": "VF-6y5Es-BWy",
        "outputId": "470bfaa8-c313-4491-9e5d-e1293ce9348d"
      },
      "outputs": [
        {
          "name": "stdout",
          "output_type": "stream",
          "text": [
            "Tuple of the first 5 powers of 2: (1, 2, 4, 8, 16)\n"
          ]
        }
      ],
      "source": [
        "# Define the value of n\n",
        "n = 5\n",
        "\n",
        "# Create a tuple of the first n powers of 2 using a list comprehension\n",
        "powers_of_2_tuple = tuple(2 ** i for i in range(n))\n",
        "\n",
        "# Print the tuple of powers of 2\n",
        "print(\"Tuple of the first\", n, \"powers of 2:\", powers_of_2_tuple)"
      ]
    },
    {
      "cell_type": "markdown",
      "metadata": {
        "id": "z5AJecfk-pyj"
      },
      "source": [
        "### 46. Find the longest string in a tuple of strings."
      ]
    },
    {
      "cell_type": "code",
      "execution_count": null,
      "metadata": {
        "colab": {
          "base_uri": "https://localhost:8080/"
        },
        "id": "KJhQzMDG-Y0O",
        "outputId": "84217ebe-8e3d-42d2-f1de-7f0448bcd18c"
      },
      "outputs": [
        {
          "name": "stdout",
          "output_type": "stream",
          "text": [
            "Longest string: watermelon\n"
          ]
        }
      ],
      "source": [
        "# Create a tuple of strings\n",
        "string_tuple = (\"apple\", \"banana\", \"grape\", \"kiwi\", \"watermelon\")\n",
        "\n",
        "# Find the longest string in the tuple\n",
        "longest_string = max(string_tuple, key=len)\n",
        "\n",
        "# Print the longest string\n",
        "print(\"Longest string:\", longest_string)"
      ]
    },
    {
      "cell_type": "markdown",
      "metadata": {
        "id": "VNRfd3cO-pu_"
      },
      "source": [
        "### 47. Find the shortest string in a tuple of strings."
      ]
    },
    {
      "cell_type": "code",
      "execution_count": null,
      "metadata": {
        "colab": {
          "base_uri": "https://localhost:8080/"
        },
        "id": "LN5WYQML-zCd",
        "outputId": "66a4302a-2842-4722-af44-8158ced93020"
      },
      "outputs": [
        {
          "name": "stdout",
          "output_type": "stream",
          "text": [
            "Shortest string: kiwi\n"
          ]
        }
      ],
      "source": [
        "# Create a tuple of strings\n",
        "string_tuple = (\"apple\", \"banana\", \"grape\", \"kiwi\", \"watermelon\")\n",
        "\n",
        "# Find the shortest string in the tuple\n",
        "shortest_string = min(string_tuple, key=len)\n",
        "\n",
        "# Print the shortest string\n",
        "print(\"Shortest string:\", shortest_string)"
      ]
    },
    {
      "cell_type": "markdown",
      "metadata": {
        "id": "Xj9iIlkK-prR"
      },
      "source": [
        "### 48. Create a tuple of the first `n` triangular numbers."
      ]
    },
    {
      "cell_type": "code",
      "execution_count": null,
      "metadata": {
        "colab": {
          "base_uri": "https://localhost:8080/"
        },
        "id": "Fjs9tenZ_mY3",
        "outputId": "e4c1aed2-07d5-4f28-9b93-2d9bf4e7acec"
      },
      "outputs": [
        {
          "name": "stdout",
          "output_type": "stream",
          "text": [
            "Tuple of the first 5 triangular numbers: (1, 3, 6, 10, 15)\n"
          ]
        }
      ],
      "source": [
        "# Define the value of n\n",
        "n = 5\n",
        "\n",
        "# Create a tuple of the first n triangular numbers using a list comprehension\n",
        "triangular_numbers_tuple = tuple((i * (i + 1)) // 2 for i in range(1, n + 1))\n",
        "\n",
        "# Print the tuple of triangular numbers\n",
        "print(\"Tuple of the first\", n, \"triangular numbers:\", triangular_numbers_tuple)"
      ]
    },
    {
      "cell_type": "markdown",
      "metadata": {
        "id": "-hT62MMO-pko"
      },
      "source": [
        "### 49. Check if a tuple contains another tuple as a subsequence."
      ]
    },
    {
      "cell_type": "code",
      "execution_count": null,
      "metadata": {
        "colab": {
          "base_uri": "https://localhost:8080/"
        },
        "id": "Q0sFzkTW_tgc",
        "outputId": "7b2f9971-db85-40db-c4d2-262f946d4135"
      },
      "outputs": [
        {
          "name": "stdout",
          "output_type": "stream",
          "text": [
            "Main tuple contains subsequence tuple: True\n"
          ]
        }
      ],
      "source": [
        "# Function to check if a tuple contains another tuple as a subsequence\n",
        "def contains_subsequence(main_tuple, sub_tuple):\n",
        "    sub_length = len(sub_tuple)\n",
        "    for i in range(len(main_tuple) - sub_length + 1):\n",
        "        if main_tuple[i:i+sub_length] == sub_tuple:\n",
        "            return True\n",
        "    return False\n",
        "\n",
        "# Main tuple\n",
        "main_tuple = (1, 2, 3, 4, 5, 6, 7, 8, 9)\n",
        "\n",
        "# Subsequence tuple\n",
        "sub_tuple = (3, 4, 5)\n",
        "\n",
        "# Check if the main tuple contains the subsequence tuple\n",
        "contains_subseq = contains_subsequence(main_tuple, sub_tuple)\n",
        "\n",
        "# Print the result\n",
        "print(\"Main tuple contains subsequence tuple:\", contains_subseq)"
      ]
    },
    {
      "cell_type": "markdown",
      "metadata": {
        "id": "FRkzPck9-phJ"
      },
      "source": [
        "### 50. Create a tuple of alternating 1s and 0s of length `n`."
      ]
    },
    {
      "cell_type": "code",
      "execution_count": null,
      "metadata": {
        "colab": {
          "base_uri": "https://localhost:8080/"
        },
        "id": "N3PQL1u4_-Oq",
        "outputId": "84c475a5-43ce-4e32-a642-3701e8b3a705"
      },
      "outputs": [
        {
          "name": "stdout",
          "output_type": "stream",
          "text": [
            "Tuple of alternating 1s and 0s: (0, 1, 0, 1, 0, 1, 0, 1, 0, 1)\n"
          ]
        }
      ],
      "source": [
        "# Define the value of n\n",
        "n = 10\n",
        "\n",
        "# Create a tuple of alternating 1s and 0s using a list comprehension\n",
        "alternating_tuple = tuple(i % 2 for i in range(n))\n",
        "\n",
        "# Print the tuple of alternating 1s and 0s\n",
        "print(\"Tuple of alternating 1s and 0s:\", alternating_tuple)"
      ]
    }
  ]
}