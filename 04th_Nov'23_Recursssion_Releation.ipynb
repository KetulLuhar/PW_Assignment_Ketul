{
  "nbformat": 4,
  "nbformat_minor": 0,
  "metadata": {
    "colab": {
      "provenance": []
    },
    "kernelspec": {
      "name": "python3",
      "display_name": "Python 3"
    },
    "language_info": {
      "name": "python"
    }
  },
  "cells": [
    {
      "cell_type": "markdown",
      "source": [
        "# 1. Find the value of T(2) for the recurrence relation T(n) = 3T(n-1) + 12n, given that T(0)=5."
      ],
      "metadata": {
        "id": "hOqnVeRLP_ma"
      }
    },
    {
      "cell_type": "markdown",
      "source": [
        "**Answer**\n",
        "\n",
        "T(0) = 5(given)\n",
        "\n",
        "T(1) = 3T(0) + 12 * 1 = 3 * 5 + 12 =27\n",
        "\n",
        "T(2) = 3T(1) + 12 * 2 =3*27+24=81+24 = 105"
      ],
      "metadata": {
        "id": "LAocDU80Qxmq"
      }
    },
    {
      "cell_type": "markdown",
      "source": [
        "# 2. Given a recurrence relation, solve it using the substitution method:\n",
        "a. T(n) = T(n-1) + c\n",
        "\n",
        "b. T(n) = 2T(n/2) + n\n",
        "\n",
        "c. T(n) = 2T(n/2) + c\n",
        "\n",
        "d. T(n) = T(n/2) + c"
      ],
      "metadata": {
        "id": "jqtxY4MnRkkY"
      }
    },
    {
      "cell_type": "markdown",
      "source": [
        "**Answer**\n",
        "\n",
        "a. T(n) = T(n − 1) + c\n",
        "\n",
        "The solution is T(n) = n + b, where b is an arbitrary constant.\n",
        "\n",
        "b. T(n) = 2T (n/2) + n\n",
        "\n",
        "The solution is T(n) = an + n, where a is an arbitrary constant.\n",
        "\n",
        "c. T(n) = 2T (n/2)+c\n",
        "\n",
        "The solution is T(n) = an + c, where a is an arbitrary constant.\n",
        "\n",
        "d. T(n) = T(n/2)+c\n",
        "\n",
        "The solution is T(n) = 2cn + b, where b is an arbitrary constant."
      ],
      "metadata": {
        "id": "BFt_9rRhRpLq"
      }
    },
    {
      "cell_type": "markdown",
      "source": [
        "# 3. Given a recurrence relation, solve it using the recursive tree approach:\n",
        "a. T(n) = 2T(n-1) +1\n",
        "\n",
        "b. T(n) = 2T(n/2) + n"
      ],
      "metadata": {
        "id": "pdvoxWXKS967"
      }
    },
    {
      "cell_type": "markdown",
      "source": [
        "**Answer**\n",
        "\n",
        "a. T(n) = 2T(n-1) +1\n",
        "\n",
        "The solution is T(n)=2^n−1T(1)+2^n−1−1\n",
        "\n",
        "b. T(n) = 2T(n/2) + n\n",
        "\n",
        "The solution is T(n)=nT(1)+n log2(n)−n+2"
      ],
      "metadata": {
        "id": "AxKr7udMTIAu"
      }
    },
    {
      "cell_type": "code",
      "source": [],
      "metadata": {
        "id": "1ii_RNsZTzQN"
      },
      "execution_count": null,
      "outputs": []
    }
  ]
}