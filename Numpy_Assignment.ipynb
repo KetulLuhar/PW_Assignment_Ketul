{
  "nbformat": 4,
  "nbformat_minor": 0,
  "metadata": {
    "colab": {
      "provenance": []
    },
    "kernelspec": {
      "name": "python3",
      "display_name": "Python 3"
    },
    "language_info": {
      "name": "python"
    }
  },
  "cells": [
    {
      "cell_type": "code",
      "execution_count": 1,
      "metadata": {
        "id": "Fa7Mj8a1EcXt"
      },
      "outputs": [],
      "source": [
        "import numpy as np"
      ]
    },
    {
      "cell_type": "code",
      "source": [
        "#1. What is a Python library? Why ^o we use Python libraries?\n",
        "\n",
        "print('A Python library is a collection of Python modules and packages that are pre-written and can be used in Python programs. They are used to extend the functionality of the Python programming language and make it easier to write specific types of programs.')\n",
        "print('We use Python libraries because they save us time and effort by providing us with pre-written code that we can use in our own programs. They also allow us to access a wide range of functionality that would be difficult or impossible to implement on our own.')\n"
      ],
      "metadata": {
        "id": "4lzKXpo1Epfv",
        "colab": {
          "base_uri": "https://localhost:8080/"
        },
        "outputId": "0f4ae8dc-5478-48ee-9bc2-3dfafa65370a"
      },
      "execution_count": 2,
      "outputs": [
        {
          "output_type": "stream",
          "name": "stdout",
          "text": [
            "A Python library is a collection of Python modules and packages that are pre-written and can be used in Python programs. They are used to extend the functionality of the Python programming language and make it easier to write specific types of programs.\n",
            "We use Python libraries because they save us time and effort by providing us with pre-written code that we can use in our own programs. They also allow us to access a wide range of functionality that would be difficult or impossible to implement on our own.\n"
          ]
        }
      ]
    },
    {
      "cell_type": "code",
      "source": [
        "#2. What is the ^ifference between Numpy array an^ List?\n",
        "\n",
        "print('A NumPy array is a multidimensional array of numbers, while a list is a one-dimensional array of objects. NumPy arrays are more efficient than lists for storing and processing large amounts of data, and they have a number of features that make them easier to use for scientific computing.')\n",
        "print('Here are some of the key differences between NumPy arrays and lists:')\n",
        "\n",
        "print('Data type: NumPy arrays can store numbers of different data types, while lists can only store objects.')\n",
        "print('Size: NumPy arrays can be of any size, while lists are limited to a maximum size of 2**31 - 1 elements.')\n",
        "print('Memory efficiency: NumPy arrays are stored in contiguous memory locations, which makes them more efficient to access than lists.')\n",
        "print('Speed: NumPy arrays are optimized for scientific computing, and they can be processed much faster than lists.')\n",
        "print('Features: NumPy arrays have a number of features that make them easier to use for scientific computing, such as support for linear algebra, statistics, and signal processing.')\n"
      ],
      "metadata": {
        "colab": {
          "base_uri": "https://localhost:8080/"
        },
        "id": "WHL90RuimC9T",
        "outputId": "ab19abc4-ffec-4cc3-e043-4a3af6c13836"
      },
      "execution_count": 3,
      "outputs": [
        {
          "output_type": "stream",
          "name": "stdout",
          "text": [
            "A NumPy array is a multidimensional array of numbers, while a list is a one-dimensional array of objects. NumPy arrays are more efficient than lists for storing and processing large amounts of data, and they have a number of features that make them easier to use for scientific computing.\n",
            "Here are some of the key differences between NumPy arrays and lists:\n",
            "Data type: NumPy arrays can store numbers of different data types, while lists can only store objects.\n",
            "Size: NumPy arrays can be of any size, while lists are limited to a maximum size of 2**31 - 1 elements.\n",
            "Memory efficiency: NumPy arrays are stored in contiguous memory locations, which makes them more efficient to access than lists.\n",
            "Speed: NumPy arrays are optimized for scientific computing, and they can be processed much faster than lists.\n",
            "Features: NumPy arrays have a number of features that make them easier to use for scientific computing, such as support for linear algebra, statistics, and signal processing.\n"
          ]
        }
      ]
    },
    {
      "cell_type": "code",
      "source": [
        "#3. 3. Find the shape, size and dimension of the following array? [[1, 2, 3, 4] [5, 6, 7, 8], [9, 10, 11, 12]]\n",
        "\n",
        "import numpy as np\n",
        "arr = np.array([[1, 2, 3, 4], [5, 6, 7, 8], [9, 10, 11, 12]])\n",
        "print('Shape:', arr.shape)  # (3, 4)\n",
        "print('Size:', arr.size)  # 12\n",
        "print('Dimension:', arr.ndim)  # 2\n"
      ],
      "metadata": {
        "colab": {
          "base_uri": "https://localhost:8080/"
        },
        "id": "_LEoE_EomIk0",
        "outputId": "235e9a8b-c3ea-497b-ab53-7ec5e89fd888"
      },
      "execution_count": 8,
      "outputs": [
        {
          "output_type": "stream",
          "name": "stdout",
          "text": [
            "Shape: (3, 4)\n",
            "Size: 12\n",
            "Dimension: 2\n"
          ]
        }
      ]
    },
    {
      "cell_type": "code",
      "source": [
        "#4. Write python code to access the first row of the following array? [[1, 2, 3, 4] [5, 6, 7, 8], [9, 10, 11, 12]]\n",
        "\n",
        "arr = np.array([[1, 2, 3, 4], [5, 6, 7, 8], [9, 10, 11, 12]])\n",
        "print(arr[0])  # [1, 2, 3, 4]\n"
      ],
      "metadata": {
        "colab": {
          "base_uri": "https://localhost:8080/"
        },
        "id": "4hKxTYPMmLKp",
        "outputId": "c2752554-a1ec-4d59-c84e-cfdb6cc52dba"
      },
      "execution_count": 7,
      "outputs": [
        {
          "output_type": "stream",
          "name": "stdout",
          "text": [
            "[1 2 3 4]\n"
          ]
        }
      ]
    },
    {
      "cell_type": "code",
      "source": [
        "#5. How do you access the element at the third row and fourth column from the given numpy array? [[1, 2, 3, 4] [5, 6, 7, 8], [9, 10, 11, 12]]\n",
        "\n",
        "arr = np.array([[1, 2, 3, 4], [5, 6, 7, 8], [9, 10, 11, 12]])\n",
        "print(arr[2, 3])  # 12\n"
      ],
      "metadata": {
        "colab": {
          "base_uri": "https://localhost:8080/"
        },
        "id": "dAL4v3tymUac",
        "outputId": "cbc311b1-7228-48b4-a6f1-1d5fa1b2787c"
      },
      "execution_count": 9,
      "outputs": [
        {
          "output_type": "stream",
          "name": "stdout",
          "text": [
            "12\n"
          ]
        }
      ]
    },
    {
      "cell_type": "code",
      "source": [
        "#6. Write code to extract all odd-indexed elements from the given numpy array? [[1, 2, 3, 4] [5, 6, 7, 8], [9, 10, 11, 12]]\n",
        "\n",
        "arr = np.array([[1, 2, 3, 4], [5, 6, 7, 8], [9, 10, 11, 12]])\n",
        "odd_elements = arr[1::2]\n",
        "print(odd_elements)  # [3, 7, 11]\n"
      ],
      "metadata": {
        "colab": {
          "base_uri": "https://localhost:8080/"
        },
        "id": "kXE9EAGPmc-g",
        "outputId": "257a755e-8eec-4e7e-bd6a-eaf3e75c636b"
      },
      "execution_count": 10,
      "outputs": [
        {
          "output_type": "stream",
          "name": "stdout",
          "text": [
            "[[5 6 7 8]]\n"
          ]
        }
      ]
    },
    {
      "cell_type": "code",
      "source": [
        "#7. How can you generate a random 3x3 matrix with values between 0 and 1?\n",
        "\n",
        "\n",
        "# Generate a random 3x3 matrix with values between 0 and 1\n",
        "rand_matrix = np.random.rand(3, 3)\n",
        "print(rand_matrix)\n"
      ],
      "metadata": {
        "colab": {
          "base_uri": "https://localhost:8080/"
        },
        "id": "p3eoWxESmh9H",
        "outputId": "7edf7201-7854-459f-f350-a386d8f99e3e"
      },
      "execution_count": 11,
      "outputs": [
        {
          "output_type": "stream",
          "name": "stdout",
          "text": [
            "[[0.52137516 0.12368545 0.98799826]\n",
            " [0.80091032 0.40358324 0.26212107]\n",
            " [0.58260312 0.9561177  0.87854791]]\n"
          ]
        }
      ]
    },
    {
      "cell_type": "code",
      "source": [
        "#8. Describe the difference between np.random.rand and np.random.randn?\n",
        "\n",
        "# np.random.rand() generates random floats between 0 and 1\n",
        "rand_values = np.random.rand(10)\n",
        "print(rand_values)\n",
        "\n",
        "# np.random.randn() generates random floats with a mean of 0 and a standard deviation of 1\n",
        "randn_values = np.random.randn(10)\n",
        "print(randn_values)\n"
      ],
      "metadata": {
        "colab": {
          "base_uri": "https://localhost:8080/"
        },
        "id": "QlGYo8_tml4F",
        "outputId": "630d8361-d723-4d3b-a7d8-0bf6e8ef5157"
      },
      "execution_count": 12,
      "outputs": [
        {
          "output_type": "stream",
          "name": "stdout",
          "text": [
            "[0.09925559 0.28249047 0.58232065 0.39347194 0.2910446  0.58313821\n",
            " 0.10912801 0.44277305 0.45093775 0.2664894 ]\n",
            "[-0.99130294  1.12148013 -0.91407986 -0.07811415 -0.04866499 -1.25114122\n",
            " -0.04068106  0.69779343 -0.95783989  0.70191305]\n"
          ]
        }
      ]
    },
    {
      "cell_type": "code",
      "source": [
        "#9. Write code to increase the dimension of the following array? [[1, 2, 3, 4] [5, 6, 7, 8], [9, 10, 11, 12]]\n",
        "\n",
        "arr = np.array([[1, 2, 3, 4], [5, 6, 7, 8], [9, 10, 11, 12]])\n",
        "print(arr.shape)  # (3, 4)\n",
        "\n",
        "# Increase the dimension of the array by adding a new axis at the beginning\n",
        "new_arr = np.expand_dims(arr, axis=0)\n",
        "print(new_arr.shape)  # (1, 3, 4)\n"
      ],
      "metadata": {
        "colab": {
          "base_uri": "https://localhost:8080/"
        },
        "id": "-es_SKjVms_S",
        "outputId": "48707eea-d6e3-4292-ae88-e1e201fb702d"
      },
      "execution_count": 13,
      "outputs": [
        {
          "output_type": "stream",
          "name": "stdout",
          "text": [
            "(3, 4)\n",
            "(1, 3, 4)\n"
          ]
        }
      ]
    },
    {
      "cell_type": "code",
      "source": [
        "#10. How to transpose the following array in NumPy? [[1, 2, 3, 4] [5, 6, 7, 8], [9, 10, 11, 12]]\n",
        "\n",
        "arr = np.array([[1, 2, 3, 4], [5, 6, 7, 8], [9, 10, 11, 12]])\n",
        "print(arr.T)  # [[1, 5, 9], [2, 6, 10], [3, 7, 11], [4, 8, 12]]\n"
      ],
      "metadata": {
        "colab": {
          "base_uri": "https://localhost:8080/"
        },
        "id": "hxFRRFUcmxrr",
        "outputId": "ca0e16ae-059f-4423-be42-81b87a954bd5"
      },
      "execution_count": 14,
      "outputs": [
        {
          "output_type": "stream",
          "name": "stdout",
          "text": [
            "[[ 1  5  9]\n",
            " [ 2  6 10]\n",
            " [ 3  7 11]\n",
            " [ 4  8 12]]\n"
          ]
        }
      ]
    },
    {
      "cell_type": "code",
      "source": [],
      "metadata": {
        "id": "Jb3qN5ujm2EM"
      },
      "execution_count": null,
      "outputs": []
    }
  ]
}