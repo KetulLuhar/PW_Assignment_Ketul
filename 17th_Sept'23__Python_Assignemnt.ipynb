{
  "nbformat": 4,
  "nbformat_minor": 0,
  "metadata": {
    "colab": {
      "provenance": []
    },
    "kernelspec": {
      "name": "python3",
      "display_name": "Python 3"
    },
    "language_info": {
      "name": "python"
    }
  },
  "cells": [
    {
      "cell_type": "markdown",
      "source": [
        "#For Loop"
      ],
      "metadata": {
        "id": "-T7lqG-4VHrA"
      }
    },
    {
      "cell_type": "code",
      "execution_count": 1,
      "metadata": {
        "colab": {
          "base_uri": "https://localhost:8080/"
        },
        "id": "uGPM-HzwUZsr",
        "outputId": "3f195bef-cafe-4d58-dc39-7c8149929950"
      },
      "outputs": [
        {
          "output_type": "stream",
          "name": "stdout",
          "text": [
            "1\n",
            "2\n",
            "3\n",
            "4\n",
            "5\n",
            "6\n",
            "7\n",
            "8\n",
            "9\n",
            "10\n"
          ]
        }
      ],
      "source": [
        "# Solution 1\n",
        "for i in range(1, 11):\n",
        "    print(i)\n"
      ]
    },
    {
      "cell_type": "code",
      "source": [
        "# Solution 2\n",
        "total = 0\n",
        "for i in range(1, 101):\n",
        "    total += i\n",
        "print(\"Sum:\", total)\n"
      ],
      "metadata": {
        "colab": {
          "base_uri": "https://localhost:8080/"
        },
        "id": "-gptToOqVNVk",
        "outputId": "22b58af9-62a2-4862-b33c-7ed7112c9283"
      },
      "execution_count": 2,
      "outputs": [
        {
          "output_type": "stream",
          "name": "stdout",
          "text": [
            "Sum: 5050\n"
          ]
        }
      ]
    },
    {
      "cell_type": "code",
      "source": [
        "# Solution 3\n",
        "my_list = [1, 2, 3, 4, 5]\n",
        "for item in my_list:\n",
        "    print(item)\n"
      ],
      "metadata": {
        "colab": {
          "base_uri": "https://localhost:8080/"
        },
        "id": "hHQR5RjiVOhd",
        "outputId": "adea1db9-ace3-4b35-d15e-5371f4939a1c"
      },
      "execution_count": 3,
      "outputs": [
        {
          "output_type": "stream",
          "name": "stdout",
          "text": [
            "1\n",
            "2\n",
            "3\n",
            "4\n",
            "5\n"
          ]
        }
      ]
    },
    {
      "cell_type": "code",
      "source": [
        "# Solution 4\n",
        "my_list = [1, 2, 3, 4, 5]\n",
        "product = 1\n",
        "for num in my_list:\n",
        "    product *= num\n",
        "print(\"Product:\", product)"
      ],
      "metadata": {
        "colab": {
          "base_uri": "https://localhost:8080/"
        },
        "id": "BBnfFOufVP93",
        "outputId": "d65d6368-f429-42d0-e6df-08fbb37afb81"
      },
      "execution_count": 6,
      "outputs": [
        {
          "output_type": "stream",
          "name": "stdout",
          "text": [
            "Product: 120\n"
          ]
        }
      ]
    },
    {
      "cell_type": "code",
      "source": [
        "# Solution 5\n",
        "for i in range(2, 21, 2):\n",
        "    print(i)\n"
      ],
      "metadata": {
        "colab": {
          "base_uri": "https://localhost:8080/"
        },
        "id": "JZPT1aAPVRXi",
        "outputId": "3359c278-5dc0-48c1-f571-9f3e11a12653"
      },
      "execution_count": 5,
      "outputs": [
        {
          "output_type": "stream",
          "name": "stdout",
          "text": [
            "2\n",
            "4\n",
            "6\n",
            "8\n",
            "10\n",
            "12\n",
            "14\n",
            "16\n",
            "18\n",
            "20\n"
          ]
        }
      ]
    },
    {
      "cell_type": "code",
      "source": [
        "# Solution 6\n",
        "n = int(input(\"Enter a number: \"))\n",
        "factorial = 1\n",
        "for i in range(1, n + 1):\n",
        "    factorial *= i\n",
        "print(\"Factorial:\", factorial)\n"
      ],
      "metadata": {
        "colab": {
          "base_uri": "https://localhost:8080/"
        },
        "id": "2kPDwDJwVStq",
        "outputId": "b22b0c01-1abc-456f-f9cb-31a87e40aa2d"
      },
      "execution_count": 7,
      "outputs": [
        {
          "output_type": "stream",
          "name": "stdout",
          "text": [
            "Enter a number: 7\n",
            "Factorial: 5040\n"
          ]
        }
      ]
    },
    {
      "cell_type": "code",
      "source": [
        "# Solution 7\n",
        "my_string = \"Hello, World!\"\n",
        "for char in my_string:\n",
        "    print(char)\n"
      ],
      "metadata": {
        "colab": {
          "base_uri": "https://localhost:8080/"
        },
        "id": "7xUbGh3JVW-d",
        "outputId": "068f93e8-7c4e-4e10-949e-f1a914b614d8"
      },
      "execution_count": 8,
      "outputs": [
        {
          "output_type": "stream",
          "name": "stdout",
          "text": [
            "H\n",
            "e\n",
            "l\n",
            "l\n",
            "o\n",
            ",\n",
            " \n",
            "W\n",
            "o\n",
            "r\n",
            "l\n",
            "d\n",
            "!\n"
          ]
        }
      ]
    },
    {
      "cell_type": "code",
      "source": [
        "# Solution 8\n",
        "my_list = [3, 7, 1, 9, 5, 2]\n",
        "max_num = my_list[0]\n",
        "for num in my_list:\n",
        "    if num > max_num:\n",
        "        max_num = num\n",
        "print(\"Largest number:\", max_num)\n"
      ],
      "metadata": {
        "colab": {
          "base_uri": "https://localhost:8080/"
        },
        "id": "z5D_ZwtKVZkX",
        "outputId": "e81edc81-20f5-437c-9f06-87502057db6b"
      },
      "execution_count": 9,
      "outputs": [
        {
          "output_type": "stream",
          "name": "stdout",
          "text": [
            "Largest number: 9\n"
          ]
        }
      ]
    },
    {
      "cell_type": "code",
      "source": [
        "# Solution 9\n",
        "limit = int(input(\"Enter the limit: \"))\n",
        "a, b = 0, 1\n",
        "while a <= limit:\n",
        "    print(a)\n",
        "    a, b = b, a + b\n"
      ],
      "metadata": {
        "colab": {
          "base_uri": "https://localhost:8080/"
        },
        "id": "NWQvUwPAVbM4",
        "outputId": "3e2d33ce-b646-408d-f764-03c87f4183ce"
      },
      "execution_count": 10,
      "outputs": [
        {
          "output_type": "stream",
          "name": "stdout",
          "text": [
            "Enter the limit: 5\n",
            "0\n",
            "1\n",
            "1\n",
            "2\n",
            "3\n",
            "5\n"
          ]
        }
      ]
    },
    {
      "cell_type": "code",
      "source": [
        "# Solution 10\n",
        "my_string = \"Hello, World!\"\n",
        "vowels = \"aeiouAEIOU\"\n",
        "count = 0\n",
        "for char in my_string:\n",
        "    if char in vowels:\n",
        "        count += 1\n",
        "print(\"Number of vowels:\", count)\n"
      ],
      "metadata": {
        "colab": {
          "base_uri": "https://localhost:8080/"
        },
        "id": "Cp5rXa9XVdPQ",
        "outputId": "292db877-9a2a-4199-aaf2-25f47b0ee823"
      },
      "execution_count": 11,
      "outputs": [
        {
          "output_type": "stream",
          "name": "stdout",
          "text": [
            "Number of vowels: 3\n"
          ]
        }
      ]
    },
    {
      "cell_type": "code",
      "source": [
        "# Solution 11\n",
        "num = int(input(\"Enter a number: \"))\n",
        "for i in range(1, 11):\n",
        "    print(num, \"x\", i, \"=\", num * i)\n"
      ],
      "metadata": {
        "colab": {
          "base_uri": "https://localhost:8080/"
        },
        "id": "XIhuExFxVftU",
        "outputId": "4d5e7660-0583-42af-d108-833ec53030c0"
      },
      "execution_count": 12,
      "outputs": [
        {
          "output_type": "stream",
          "name": "stdout",
          "text": [
            "Enter a number: 4\n",
            "4 x 1 = 4\n",
            "4 x 2 = 8\n",
            "4 x 3 = 12\n",
            "4 x 4 = 16\n",
            "4 x 5 = 20\n",
            "4 x 6 = 24\n",
            "4 x 7 = 28\n",
            "4 x 8 = 32\n",
            "4 x 9 = 36\n",
            "4 x 10 = 40\n"
          ]
        }
      ]
    },
    {
      "cell_type": "code",
      "source": [
        "# Solution 12\n",
        "my_list = [1, 2, 3, 4, 5]\n",
        "reversed_list = []\n",
        "for i in range(len(my_list) - 1, -1, -1):\n",
        "    reversed_list.append(my_list[i])\n",
        "print(\"Reversed list:\", reversed_list)\n"
      ],
      "metadata": {
        "colab": {
          "base_uri": "https://localhost:8080/"
        },
        "id": "Lr_YGGHCVg3-",
        "outputId": "1f579ba4-8462-45fd-fd06-eff1f0635114"
      },
      "execution_count": 13,
      "outputs": [
        {
          "output_type": "stream",
          "name": "stdout",
          "text": [
            "Reversed list: [5, 4, 3, 2, 1]\n"
          ]
        }
      ]
    },
    {
      "cell_type": "code",
      "source": [
        "# Solution 13\n",
        "list1 = [1, 2, 3, 4, 5]\n",
        "list2 = [3, 4, 5, 6, 7]\n",
        "common_elements = []\n",
        "for item in list1:\n",
        "    if item in list2:\n",
        "        common_elements.append(item)\n",
        "print(\"Common elements:\", common_elements)\n"
      ],
      "metadata": {
        "colab": {
          "base_uri": "https://localhost:8080/"
        },
        "id": "lWzAXc7IVjc3",
        "outputId": "d77cf3de-63c2-4932-f755-503955172e22"
      },
      "execution_count": 14,
      "outputs": [
        {
          "output_type": "stream",
          "name": "stdout",
          "text": [
            "Common elements: [3, 4, 5]\n"
          ]
        }
      ]
    },
    {
      "cell_type": "code",
      "source": [
        "# Solution 14\n",
        "my_dict = {'a': 1, 'b': 2, 'c': 3}\n",
        "for key, value in my_dict.items():\n",
        "    print(\"Key:\", key, \"Value:\", value)\n"
      ],
      "metadata": {
        "colab": {
          "base_uri": "https://localhost:8080/"
        },
        "id": "fX0xFse6Vks6",
        "outputId": "92d0693c-3e6a-48c5-decc-a3f87307bbe3"
      },
      "execution_count": 15,
      "outputs": [
        {
          "output_type": "stream",
          "name": "stdout",
          "text": [
            "Key: a Value: 1\n",
            "Key: b Value: 2\n",
            "Key: c Value: 3\n"
          ]
        }
      ]
    },
    {
      "cell_type": "code",
      "source": [
        "# Solution 15\n",
        "import math\n",
        "\n",
        "a = int(input(\"Enter the first number: \"))\n",
        "b = int(input(\"Enter the second number: \"))\n",
        "gcd = math.gcd(a, b)\n",
        "print(\"GCD:\", gcd)\n"
      ],
      "metadata": {
        "colab": {
          "base_uri": "https://localhost:8080/"
        },
        "id": "tsNax5DgVl3I",
        "outputId": "cacfac98-bd1c-4a11-8c0a-4f9f1603ca8e"
      },
      "execution_count": 17,
      "outputs": [
        {
          "output_type": "stream",
          "name": "stdout",
          "text": [
            "Enter the first number: 1\n",
            "Enter the second number: 2\n",
            "GCD: 1\n"
          ]
        }
      ]
    },
    {
      "cell_type": "code",
      "source": [
        "# Solution 16\n",
        "my_string = input(\"Enter a string: \")\n",
        "is_palindrome = True\n",
        "for i in range(len(my_string) // 2):\n",
        "    if my_string[i] != my_string[len(my_string) - 1 - i]:\n",
        "        is_palindrome = False\n",
        "        break\n",
        "if is_palindrome:\n",
        "    print(\"Palindrome\")\n",
        "else:\n",
        "    print(\"Not a palindrome\")\n"
      ],
      "metadata": {
        "colab": {
          "base_uri": "https://localhost:8080/"
        },
        "id": "9db5OkrqVnH2",
        "outputId": "eedb0d9d-3953-41fa-809a-fa29f15dbe20"
      },
      "execution_count": 18,
      "outputs": [
        {
          "output_type": "stream",
          "name": "stdout",
          "text": [
            "Enter a string: Ketul\n",
            "Not a palindrome\n"
          ]
        }
      ]
    },
    {
      "cell_type": "code",
      "source": [
        "# Solution 17\n",
        "my_list = [1, 2, 2, 3, 4, 4, 5]\n",
        "unique_list = []\n",
        "for item in my_list:\n",
        "    if item not in unique_list:\n",
        "        unique_list.append(item)\n",
        "print(\"List with duplicates removed:\", unique_list)\n"
      ],
      "metadata": {
        "colab": {
          "base_uri": "https://localhost:8080/"
        },
        "id": "V2SYo2NDVsEl",
        "outputId": "84aafc37-52e4-41c8-add3-f0e1f9f673d8"
      },
      "execution_count": 19,
      "outputs": [
        {
          "output_type": "stream",
          "name": "stdout",
          "text": [
            "List with duplicates removed: [1, 2, 3, 4, 5]\n"
          ]
        }
      ]
    },
    {
      "cell_type": "code",
      "source": [
        "# Solution 18\n",
        "sentence = input(\"Enter a sentence: \")\n",
        "words = sentence.split()\n",
        "word_count = len(words)\n",
        "print(\"Number of words:\", word_count)\n"
      ],
      "metadata": {
        "colab": {
          "base_uri": "https://localhost:8080/"
        },
        "id": "tsnM8sMUVvtR",
        "outputId": "4b637fb9-a937-4349-e133-3678f9ab0ca5"
      },
      "execution_count": 20,
      "outputs": [
        {
          "output_type": "stream",
          "name": "stdout",
          "text": [
            "Enter a sentence: Ketul lUhr\n",
            "Number of words: 2\n"
          ]
        }
      ]
    },
    {
      "cell_type": "code",
      "source": [
        "# Solution 19\n",
        "total = 0\n",
        "for i in range(1, 51, 2):\n",
        "    total += i\n",
        "print(\"Sum of odd numbers:\", total)\n"
      ],
      "metadata": {
        "colab": {
          "base_uri": "https://localhost:8080/"
        },
        "id": "K4W3Arm0Vw8y",
        "outputId": "fe481de7-85a8-4e04-adfe-db18409ef193"
      },
      "execution_count": 21,
      "outputs": [
        {
          "output_type": "stream",
          "name": "stdout",
          "text": [
            "Sum of odd numbers: 625\n"
          ]
        }
      ]
    },
    {
      "cell_type": "code",
      "source": [
        "# Solution 20\n",
        "year = int(input(\"Enter a year: \"))\n",
        "if (year % 4 == 0 and year % 100 != 0) or (year % 400 == 0):\n",
        "    print(\"Leap year\")\n",
        "else:\n",
        "    print(\"Not a leap year\")\n"
      ],
      "metadata": {
        "colab": {
          "base_uri": "https://localhost:8080/"
        },
        "id": "H8icj1GxV0cE",
        "outputId": "df3ec1db-09b3-4601-a861-95450252db09"
      },
      "execution_count": 22,
      "outputs": [
        {
          "output_type": "stream",
          "name": "stdout",
          "text": [
            "Enter a year: 2000\n",
            "Leap year\n"
          ]
        }
      ]
    },
    {
      "cell_type": "code",
      "source": [
        "# Solution 21\n",
        "import math\n",
        "\n",
        "num = float(input(\"Enter a number: \"))\n",
        "if num >= 0:\n",
        "    square_root = math.sqrt(num)\n",
        "    print(\"Square root:\", square_root)\n",
        "else:\n",
        "    print(\"Cannot calculate square root of a negative number\")\n"
      ],
      "metadata": {
        "colab": {
          "base_uri": "https://localhost:8080/"
        },
        "id": "G_8oFpKvV1lm",
        "outputId": "f37c4fb8-c5ca-42ea-bff4-52aca8399c19"
      },
      "execution_count": 23,
      "outputs": [
        {
          "output_type": "stream",
          "name": "stdout",
          "text": [
            "Enter a number: 3\n",
            "Square root: 1.7320508075688772\n"
          ]
        }
      ]
    },
    {
      "cell_type": "code",
      "source": [
        "# Solution 22\n",
        "import math\n",
        "\n",
        "a = int(input(\"Enter the first number: \"))\n",
        "b = int(input(\"Enter the second number: \"))\n",
        "\n",
        "# Find the GCD (Greatest Common Divisor) using the math library\n",
        "gcd = math.gcd(a, b)\n",
        "\n",
        "# Calculate the LCM (Least Common Multiple)\n",
        "lcm = (a * b) // gcd\n",
        "\n",
        "print(\"LCM:\", lcm)\n",
        "\n"
      ],
      "metadata": {
        "colab": {
          "base_uri": "https://localhost:8080/"
        },
        "id": "ZOzKnvAGV4fr",
        "outputId": "d0204250-fc26-47d6-a679-751aebbc74b3"
      },
      "execution_count": 25,
      "outputs": [
        {
          "output_type": "stream",
          "name": "stdout",
          "text": [
            "Enter the first number: 4\n",
            "Enter the second number: 5\n",
            "LCM: 20\n"
          ]
        }
      ]
    },
    {
      "cell_type": "code",
      "source": [
        "# Solution 23\n",
        "my_dict = {'a': 1, 'b': 2, 'c': 3}\n",
        "for key, value in my_dict.items():\n",
        "    print(\"Key:\", key, \"Value:\", value)"
      ],
      "metadata": {
        "colab": {
          "base_uri": "https://localhost:8080/"
        },
        "id": "YEfQuSIPV6kL",
        "outputId": "c5c7e549-e193-4e41-fc35-caf7657b2b2e"
      },
      "execution_count": 26,
      "outputs": [
        {
          "output_type": "stream",
          "name": "stdout",
          "text": [
            "Key: a Value: 1\n",
            "Key: b Value: 2\n",
            "Key: c Value: 3\n"
          ]
        }
      ]
    },
    {
      "cell_type": "markdown",
      "source": [
        "#If else"
      ],
      "metadata": {
        "id": "3BXQnkiQWO3l"
      }
    },
    {
      "cell_type": "code",
      "source": [
        "# Solution 1\n",
        "num = float(input(\"Enter a number: \"))\n",
        "if num > 0:\n",
        "    print(\"Positive\")\n",
        "elif num < 0:\n",
        "    print(\"Negative\")\n",
        "else:\n",
        "    print(\"Zero\")\n"
      ],
      "metadata": {
        "colab": {
          "base_uri": "https://localhost:8080/"
        },
        "id": "a7Ifs5PBWSKH",
        "outputId": "bb786a83-a6a1-4c1d-963f-614cf9c97a63"
      },
      "execution_count": 27,
      "outputs": [
        {
          "output_type": "stream",
          "name": "stdout",
          "text": [
            "Enter a number: 1\n",
            "Positive\n"
          ]
        }
      ]
    },
    {
      "cell_type": "code",
      "source": [
        "# Solution 2\n",
        "num = int(input(\"Enter a number: \"))\n",
        "if num % 2 == 0:\n",
        "    print(\"Even\")\n",
        "else:\n",
        "    print(\"Odd\")\n"
      ],
      "metadata": {
        "colab": {
          "base_uri": "https://localhost:8080/"
        },
        "id": "_xl3vSGZWkV3",
        "outputId": "69c2d547-9f7e-478c-91cd-12919817fdc8"
      },
      "execution_count": 28,
      "outputs": [
        {
          "output_type": "stream",
          "name": "stdout",
          "text": [
            "Enter a number: 3\n",
            "Odd\n"
          ]
        }
      ]
    },
    {
      "cell_type": "code",
      "source": [
        "# Solution 3\n",
        "num = int(input(\"Enter a number: \"))\n",
        "if num > 0:\n",
        "    print(\"Positive\")\n",
        "    if num % 2 == 0:\n",
        "        print(\"Even\")\n",
        "    else:\n",
        "        print(\"Odd\")\n",
        "elif num < 0:\n",
        "    print(\"Negative\")\n",
        "else:\n",
        "    print(\"Zero\")\n"
      ],
      "metadata": {
        "colab": {
          "base_uri": "https://localhost:8080/"
        },
        "id": "7_QIyzxdWoO7",
        "outputId": "6053a9e3-3860-4429-a428-26b12d75aee0"
      },
      "execution_count": 29,
      "outputs": [
        {
          "output_type": "stream",
          "name": "stdout",
          "text": [
            "Enter a number: 3\n",
            "Positive\n",
            "Odd\n"
          ]
        }
      ]
    },
    {
      "cell_type": "code",
      "source": [
        "# Solution 4\n",
        "a = float(input(\"Enter the first number: \"))\n",
        "b = float(input(\"Enter the second number: \"))\n",
        "c = float(input(\"Enter the third number: \"))\n",
        "\n",
        "if a >= b and a >= c:\n",
        "    largest = a\n",
        "elif b >= a and b >= c:\n",
        "    largest = b\n",
        "else:\n",
        "    largest = c\n",
        "\n",
        "print(\"Largest number:\", largest)\n"
      ],
      "metadata": {
        "colab": {
          "base_uri": "https://localhost:8080/"
        },
        "id": "6vjT1PBPWqDD",
        "outputId": "e261e5d8-b7da-46fe-c19a-ed68490c7b42"
      },
      "execution_count": 30,
      "outputs": [
        {
          "output_type": "stream",
          "name": "stdout",
          "text": [
            "Enter the first number: 2\n",
            "Enter the second number: 3\n",
            "Enter the third number: 4\n",
            "Largest number: 4.0\n"
          ]
        }
      ]
    },
    {
      "cell_type": "code",
      "source": [
        "# Solution 5\n",
        "num = float(input(\"Enter a number: \"))\n",
        "if num >= 0:\n",
        "    absolute_value = num\n",
        "else:\n",
        "    absolute_value = -num\n",
        "print(\"Absolute value:\", absolute_value)\n"
      ],
      "metadata": {
        "colab": {
          "base_uri": "https://localhost:8080/"
        },
        "id": "eT_Le5BcWsFn",
        "outputId": "75cb2f6a-5a41-4d7d-c008-d4c545ff2bd9"
      },
      "execution_count": 31,
      "outputs": [
        {
          "output_type": "stream",
          "name": "stdout",
          "text": [
            "Enter a number: 4\n",
            "Absolute value: 4.0\n"
          ]
        }
      ]
    },
    {
      "cell_type": "code",
      "source": [
        "# Solution 6\n",
        "char = input(\"Enter a character: \").lower()  # Convert to lowercase for case-insensitivity\n",
        "\n",
        "if char in 'aeiou':\n",
        "    print(\"Vowel\")\n",
        "else:\n",
        "    print(\"Consonant\")\n"
      ],
      "metadata": {
        "colab": {
          "base_uri": "https://localhost:8080/"
        },
        "id": "nUTSx_G4WukI",
        "outputId": "32efe9da-a0bf-40de-8d47-94ad9ff3667f"
      },
      "execution_count": 32,
      "outputs": [
        {
          "output_type": "stream",
          "name": "stdout",
          "text": [
            "Enter a character: Ketul\n",
            "Consonant\n"
          ]
        }
      ]
    },
    {
      "cell_type": "code",
      "source": [
        "# Solution 7\n",
        "age = int(input(\"Enter your age: \"))\n",
        "if age >= 18:\n",
        "    print(\"You are eligible to vote.\")\n",
        "else:\n",
        "    print(\"You are not eligible to vote.\")\n"
      ],
      "metadata": {
        "colab": {
          "base_uri": "https://localhost:8080/"
        },
        "id": "6Jds6BV-Wwgj",
        "outputId": "b09f93d2-1952-47ad-c19c-9a2198c87c20"
      },
      "execution_count": 33,
      "outputs": [
        {
          "output_type": "stream",
          "name": "stdout",
          "text": [
            "Enter your age: 22\n",
            "You are eligible to vote.\n"
          ]
        }
      ]
    },
    {
      "cell_type": "code",
      "source": [
        "# Solution 8\n",
        "purchase_amount = float(input(\"Enter the purchase amount: \"))\n",
        "if purchase_amount >= 1000:\n",
        "    discount = 0.1 * purchase_amount  # 10% discount\n",
        "else:\n",
        "    discount = 0\n",
        "total_amount = purchase_amount - discount\n",
        "print(\"Discount:\", discount)\n",
        "print(\"Total amount:\", total_amount)\n"
      ],
      "metadata": {
        "colab": {
          "base_uri": "https://localhost:8080/"
        },
        "id": "4hmLow6BW25R",
        "outputId": "48132fe8-d81d-4a83-cd68-a5b036cc9a2e"
      },
      "execution_count": 34,
      "outputs": [
        {
          "output_type": "stream",
          "name": "stdout",
          "text": [
            "Enter the purchase amount: 2000\n",
            "Discount: 200.0\n",
            "Total amount: 1800.0\n"
          ]
        }
      ]
    },
    {
      "cell_type": "code",
      "source": [
        "# Solution 9\n",
        "num = int(input(\"Enter a number: \"))\n",
        "min_range = 10\n",
        "max_range = 50\n",
        "\n",
        "if min_range <= num <= max_range:\n",
        "    print(\"Number is within the specified range.\")\n",
        "else:\n",
        "    print(\"Number is outside the specified range.\")\n"
      ],
      "metadata": {
        "colab": {
          "base_uri": "https://localhost:8080/"
        },
        "id": "QzPXkjuqW6nc",
        "outputId": "e9ab8871-dc60-40e6-f8d5-bcea559210f4"
      },
      "execution_count": 35,
      "outputs": [
        {
          "output_type": "stream",
          "name": "stdout",
          "text": [
            "Enter a number: 16\n",
            "Number is within the specified range.\n"
          ]
        }
      ]
    },
    {
      "cell_type": "code",
      "source": [
        "# Solution 10\n",
        "score = float(input(\"Enter your score: \"))\n",
        "if 90 <= score <= 100:\n",
        "    grade = \"A\"\n",
        "elif 80 <= score < 90:\n",
        "    grade = \"B\"\n",
        "elif 70 <= score < 80:\n",
        "    grade = \"C\"\n",
        "elif 60 <= score < 70:\n",
        "    grade = \"D\"\n",
        "else:\n",
        "    grade = \"F\"\n",
        "print(\"Your grade is:\", grade)\n"
      ],
      "metadata": {
        "colab": {
          "base_uri": "https://localhost:8080/"
        },
        "id": "3iYN9E0VW9Fr",
        "outputId": "db3c7004-c7c1-4dc5-a80e-2a76679bf896"
      },
      "execution_count": 36,
      "outputs": [
        {
          "output_type": "stream",
          "name": "stdout",
          "text": [
            "Enter your score: 20\n",
            "Your grade is: F\n"
          ]
        }
      ]
    },
    {
      "cell_type": "code",
      "source": [
        "# Solution 11\n",
        "my_string = input(\"Enter a string: \")\n",
        "if len(my_string) == 0:\n",
        "    print(\"The string is empty.\")\n",
        "else:\n",
        "    print(\"The string is not empty.\")\n"
      ],
      "metadata": {
        "colab": {
          "base_uri": "https://localhost:8080/"
        },
        "id": "q3Pc2EjTXA1B",
        "outputId": "21ff4662-7bcf-4829-f534-ecce171138b6"
      },
      "execution_count": 37,
      "outputs": [
        {
          "output_type": "stream",
          "name": "stdout",
          "text": [
            "Enter a string: Ketu\n",
            "The string is not empty.\n"
          ]
        }
      ]
    },
    {
      "cell_type": "code",
      "source": [
        "# Solution 12\n",
        "side1 = float(input(\"Enter the first side length: \"))\n",
        "side2 = float(input(\"Enter the second side length: \"))\n",
        "side3 = float(input(\"Enter the third side length: \"))\n",
        "\n",
        "if side1 == side2 == side3:\n",
        "    triangle_type = \"Equilateral\"\n",
        "elif side1 == side2 or side1 == side3 or side2 == side3:\n",
        "    triangle_type = \"Isosceles\"\n",
        "else:\n",
        "    triangle_type = \"Scalene\"\n",
        "\n",
        "print(\"Triangle type:\", triangle_type)\n"
      ],
      "metadata": {
        "colab": {
          "base_uri": "https://localhost:8080/"
        },
        "id": "OOBz1uiTXDnS",
        "outputId": "3f7be599-f97c-4626-f454-5c69ccc169f1"
      },
      "execution_count": 38,
      "outputs": [
        {
          "output_type": "stream",
          "name": "stdout",
          "text": [
            "Enter the first side length: 4\n",
            "Enter the second side length: 5\n",
            "Enter the third side length: 4\n",
            "Triangle type: Isosceles\n"
          ]
        }
      ]
    },
    {
      "cell_type": "code",
      "source": [
        "# Solution 13\n",
        "day_number = int(input(\"Enter a day number (1-7): \"))\n",
        "if day_number == 1:\n",
        "    day_name = \"Monday\"\n",
        "elif day_number == 2:\n",
        "    day_name = \"Tuesday\"\n",
        "elif day_number == 3:\n",
        "    day_name = \"Wednesday\"\n",
        "elif day_number == 4:\n",
        "    day_name = \"Thursday\"\n",
        "elif day_number == 5:\n",
        "    day_name = \"Friday\"\n",
        "elif day_number == 6:\n",
        "    day_name = \"Saturday\"\n",
        "elif day_number == 7:\n",
        "    day_name = \"Sunday\"\n",
        "else:\n",
        "    day_name = \"Invalid day number\"\n",
        "print(\"Day:\", day_name)\n"
      ],
      "metadata": {
        "colab": {
          "base_uri": "https://localhost:8080/"
        },
        "id": "sOUFwyWpXHOz",
        "outputId": "efbc54ee-45d9-4152-9db4-235d75f2a03b"
      },
      "execution_count": 39,
      "outputs": [
        {
          "output_type": "stream",
          "name": "stdout",
          "text": [
            "Enter a day number (1-7): 5\n",
            "Day: Friday\n"
          ]
        }
      ]
    },
    {
      "cell_type": "code",
      "source": [
        "# Solution 14\n",
        "def is_leap_year(year):\n",
        "    if (year % 4 == 0 and year % 100 != 0) or (year % 400 == 0):\n",
        "        return True\n",
        "    else:\n",
        "        return False\n",
        "\n",
        "year = int(input(\"Enter a year: \"))\n",
        "if is_leap_year(year):\n",
        "    print(\"Leap year\")\n",
        "else:\n",
        "    print(\"Not a leap year\")\n"
      ],
      "metadata": {
        "colab": {
          "base_uri": "https://localhost:8080/"
        },
        "id": "vq8IHP2kXK2V",
        "outputId": "831a644f-f999-45fe-c289-54f679d4ccfc"
      },
      "execution_count": 40,
      "outputs": [
        {
          "output_type": "stream",
          "name": "stdout",
          "text": [
            "Enter a year: 2000\n",
            "Leap year\n"
          ]
        }
      ]
    },
    {
      "cell_type": "code",
      "source": [
        "# Solution 15\n",
        "num = int(input(\"Enter a number: \"))\n",
        "assert num >= 0, \"Number must be non-negative\"\n",
        "if num % 2 == 0:\n",
        "    print(\"Even\")\n",
        "else:\n",
        "    print(\"Odd\")\n"
      ],
      "metadata": {
        "colab": {
          "base_uri": "https://localhost:8080/"
        },
        "id": "WdxxhbrvXNY6",
        "outputId": "4e978f8e-cea5-454b-dfb2-f1a8c8556e41"
      },
      "execution_count": 41,
      "outputs": [
        {
          "output_type": "stream",
          "name": "stdout",
          "text": [
            "Enter a number: 20\n",
            "Even\n"
          ]
        }
      ]
    },
    {
      "cell_type": "code",
      "source": [
        "# Solution 16\n",
        "age = int(input(\"Enter your age: \"))\n",
        "if age >= 60:\n",
        "    print(\"You are eligible for a senior citizen discount.\")\n",
        "else:\n",
        "    print(\"You are not eligible for a senior citizen discount.\")\n"
      ],
      "metadata": {
        "colab": {
          "base_uri": "https://localhost:8080/"
        },
        "id": "S2dbCwlLXP_P",
        "outputId": "631ecaa1-31a9-49c7-f3f6-14ec01589665"
      },
      "execution_count": 42,
      "outputs": [
        {
          "output_type": "stream",
          "name": "stdout",
          "text": [
            "Enter your age: 22\n",
            "You are not eligible for a senior citizen discount.\n"
          ]
        }
      ]
    },
    {
      "cell_type": "code",
      "source": [
        "# Solution 17\n",
        "char = input(\"Enter a character: \")\n",
        "\n",
        "if char.isupper():\n",
        "    print(\"Uppercase character\")\n",
        "elif char.islower():\n",
        "    print(\"Lowercase character\")\n",
        "else:\n",
        "    print(\"Neither uppercase nor lowercase character\")\n"
      ],
      "metadata": {
        "colab": {
          "base_uri": "https://localhost:8080/"
        },
        "id": "tXZG63SRXSMK",
        "outputId": "54ec2b62-bed8-4162-c48d-2738648f586e"
      },
      "execution_count": 43,
      "outputs": [
        {
          "output_type": "stream",
          "name": "stdout",
          "text": [
            "Enter a character: Ketul\n",
            "Neither uppercase nor lowercase character\n"
          ]
        }
      ]
    },
    {
      "cell_type": "code",
      "source": [
        "# Solution 18\n",
        "import math\n",
        "\n",
        "a = float(input(\"Enter the coefficient a: \"))\n",
        "b = float(input(\"Enter the coefficient b: \"))\n",
        "c = float(input(\"Enter the coefficient c: \"))\n",
        "\n",
        "discriminant = b**2 - 4*a*c\n",
        "\n",
        "if discriminant > 0:\n",
        "    root1 = (-b + math.sqrt(discriminant)) / (2*a)\n",
        "    root2 = (-b - math.sqrt(discriminant)) / (2*a)\n",
        "    print(\"Two real and distinct roots:\", root1, \"and\", root2)\n",
        "elif discriminant == 0:\n",
        "    root1 = root2 = -b / (2*a)\n",
        "    print(\"One real root:\", root1)\n",
        "else:\n",
        "    real_part = -b / (2*a)\n",
        "    imaginary_part = math.sqrt(abs(discriminant)) / (2*a)\n",
        "    print(\"Complex roots:\", real_part, \"+\", imaginary_part, \"i and\", real_part, \"-\", imaginary_part, \"i\")\n"
      ],
      "metadata": {
        "colab": {
          "base_uri": "https://localhost:8080/"
        },
        "id": "_v3Xez4DXUeu",
        "outputId": "a11c7f09-2e61-44f2-e2e0-0ba5e3760398"
      },
      "execution_count": 44,
      "outputs": [
        {
          "output_type": "stream",
          "name": "stdout",
          "text": [
            "Enter the coefficient a: 4\n",
            "Enter the coefficient b: 4\n",
            "Enter the coefficient c: 4\n",
            "Complex roots: -0.5 + 0.8660254037844386 i and -0.5 - 0.8660254037844386 i\n"
          ]
        }
      ]
    },
    {
      "cell_type": "code",
      "source": [
        "# Solution 19\n",
        "year = int(input(\"Enter a year: \"))\n",
        "if year % 100 == 0:\n",
        "    print(\"Century year\")\n",
        "else:\n",
        "    print(\"Not a century year\")\n"
      ],
      "metadata": {
        "colab": {
          "base_uri": "https://localhost:8080/"
        },
        "id": "u6uE67l4XXDd",
        "outputId": "68f5078c-3a6f-4e68-e1c9-02584e9837a8"
      },
      "execution_count": 45,
      "outputs": [
        {
          "output_type": "stream",
          "name": "stdout",
          "text": [
            "Enter a year: 2023\n",
            "Not a century year\n"
          ]
        }
      ]
    },
    {
      "cell_type": "code",
      "source": [
        "# Solution 20\n",
        "import math\n",
        "\n",
        "num = int(input(\"Enter a number: \"))\n",
        "if num >= 0 and math.isqrt(num)**2 == num:\n",
        "    print(\"Perfect square\")\n",
        "else:\n",
        "    print(\"Not a perfect square\")\n"
      ],
      "metadata": {
        "colab": {
          "base_uri": "https://localhost:8080/"
        },
        "id": "x3ihusY2Xm7q",
        "outputId": "39e23aa2-4862-4bd7-f8b8-53b869c83f0c"
      },
      "execution_count": 46,
      "outputs": [
        {
          "output_type": "stream",
          "name": "stdout",
          "text": [
            "Enter a number: 23\n",
            "Not a perfect square\n"
          ]
        }
      ]
    },
    {
      "cell_type": "code",
      "source": [
        "# Solution 21\n",
        "weight = float(input(\"Enter your weight (in kilograms): \"))\n",
        "height = float(input(\"Enter your height (in meters): \"))\n",
        "\n",
        "bmi = weight / (height**2)\n",
        "\n",
        "if bmi < 18.5:\n",
        "    category = \"Underweight\"\n",
        "elif 18.5 <= bmi < 25:\n",
        "    category = \"Normal weight\"\n",
        "elif 25 <= bmi < 30:\n",
        "    category = \"Overweight\"\n",
        "else:\n",
        "    category = \"Obese\"\n",
        "\n",
        "print(\"BMI:\", bmi)\n",
        "print(\"Category:\", category)\n"
      ],
      "metadata": {
        "colab": {
          "base_uri": "https://localhost:8080/"
        },
        "id": "AfnJtyrMXp0w",
        "outputId": "a9915a18-a072-43f9-efe0-cf78848601f3"
      },
      "execution_count": 47,
      "outputs": [
        {
          "output_type": "stream",
          "name": "stdout",
          "text": [
            "Enter your weight (in kilograms): 56\n",
            "Enter your height (in meters): 163\n",
            "BMI: 0.0021077195227520796\n",
            "Category: Underweight\n"
          ]
        }
      ]
    },
    {
      "cell_type": "code",
      "source": [
        "# Solution 22\n",
        "num = int(input(\"Enter a number: \"))\n",
        "\n",
        "if num <= 1:\n",
        "    is_prime = False\n",
        "else:\n",
        "    is_prime = True\n",
        "    for i in range(2, int(num**0.5) + 1):\n",
        "        if num % i == 0:\n",
        "            is_prime = False\n",
        "            break\n",
        "\n",
        "if is_prime:\n",
        "    print(\"Prime number\")\n",
        "else:\n",
        "    print(\"Not a prime number\")\n"
      ],
      "metadata": {
        "colab": {
          "base_uri": "https://localhost:8080/"
        },
        "id": "ac071FouXt2T",
        "outputId": "5098ea93-232c-4da4-9c7d-c5f0e04a5537"
      },
      "execution_count": 48,
      "outputs": [
        {
          "output_type": "stream",
          "name": "stdout",
          "text": [
            "Enter a number: 20\n",
            "Not a prime number\n"
          ]
        }
      ]
    },
    {
      "cell_type": "code",
      "source": [
        "# Solution 23\n",
        "num = int(input(\"Enter a number: \"))\n",
        "assert num >= 0, \"Number must be non-negative\"\n",
        "if num % 2 == 0:\n",
        "    print(\"Even\")\n",
        "else:\n",
        "    print(\"Odd\")\n"
      ],
      "metadata": {
        "colab": {
          "base_uri": "https://localhost:8080/"
        },
        "id": "kuXFEwMAXzFN",
        "outputId": "8797fff3-87e1-49d6-c703-192e19490608"
      },
      "execution_count": 49,
      "outputs": [
        {
          "output_type": "stream",
          "name": "stdout",
          "text": [
            "Enter a number: 65\n",
            "Odd\n"
          ]
        }
      ]
    },
    {
      "cell_type": "markdown",
      "source": [
        "#map()"
      ],
      "metadata": {
        "id": "9p-WQBrOYPTc"
      }
    },
    {
      "cell_type": "markdown",
      "source": [
        "The map() function in Python is used to apply a specified function to each item in an iterable (e.g., a list, tuple, or any other iterable). It returns an iterator, which can be converted into other iterable types such as a list or tuple. The purpose of the map() function is to simplify the process of applying a function to each element of an iterable without the need for explicit loops.\n",
        "\n",
        "Here's the general syntax of the map() function:"
      ],
      "metadata": {
        "id": "_zbR_EW6YVUO"
      }
    },
    {
      "cell_type": "code",
      "source": [
        "# map(function, iterable)"
      ],
      "metadata": {
        "id": "tFtijd09YV73"
      },
      "execution_count": 51,
      "outputs": []
    },
    {
      "cell_type": "markdown",
      "source": [
        "function: The function to apply to each element of the iterable.\n",
        "\n",
        "iterable: The iterable (e.g., a list) containing the elements to which the function will be applied."
      ],
      "metadata": {
        "id": "N0Xdb9-8Yglh"
      }
    },
    {
      "cell_type": "code",
      "source": [
        "# Example 1\n",
        "\n",
        "numbers = [1, 2, 3, 4, 5]\n",
        "\n",
        "# Using map() to square each element\n",
        "squared_numbers = map(lambda x: x**2, numbers)\n",
        "\n",
        "# Converting the result to a list\n",
        "squared_numbers_list = list(squared_numbers)\n",
        "\n",
        "print(squared_numbers_list)  # Output: [1, 4, 9, 16, 25]\n"
      ],
      "metadata": {
        "colab": {
          "base_uri": "https://localhost:8080/"
        },
        "id": "qubQnrSBYYDl",
        "outputId": "551babae-68f4-4e0b-bea5-626f078c53f3"
      },
      "execution_count": 53,
      "outputs": [
        {
          "output_type": "stream",
          "name": "stdout",
          "text": [
            "[1, 4, 9, 16, 25]\n"
          ]
        }
      ]
    },
    {
      "cell_type": "code",
      "source": [
        "# Example 2\n",
        "\n",
        "names = [\"Alice\", \"Bob\", \"Charlie\"]\n",
        "\n",
        "# Using map() to convert names to uppercase\n",
        "uppercased_names = map(str.upper, names)\n",
        "\n",
        "# Converting the result to a list\n",
        "uppercased_names_list = list(uppercased_names)\n",
        "\n",
        "print(uppercased_names_list)  # Output: ['ALICE', 'BOB', 'CHARLIE']\n"
      ],
      "metadata": {
        "colab": {
          "base_uri": "https://localhost:8080/"
        },
        "id": "mAETb-B1YmDp",
        "outputId": "4ae4a011-21cf-4ce4-abc4-66cb801bac88"
      },
      "execution_count": 54,
      "outputs": [
        {
          "output_type": "stream",
          "name": "stdout",
          "text": [
            "['ALICE', 'BOB', 'CHARLIE']\n"
          ]
        }
      ]
    },
    {
      "cell_type": "code",
      "source": [
        "# Example 3\n",
        "\n",
        "words = [\"apple\", \"banana\", \"cherry\"]\n",
        "\n",
        "# Using map() to calculate the length of each word\n",
        "word_lengths = map(len, words)\n",
        "\n",
        "# Converting the result to a list\n",
        "word_lengths_list = list(word_lengths)\n",
        "\n",
        "print(word_lengths_list)  # Output: [5, 6, 6]\n"
      ],
      "metadata": {
        "colab": {
          "base_uri": "https://localhost:8080/"
        },
        "id": "gU666lrKYuT5",
        "outputId": "fb1ca5e7-6b1d-43d5-cda8-4397c9f5331e"
      },
      "execution_count": 55,
      "outputs": [
        {
          "output_type": "stream",
          "name": "stdout",
          "text": [
            "[5, 6, 6]\n"
          ]
        }
      ]
    },
    {
      "cell_type": "code",
      "source": [
        "# Example 4\n",
        "\n",
        "def celsius_to_fahrenheit(celsius_temp):\n",
        "    return (celsius_temp * 9/5) + 32\n",
        "\n",
        "celsius_temperatures = [0, 25, 100]\n",
        "\n",
        "# Using map() to convert temperatures\n",
        "fahrenheit_temperatures = map(celsius_to_fahrenheit, celsius_temperatures)\n",
        "\n",
        "# Converting the result to a list\n",
        "fahrenheit_temperatures_list = list(fahrenheit_temperatures)\n",
        "\n",
        "print(fahrenheit_temperatures_list)  # Output: [32.0, 77.0, 212.0]\n"
      ],
      "metadata": {
        "colab": {
          "base_uri": "https://localhost:8080/"
        },
        "id": "zan1NqMEY0Hq",
        "outputId": "ef5e2c84-6915-4a1e-a52a-8ce7b1215c87"
      },
      "execution_count": 56,
      "outputs": [
        {
          "output_type": "stream",
          "name": "stdout",
          "text": [
            "[32.0, 77.0, 212.0]\n"
          ]
        }
      ]
    },
    {
      "cell_type": "code",
      "source": [
        "# Example 5\n",
        "\n",
        "numbers = [3.2, 4.8, 6.5, 2.1]\n",
        "\n",
        "# Using map() to round numbers\n",
        "rounded_numbers = map(round, numbers)\n",
        "\n",
        "# Converting the result to a list\n",
        "rounded_numbers_list = list(rounded_numbers)\n",
        "\n",
        "print(rounded_numbers_list)  # Output: [3, 5, 6, 2]\n"
      ],
      "metadata": {
        "colab": {
          "base_uri": "https://localhost:8080/"
        },
        "id": "qU4l7r05Y3xd",
        "outputId": "b0d7cce2-4240-4ff6-f1c2-d534010dd7f6"
      },
      "execution_count": 57,
      "outputs": [
        {
          "output_type": "stream",
          "name": "stdout",
          "text": [
            "[3, 5, 6, 2]\n"
          ]
        }
      ]
    },
    {
      "cell_type": "markdown",
      "source": [
        "# Reduce"
      ],
      "metadata": {
        "id": "M5cFYYSKY-DW"
      }
    },
    {
      "cell_type": "markdown",
      "source": [
        "The reduce() function in Python is used to apply a specified function to the elements of an iterable successively in a cumulative way. It's part of the functools module, so you should import it using the following line:"
      ],
      "metadata": {
        "id": "lDQSN7rAZFGu"
      }
    },
    {
      "cell_type": "code",
      "source": [
        "# from functools import reduce"
      ],
      "metadata": {
        "id": "BEJhpYryY7RG"
      },
      "execution_count": 58,
      "outputs": []
    },
    {
      "cell_type": "markdown",
      "source": [
        "The reduce() function takes two arguments:\n",
        "\n",
        "A binary function (a function that takes two arguments).\n",
        "An iterable (e.g., a list) on which the function will be applied cumulatively.\n",
        "Here's the basic syntax of the reduce() function:"
      ],
      "metadata": {
        "id": "RBUENgaLZJCU"
      }
    },
    {
      "cell_type": "code",
      "source": [
        "# reduce(function, iterable, initializer=None)\n"
      ],
      "metadata": {
        "id": "0OTtWadkZHL-"
      },
      "execution_count": 59,
      "outputs": []
    },
    {
      "cell_type": "markdown",
      "source": [
        "function: The binary function that takes two elements from the iterable and returns a single result.\n",
        "\n",
        "iterable: The iterable containing the elements on which the function will be applied successively.\n",
        "\n",
        "initializer (optional): An initial value to start the accumulation. If not provided, the first two elements of the iterable are used as the initial values."
      ],
      "metadata": {
        "id": "ZYn63YUCZNTM"
      }
    },
    {
      "cell_type": "code",
      "source": [
        "# Example 1\n",
        "\n",
        "from functools import reduce\n",
        "\n",
        "numbers = [1, 2, 3, 4, 5]\n",
        "\n",
        "# Using reduce() to find the product of all elements\n",
        "product = reduce(lambda x, y: x * y, numbers)\n",
        "\n",
        "print(\"Product:\", product)  # Output: 120\n"
      ],
      "metadata": {
        "colab": {
          "base_uri": "https://localhost:8080/"
        },
        "id": "u-B-tjv4ZK7f",
        "outputId": "c8343150-78d3-4b8b-b2b3-deaf7d0f7f82"
      },
      "execution_count": 60,
      "outputs": [
        {
          "output_type": "stream",
          "name": "stdout",
          "text": [
            "Product: 120\n"
          ]
        }
      ]
    },
    {
      "cell_type": "code",
      "source": [
        "# Example 2\n",
        "\n",
        "from functools import reduce\n",
        "\n",
        "numbers = [12, 34, 56, 78, 90]\n",
        "\n",
        "# Using reduce() to find the maximum element\n",
        "max_num = reduce(lambda x, y: x if x > y else y, numbers)\n",
        "\n",
        "print(\"Maximum:\", max_num)  # Output: 90\n"
      ],
      "metadata": {
        "colab": {
          "base_uri": "https://localhost:8080/"
        },
        "id": "ezsSDzo-ZUV1",
        "outputId": "b4abfa08-01e0-4cd8-d959-e9f5b3eccac0"
      },
      "execution_count": 61,
      "outputs": [
        {
          "output_type": "stream",
          "name": "stdout",
          "text": [
            "Maximum: 90\n"
          ]
        }
      ]
    },
    {
      "cell_type": "code",
      "source": [
        "# Example 3\n",
        "\n",
        "from functools import reduce\n",
        "\n",
        "strings = [\"Hello\", \", \", \"World\", \"!\"]\n",
        "\n",
        "# Using reduce() to concatenate strings\n",
        "concatenated_string = reduce(lambda x, y: x + y, strings)\n",
        "\n",
        "print(\"Concatenated string:\", concatenated_string)  # Output: \"Hello, World!\"\n"
      ],
      "metadata": {
        "colab": {
          "base_uri": "https://localhost:8080/"
        },
        "id": "MzQpnjhRZX-S",
        "outputId": "2e20f422-0b95-4b44-8b06-cc51e6c5d0bb"
      },
      "execution_count": 62,
      "outputs": [
        {
          "output_type": "stream",
          "name": "stdout",
          "text": [
            "Concatenated string: Hello, World!\n"
          ]
        }
      ]
    },
    {
      "cell_type": "code",
      "source": [
        "# Example 4\n",
        "\n",
        "from functools import reduce\n",
        "\n",
        "n = 5\n",
        "\n",
        "# Using reduce() to calculate the factorial\n",
        "factorial = reduce(lambda x, y: x * y, range(1, n + 1))\n",
        "\n",
        "print(\"Factorial of\", n, \"is:\", factorial)  # Output: 120\n"
      ],
      "metadata": {
        "colab": {
          "base_uri": "https://localhost:8080/"
        },
        "id": "IctLTC_UZaC1",
        "outputId": "d4623357-063f-46d2-ddc2-a0e294462ebe"
      },
      "execution_count": 63,
      "outputs": [
        {
          "output_type": "stream",
          "name": "stdout",
          "text": [
            "Factorial of 5 is: 120\n"
          ]
        }
      ]
    },
    {
      "cell_type": "code",
      "source": [
        "# Example 5\n",
        "\n",
        "from functools import reduce\n",
        "import math\n",
        "\n",
        "numbers = [24, 36, 48, 60]\n",
        "\n",
        "# Using reduce() to find the GCD\n",
        "gcd = reduce(math.gcd, numbers)\n",
        "\n",
        "print(\"GCD:\", gcd)  # Output: 12\n"
      ],
      "metadata": {
        "colab": {
          "base_uri": "https://localhost:8080/"
        },
        "id": "W8u-zuQSZc_f",
        "outputId": "8de7dd49-39ec-4e0e-d8bd-13ee908cb4de"
      },
      "execution_count": 64,
      "outputs": [
        {
          "output_type": "stream",
          "name": "stdout",
          "text": [
            "GCD: 12\n"
          ]
        }
      ]
    },
    {
      "cell_type": "code",
      "source": [
        "# Example 6\n",
        "\n",
        "from functools import reduce\n",
        "\n",
        "num = 12345\n",
        "\n",
        "# Using reduce() to find the sum of digits\n",
        "sum_of_digits = reduce(lambda x, y: int(x) + int(y), str(num))\n",
        "\n",
        "print(\"Sum of digits:\", sum_of_digits)  # Output: 15\n"
      ],
      "metadata": {
        "colab": {
          "base_uri": "https://localhost:8080/"
        },
        "id": "n_IUxAr2ZgBU",
        "outputId": "3a36a0e3-9441-4213-e6f8-98798a384439"
      },
      "execution_count": 65,
      "outputs": [
        {
          "output_type": "stream",
          "name": "stdout",
          "text": [
            "Sum of digits: 15\n"
          ]
        }
      ]
    },
    {
      "cell_type": "markdown",
      "source": [
        "#Filte"
      ],
      "metadata": {
        "id": "WLFieVSCZoAR"
      }
    },
    {
      "cell_type": "code",
      "source": [
        "numbers = [1, 2, 3, 4, 5, 6, 7, 8, 9, 10]\n",
        "\n",
        "# Using filter() to select even numbers\n",
        "even_numbers = filter(lambda x: x % 2 == 0, numbers)\n",
        "\n",
        "# Converting the result to a list\n",
        "even_numbers_list = list(even_numbers)\n",
        "\n",
        "print(even_numbers_list)  # Output: [2, 4, 6, 8, 10]\n"
      ],
      "metadata": {
        "colab": {
          "base_uri": "https://localhost:8080/"
        },
        "id": "zT9iDwLeZjwu",
        "outputId": "de6ad4b5-4410-407c-851e-a0dc8c3b1919"
      },
      "execution_count": 66,
      "outputs": [
        {
          "output_type": "stream",
          "name": "stdout",
          "text": [
            "[2, 4, 6, 8, 10]\n"
          ]
        }
      ]
    },
    {
      "cell_type": "code",
      "source": [
        "names = [\"Alice\", \"Bob\", \"Charlie\", \"David\", \"Eve\"]\n",
        "\n",
        "# Using filter() to select names starting with 'D'\n",
        "filtered_names = filter(lambda name: name.startswith('D'), names)\n",
        "\n",
        "# Converting the result to a list\n",
        "filtered_names_list = list(filtered_names)\n",
        "\n",
        "print(filtered_names_list)  # Output: ['David']\n"
      ],
      "metadata": {
        "colab": {
          "base_uri": "https://localhost:8080/"
        },
        "id": "IznB3PdWZ11n",
        "outputId": "9cd0ddb8-5340-439a-9e33-2fc6540ab2bf"
      },
      "execution_count": 67,
      "outputs": [
        {
          "output_type": "stream",
          "name": "stdout",
          "text": [
            "['David']\n"
          ]
        }
      ]
    },
    {
      "cell_type": "code",
      "source": [
        "def is_prime(n):\n",
        "    if n <= 1:\n",
        "        return False\n",
        "    if n <= 3:\n",
        "        return True\n",
        "    if n % 2 == 0 or n % 3 == 0:\n",
        "        return False\n",
        "    i = 5\n",
        "    while i * i <= n:\n",
        "        if n % i == 0 or n % (i + 2) == 0:\n",
        "            return False\n",
        "        i += 6\n",
        "    return True\n",
        "\n",
        "numbers = [2, 3, 4, 5, 6, 7, 8, 9, 10, 11]\n",
        "\n",
        "# Using filter() to select prime numbers\n",
        "prime_numbers = filter(is_prime, numbers)\n",
        "\n",
        "# Converting the result to a list\n",
        "prime_numbers_list = list(prime_numbers)\n",
        "\n",
        "print(prime_numbers_list)  # Output: [2, 3, 5, 7, 11]\n"
      ],
      "metadata": {
        "colab": {
          "base_uri": "https://localhost:8080/"
        },
        "id": "Rh0rMIzUZ2_V",
        "outputId": "8686ee2e-2e15-4379-d692-22f1d1c4ca41"
      },
      "execution_count": 68,
      "outputs": [
        {
          "output_type": "stream",
          "name": "stdout",
          "text": [
            "[2, 3, 5, 7, 11]\n"
          ]
        }
      ]
    },
    {
      "cell_type": "code",
      "source": [
        "values = [1, None, 2, 3, None, 4, 5]\n",
        "\n",
        "# Using filter() to remove None values\n",
        "filtered_values = filter(lambda x: x is not None, values)\n",
        "\n",
        "# Converting the result to a list\n",
        "filtered_values_list = list(filtered_values)\n",
        "\n",
        "print(filtered_values_list)  # Output: [1, 2, 3, 4, 5]\n"
      ],
      "metadata": {
        "colab": {
          "base_uri": "https://localhost:8080/"
        },
        "id": "-m7TFx0bZ31e",
        "outputId": "9a02afce-0548-47c6-80bd-d71e9e256da8"
      },
      "execution_count": 69,
      "outputs": [
        {
          "output_type": "stream",
          "name": "stdout",
          "text": [
            "[1, 2, 3, 4, 5]\n"
          ]
        }
      ]
    },
    {
      "cell_type": "code",
      "source": [
        "words = [\"apple\", \"banana\", \"cherry\", \"date\", \"elderberry\"]\n",
        "\n",
        "# Using filter() to select words longer than 5 characters\n",
        "filtered_words = filter(lambda word: len(word) > 5, words)\n",
        "\n",
        "# Converting the result to a list\n",
        "filtered_words_list = list(filtered_words)\n",
        "\n",
        "print(filtered_words_list)  # Output: ['banana', 'cherry', 'elderberry']\n"
      ],
      "metadata": {
        "colab": {
          "base_uri": "https://localhost:8080/"
        },
        "id": "6dt9d5BUZ4ud",
        "outputId": "158a6051-430f-480d-a993-2d9e688be91f"
      },
      "execution_count": 70,
      "outputs": [
        {
          "output_type": "stream",
          "name": "stdout",
          "text": [
            "['banana', 'cherry', 'elderberry']\n"
          ]
        }
      ]
    },
    {
      "cell_type": "code",
      "source": [
        "values = [15, 20, 25, 30, 35, 40]\n",
        "\n",
        "threshold = 28\n",
        "\n",
        "# Using filter() to select values greater than the threshold\n",
        "filtered_values = filter(lambda x: x > threshold, values)\n",
        "\n",
        "# Converting the result to a list\n",
        "filtered_values_list = list(filtered_values)\n",
        "\n",
        "print(filtered_values_list)  # Output: [30, 35, 40]\n"
      ],
      "metadata": {
        "colab": {
          "base_uri": "https://localhost:8080/"
        },
        "id": "73F2f-KuZ5h4",
        "outputId": "37ea68b7-d61c-4009-a14b-7ef462fbec4e"
      },
      "execution_count": 71,
      "outputs": [
        {
          "output_type": "stream",
          "name": "stdout",
          "text": [
            "[30, 35, 40]\n"
          ]
        }
      ]
    },
    {
      "cell_type": "markdown",
      "source": [
        "#Recursion"
      ],
      "metadata": {
        "id": "bknxquZdZ9GW"
      }
    },
    {
      "cell_type": "code",
      "source": [
        "def factorial(n):\n",
        "    if n == 0:\n",
        "        return 1\n",
        "    else:\n",
        "        return n * factorial(n - 1)\n",
        "\n",
        "# Example usage\n",
        "n = 5\n",
        "result = factorial(n)\n",
        "print(f\"The factorial of {n} is {result}\")\n"
      ],
      "metadata": {
        "colab": {
          "base_uri": "https://localhost:8080/"
        },
        "id": "FL42x9prZ6Sm",
        "outputId": "4facd39d-7f45-427b-cd3c-ec4e7b04c452"
      },
      "execution_count": 72,
      "outputs": [
        {
          "output_type": "stream",
          "name": "stdout",
          "text": [
            "The factorial of 5 is 120\n"
          ]
        }
      ]
    },
    {
      "cell_type": "code",
      "source": [
        "def fibonacci(n):\n",
        "    if n <= 0:\n",
        "        return 0\n",
        "    elif n == 1:\n",
        "        return 1\n",
        "    else:\n",
        "        return fibonacci(n - 1) + fibonacci(n - 2)\n",
        "\n",
        "# Example usage\n",
        "n = 7\n",
        "result = fibonacci(n)\n",
        "print(f\"The {n}th Fibonacci number is {result}\")\n"
      ],
      "metadata": {
        "colab": {
          "base_uri": "https://localhost:8080/"
        },
        "id": "iLGOvOAHaK4c",
        "outputId": "12c2d8fb-9ad3-4dc2-ed92-da9572d98e20"
      },
      "execution_count": 73,
      "outputs": [
        {
          "output_type": "stream",
          "name": "stdout",
          "text": [
            "The 7th Fibonacci number is 13\n"
          ]
        }
      ]
    },
    {
      "cell_type": "code",
      "source": [
        "def list_sum(lst):\n",
        "    if not lst:\n",
        "        return 0\n",
        "    else:\n",
        "        return lst[0] + list_sum(lst[1:])\n",
        "\n",
        "# Example usage\n",
        "numbers = [1, 2, 3, 4, 5]\n",
        "result = list_sum(numbers)\n",
        "print(f\"The sum of elements in the list is {result}\")\n"
      ],
      "metadata": {
        "colab": {
          "base_uri": "https://localhost:8080/"
        },
        "id": "WQTnXWaYaLsK",
        "outputId": "d6ee0e15-c62c-43a7-c0df-318e21f1e62a"
      },
      "execution_count": 74,
      "outputs": [
        {
          "output_type": "stream",
          "name": "stdout",
          "text": [
            "The sum of elements in the list is 15\n"
          ]
        }
      ]
    },
    {
      "cell_type": "code",
      "source": [
        "def gcd(a, b):\n",
        "    if b == 0:\n",
        "        return a\n",
        "    else:\n",
        "        return gcd(b, a % b)\n",
        "\n",
        "# Example usage\n",
        "num1 = 48\n",
        "num2 = 18\n",
        "result = gcd(num1, num2)\n",
        "print(f\"The GCD of {num1} and {num2} is {result}\")\n"
      ],
      "metadata": {
        "colab": {
          "base_uri": "https://localhost:8080/"
        },
        "id": "0gVapZR0aMb0",
        "outputId": "738c6cc6-1237-4df5-b985-75c83e57b640"
      },
      "execution_count": 75,
      "outputs": [
        {
          "output_type": "stream",
          "name": "stdout",
          "text": [
            "The GCD of 48 and 18 is 6\n"
          ]
        }
      ]
    },
    {
      "cell_type": "code",
      "source": [
        "def reverse_string(s):\n",
        "    if not s:\n",
        "        return s\n",
        "    else:\n",
        "        return reverse_string(s[1:]) + s[0]\n",
        "\n",
        "# Example usage\n",
        "input_str = \"hello\"\n",
        "result = reverse_string(input_str)\n",
        "print(f\"Reversed string: {result}\")\n"
      ],
      "metadata": {
        "colab": {
          "base_uri": "https://localhost:8080/"
        },
        "id": "DBQNk4JDaNNg",
        "outputId": "af0540df-3b8b-4222-c353-3b62fdc60f40"
      },
      "execution_count": 76,
      "outputs": [
        {
          "output_type": "stream",
          "name": "stdout",
          "text": [
            "Reversed string: olleh\n"
          ]
        }
      ]
    },
    {
      "cell_type": "code",
      "source": [
        "def power(x, n):\n",
        "    if n == 0:\n",
        "        return 1\n",
        "    elif n < 0:\n",
        "        return 1 / power(x, -n)\n",
        "    else:\n",
        "        return x * power(x, n - 1)\n",
        "\n",
        "# Example usage\n",
        "x = 2\n",
        "n = 3\n",
        "result = power(x, n)\n",
        "print(f\"{x} raised to the power {n} is {result}\")\n"
      ],
      "metadata": {
        "colab": {
          "base_uri": "https://localhost:8080/"
        },
        "id": "BuEHae4raOEi",
        "outputId": "97ee0d5b-c13a-47cf-91e0-d090289813af"
      },
      "execution_count": 77,
      "outputs": [
        {
          "output_type": "stream",
          "name": "stdout",
          "text": [
            "2 raised to the power 3 is 8\n"
          ]
        }
      ]
    },
    {
      "cell_type": "code",
      "source": [
        "import itertools\n",
        "\n",
        "def permutations(string):\n",
        "    return [''.join(p) for p in itertools.permutations(string)]\n",
        "\n",
        "# Example usage\n",
        "input_str = \"abc\"\n",
        "result = permutations(input_str)\n",
        "print(f\"Permutations of '{input_str}': {result}\")\n"
      ],
      "metadata": {
        "colab": {
          "base_uri": "https://localhost:8080/"
        },
        "id": "DxJSSIbwaO0p",
        "outputId": "c356fb24-122f-40c8-ad7d-708ce9b9de35"
      },
      "execution_count": 78,
      "outputs": [
        {
          "output_type": "stream",
          "name": "stdout",
          "text": [
            "Permutations of 'abc': ['abc', 'acb', 'bac', 'bca', 'cab', 'cba']\n"
          ]
        }
      ]
    },
    {
      "cell_type": "code",
      "source": [
        "def is_palindrome(s):\n",
        "    s = s.lower().replace(\" \", \"\")  # Convert to lowercase and remove spaces\n",
        "    if len(s) <= 1:\n",
        "        return True\n",
        "    elif s[0] != s[-1]:\n",
        "        return False\n",
        "    else:\n",
        "        return is_palindrome(s[1:-1])\n",
        "\n",
        "# Example usage\n",
        "input_str = \"A man a plan a canal Panama\"\n",
        "result = is_palindrome(input_str)\n",
        "print(f\"Is '{input_str}' a palindrome? {result}\")\n"
      ],
      "metadata": {
        "colab": {
          "base_uri": "https://localhost:8080/"
        },
        "id": "fe8vUrhdaPfs",
        "outputId": "b74163c2-4ae8-41d6-a9ea-9068ded5cb8b"
      },
      "execution_count": 79,
      "outputs": [
        {
          "output_type": "stream",
          "name": "stdout",
          "text": [
            "Is 'A man a plan a canal Panama' a palindrome? True\n"
          ]
        }
      ]
    },
    {
      "cell_type": "code",
      "source": [
        "import itertools\n",
        "\n",
        "def combinations(lst, k):\n",
        "    return list(itertools.combinations(lst, k))\n",
        "\n",
        "# Example usage\n",
        "elements = [1, 2, 3]\n",
        "k = 2\n",
        "result = combinations(elements, k)\n",
        "print(f\"Combinations of {elements} choose {k}: {result}\")\n"
      ],
      "metadata": {
        "colab": {
          "base_uri": "https://localhost:8080/"
        },
        "id": "lm4EsrUPaQN-",
        "outputId": "7ea330a9-9e14-42e1-bf1a-1afa6e0e3c86"
      },
      "execution_count": 80,
      "outputs": [
        {
          "output_type": "stream",
          "name": "stdout",
          "text": [
            "Combinations of [1, 2, 3] choose 2: [(1, 2), (1, 3), (2, 3)]\n"
          ]
        }
      ]
    },
    {
      "cell_type": "code",
      "source": [],
      "metadata": {
        "id": "2I85X5aTaRcy"
      },
      "execution_count": null,
      "outputs": []
    }
  ]
}