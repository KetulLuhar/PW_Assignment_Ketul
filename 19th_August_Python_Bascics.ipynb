{
  "nbformat": 4,
  "nbformat_minor": 0,
  "metadata": {
    "colab": {
      "provenance": []
    },
    "kernelspec": {
      "name": "python3",
      "display_name": "Python 3"
    },
    "language_info": {
      "name": "python"
    }
  },
  "cells": [
    {
      "cell_type": "markdown",
      "source": [
        "**19th_August_Python_Bascics_Assignment**"
      ],
      "metadata": {
        "id": "BM2N1Ug5DYJK"
      }
    },
    {
      "cell_type": "markdown",
      "source": [
        "# **TOPIC_Python_Basics_Variable**"
      ],
      "metadata": {
        "id": "szBdpr3nDn0e"
      }
    },
    {
      "cell_type": "markdown",
      "source": [
        "**Solustion_1**"
      ],
      "metadata": {
        "id": "zEyI--0yG1r0"
      }
    },
    {
      "cell_type": "code",
      "execution_count": 2,
      "metadata": {
        "colab": {
          "base_uri": "https://localhost:8080/"
        },
        "id": "0N9IojeoCGJd",
        "outputId": "1f64301c-4b0e-4531-dbfd-a36f50e68e4b"
      },
      "outputs": [
        {
          "output_type": "stream",
          "name": "stdout",
          "text": [
            "After Swaping:\n",
            "x = 10\n",
            "y = 5\n"
          ]
        }
      ],
      "source": [
        "# Solustion 1\n",
        "\n",
        "# Difine Variables with int values\n",
        "x = 5\n",
        "y = 10\n",
        "\n",
        "# Swap the values of X and Y with arithmetic operation\n",
        "x = x + y\n",
        "y = x - y\n",
        "x = x - y\n",
        "\n",
        "#print the Result\n",
        "print(\"After Swaping:\")\n",
        "print(\"x =\", x)\n",
        "print(\"y =\", y)"
      ]
    },
    {
      "cell_type": "markdown",
      "source": [
        "**Solustion_2**"
      ],
      "metadata": {
        "id": "WInMldYdGvkI"
      }
    },
    {
      "cell_type": "code",
      "source": [
        "# Solustion 2\n",
        "\n",
        "#Take input of lenght and width in float\n",
        "lenght = float(input(\"Enter the lenght of rectangle: \"))\n",
        "width = float(input(\"Enter the width of rectangle: \"))\n",
        "\n",
        "#Difine formula of find area of ractangle (area = lenght*width)\n",
        "\n",
        "area = lenght*width\n",
        "\n",
        "#Display the answer\n",
        "print(\"The Area Of the Rectangle is:\",area)"
      ],
      "metadata": {
        "colab": {
          "base_uri": "https://localhost:8080/"
        },
        "id": "iQWppstVD9St",
        "outputId": "f988cdf7-a1f3-4bba-ec84-11c071701e76"
      },
      "execution_count": 6,
      "outputs": [
        {
          "output_type": "stream",
          "name": "stdout",
          "text": [
            "Enter the lenght of rectangle: 13\n",
            "Enter the width of rectangle: 5\n",
            "The Area Of the Rectangle is: 65.0\n"
          ]
        }
      ]
    },
    {
      "cell_type": "markdown",
      "source": [
        "**Solustion_3**"
      ],
      "metadata": {
        "id": "Sp_VEiqMHVJE"
      }
    },
    {
      "cell_type": "code",
      "source": [
        "# Solustion 3\n",
        "\n",
        "#Take input in celsius in float\n",
        "celsius = float(input(\"Enter temperature in celsius: \"))\n",
        "\n",
        "#Formula of convert celsius in fahrenheit is ((celsius*9/5)+32)\n",
        "fahrenheit = (celsius * 9/5) + 32\n",
        "\n",
        "#Display The Result\n",
        "print(\"Temprature in Fahrenheit is:\",fahrenheit)"
      ],
      "metadata": {
        "colab": {
          "base_uri": "https://localhost:8080/"
        },
        "id": "1HTzd2S9G_ZX",
        "outputId": "9f893443-df88-4497-b3a7-fa8a5f730f86"
      },
      "execution_count": 7,
      "outputs": [
        {
          "output_type": "stream",
          "name": "stdout",
          "text": [
            "Enter temperature in celsius: 34\n",
            "Temprature in Fahrenheit is: 93.2\n"
          ]
        }
      ]
    },
    {
      "cell_type": "markdown",
      "source": [
        "#**TOPIC_String_Based_Questions**"
      ],
      "metadata": {
        "id": "Rj_eiNybIa5m"
      }
    },
    {
      "cell_type": "markdown",
      "source": [
        "**Solustion_1**"
      ],
      "metadata": {
        "id": "-eNZNALYIwPR"
      }
    },
    {
      "cell_type": "code",
      "source": [
        "# Solustion 1\n",
        "\n",
        "#Take input as str\n",
        "str_input = str(input(\"Enter your string: \"))\n",
        "\n",
        "#Display the result\n",
        "print(len(str_input))"
      ],
      "metadata": {
        "colab": {
          "base_uri": "https://localhost:8080/"
        },
        "id": "U-hLmNQqIk8E",
        "outputId": "d5df6d79-cddf-468e-a17a-d473b3576c41"
      },
      "execution_count": 12,
      "outputs": [
        {
          "output_type": "stream",
          "name": "stdout",
          "text": [
            "Enter your string: PW Skills Is Best\n",
            "17\n"
          ]
        }
      ]
    },
    {
      "cell_type": "markdown",
      "source": [
        "**Solustion_2**"
      ],
      "metadata": {
        "id": "_YCqIE7TJmdi"
      }
    },
    {
      "cell_type": "code",
      "source": [
        "# Solustion 2\n",
        "\n",
        "#Take Input as streing\n",
        "sentence = str(input(\"Enter Your string: \"))\n",
        "\n",
        "#Convert in all lowercas becous python is case sensetive\n",
        "sentence = sentence.lower()\n",
        "\n",
        "#First Vowel Count is \"0\"\n",
        "vowel_count = 0\n",
        "\n",
        "\"\"\"\n",
        "Go to sentence in all character and find\n",
        "\"aeiou\" and update the velue of vowel count\n",
        "\"\"\"\n",
        "for char in sentence:\n",
        "  if char in \"aeiou\":\n",
        "    vowel_count += 1\n",
        "\n",
        "#Display the result\n",
        "print(vowel_count)"
      ],
      "metadata": {
        "colab": {
          "base_uri": "https://localhost:8080/"
        },
        "id": "Ynf1dkT0JIqJ",
        "outputId": "ca44258a-2a37-40c7-df4a-bc5c7435bf7f"
      },
      "execution_count": 16,
      "outputs": [
        {
          "output_type": "stream",
          "name": "stdout",
          "text": [
            "Enter Your string: My Name Is Ketul\n",
            "5\n"
          ]
        }
      ]
    },
    {
      "cell_type": "markdown",
      "source": [
        "**Solustion_3**"
      ],
      "metadata": {
        "id": "4Rg2tRFsPiiZ"
      }
    },
    {
      "cell_type": "code",
      "source": [
        "# Solustion 3\n",
        "\n",
        "#Take input as string\n",
        "string_input = input(\"Enter a string: \")\n",
        "\n",
        "\"\"\"\n",
        "for revers we used sliceing the string in sliceing\n",
        "\"Strat\", \"Stop\" and \"step\" in our code we only put 'step\" And \"strat and stop\"\n",
        "is empltythat's mean only increment and dicriment do,\n",
        "so we goes in revers order thats's why we\n",
        "give -1 and that result show to us\n",
        "\"\"\"\n",
        "reversed_string = string_input[::-1]\n",
        "\n",
        "#Display the result\n",
        "print(reversed_string)"
      ],
      "metadata": {
        "colab": {
          "base_uri": "https://localhost:8080/"
        },
        "id": "X7H_ePi7LIc8",
        "outputId": "78a8296d-a57d-4267-f9eb-e8d8e8961970"
      },
      "execution_count": 19,
      "outputs": [
        {
          "output_type": "stream",
          "name": "stdout",
          "text": [
            "Enter a string: Pw Skills\n",
            "sllikS wP\n"
          ]
        }
      ]
    },
    {
      "cell_type": "markdown",
      "source": [
        "**Solustion_4**"
      ],
      "metadata": {
        "id": "GrwwovVdScxr"
      }
    },
    {
      "cell_type": "code",
      "source": [
        "# Solustion 4\n",
        "\n",
        "#Take Input\n",
        "string_input = input(\"Enter a String(World): \")\n",
        "\n",
        "#Remove spaces and convert the string to lowercase because python is case-insensitive\n",
        "cassensetiv = string_input.replace(\" \", \"\").lower()\n",
        "\n",
        "#Convert the string in reverse direction for compaire (how to convert plese check Solustion 3)\n",
        "reversed_string = cassensetiv[::-1]\n",
        "\n",
        "#check the input string and reversed strid is same or not and print the result\n",
        "if cassensetiv == reversed_string:\n",
        "  print(\"The string is a palindrome.\")\n",
        "else:\n",
        "  print(\"The string is a not palindrome.\")"
      ],
      "metadata": {
        "colab": {
          "base_uri": "https://localhost:8080/"
        },
        "id": "PszPo0R6Qgjx",
        "outputId": "92438d75-f7fa-4ad0-cdd2-8b75909440a6"
      },
      "execution_count": 23,
      "outputs": [
        {
          "output_type": "stream",
          "name": "stdout",
          "text": [
            "Enter a String(World): sss\n",
            "The string is a palindrome.\n"
          ]
        }
      ]
    },
    {
      "cell_type": "markdown",
      "source": [
        "**Solustion_5**"
      ],
      "metadata": {
        "id": "qTpOqYlXUTwv"
      }
    },
    {
      "cell_type": "code",
      "source": [
        "# Solustion 5\n",
        "\n",
        "#Take input\n",
        "string_input = input(\"Enter a string: \")\n",
        "\n",
        "\"\"\"\n",
        "for remove space we used \".replace\" function that pre difine\n",
        "function in python we have to just call that funstion and give what\n",
        "replace with what\n",
        "\"\"\"\n",
        "remove_space = string_input.replace(\" \", \"\")\n",
        "\n",
        "#Display the result\n",
        "print(remove_space)"
      ],
      "metadata": {
        "colab": {
          "base_uri": "https://localhost:8080/"
        },
        "id": "vzQaJlpVTVp4",
        "outputId": "85688237-2264-49d9-cadf-b611a1180ada"
      },
      "execution_count": 24,
      "outputs": [
        {
          "output_type": "stream",
          "name": "stdout",
          "text": [
            "Enter a string: m y n a m e \n",
            "myname\n"
          ]
        }
      ]
    }
  ]
}