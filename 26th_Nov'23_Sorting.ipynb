{
  "nbformat": 4,
  "nbformat_minor": 0,
  "metadata": {
    "colab": {
      "provenance": []
    },
    "kernelspec": {
      "name": "python3",
      "display_name": "Python 3"
    },
    "language_info": {
      "name": "python"
    }
  },
  "cells": [
    {
      "cell_type": "code",
      "execution_count": 5,
      "metadata": {
        "colab": {
          "base_uri": "https://localhost:8080/"
        },
        "id": "-CIdv-j0wV8u",
        "outputId": "3eab9bce-15cc-4904-f675-89a37aabda9a"
      },
      "outputs": [
        {
          "output_type": "stream",
          "name": "stdout",
          "text": [
            "2\n"
          ]
        }
      ],
      "source": [
        "# Problem 1.Given an array of n numbers, give an algorithm which gives the element appearing maximum number of times?\n",
        "\n",
        "def find_max_repeated_element(arr):\n",
        "    max_count = 0\n",
        "    max_element = -1\n",
        "    for i in range(len(arr)):\n",
        "        count = arr.count(arr[i])\n",
        "        if (count > max_count):\n",
        "            max_count = count\n",
        "            max_element = arr[i]\n",
        "    return max_element\n",
        "\n",
        "# Driver Code\n",
        "arr = [1, 2, 3, 2, 2, 4, 5, 2, 6]\n",
        "result = find_max_repeated_element(arr)\n",
        "print(result)"
      ]
    },
    {
      "cell_type": "code",
      "source": [
        "# Problem 2 : We are given a list of n-1 integers and these integers are in the range of 1 to n . There are no duplicates in the list. One of the integers is missing in the list. Give an algorithm to find that element Ex: [1,2,4,6,3,7,8] 5 is the missing num.\n",
        "\n",
        "def find_missing_number(nums):\n",
        "  expected_sum = (len(nums) + 1) * (len(nums) + 2) // 2\n",
        "  actual_sum = sum(nums)\n",
        "  return expected_sum - actual_sum\n",
        "\n",
        "# Driver Code\n",
        "nums = [1,2,4,6,3,7,8]\n",
        "result = find_missing_number(nums)\n",
        "print(result)\n"
      ],
      "metadata": {
        "colab": {
          "base_uri": "https://localhost:8080/"
        },
        "id": "88Y7yo4Iwkcv",
        "outputId": "e1093da8-3b7c-43b8-d5f4-076a3df95561"
      },
      "execution_count": 7,
      "outputs": [
        {
          "output_type": "stream",
          "name": "stdout",
          "text": [
            "5\n"
          ]
        }
      ]
    },
    {
      "cell_type": "code",
      "source": [
        "#Problem 3 : Given an array of n positive numbers. All numbers occurs even number of times except 1 which occurs odd number of times. Find that number in O(n) time and O(1) space. Ex: [1,2,3,2,3,1,3]. 3 is repeats odd times.\n",
        "\n",
        "def find_odd_occurence(arr):\n",
        "    xor = 0\n",
        "    for i in arr:\n",
        "        xor ^= i\n",
        "    return xor\n",
        "\n",
        "# Driver code\n",
        "arr = [1, 2, 3, 2, 3, 1, 3]\n",
        "result = find_odd_occurence(arr)\n",
        "print(result)\n"
      ],
      "metadata": {
        "colab": {
          "base_uri": "https://localhost:8080/"
        },
        "id": "QKsn29AVxl_g",
        "outputId": "f734fdc6-474f-4f32-abb9-cdec80c70227"
      },
      "execution_count": 8,
      "outputs": [
        {
          "output_type": "stream",
          "name": "stdout",
          "text": [
            "3\n"
          ]
        }
      ]
    },
    {
      "cell_type": "code",
      "source": [
        "#Problem 4 : Given an array of n elements. Find two elements in the array such that their sum is equal to given element K.\n",
        "\n",
        "def find_pair(arr, n, k):\n",
        "    for i in range(0, n - 1):\n",
        "        for j in range(i + 1, n):\n",
        "            if (arr[i] + arr[j] == k):\n",
        "                print(\"(\", arr[i], \",\", arr[j], \")\")\n",
        "                return\n",
        "    print(\"No such pair found\")\n",
        "\n",
        "# Driver code\n",
        "arr = [1, 2, 3, 4, 5]\n",
        "n = len(arr)\n",
        "k = 9\n",
        "find_pair(arr, n, k)\n"
      ],
      "metadata": {
        "colab": {
          "base_uri": "https://localhost:8080/"
        },
        "id": "nJUB6DvMx2Ex",
        "outputId": "3bd6e477-ee4f-4c6f-a861-f6db4a231b3e"
      },
      "execution_count": 9,
      "outputs": [
        {
          "output_type": "stream",
          "name": "stdout",
          "text": [
            "( 4 , 5 )\n"
          ]
        }
      ]
    },
    {
      "cell_type": "code",
      "source": [
        "# Problem 5 : Given an array of both positive and negative numbers, find two numbers such that their sum is closest to 0. Ex: [ 1 ,60 ,-10, 70, -80,85]. Ans : -80,85.\n",
        "\n",
        "def find_pair(arr):\n",
        "    min_diff = 1000000000000\n",
        "    min_pair = (0, 0)\n",
        "    for i in range(len(arr)):\n",
        "        for j in range(i + 1, len(arr)):\n",
        "            diff = abs(arr[i] + arr[j])\n",
        "            if (diff < min_diff):\n",
        "                min_diff = diff\n",
        "                min_pair = (arr[i], arr[j])\n",
        "    return min_pair\n",
        "\n",
        "# Driver Code\n",
        "arr = [ 1 ,60 ,-10, 70, -80,85]\n",
        "result = find_pair(arr)\n",
        "print(result)\n"
      ],
      "metadata": {
        "colab": {
          "base_uri": "https://localhost:8080/"
        },
        "id": "D3IVbBqhyB3i",
        "outputId": "c0b05f8d-7cd0-4c73-bbf4-1ef3f61c7e16"
      },
      "execution_count": 11,
      "outputs": [
        {
          "output_type": "stream",
          "name": "stdout",
          "text": [
            "(-80, 85)\n"
          ]
        }
      ]
    },
    {
      "cell_type": "code",
      "source": [
        "#Problem 6 : Given an array of n elements . Find three elements such that their sum is equal to the given number.\n",
        "\n",
        "def find_triplet(arr, n, sum):\n",
        "    for i in range(0, n - 2):\n",
        "        for j in range(i + 1, n - 1):\n",
        "            for k in range(j + 1, n):\n",
        "                if (arr[i] + arr[j] + arr[k] == sum):\n",
        "                    print(\"(\", arr[i], \",\", arr[j], \",\", arr[k], \")\")\n",
        "                    return\n",
        "    print(\"No such triplet found\")\n",
        "\n",
        "# Driver code\n",
        "arr = [1, 2, 3, 4, 5]\n",
        "n = len(arr)\n",
        "sum = 10\n",
        "find_triplet(arr, n, sum)\n"
      ],
      "metadata": {
        "colab": {
          "base_uri": "https://localhost:8080/"
        },
        "id": "wFUSEnZbyKtf",
        "outputId": "af30f2f0-19de-4645-b608-731aaa3c4a4f"
      },
      "execution_count": 12,
      "outputs": [
        {
          "output_type": "stream",
          "name": "stdout",
          "text": [
            "( 1 , 4 , 5 )\n"
          ]
        }
      ]
    },
    {
      "cell_type": "code",
      "source": [
        "#Problem 7 : Given an array of n elements . Find three elements i, j, k in the array such that i * i + j * j = k*k.\n",
        "\n",
        "def findTriplet(arr, n):\n",
        "    for i in range(n):\n",
        "        for j in range(i + 1, n):\n",
        "            for k in range(j + 1, n):\n",
        "                if (arr[i] * arr[i] + arr[j] * arr[j] == arr[k] * arr[k]):\n",
        "                    print(\"(\", arr[i], \",\", arr[j], \",\", arr[k], \")\")\n",
        "                    return\n",
        "    print(\"No such triplet found\")\n",
        "\n",
        "# Driver code\n",
        "arr = [1, 2, 3, 4, 5]\n",
        "n = len(arr)\n",
        "findTriplet(arr, n)\n"
      ],
      "metadata": {
        "colab": {
          "base_uri": "https://localhost:8080/"
        },
        "id": "wq-8SMomyegn",
        "outputId": "b95e9297-925e-499b-cf0c-7302ae4a5175"
      },
      "execution_count": 13,
      "outputs": [
        {
          "output_type": "stream",
          "name": "stdout",
          "text": [
            "( 3 , 4 , 5 )\n"
          ]
        }
      ]
    },
    {
      "cell_type": "code",
      "source": [
        "#Problem 8 : An element is a majority if it appears more than n/2 times. Give an algorithm takes an array of n element as argument and identifies a majority (if it exists).\n",
        "\n",
        "def find_majority(arr):\n",
        "    count = 0\n",
        "    candidate = None\n",
        "    for i in arr:\n",
        "        if count == 0:\n",
        "            candidate = i\n",
        "        if i == candidate:\n",
        "            count += 1\n",
        "        else:\n",
        "            count -= 1\n",
        "    return candidate\n",
        "\n",
        "# Driver code\n",
        "arr = [1, 2, 3, 4, 2, 2, 2]\n",
        "result = find_majority(arr)\n",
        "if result is not None:\n",
        "    print(\"Majority element is\", result)\n",
        "else:\n",
        "    print(\"No majority element found\")\n"
      ],
      "metadata": {
        "colab": {
          "base_uri": "https://localhost:8080/"
        },
        "id": "f4VgQ9w2ypA3",
        "outputId": "be133af3-7388-485e-b21a-9ac9da85d6c9"
      },
      "execution_count": 14,
      "outputs": [
        {
          "output_type": "stream",
          "name": "stdout",
          "text": [
            "Majority element is 2\n"
          ]
        }
      ]
    },
    {
      "cell_type": "code",
      "source": [
        "# Problem 9 : Given n × n matrix, and in each row all 1’s are followed by 0’s. Find the row with the maximum number of 0’s.\n",
        "\n",
        "def find_row_with_max_zeros(matrix):\n",
        "    max_zeros = 0\n",
        "    max_row = 0\n",
        "    for i in range(len(matrix)):\n",
        "        count_zeros = 0\n",
        "        for j in range(len(matrix[i])):\n",
        "            if matrix[i][j] == 0:\n",
        "                count_zeros += 1\n",
        "        if count_zeros > max_zeros:\n",
        "            max_zeros = count_zeros\n",
        "            max_row = i\n",
        "    return max_row\n",
        "\n",
        "# Driver code\n",
        "matrix = [[1, 1, 0, 0, 0],\n",
        "         [1, 1, 1, 0, 0],\n",
        "         [1, 1, 1, 1, 0],\n",
        "         [1, 1, 1, 1, 1]]\n",
        "result = find_row_with_max_zeros(matrix)\n",
        "print(\"Row with maximum number of 0's is\", result)\n"
      ],
      "metadata": {
        "colab": {
          "base_uri": "https://localhost:8080/"
        },
        "id": "gnhDNpXFysso",
        "outputId": "26e489f1-aa6f-44ac-a10b-16bf8650ee7c"
      },
      "execution_count": 15,
      "outputs": [
        {
          "output_type": "stream",
          "name": "stdout",
          "text": [
            "Row with maximum number of 0's is 0\n"
          ]
        }
      ]
    },
    {
      "cell_type": "code",
      "source": [
        "#Problem 10 : Sort an array of 0’s, 1’s and 2’s [or R’s, G’s and B’s]: Given an array A[] consisting of 0’s, 1’s and 2’s, give an algorithm for sorting A[].The algorithm should put all 0’s first, then all 1’s and finally all 2’s at the end. Example Input = {0,1,1,0,1,2,1,2,0,0,0,1}, Output = {0,0,0,0,0,1,1,1,1,1,2,2}\n",
        "\n",
        "def sort_012(arr):\n",
        "    lo = 0\n",
        "    hi = len(arr) - 1\n",
        "    mid = 0\n",
        "    while mid <= hi:\n",
        "        if arr[mid] == 0:\n",
        "            arr[lo], arr[mid] = arr[mid], arr[lo]\n",
        "            lo += 1\n",
        "            mid += 1\n",
        "        elif arr[mid] == 1:\n",
        "            mid += 1\n",
        "        else:\n",
        "            arr[mid], arr[hi] = arr[hi], arr[mid]\n",
        "            hi -= 1\n",
        "# Driver code\n",
        "arr = [0,1,1,0,1,2,1,2,0,0,0,1]\n",
        "sort_012(arr)\n",
        "print(arr)\n"
      ],
      "metadata": {
        "colab": {
          "base_uri": "https://localhost:8080/"
        },
        "id": "yN_6g2k9yxyo",
        "outputId": "d7fa69cf-a300-4e85-bd7d-aa73644640f5"
      },
      "execution_count": 16,
      "outputs": [
        {
          "output_type": "stream",
          "name": "stdout",
          "text": [
            "[0, 0, 0, 0, 0, 1, 1, 1, 1, 1, 2, 2]\n"
          ]
        }
      ]
    },
    {
      "cell_type": "code",
      "source": [],
      "metadata": {
        "id": "_j_sxotAy3fh"
      },
      "execution_count": null,
      "outputs": []
    }
  ]
}